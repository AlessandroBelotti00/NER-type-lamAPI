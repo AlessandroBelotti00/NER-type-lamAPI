{
 "cells": [
  {
   "cell_type": "code",
   "execution_count": 3,
   "id": "6e343dbb",
   "metadata": {},
   "outputs": [],
   "source": [
    "import json\n",
    "import random\n",
    "import os\n",
    "import pandas as pd\n",
    "import re\n",
    "import aiohttp\n",
    "import asyncio\n",
    "import backoff\n",
    "import nest_asyncio\n",
    "import time\n",
    "from SPARQLWrapper import SPARQLWrapper, JSON\n",
    "from requests import get\n",
    "import numpy as np\n",
    "import requests\n",
    "from aiohttp import ClientResponseError\n",
    "import logging\n",
    "from tqdm import tqdm\n",
    "import json"
   ]
  },
  {
   "cell_type": "code",
   "execution_count": 4,
   "id": "e33f71a6-a735-4bb7-8bdf-d684907b75a9",
   "metadata": {},
   "outputs": [
    {
     "name": "stderr",
     "output_type": "stream",
     "text": [
      "100%|██████████| 5394049/5394049 [00:26<00:00, 200000.17it/s]\n"
     ]
    }
   ],
   "source": [
    "import gzip  # For reading compressed files\n",
    "from tqdm import tqdm\n",
    "import json\n",
    "import matplotlib.pyplot as plt\n",
    "import pandas as pd\n",
    "\n",
    "file_path = \"./data/yago-wd-full-types.nt.gz\"\n",
    "\n",
    "try:\n",
    "    with gzip.open(file_path, 'rb') as f:\n",
    "        chunk = []\n",
    "        \n",
    "        # Use tqdm to wrap the file iterator to track progress\n",
    "        for line in tqdm(f, total=5394049):\n",
    "            line_str = line.decode('utf-8').strip()\n",
    "            chunk.append(line_str)\n",
    "            \n",
    "        \n",
    "except FileNotFoundError:\n",
    "    print(f\"Error: File '{file_path}' not found.\")\n",
    "except Exception as e:\n",
    "    print(f\"Error processing RDF data: {e}\")"
   ]
  },
  {
   "cell_type": "code",
   "execution_count": 8,
   "id": "d2edfa94-9e95-432c-9b1f-02bc3fe9976e",
   "metadata": {},
   "outputs": [],
   "source": [
    "##################################\n",
    "# EXECUTE FROM THIS FOR THE MAPPING\n",
    "##################################à\n",
    "\n",
    "json_file_path = \"./data/mapping.json\"\n",
    "\n",
    "try:\n",
    "    # Open the JSON file for reading\n",
    "    with open(json_file_path, 'r') as json_file:\n",
    "        mapping = json.load(json_file)\n",
    "        \n",
    "except FileNotFoundError:\n",
    "    print(f\"Error: File '{json_file_path}' not found.\")\n",
    "except json.JSONDecodeError as e:\n",
    "    print(f\"Error decoding JSON data: {e}\")\n",
    "except Exception as e:\n",
    "    print(f\"Error loading data from JSON file: {e}\")\n",
    "\n",
    "mapping_yago_wiki = {}\n",
    "\n",
    "for key, value in mapping.items():\n",
    "    # Remove trailing '>' from key and value\n",
    "    fixed_key = key.rstrip('>')\n",
    "    fixed_value = value.rstrip('>')\n",
    "    \n",
    "    # Update the updated_mapping_dict with the fixed key-value pair\n",
    "    mapping_yago_wiki[fixed_key] = fixed_value"
   ]
  },
  {
   "cell_type": "code",
   "execution_count": 20,
   "id": "6a426e46-948a-4189-95a0-57a77449b42e",
   "metadata": {},
   "outputs": [
    {
     "name": "stderr",
     "output_type": "stream",
     "text": [
      "  0%|          | 1/5394049 [00:01<1636:47:42,  1.09s/it]"
     ]
    },
    {
     "name": "stdout",
     "output_type": "stream",
     "text": [
      "PERS: Harald_Ringstorff --> Human\n"
     ]
    },
    {
     "name": "stderr",
     "output_type": "stream",
     "text": [
      "  0%|          | 2/5394049 [00:02<1511:55:11,  1.01s/it]"
     ]
    },
    {
     "name": "stdout",
     "output_type": "stream",
     "text": [
      "OTHERS: Ecclesiastes --> Religious_text\n"
     ]
    },
    {
     "name": "stderr",
     "output_type": "stream",
     "text": [
      "  0%|          | 4/5394049 [00:03<1425:52:33,  1.05it/s]"
     ]
    },
    {
     "name": "stdout",
     "output_type": "stream",
     "text": [
      "PERS: Gao_Jingde --> Human\n"
     ]
    },
    {
     "name": "stderr",
     "output_type": "stream",
     "text": [
      "  0%|          | 5/5394049 [00:04<1419:19:38,  1.06it/s]"
     ]
    },
    {
     "name": "stdout",
     "output_type": "stream",
     "text": [
      "OTHERS: Messeix --> Communes_of_France\n"
     ]
    },
    {
     "name": "stderr",
     "output_type": "stream",
     "text": [
      "  0%|          | 6/5394049 [00:05<1390:43:10,  1.08it/s]"
     ]
    },
    {
     "name": "stdout",
     "output_type": "stream",
     "text": [
      "LOC: Varena,_Trentino --> Comune\n"
     ]
    },
    {
     "name": "stderr",
     "output_type": "stream",
     "text": [
      "  0%|          | 7/5394049 [00:06<1367:44:41,  1.10it/s]"
     ]
    },
    {
     "name": "stdout",
     "output_type": "stream",
     "text": [
      "LOC: Varena,_Trentino --> AdministrativeArea\n"
     ]
    },
    {
     "name": "stderr",
     "output_type": "stream",
     "text": [
      "  0%|          | 8/5394049 [00:07<1353:50:58,  1.11it/s]"
     ]
    },
    {
     "name": "stdout",
     "output_type": "stream",
     "text": [
      "ORG: Varena,_Trentino --> Corporation\n"
     ]
    },
    {
     "name": "stderr",
     "output_type": "stream",
     "text": [
      "  0%|          | 9/5394049 [00:08<1358:20:10,  1.10it/s]"
     ]
    },
    {
     "name": "stdout",
     "output_type": "stream",
     "text": [
      "OTHERS: Aggiornamento --> Thing\n"
     ]
    },
    {
     "name": "stderr",
     "output_type": "stream",
     "text": [
      "  0%|          | 10/5394049 [00:09<1368:58:21,  1.09it/s]"
     ]
    },
    {
     "name": "stdout",
     "output_type": "stream",
     "text": [
      "PERS: Ewa_Fröling --> Human\n"
     ]
    },
    {
     "name": "stderr",
     "output_type": "stream",
     "text": [
      "  0%|          | 11/5394049 [00:10<1353:58:00,  1.11it/s]"
     ]
    },
    {
     "name": "stdout",
     "output_type": "stream",
     "text": [
      "OTHERS: Acoustic_Live_(Erasure_album) --> Live_album\n"
     ]
    },
    {
     "name": "stderr",
     "output_type": "stream",
     "text": [
      "  0%|          | 12/5394049 [00:11<1360:17:36,  1.10it/s]"
     ]
    },
    {
     "name": "stdout",
     "output_type": "stream",
     "text": [
      "OTHERS: Gustavia_superba --> Taxon\n"
     ]
    },
    {
     "name": "stderr",
     "output_type": "stream",
     "text": [
      "  0%|          | 13/5394049 [00:12<1360:51:49,  1.10it/s]"
     ]
    },
    {
     "name": "stdout",
     "output_type": "stream",
     "text": [
      "PERS: Ronny_Hafsås --> Human\n"
     ]
    },
    {
     "name": "stderr",
     "output_type": "stream",
     "text": [
      "  0%|          | 14/5394049 [00:12<1356:47:36,  1.10it/s]"
     ]
    },
    {
     "name": "stdout",
     "output_type": "stream",
     "text": [
      "OTHERS: ACI_Vallelunga_Circuit --> Race_track\n"
     ]
    },
    {
     "name": "stderr",
     "output_type": "stream",
     "text": [
      "  0%|          | 15/5394049 [00:13<1336:53:33,  1.12it/s]"
     ]
    },
    {
     "name": "stdout",
     "output_type": "stream",
     "text": [
      "OTHERS: Bunkka --> MusicAlbum\n"
     ]
    },
    {
     "name": "stderr",
     "output_type": "stream",
     "text": [
      "  0%|          | 16/5394049 [00:14<1334:33:14,  1.12it/s]"
     ]
    },
    {
     "name": "stdout",
     "output_type": "stream",
     "text": [
      "OTHERS: Brinkman_number --> Thing\n"
     ]
    },
    {
     "name": "stderr",
     "output_type": "stream",
     "text": [
      "  0%|          | 18/5394049 [00:16<1376:14:00,  1.09it/s]"
     ]
    },
    {
     "name": "stdout",
     "output_type": "stream",
     "text": [
      "OTHERS: Sheppard_Point --> Headland\n"
     ]
    },
    {
     "name": "stderr",
     "output_type": "stream",
     "text": [
      "  0%|          | 20/5394049 [00:18<1355:15:21,  1.11it/s]"
     ]
    },
    {
     "name": "stdout",
     "output_type": "stream",
     "text": [
      "PERS: Anna_Moór --> Human\n",
      "OTHERS: Europcar --> Business\n"
     ]
    },
    {
     "name": "stderr",
     "output_type": "stream",
     "text": [
      "  0%|          | 21/5394049 [00:19<1342:00:46,  1.12it/s]"
     ]
    },
    {
     "name": "stdout",
     "output_type": "stream",
     "text": [
      "OTHERS: Lear_House --> Building\n"
     ]
    },
    {
     "name": "stderr",
     "output_type": "stream",
     "text": [
      "  0%|          | 22/5394049 [00:20<1338:02:29,  1.12it/s]"
     ]
    },
    {
     "name": "stdout",
     "output_type": "stream",
     "text": [
      "PERS: Regina_José_Galindo --> Human\n"
     ]
    },
    {
     "name": "stderr",
     "output_type": "stream",
     "text": [
      "  0%|          | 23/5394049 [00:21<1330:53:40,  1.13it/s]"
     ]
    },
    {
     "name": "stdout",
     "output_type": "stream",
     "text": [
      "PERS: Keithen_McCant --> Human\n"
     ]
    },
    {
     "name": "stderr",
     "output_type": "stream",
     "text": [
      "  0%|          | 24/5394049 [00:21<1352:28:09,  1.11it/s]"
     ]
    },
    {
     "name": "stdout",
     "output_type": "stream",
     "text": [
      "PERS: Nat_Holman --> Human\n"
     ]
    },
    {
     "name": "stderr",
     "output_type": "stream",
     "text": [
      "  0%|          | 26/5394049 [00:23<1371:05:34,  1.09it/s]"
     ]
    },
    {
     "name": "stdout",
     "output_type": "stream",
     "text": [
      "OTHERS: Threat_Matrix --> TVSeries\n",
      "OTHERS: Brazhkina --> Hamlet_(place)\n"
     ]
    },
    {
     "name": "stderr",
     "output_type": "stream",
     "text": [
      "  0%|          | 27/5394049 [00:24<1413:59:56,  1.06it/s]"
     ]
    },
    {
     "name": "stdout",
     "output_type": "stream",
     "text": [
      "OTHERS: Arbatskaya_Square --> Thing\n"
     ]
    },
    {
     "name": "stderr",
     "output_type": "stream",
     "text": [
      "  0%|          | 29/5394049 [00:26<1389:49:28,  1.08it/s]"
     ]
    },
    {
     "name": "stdout",
     "output_type": "stream",
     "text": [
      "PERS: Pēteris_Lauks --> Human\n"
     ]
    },
    {
     "name": "stderr",
     "output_type": "stream",
     "text": [
      "  0%|          | 30/5394049 [00:27<1401:04:57,  1.07it/s]"
     ]
    },
    {
     "name": "stdout",
     "output_type": "stream",
     "text": [
      "OTHERS: Spiriferina --> Taxon\n"
     ]
    },
    {
     "name": "stderr",
     "output_type": "stream",
     "text": [
      "  0%|          | 31/5394049 [00:28<1418:50:19,  1.06it/s]"
     ]
    },
    {
     "name": "stdout",
     "output_type": "stream",
     "text": [
      "PERS: Andrea_Evans --> Human\n"
     ]
    },
    {
     "name": "stderr",
     "output_type": "stream",
     "text": [
      "  0%|          | 33/5394049 [00:30<1379:45:16,  1.09it/s]"
     ]
    },
    {
     "name": "stdout",
     "output_type": "stream",
     "text": [
      "PERS: Daniel_Santamans --> Human\n",
      "PERS: Charles_Armijo_Woodruff --> Human\n"
     ]
    },
    {
     "name": "stderr",
     "output_type": "stream",
     "text": [
      "  0%|          | 35/5394049 [00:32<1369:06:13,  1.09it/s]"
     ]
    },
    {
     "name": "stdout",
     "output_type": "stream",
     "text": [
      "PERS: Sarah_Neufeld --> Human\n",
      "PERS: Vijay_Bahadur_Pathak --> Human\n"
     ]
    },
    {
     "name": "stderr",
     "output_type": "stream",
     "text": [
      "  0%|          | 37/5394049 [00:34<1380:01:30,  1.09it/s]"
     ]
    },
    {
     "name": "stdout",
     "output_type": "stream",
     "text": [
      "OTHERS: Everything_and_More_(Natalia_album) --> MusicAlbum\n",
      "OTHERS: Goddess_movement --> New_religious_movement\n"
     ]
    },
    {
     "name": "stderr",
     "output_type": "stream",
     "text": [
      "  0%|          | 39/5394049 [00:35<1348:35:09,  1.11it/s]"
     ]
    },
    {
     "name": "stdout",
     "output_type": "stream",
     "text": [
      "LOC: Rusk,_Indiana --> AdministrativeArea\n",
      "OTHERS: Real_World%2FRoad_Rules_Challenge:_The_Gauntlet --> TVSeason\n"
     ]
    },
    {
     "name": "stderr",
     "output_type": "stream",
     "text": [
      "  0%|          | 40/5394049 [00:36<1353:56:10,  1.11it/s]"
     ]
    },
    {
     "name": "stdout",
     "output_type": "stream",
     "text": [
      "OTHERS: Schur_test --> Theorem\n"
     ]
    },
    {
     "name": "stderr",
     "output_type": "stream",
     "text": [
      "  0%|          | 41/5394049 [00:37<1363:31:51,  1.10it/s]"
     ]
    },
    {
     "name": "stdout",
     "output_type": "stream",
     "text": [
      "LOC: ANTA_Washington_Square_Theatre --> PerformingArtsTheater\n"
     ]
    },
    {
     "name": "stderr",
     "output_type": "stream",
     "text": [
      "  0%|          | 43/5394049 [00:39<1374:21:24,  1.09it/s]"
     ]
    },
    {
     "name": "stdout",
     "output_type": "stream",
     "text": [
      "PERS: Alexander_Chisholm_(artist) --> Human\n",
      "LOC: Aranmula_International_Airport --> Airport\n"
     ]
    },
    {
     "name": "stderr",
     "output_type": "stream",
     "text": [
      "  0%|          | 45/5394049 [00:41<1365:31:01,  1.10it/s]"
     ]
    },
    {
     "name": "stdout",
     "output_type": "stream",
     "text": [
      "LOC: Bala_Duri-ye_Dovvom --> Human_settlement\n"
     ]
    },
    {
     "name": "stderr",
     "output_type": "stream",
     "text": [
      "  0%|          | 46/5394049 [00:42<1365:26:06,  1.10it/s]"
     ]
    },
    {
     "name": "stdout",
     "output_type": "stream",
     "text": [
      "PERS: Ingela_Strandberg --> Human\n"
     ]
    },
    {
     "name": "stderr",
     "output_type": "stream",
     "text": [
      "  0%|          | 47/5394049 [00:43<1369:53:42,  1.09it/s]"
     ]
    },
    {
     "name": "stdout",
     "output_type": "stream",
     "text": [
      "PERS: Carrie_Moyer --> Human\n"
     ]
    },
    {
     "name": "stderr",
     "output_type": "stream",
     "text": [
      "  0%|          | 48/5394049 [00:44<1357:03:45,  1.10it/s]"
     ]
    },
    {
     "name": "stdout",
     "output_type": "stream",
     "text": [
      "LOC: Christopher,_Washington --> Human_settlement\n"
     ]
    },
    {
     "name": "stderr",
     "output_type": "stream",
     "text": [
      "  0%|          | 49/5394049 [00:44<1350:45:08,  1.11it/s]"
     ]
    },
    {
     "name": "stdout",
     "output_type": "stream",
     "text": [
      "OTHERS: Day_and_Night_(song) --> Single_(music)\n"
     ]
    },
    {
     "name": "stderr",
     "output_type": "stream",
     "text": [
      "  0%|          | 50/5394049 [00:45<1382:55:05,  1.08it/s]"
     ]
    },
    {
     "name": "stdout",
     "output_type": "stream",
     "text": [
      "OTHERS: Fearless_Photog --> CreativeWork\n"
     ]
    },
    {
     "name": "stderr",
     "output_type": "stream",
     "text": [
      "  0%|          | 52/5394049 [00:47<1376:31:51,  1.09it/s]"
     ]
    },
    {
     "name": "stdout",
     "output_type": "stream",
     "text": [
      "PERS: Fritz_Süffert --> Human\n"
     ]
    },
    {
     "name": "stderr",
     "output_type": "stream",
     "text": [
      "  0%|          | 53/5394049 [00:48<1379:14:10,  1.09it/s]"
     ]
    },
    {
     "name": "stdout",
     "output_type": "stream",
     "text": [
      "OTHERS: HTML_Components --> File_format\n"
     ]
    },
    {
     "name": "stderr",
     "output_type": "stream",
     "text": [
      "  0%|          | 55/5394049 [00:50<1389:35:31,  1.08it/s]"
     ]
    },
    {
     "name": "stdout",
     "output_type": "stream",
     "text": [
      "OTHERS: Held_to_Answer --> Movie\n",
      "OTHERS: Najjar,_Kermanshah --> Village\n"
     ]
    },
    {
     "name": "stderr",
     "output_type": "stream",
     "text": [
      "  0%|          | 56/5394049 [00:51<1376:51:42,  1.09it/s]"
     ]
    },
    {
     "name": "stdout",
     "output_type": "stream",
     "text": [
      "PERS: Hoʻolulu --> Human\n"
     ]
    },
    {
     "name": "stderr",
     "output_type": "stream",
     "text": [
      "  0%|          | 57/5394049 [00:52<1382:35:39,  1.08it/s]"
     ]
    },
    {
     "name": "stdout",
     "output_type": "stream",
     "text": [
      "PERS: John_Cheyne_(speaker) --> Human\n"
     ]
    },
    {
     "name": "stderr",
     "output_type": "stream",
     "text": [
      "  0%|          | 59/5394049 [00:54<1368:13:22,  1.10it/s]"
     ]
    },
    {
     "name": "stdout",
     "output_type": "stream",
     "text": [
      "OTHERS: Linens_'n_Things --> Business\n",
      "OTHERS: Lotfabad_District --> Bakhsh\n"
     ]
    },
    {
     "name": "stderr",
     "output_type": "stream",
     "text": [
      "  0%|          | 60/5394049 [00:55<1388:26:17,  1.08it/s]"
     ]
    },
    {
     "name": "stdout",
     "output_type": "stream",
     "text": [
      "PERS: Mitchell_Kennerley --> Human\n"
     ]
    },
    {
     "name": "stderr",
     "output_type": "stream",
     "text": [
      "  0%|          | 61/5394049 [00:56<1396:57:06,  1.07it/s]"
     ]
    },
    {
     "name": "stdout",
     "output_type": "stream",
     "text": [
      "PERS: Odo_of_Canterbury --> Human\n"
     ]
    },
    {
     "name": "stderr",
     "output_type": "stream",
     "text": [
      "  0%|          | 62/5394049 [00:56<1396:14:18,  1.07it/s]"
     ]
    },
    {
     "name": "stdout",
     "output_type": "stream",
     "text": [
      "PERS: Pat_Falvey --> Human\n"
     ]
    },
    {
     "name": "stderr",
     "output_type": "stream",
     "text": [
      "  0%|          | 64/5394049 [00:59<1511:04:26,  1.01s/it]"
     ]
    },
    {
     "name": "stdout",
     "output_type": "stream",
     "text": [
      "OTHERS: Salmoneus_(Hercules:_The_Legendary_Journies_and_Xena:_Warrior_Princess) --> Character_(arts)\n"
     ]
    },
    {
     "name": "stderr",
     "output_type": "stream",
     "text": [
      "  0%|          | 65/5394049 [01:00<1478:51:14,  1.01it/s]"
     ]
    },
    {
     "name": "stdout",
     "output_type": "stream",
     "text": [
      "PERS: Wil_Lutz --> Human\n"
     ]
    },
    {
     "name": "stderr",
     "output_type": "stream",
     "text": [
      "  0%|          | 66/5394049 [01:01<1443:38:11,  1.04it/s]"
     ]
    },
    {
     "name": "stdout",
     "output_type": "stream",
     "text": [
      "LOC: Starostwo,_Greater_Poland_Voivodeship --> AdministrativeArea\n"
     ]
    },
    {
     "name": "stderr",
     "output_type": "stream",
     "text": [
      "  0%|          | 67/5394049 [01:02<1432:53:12,  1.05it/s]"
     ]
    },
    {
     "name": "stdout",
     "output_type": "stream",
     "text": [
      "OTHERS: The_Fallon_Blood --> CreativeWork\n"
     ]
    },
    {
     "name": "stderr",
     "output_type": "stream",
     "text": [
      "  0%|          | 68/5394049 [01:02<1409:17:52,  1.06it/s]"
     ]
    },
    {
     "name": "stdout",
     "output_type": "stream",
     "text": [
      "OTHERS: UEFA_Euro_1980_qualifying_Group_3 --> Season_(sports)\n"
     ]
    },
    {
     "name": "stderr",
     "output_type": "stream",
     "text": [
      "  0%|          | 69/5394049 [01:03<1387:22:33,  1.08it/s]"
     ]
    },
    {
     "name": "stdout",
     "output_type": "stream",
     "text": [
      "PERS: Viktor_Tietz --> Human\n"
     ]
    },
    {
     "name": "stderr",
     "output_type": "stream",
     "text": [
      "  0%|          | 71/5394049 [01:05<1427:47:35,  1.05it/s]"
     ]
    },
    {
     "name": "stdout",
     "output_type": "stream",
     "text": [
      "LOC: Franklin_Township,_Pulaski_County,_Indiana --> AdministrativeArea\n",
      "LOC: Wawrzynowo --> AdministrativeArea\n"
     ]
    },
    {
     "name": "stderr",
     "output_type": "stream",
     "text": [
      "  0%|          | 72/5394049 [01:06<1408:58:56,  1.06it/s]"
     ]
    },
    {
     "name": "stdout",
     "output_type": "stream",
     "text": [
      "PERS: Arizona_John_Burke --> Human\n"
     ]
    },
    {
     "name": "stderr",
     "output_type": "stream",
     "text": [
      "  0%|          | 73/5394049 [01:07<1398:08:55,  1.07it/s]"
     ]
    },
    {
     "name": "stdout",
     "output_type": "stream",
     "text": [
      "PERS: Fong_Seow_Hor --> Human\n"
     ]
    },
    {
     "name": "stderr",
     "output_type": "stream",
     "text": [
      "  0%|          | 74/5394049 [01:08<1393:16:59,  1.08it/s]"
     ]
    },
    {
     "name": "stdout",
     "output_type": "stream",
     "text": [
      "PERS: Alvin_Shrier --> Human\n"
     ]
    },
    {
     "name": "stderr",
     "output_type": "stream",
     "text": [
      "  0%|          | 75/5394049 [01:09<1400:34:44,  1.07it/s]"
     ]
    },
    {
     "name": "stdout",
     "output_type": "stream",
     "text": [
      "PERS: James_McIlvaine_Riley --> Human\n"
     ]
    },
    {
     "name": "stderr",
     "output_type": "stream",
     "text": [
      "  0%|          | 76/5394049 [01:10<1451:08:32,  1.03it/s]"
     ]
    },
    {
     "name": "stdout",
     "output_type": "stream",
     "text": [
      "PERS: Mitchell_Hibberd --> Human\n"
     ]
    },
    {
     "name": "stderr",
     "output_type": "stream",
     "text": [
      "  0%|          | 78/5394049 [01:12<1457:30:15,  1.03it/s]"
     ]
    },
    {
     "name": "stdout",
     "output_type": "stream",
     "text": [
      "PERS: Adam_Bisnowaty --> Human\n",
      "OTHERS: Anandra_capriciosa --> Taxon\n"
     ]
    },
    {
     "name": "stderr",
     "output_type": "stream",
     "text": [
      "  0%|          | 80/5394049 [01:14<1400:13:58,  1.07it/s]"
     ]
    },
    {
     "name": "stdout",
     "output_type": "stream",
     "text": [
      "OTHERS: Power_Couple_(Brazilian_season_2) --> TVSeason\n",
      "OTHERS: Government_of_Sri_Lanka --> Government\n"
     ]
    },
    {
     "name": "stderr",
     "output_type": "stream",
     "text": [
      "  0%|          | 81/5394049 [01:15<1391:56:31,  1.08it/s]"
     ]
    },
    {
     "name": "stdout",
     "output_type": "stream",
     "text": [
      "OTHERS: IrrEdit --> Software\n"
     ]
    },
    {
     "name": "stderr",
     "output_type": "stream",
     "text": [
      "  0%|          | 82/5394049 [01:16<1402:10:22,  1.07it/s]"
     ]
    },
    {
     "name": "stdout",
     "output_type": "stream",
     "text": [
      "OTHERS: Museo_delle_Industrie_e_del_Lavoro_del_Saronnese --> Real_estate\n"
     ]
    },
    {
     "name": "stderr",
     "output_type": "stream",
     "text": [
      "  0%|          | 84/5394049 [01:17<1373:25:19,  1.09it/s]"
     ]
    },
    {
     "name": "stdout",
     "output_type": "stream",
     "text": [
      "LOC: Museo_delle_Industrie_e_del_Lavoro_del_Saronnese --> Museum\n",
      "Human\n"
     ]
    },
    {
     "name": "stderr",
     "output_type": "stream",
     "text": [
      "  0%|          | 85/5394049 [01:18<1368:00:27,  1.10it/s]"
     ]
    },
    {
     "name": "stdout",
     "output_type": "stream",
     "text": [
      "OTHERS: Turkish_language --> Modern_language\n"
     ]
    },
    {
     "name": "stderr",
     "output_type": "stream",
     "text": [
      "  0%|          | 87/5394049 [01:20<1387:46:36,  1.08it/s]"
     ]
    },
    {
     "name": "stdout",
     "output_type": "stream",
     "text": [
      "OTHERS: Hofstetten,_Zürich --> Municipalities_of_Switzerland\n"
     ]
    },
    {
     "name": "stderr",
     "output_type": "stream",
     "text": [
      "  0%|          | 88/5394049 [01:21<1390:49:41,  1.08it/s]"
     ]
    },
    {
     "name": "stdout",
     "output_type": "stream",
     "text": [
      "OTHERS: 2002_Asian_Athletics_Championships_–_Women's_heptathlon --> SportsEvent\n"
     ]
    },
    {
     "name": "stderr",
     "output_type": "stream",
     "text": [
      "  0%|          | 89/5394049 [01:22<1401:01:33,  1.07it/s]"
     ]
    },
    {
     "name": "stdout",
     "output_type": "stream",
     "text": [
      "OTHERS: Leptoceratops --> Taxon\n"
     ]
    },
    {
     "name": "stderr",
     "output_type": "stream",
     "text": [
      "  0%|          | 90/5394049 [01:23<1387:29:44,  1.08it/s]"
     ]
    },
    {
     "name": "stdout",
     "output_type": "stream",
     "text": [
      "LOC: Melburn_Hill,_California --> Human_settlement\n"
     ]
    },
    {
     "name": "stderr",
     "output_type": "stream",
     "text": [
      "  0%|          | 91/5394049 [01:24<1399:41:11,  1.07it/s]"
     ]
    },
    {
     "name": "stdout",
     "output_type": "stream",
     "text": [
      "OTHERS: Plourhan --> Communes_of_France\n"
     ]
    },
    {
     "name": "stderr",
     "output_type": "stream",
     "text": [
      "  0%|          | 93/5394049 [01:26<1345:35:52,  1.11it/s]"
     ]
    },
    {
     "name": "stdout",
     "output_type": "stream",
     "text": [
      "OTHERS: A_Parlor_Match --> Play\n",
      "OTHERS: The_Successor_(TV_program) --> TVSeries\n"
     ]
    },
    {
     "name": "stderr",
     "output_type": "stream",
     "text": [
      "  0%|          | 94/5394049 [01:27<1361:12:10,  1.10it/s]"
     ]
    },
    {
     "name": "stdout",
     "output_type": "stream",
     "text": [
      "OTHERS: Saucats --> Communes_of_France\n"
     ]
    },
    {
     "name": "stderr",
     "output_type": "stream",
     "text": [
      "  0%|          | 95/5394049 [01:28<1362:00:52,  1.10it/s]"
     ]
    },
    {
     "name": "stdout",
     "output_type": "stream",
     "text": [
      "PERS: Sergio_Castellitto --> Human\n"
     ]
    },
    {
     "name": "stderr",
     "output_type": "stream",
     "text": [
      "  0%|          | 96/5394049 [01:28<1373:56:30,  1.09it/s]"
     ]
    },
    {
     "name": "stdout",
     "output_type": "stream",
     "text": [
      "OTHERS: Asian_water_monitor --> Taxon\n"
     ]
    },
    {
     "name": "stderr",
     "output_type": "stream",
     "text": [
      "  0%|          | 98/5394049 [01:30<1371:29:41,  1.09it/s]"
     ]
    },
    {
     "name": "stdout",
     "output_type": "stream",
     "text": [
      "OTHERS: 25_de_Abril_Bridge --> Suspension_bridge\n"
     ]
    },
    {
     "name": "stderr",
     "output_type": "stream",
     "text": [
      "  0%|          | 99/5394049 [01:31<1386:41:36,  1.08it/s]"
     ]
    },
    {
     "name": "stdout",
     "output_type": "stream",
     "text": [
      "LOC: 25_de_Abril_Bridge --> Bridge\n"
     ]
    },
    {
     "name": "stderr",
     "output_type": "stream",
     "text": [
      "  0%|          | 100/5394049 [01:32<1382:07:41,  1.08it/s]"
     ]
    },
    {
     "name": "stdout",
     "output_type": "stream",
     "text": [
      "LOC: 25_de_Abril_Bridge --> Bridge\n"
     ]
    },
    {
     "name": "stderr",
     "output_type": "stream",
     "text": [
      "  0%|          | 101/5394049 [01:33<1370:57:06,  1.09it/s]"
     ]
    },
    {
     "name": "stdout",
     "output_type": "stream",
     "text": [
      "OTHERS: Alpine_skiing_at_the_2006_Winter_Olympics_–_Women's_super-G --> SportsEvent\n"
     ]
    },
    {
     "name": "stderr",
     "output_type": "stream",
     "text": [
      "  0%|          | 102/5394049 [01:34<1388:55:15,  1.08it/s]"
     ]
    },
    {
     "name": "stdout",
     "output_type": "stream",
     "text": [
      "OTHERS: Charbonnières-les-Varennes --> Communes_of_France\n"
     ]
    },
    {
     "name": "stderr",
     "output_type": "stream",
     "text": [
      "  0%|          | 104/5394049 [01:36<1366:04:52,  1.10it/s]"
     ]
    },
    {
     "name": "stdout",
     "output_type": "stream",
     "text": [
      "OTHERS: Gran_Caffé_Doney --> Cafeteria\n",
      "OTHERS: Lockport_High_School --> Secondary_school\n"
     ]
    },
    {
     "name": "stderr",
     "output_type": "stream",
     "text": [
      "  0%|          | 105/5394049 [01:37<1351:24:18,  1.11it/s]"
     ]
    },
    {
     "name": "stdout",
     "output_type": "stream",
     "text": [
      "OTHERS: Wat_Si_Saket --> Wat\n"
     ]
    },
    {
     "name": "stderr",
     "output_type": "stream",
     "text": [
      "  0%|          | 107/5394049 [01:38<1366:37:21,  1.10it/s]"
     ]
    },
    {
     "name": "stdout",
     "output_type": "stream",
     "text": [
      "OTHERS: Lopper_II_Rail_Tunnel --> Product\n",
      "LOC: Lopper_II_Rail_Tunnel --> Landform\n"
     ]
    },
    {
     "name": "stderr",
     "output_type": "stream",
     "text": [
      "  0%|          | 108/5394049 [01:39<1364:01:37,  1.10it/s]"
     ]
    },
    {
     "name": "stdout",
     "output_type": "stream",
     "text": [
      "PERS: Gudmund_Hernes --> Human\n"
     ]
    },
    {
     "name": "stderr",
     "output_type": "stream",
     "text": [
      "  0%|          | 110/5394049 [01:41<1351:19:39,  1.11it/s]"
     ]
    },
    {
     "name": "stdout",
     "output_type": "stream",
     "text": [
      "PERS: William_Cruden --> Human\n",
      "OTHERS: Gradac,_Požega-Slavonia_County --> Village\n"
     ]
    },
    {
     "name": "stderr",
     "output_type": "stream",
     "text": [
      "  0%|          | 111/5394049 [01:42<1391:29:33,  1.08it/s]"
     ]
    },
    {
     "name": "stdout",
     "output_type": "stream",
     "text": [
      "OTHERS: Wild_Energy._Amazon._Wild_Dances --> Compilation_album\n"
     ]
    },
    {
     "name": "stderr",
     "output_type": "stream",
     "text": [
      "  0%|          | 112/5394049 [01:43<1430:49:03,  1.05it/s]"
     ]
    },
    {
     "name": "stdout",
     "output_type": "stream",
     "text": [
      "LOC: Buka,_Pomeranian_Voivodeship --> AdministrativeArea\n"
     ]
    },
    {
     "name": "stderr",
     "output_type": "stream",
     "text": [
      "  0%|          | 113/5394049 [01:44<1447:06:34,  1.04it/s]"
     ]
    },
    {
     "name": "stdout",
     "output_type": "stream",
     "text": [
      "PERS: Liu_Xiaomeng --> Human\n"
     ]
    },
    {
     "name": "stderr",
     "output_type": "stream",
     "text": [
      "  0%|          | 115/5394049 [01:46<1469:06:50,  1.02it/s]"
     ]
    },
    {
     "name": "stdout",
     "output_type": "stream",
     "text": [
      "OTHERS: Zone_of_the_Enders --> VideoGameSeries\n",
      "LOC: Chico,_Washington --> AdministrativeArea\n"
     ]
    },
    {
     "name": "stderr",
     "output_type": "stream",
     "text": [
      "  0%|          | 115/5394049 [01:47<1403:54:17,  1.07it/s]"
     ]
    },
    {
     "name": "stdout",
     "output_type": "stream",
     "text": [
      "Unexpected exception formatting exception. Falling back to standard exception\n"
     ]
    },
    {
     "name": "stderr",
     "output_type": "stream",
     "text": [
      "\n",
      "Traceback (most recent call last):\n",
      "  File \"/opt/conda/lib/python3.11/site-packages/IPython/core/interactiveshell.py\", line 3526, in run_code\n",
      "    exec(code_obj, self.user_global_ns, self.user_ns)\n",
      "  File \"/tmp/ipykernel_2458/1482596078.py\", line -1, in <module>\n",
      "KeyboardInterrupt\n",
      "\n",
      "During handling of the above exception, another exception occurred:\n",
      "\n",
      "Traceback (most recent call last):\n",
      "  File \"/opt/conda/lib/python3.11/site-packages/IPython/core/interactiveshell.py\", line 2120, in showtraceback\n",
      "    stb = self.InteractiveTB.structured_traceback(\n",
      "          ^^^^^^^^^^^^^^^^^^^^^^^^^^^^^^^^^^^^^^^^\n",
      "  File \"/opt/conda/lib/python3.11/site-packages/IPython/core/ultratb.py\", line 1435, in structured_traceback\n",
      "    return FormattedTB.structured_traceback(\n",
      "           ^^^^^^^^^^^^^^^^^^^^^^^^^^^^^^^^^\n",
      "  File \"/opt/conda/lib/python3.11/site-packages/IPython/core/ultratb.py\", line 1326, in structured_traceback\n",
      "    return VerboseTB.structured_traceback(\n",
      "           ^^^^^^^^^^^^^^^^^^^^^^^^^^^^^^^\n",
      "  File \"/opt/conda/lib/python3.11/site-packages/IPython/core/ultratb.py\", line 1173, in structured_traceback\n",
      "    formatted_exception = self.format_exception_as_a_whole(etype, evalue, etb, number_of_lines_of_context,\n",
      "                          ^^^^^^^^^^^^^^^^^^^^^^^^^^^^^^^^^^^^^^^^^^^^^^^^^^^^^^^^^^^^^^^^^^^^^^^^^^^^^^^^\n",
      "  File \"/opt/conda/lib/python3.11/site-packages/IPython/core/ultratb.py\", line 1088, in format_exception_as_a_whole\n",
      "    frames.append(self.format_record(record))\n",
      "                  ^^^^^^^^^^^^^^^^^^^^^^^^^^\n",
      "  File \"/opt/conda/lib/python3.11/site-packages/IPython/core/ultratb.py\", line 970, in format_record\n",
      "    frame_info.lines, Colors, self.has_colors, lvals\n",
      "    ^^^^^^^^^^^^^^^^\n",
      "  File \"/opt/conda/lib/python3.11/site-packages/IPython/core/ultratb.py\", line 792, in lines\n",
      "    return self._sd.lines\n",
      "           ^^^^^^^^^^^^^^\n",
      "  File \"/opt/conda/lib/python3.11/site-packages/stack_data/utils.py\", line 144, in cached_property_wrapper\n",
      "    value = obj.__dict__[self.func.__name__] = self.func(obj)\n",
      "                                               ^^^^^^^^^^^^^^\n",
      "  File \"/opt/conda/lib/python3.11/site-packages/stack_data/core.py\", line 734, in lines\n",
      "    pieces = self.included_pieces\n",
      "             ^^^^^^^^^^^^^^^^^^^^\n",
      "  File \"/opt/conda/lib/python3.11/site-packages/stack_data/utils.py\", line 144, in cached_property_wrapper\n",
      "    value = obj.__dict__[self.func.__name__] = self.func(obj)\n",
      "                                               ^^^^^^^^^^^^^^\n",
      "  File \"/opt/conda/lib/python3.11/site-packages/stack_data/core.py\", line 681, in included_pieces\n",
      "    pos = scope_pieces.index(self.executing_piece)\n",
      "                             ^^^^^^^^^^^^^^^^^^^^\n",
      "  File \"/opt/conda/lib/python3.11/site-packages/stack_data/utils.py\", line 144, in cached_property_wrapper\n",
      "    value = obj.__dict__[self.func.__name__] = self.func(obj)\n",
      "                                               ^^^^^^^^^^^^^^\n",
      "  File \"/opt/conda/lib/python3.11/site-packages/stack_data/core.py\", line 660, in executing_piece\n",
      "    return only(\n",
      "           ^^^^^\n",
      "  File \"/opt/conda/lib/python3.11/site-packages/executing/executing.py\", line 190, in only\n",
      "    raise NotOneValueFound('Expected one value, found 0')\n",
      "executing.executing.NotOneValueFound: Expected one value, found 0\n"
     ]
    }
   ],
   "source": [
    "from tqdm import tqdm\n",
    "\n",
    "organization_list = [\n",
    "    'Airline', 'Consortium', 'Corporation', 'EducationalOrganization', 'CollegeOrUniversity', 'ElementarySchool', 'HighSchool', \n",
    "    'MiddleSchool', 'Preschool', 'School', 'FundingScheme', 'GovernmentOrganization', 'LibrarySystem',\n",
    "    'AnimalShelter', 'ArchiveOrganization', 'AutoBodyShop', 'AutoDealer', 'AutoPartsStore', 'AutoRental', \n",
    "    'AutoRepair', 'AutoWash', 'GasStation', 'MotorcycleDealer', 'MotorcycleRepair', 'ChildCare', ' MedicalOrganization', 'Dentist', ' LocalBusiness', \n",
    "    'DryCleaningOrLaundry', 'FireStation', 'Hospital', 'PoliceStation', 'EmploymentAgency', 'AdultEntertainment', \n",
    "    'AmusementPark', 'ArtGallery', 'Casino', 'ComedyClub', 'MovieTheater', 'NightClub', 'AccountingService', \n",
    "    'AutomatedTeller', 'BankOrCreditUnion', 'InsuranceAgency', 'Bakery', 'BarOrPub', 'Brewery', 'CafeOrCoffeeShop', \n",
    "    'Distillery', 'FastFoodRestaurant', 'IceCreamShop', 'Restaurant', 'Winery', 'PostOffice', 'BeautySalon', \n",
    "    'DaySpa', 'HairSalon', 'HealthClub', 'NailSalon', 'TattooParlor', 'Electrician', 'GeneralContractor', \n",
    "    'HVACBusiness', 'HousePainter', 'Locksmith', 'MovingCompany', 'Plumber', 'RoofingContractor', 'InternetCafe', \n",
    "    'Attorney', 'Notary', 'Library', 'BedAndBreakfast', 'Campground', 'Hostel', 'Hotel', 'Motel', 'Resort', 'SkiResort',\n",
    "    'VacationRental', 'DiagnosticLab', 'NGO', 'NewsMediaOrganization', 'OnlineStore', 'DanceGroup', 'MusicGroup', \n",
    "    'TheaterGroup', 'PoliticalParty', 'FundingAgency', 'ResearchProject', 'ResearchOrganization', \n",
    "    'SearchRescueOrganization', 'SportsTeam', 'WorkersUnion', 'OnlineBusiness', 'PerformingGroup', 'Project', 'SportsOrganization', \n",
    "    'MedicalBusiness', 'CommunityHealth', 'Dermatology', 'DietNutrition', 'Emergency', 'Geriatric', 'Gynecologic',\n",
    "    'MedicalClinic', 'CovidTestingFacility', 'Midwifery', 'Nursing', 'Obstetric', 'Oncologic', 'Optician', 'Optometric',\n",
    "    'Otolaryngologic', 'Pediatric', 'Pharmacy', 'Physician', 'IndividualPhysician', 'PhysiciansOffice', 'Physiotherapy',\n",
    "    'PlasticSurgery', 'Podiatric', 'PrimaryCare', 'Psychiatric', 'PublicHealth', 'ProfessionalService', 'RadioStation',\n",
    "    'RealEstateAgent', 'RecyclingCenter', 'SelfStorage', 'ShoppingCenter', 'SportsActivityLocation', 'BowlingAlley',\n",
    "    'ExerciseGym', 'GolfCourse', 'PublicSwimmingPool', 'SportsClub', 'StadiumOrArena', 'TennisComplex',\n",
    "    'Store', 'BikeStore', 'BookStore', 'ClothingStore', 'ComputerStore', 'ConvenienceStore', 'DepartmentStore',\n",
    "    'ElectronicsStore', 'Florist', 'FurnitureStore', 'GardenStore', 'GroceryStore', 'HardwareStore', 'HobbyShop',\n",
    "    'HomeGoodsStore', 'JewelryStore', 'LiquorStore', 'MensClothingStore', 'MobilePhoneStore', 'MovieRentalStore',\n",
    "    'MusicStore', 'OfficeEquipmentStore', 'OutletStore', 'PawnShop', 'PetStore', 'ShoeStore', 'SportingGoodsStore',\n",
    "    'TireShop', 'ToyStore', 'WholesaleStore', 'TelevisionStation', 'TouristInformationCenter', 'TravelAgency',\n",
    "    'VeterinaryCare','ResearchProject', 'ResearchOrganization', 'EducationalOrganization', 'Consortium', 'FundingAgency', 'Bank', \n",
    "    'BroadcastingCorporation', 'Charity', 'Company', 'ConsultingFirm', \n",
    "    'CulturalOrganization', 'EconomicOrganization', 'GovernmentAgency', 'HealthInstitution', \n",
    "    'InternationalOrganization', 'LegalOrganization', 'MilitaryOrganization', 'NonProfitOrganization', \n",
    "    'PoliticalOrganization', 'ProfessionalOrganization', 'PublishingHouse', 'ReligiousOrganization', \n",
    "    'ResearchInstitute', 'SocialOrganization', 'TradeAssociation', 'TransportCompany', \n",
    "    'University', 'VentureCapitalFirm'\n",
    "]\n",
    "\n",
    "\n",
    "person_list = [\n",
    "    'Patient', 'Human', 'Artist', 'Athlete', 'Author', 'Composer', 'Inventor', 'Philosopher', \n",
    "    'Politician', 'Scientist', 'Actor', 'Musician', 'Teacher', \n",
    "    'Doctor', 'Lawyer', 'Entrepreneur', 'Engineer', 'Architect'\n",
    "]\n",
    "\n",
    "place_list = [\n",
    "    'Apartment', 'CampingPitch', 'SingleFamilyResidence', 'HotelRoom', 'MeetingRoom', 'Suite', 'City', \n",
    "    'Country', 'SchoolDistrict', 'State', 'Airport', 'Aquarium', 'Beach', 'BoatTerminal', 'Bridge', 'BusStation', \n",
    "    'BusStop', 'Campground', 'Cemetery', 'Crematorium', 'EducationalOrganization', 'EventVenue', 'FireStation', 'CityHall', \n",
    "    'Courthouse', 'DefenceEstablishment', 'Embassy', 'LegislativeBuilding', 'Hospital', 'MovieTheater', 'Museum', 'MusicVenue', 'Park', \n",
    "    'ParkingFacility', 'PerformingArtsTheater', 'PlaceOfWorship', 'BuddhistTemple', 'CatholicChurch', 'HinduTemple', 'Mosque', 'Synagogue', 'Playground', \n",
    "    'PoliceStation', 'PublicToilet', 'RVPark', 'StadiumOrArena', 'SubwayStation', 'TaxiStand', 'TrainStation', 'Zoo', \n",
    "    'Canal', 'LakeBodyOfWater', 'OceanBodyOfWater', 'Pond', 'Reservoir', 'RiverBodyOfWater', 'SeaBodyOfWater', \n",
    "    'Waterfall', 'Continent', 'Mountain', 'Volcano', 'ApartmentComplex', 'GatedResidenceCommunity', 'TouristAttraction', \n",
    "    'TouristDestination', 'Accommodation', 'AdministrativeArea', 'CivicStructure', 'Landform', \n",
    "    'LandmarksOrHistoricalBuildings', 'LocalBusiness', 'Residence', 'Comune', 'Human_settlement', 'CapitalCity', 'Continent', 'District', 'Island', 'Peninsula', \n",
    "    'Desert', 'Forest', 'Glacier', 'MountainRange', 'Valley', \n",
    "    'Bay', 'Cape', 'Gulf', 'Harbor', 'Lagoon', 'Strait', \n",
    "    'ArchaeologicalSite', 'Castle', 'Fortress', 'HistoricalSite', 'Palace', \n",
    "    'Monument', 'Memorial', 'CitySquare', 'Plaza', 'Observatory', \n",
    "    'Lighthouse', 'Amphitheater', 'Conservatory', 'Gallery', 'Library'\n",
    "]\n",
    "\n",
    "\n",
    "\n",
    "# Initialize the lists and a variable to track the last classified item\n",
    "ORG = []\n",
    "LOC = []\n",
    "PERS = []\n",
    "OTHERS = []\n",
    "\n",
    "last_classified_item = None\n",
    "\n",
    "for line in tqdm(chunk):\n",
    "    parts = line.split('\\t')\n",
    "    if len(parts) >= 3:\n",
    "        input_string = parts[2].rsplit('/', 1)[-1]\n",
    "        cleaned_string = input_string.rstrip('> .')\n",
    "        item = parts[0].rsplit('/', 1)[-1].rstrip('> .')\n",
    "        \n",
    "        # Skip the item if it's the same as the last classified one\n",
    "        #if item == last_classified_item:\n",
    "           #continue\n",
    "        \n",
    "        if item in set(mapping_yago_wiki.keys()):\n",
    "            if cleaned_string in organization_list:\n",
    "                ORG.append(parts[0])\n",
    "                last_classified_item = item  # Update last classified item\n",
    "                print(f\"ORG: {item} --> {cleaned_string}\")\n",
    "            elif cleaned_string in place_list:\n",
    "                LOC.append(parts[0])\n",
    "                last_classified_item = item  # Update last classified item\n",
    "                print(f\"LOC: {item} --> {cleaned_string}\")\n",
    "            elif cleaned_string in person_list:\n",
    "                PERS.append(parts[0])\n",
    "                last_classified_item = item  # Update last classified item\n",
    "                print(f\"PERS: {item} --> {cleaned_string}\")\n",
    "            elif cleaned_string != \"\" and last_classified_item != item:\n",
    "                OTHERS.append(line)\n",
    "                last_classified_item = item  # Update last classified item\n",
    "                print(f\"OTHERS: {item} --> {cleaned_string}\")\n",
    "        else:\n",
    "            print(cleaned_string)\n"
   ]
  },
  {
   "cell_type": "code",
   "execution_count": 5,
   "id": "10b2959f-994c-4abc-a57e-55f8e58aaf31",
   "metadata": {},
   "outputs": [
    {
     "name": "stderr",
     "output_type": "stream",
     "text": [
      "100%|██████████| 2161/2161 [08:03<00:00,  4.47it/s]\n",
      "100%|██████████| 391/391 [03:46<00:00,  1.73it/s]"
     ]
    },
    {
     "name": "stdout",
     "output_type": "stream",
     "text": [
      "Processing complete.\n"
     ]
    },
    {
     "name": "stderr",
     "output_type": "stream",
     "text": [
      "\n"
     ]
    }
   ],
   "source": [
    "####################\n",
    "# READ THE JSON\n",
    "#####################\n",
    "\n",
    "json_file_path = \"./data/Round3_2019_sorted_mentions.json\"\n",
    "\n",
    "# Load the JSON file\n",
    "with open(json_file_path, \"r\") as file:\n",
    "    R3_sorted_mentions = json.load(file)\n",
    "\n",
    "# SPLIT OVER THE QUARTILES\n",
    "\n",
    "n = len(R3_sorted_mentions)\n",
    "q1_idx = n // 4\n",
    "q2_idx = n // 2\n",
    "q3_idx = 3 * n // 4\n",
    "\n",
    "# Step 3: Split the list into quartiles\n",
    "q1 = R3_sorted_mentions[:q1_idx]\n",
    "q2 = R3_sorted_mentions[q1_idx:q2_idx]\n",
    "q3 = R3_sorted_mentions[q2_idx:q3_idx]\n",
    "q4 = R3_sorted_mentions[q3_idx:]\n",
    "\n",
    "\n",
    "sample_size = 1000 \n",
    "R3_sample_keys = []\n",
    "R3_sample_keys = R3_sample_keys + random.sample(q1, sample_size)\n",
    "R3_sample_keys = R3_sample_keys + random.sample(q2, sample_size)\n",
    "R3_sample_keys = R3_sample_keys + random.sample(q3, sample_size)\n",
    "R3_sample_keys = R3_sample_keys + random.sample(q4, sample_size)\n",
    "\n",
    "q_ids = {item[1]['name']: item[1]['id'] for item in R3_sample_keys}\n",
    "\n",
    "# find the mention in the table\n",
    "tables = \"./data/Dataset/Dataset/Round3_2019/tables/\"\n",
    "cta_file = './data/Dataset/Dataset/Round3_2019/gt/CTA_Round3_gt.csv'\n",
    "os.listdir(tables)\n",
    "\n",
    "\n",
    "# Apply the function and create the 'key' column\n",
    "cta_keys = {}\n",
    "df = pd.read_csv(cta_file, header=None)\n",
    "category_list = []\n",
    "\n",
    "for row_idx in range(df.shape[0]):\n",
    "    col_idx = 2\n",
    "    while True:\n",
    "        try:\n",
    "            if pd.isna(df.iloc[row_idx,col_idx]):\n",
    "                category_list.append(\"OTHERS\")\n",
    "                break\n",
    "            urls = df.iloc[row_idx,col_idx].split(' ')\n",
    "        except IndexError as e:\n",
    "            category_list.append(\"OTHERS\")\n",
    "            break\n",
    "        \n",
    "        #print(f\"{df.iloc[row_idx,0]}->{cell_urls} @ {row_idx},{col_idx}\")\n",
    "        find = False\n",
    "        for url in urls:\n",
    "            type = url.split('/')[-1]            \n",
    "            if type == \"Person\":\n",
    "                category_list.append(\"PERS\")\n",
    "                find = True\n",
    "                break\n",
    "            elif type == \"Location\":\n",
    "                category_list.append(\"LOC\")\n",
    "                find = True\n",
    "                break\n",
    "            elif type == \"Organisation\":\n",
    "                category_list.append(\"ORG\")\n",
    "                find = True\n",
    "                break\n",
    "        if find:\n",
    "            break\n",
    "        \n",
    "        col_idx += 1\n",
    "\n",
    "\n",
    "\n",
    "df[\"category\"] = category_list\n",
    "cta_keys = {}\n",
    "cta_keys[\"key\"] = (df[0] + \" \" + df[1].astype('str'), df[\"category\"])\n",
    "\n",
    "key_to_cell = {}\n",
    "for table in tqdm(os.listdir(tables)):\n",
    "    table_file = os.path.join(tables, table)\n",
    "    table_name = table.split(\".\")[0]\n",
    "    df = pd.read_csv(table_file)\n",
    "    for row in range(df.shape[0]):\n",
    "        for col in range(df.shape[1]):\n",
    "            key = f\"{table_name} {col}\"\n",
    "            if key in set(cta_keys[\"key\"][0].values):\n",
    "                tmp_index = cta_keys[\"key\"][0].values.tolist().index(key)\n",
    "                tmp_value = cta_keys[\"key\"][1].iloc[tmp_index]\n",
    "                key_to_cell[key] = tmp_value\n",
    "\n",
    "\n",
    "def get_keys_from_value(d, value):\n",
    "    keys = [key for key, val in d.items() if val == value]\n",
    "    return keys[0]\n",
    "\n",
    "cea_file = './data/Dataset/Dataset/Round3_2019/gt/CEA_Round3_gt_WD.csv'\n",
    "mentions = {}\n",
    "chunk_size = 1000\n",
    "column_names = [\"table_name\", \"row\", \"col\", \"url\"] \n",
    "\n",
    "total_rows = sum(1 for line in open(cea_file)) - 1  # Exclude header\n",
    "total_iterations = (total_rows + chunk_size - 1) // chunk_size  # Ceiling division to include last chunk\n",
    "\n",
    "for chunk_cea in tqdm(pd.read_csv(cea_file, chunksize=chunk_size), total=total_iterations):\n",
    "    chunk_cea.columns = column_names\n",
    "    for _, row in chunk_cea.iterrows():\n",
    "        key = f\"{row['table_name']} {row['col']}\"\n",
    "        if key in key_to_cell.keys() and row[\"url\"] in q_ids.values():\n",
    "            data = key_to_cell[key]\n",
    "            mentions[get_keys_from_value(q_ids, row[\"url\"])] = (row[\"url\"], data)\n",
    "\n",
    "print(\"Processing complete.\")\n",
    "\n",
    "\n"
   ]
  },
  {
   "cell_type": "code",
   "execution_count": 6,
   "id": "898a77b5-0b03-4619-b32f-16f5611121c2",
   "metadata": {},
   "outputs": [
    {
     "data": {
      "text/plain": [
       "3998"
      ]
     },
     "execution_count": 6,
     "metadata": {},
     "output_type": "execute_result"
    }
   ],
   "source": [
    "len(mentions)"
   ]
  },
  {
   "cell_type": "code",
   "execution_count": 9,
   "id": "72740a78-da92-449c-81c4-943f5ae8ed5e",
   "metadata": {},
   "outputs": [
    {
     "name": "stderr",
     "output_type": "stream",
     "text": [
      "Processing mentions:  12%|█▏        | 461/3998 [12:45<1:37:56,  1.66s/item]\n"
     ]
    },
    {
     "ename": "ConnectionError",
     "evalue": "HTTPSConnectionPool(host='www.wikidata.org', port=443): Max retries exceeded with url: /entity/Q2734717 (Caused by NewConnectionError('<urllib3.connection.HTTPSConnection object at 0x7fa027057d10>: Failed to establish a new connection: [Errno 101] Network is unreachable'))",
     "output_type": "error",
     "traceback": [
      "\u001b[0;31m---------------------------------------------------------------------------\u001b[0m",
      "\u001b[0;31mOSError\u001b[0m                                   Traceback (most recent call last)",
      "File \u001b[0;32m/opt/conda/lib/python3.11/site-packages/urllib3/connection.py:203\u001b[0m, in \u001b[0;36mHTTPConnection._new_conn\u001b[0;34m(self)\u001b[0m\n\u001b[1;32m    202\u001b[0m \u001b[38;5;28;01mtry\u001b[39;00m:\n\u001b[0;32m--> 203\u001b[0m     sock \u001b[38;5;241m=\u001b[39m \u001b[43mconnection\u001b[49m\u001b[38;5;241;43m.\u001b[39;49m\u001b[43mcreate_connection\u001b[49m\u001b[43m(\u001b[49m\n\u001b[1;32m    204\u001b[0m \u001b[43m        \u001b[49m\u001b[43m(\u001b[49m\u001b[38;5;28;43mself\u001b[39;49m\u001b[38;5;241;43m.\u001b[39;49m\u001b[43m_dns_host\u001b[49m\u001b[43m,\u001b[49m\u001b[43m \u001b[49m\u001b[38;5;28;43mself\u001b[39;49m\u001b[38;5;241;43m.\u001b[39;49m\u001b[43mport\u001b[49m\u001b[43m)\u001b[49m\u001b[43m,\u001b[49m\n\u001b[1;32m    205\u001b[0m \u001b[43m        \u001b[49m\u001b[38;5;28;43mself\u001b[39;49m\u001b[38;5;241;43m.\u001b[39;49m\u001b[43mtimeout\u001b[49m\u001b[43m,\u001b[49m\n\u001b[1;32m    206\u001b[0m \u001b[43m        \u001b[49m\u001b[43msource_address\u001b[49m\u001b[38;5;241;43m=\u001b[39;49m\u001b[38;5;28;43mself\u001b[39;49m\u001b[38;5;241;43m.\u001b[39;49m\u001b[43msource_address\u001b[49m\u001b[43m,\u001b[49m\n\u001b[1;32m    207\u001b[0m \u001b[43m        \u001b[49m\u001b[43msocket_options\u001b[49m\u001b[38;5;241;43m=\u001b[39;49m\u001b[38;5;28;43mself\u001b[39;49m\u001b[38;5;241;43m.\u001b[39;49m\u001b[43msocket_options\u001b[49m\u001b[43m,\u001b[49m\n\u001b[1;32m    208\u001b[0m \u001b[43m    \u001b[49m\u001b[43m)\u001b[49m\n\u001b[1;32m    209\u001b[0m \u001b[38;5;28;01mexcept\u001b[39;00m socket\u001b[38;5;241m.\u001b[39mgaierror \u001b[38;5;28;01mas\u001b[39;00m e:\n",
      "File \u001b[0;32m/opt/conda/lib/python3.11/site-packages/urllib3/util/connection.py:85\u001b[0m, in \u001b[0;36mcreate_connection\u001b[0;34m(address, timeout, source_address, socket_options)\u001b[0m\n\u001b[1;32m     84\u001b[0m \u001b[38;5;28;01mtry\u001b[39;00m:\n\u001b[0;32m---> 85\u001b[0m     \u001b[38;5;28;01mraise\u001b[39;00m err\n\u001b[1;32m     86\u001b[0m \u001b[38;5;28;01mfinally\u001b[39;00m:\n\u001b[1;32m     87\u001b[0m     \u001b[38;5;66;03m# Break explicitly a reference cycle\u001b[39;00m\n",
      "File \u001b[0;32m/opt/conda/lib/python3.11/site-packages/urllib3/util/connection.py:73\u001b[0m, in \u001b[0;36mcreate_connection\u001b[0;34m(address, timeout, source_address, socket_options)\u001b[0m\n\u001b[1;32m     72\u001b[0m     sock\u001b[38;5;241m.\u001b[39mbind(source_address)\n\u001b[0;32m---> 73\u001b[0m \u001b[43msock\u001b[49m\u001b[38;5;241;43m.\u001b[39;49m\u001b[43mconnect\u001b[49m\u001b[43m(\u001b[49m\u001b[43msa\u001b[49m\u001b[43m)\u001b[49m\n\u001b[1;32m     74\u001b[0m \u001b[38;5;66;03m# Break explicitly a reference cycle\u001b[39;00m\n",
      "\u001b[0;31mOSError\u001b[0m: [Errno 101] Network is unreachable",
      "\nThe above exception was the direct cause of the following exception:\n",
      "\u001b[0;31mNewConnectionError\u001b[0m                        Traceback (most recent call last)",
      "File \u001b[0;32m/opt/conda/lib/python3.11/site-packages/urllib3/connectionpool.py:791\u001b[0m, in \u001b[0;36mHTTPConnectionPool.urlopen\u001b[0;34m(self, method, url, body, headers, retries, redirect, assert_same_host, timeout, pool_timeout, release_conn, chunked, body_pos, preload_content, decode_content, **response_kw)\u001b[0m\n\u001b[1;32m    790\u001b[0m \u001b[38;5;66;03m# Make the request on the HTTPConnection object\u001b[39;00m\n\u001b[0;32m--> 791\u001b[0m response \u001b[38;5;241m=\u001b[39m \u001b[38;5;28;43mself\u001b[39;49m\u001b[38;5;241;43m.\u001b[39;49m\u001b[43m_make_request\u001b[49m\u001b[43m(\u001b[49m\n\u001b[1;32m    792\u001b[0m \u001b[43m    \u001b[49m\u001b[43mconn\u001b[49m\u001b[43m,\u001b[49m\n\u001b[1;32m    793\u001b[0m \u001b[43m    \u001b[49m\u001b[43mmethod\u001b[49m\u001b[43m,\u001b[49m\n\u001b[1;32m    794\u001b[0m \u001b[43m    \u001b[49m\u001b[43murl\u001b[49m\u001b[43m,\u001b[49m\n\u001b[1;32m    795\u001b[0m \u001b[43m    \u001b[49m\u001b[43mtimeout\u001b[49m\u001b[38;5;241;43m=\u001b[39;49m\u001b[43mtimeout_obj\u001b[49m\u001b[43m,\u001b[49m\n\u001b[1;32m    796\u001b[0m \u001b[43m    \u001b[49m\u001b[43mbody\u001b[49m\u001b[38;5;241;43m=\u001b[39;49m\u001b[43mbody\u001b[49m\u001b[43m,\u001b[49m\n\u001b[1;32m    797\u001b[0m \u001b[43m    \u001b[49m\u001b[43mheaders\u001b[49m\u001b[38;5;241;43m=\u001b[39;49m\u001b[43mheaders\u001b[49m\u001b[43m,\u001b[49m\n\u001b[1;32m    798\u001b[0m \u001b[43m    \u001b[49m\u001b[43mchunked\u001b[49m\u001b[38;5;241;43m=\u001b[39;49m\u001b[43mchunked\u001b[49m\u001b[43m,\u001b[49m\n\u001b[1;32m    799\u001b[0m \u001b[43m    \u001b[49m\u001b[43mretries\u001b[49m\u001b[38;5;241;43m=\u001b[39;49m\u001b[43mretries\u001b[49m\u001b[43m,\u001b[49m\n\u001b[1;32m    800\u001b[0m \u001b[43m    \u001b[49m\u001b[43mresponse_conn\u001b[49m\u001b[38;5;241;43m=\u001b[39;49m\u001b[43mresponse_conn\u001b[49m\u001b[43m,\u001b[49m\n\u001b[1;32m    801\u001b[0m \u001b[43m    \u001b[49m\u001b[43mpreload_content\u001b[49m\u001b[38;5;241;43m=\u001b[39;49m\u001b[43mpreload_content\u001b[49m\u001b[43m,\u001b[49m\n\u001b[1;32m    802\u001b[0m \u001b[43m    \u001b[49m\u001b[43mdecode_content\u001b[49m\u001b[38;5;241;43m=\u001b[39;49m\u001b[43mdecode_content\u001b[49m\u001b[43m,\u001b[49m\n\u001b[1;32m    803\u001b[0m \u001b[43m    \u001b[49m\u001b[38;5;241;43m*\u001b[39;49m\u001b[38;5;241;43m*\u001b[39;49m\u001b[43mresponse_kw\u001b[49m\u001b[43m,\u001b[49m\n\u001b[1;32m    804\u001b[0m \u001b[43m\u001b[49m\u001b[43m)\u001b[49m\n\u001b[1;32m    806\u001b[0m \u001b[38;5;66;03m# Everything went great!\u001b[39;00m\n",
      "File \u001b[0;32m/opt/conda/lib/python3.11/site-packages/urllib3/connectionpool.py:492\u001b[0m, in \u001b[0;36mHTTPConnectionPool._make_request\u001b[0;34m(self, conn, method, url, body, headers, retries, timeout, chunked, response_conn, preload_content, decode_content, enforce_content_length)\u001b[0m\n\u001b[1;32m    491\u001b[0m         new_e \u001b[38;5;241m=\u001b[39m _wrap_proxy_error(new_e, conn\u001b[38;5;241m.\u001b[39mproxy\u001b[38;5;241m.\u001b[39mscheme)\n\u001b[0;32m--> 492\u001b[0m     \u001b[38;5;28;01mraise\u001b[39;00m new_e\n\u001b[1;32m    494\u001b[0m \u001b[38;5;66;03m# conn.request() calls http.client.*.request, not the method in\u001b[39;00m\n\u001b[1;32m    495\u001b[0m \u001b[38;5;66;03m# urllib3.request. It also calls makefile (recv) on the socket.\u001b[39;00m\n",
      "File \u001b[0;32m/opt/conda/lib/python3.11/site-packages/urllib3/connectionpool.py:468\u001b[0m, in \u001b[0;36mHTTPConnectionPool._make_request\u001b[0;34m(self, conn, method, url, body, headers, retries, timeout, chunked, response_conn, preload_content, decode_content, enforce_content_length)\u001b[0m\n\u001b[1;32m    467\u001b[0m \u001b[38;5;28;01mtry\u001b[39;00m:\n\u001b[0;32m--> 468\u001b[0m     \u001b[38;5;28;43mself\u001b[39;49m\u001b[38;5;241;43m.\u001b[39;49m\u001b[43m_validate_conn\u001b[49m\u001b[43m(\u001b[49m\u001b[43mconn\u001b[49m\u001b[43m)\u001b[49m\n\u001b[1;32m    469\u001b[0m \u001b[38;5;28;01mexcept\u001b[39;00m (SocketTimeout, BaseSSLError) \u001b[38;5;28;01mas\u001b[39;00m e:\n",
      "File \u001b[0;32m/opt/conda/lib/python3.11/site-packages/urllib3/connectionpool.py:1097\u001b[0m, in \u001b[0;36mHTTPSConnectionPool._validate_conn\u001b[0;34m(self, conn)\u001b[0m\n\u001b[1;32m   1096\u001b[0m \u001b[38;5;28;01mif\u001b[39;00m conn\u001b[38;5;241m.\u001b[39mis_closed:\n\u001b[0;32m-> 1097\u001b[0m     \u001b[43mconn\u001b[49m\u001b[38;5;241;43m.\u001b[39;49m\u001b[43mconnect\u001b[49m\u001b[43m(\u001b[49m\u001b[43m)\u001b[49m\n\u001b[1;32m   1099\u001b[0m \u001b[38;5;28;01mif\u001b[39;00m \u001b[38;5;129;01mnot\u001b[39;00m conn\u001b[38;5;241m.\u001b[39mis_verified:\n",
      "File \u001b[0;32m/opt/conda/lib/python3.11/site-packages/urllib3/connection.py:611\u001b[0m, in \u001b[0;36mHTTPSConnection.connect\u001b[0;34m(self)\u001b[0m\n\u001b[1;32m    610\u001b[0m sock: socket\u001b[38;5;241m.\u001b[39msocket \u001b[38;5;241m|\u001b[39m ssl\u001b[38;5;241m.\u001b[39mSSLSocket\n\u001b[0;32m--> 611\u001b[0m \u001b[38;5;28mself\u001b[39m\u001b[38;5;241m.\u001b[39msock \u001b[38;5;241m=\u001b[39m sock \u001b[38;5;241m=\u001b[39m \u001b[38;5;28;43mself\u001b[39;49m\u001b[38;5;241;43m.\u001b[39;49m\u001b[43m_new_conn\u001b[49m\u001b[43m(\u001b[49m\u001b[43m)\u001b[49m\n\u001b[1;32m    612\u001b[0m server_hostname: \u001b[38;5;28mstr\u001b[39m \u001b[38;5;241m=\u001b[39m \u001b[38;5;28mself\u001b[39m\u001b[38;5;241m.\u001b[39mhost\n",
      "File \u001b[0;32m/opt/conda/lib/python3.11/site-packages/urllib3/connection.py:218\u001b[0m, in \u001b[0;36mHTTPConnection._new_conn\u001b[0;34m(self)\u001b[0m\n\u001b[1;32m    217\u001b[0m \u001b[38;5;28;01mexcept\u001b[39;00m \u001b[38;5;167;01mOSError\u001b[39;00m \u001b[38;5;28;01mas\u001b[39;00m e:\n\u001b[0;32m--> 218\u001b[0m     \u001b[38;5;28;01mraise\u001b[39;00m NewConnectionError(\n\u001b[1;32m    219\u001b[0m         \u001b[38;5;28mself\u001b[39m, \u001b[38;5;124mf\u001b[39m\u001b[38;5;124m\"\u001b[39m\u001b[38;5;124mFailed to establish a new connection: \u001b[39m\u001b[38;5;132;01m{\u001b[39;00me\u001b[38;5;132;01m}\u001b[39;00m\u001b[38;5;124m\"\u001b[39m\n\u001b[1;32m    220\u001b[0m     ) \u001b[38;5;28;01mfrom\u001b[39;00m \u001b[38;5;21;01me\u001b[39;00m\n\u001b[1;32m    222\u001b[0m \u001b[38;5;66;03m# Audit hooks are only available in Python 3.8+\u001b[39;00m\n",
      "\u001b[0;31mNewConnectionError\u001b[0m: <urllib3.connection.HTTPSConnection object at 0x7fa027057d10>: Failed to establish a new connection: [Errno 101] Network is unreachable",
      "\nThe above exception was the direct cause of the following exception:\n",
      "\u001b[0;31mMaxRetryError\u001b[0m                             Traceback (most recent call last)",
      "File \u001b[0;32m/opt/conda/lib/python3.11/site-packages/requests/adapters.py:486\u001b[0m, in \u001b[0;36mHTTPAdapter.send\u001b[0;34m(self, request, stream, timeout, verify, cert, proxies)\u001b[0m\n\u001b[1;32m    485\u001b[0m \u001b[38;5;28;01mtry\u001b[39;00m:\n\u001b[0;32m--> 486\u001b[0m     resp \u001b[38;5;241m=\u001b[39m \u001b[43mconn\u001b[49m\u001b[38;5;241;43m.\u001b[39;49m\u001b[43murlopen\u001b[49m\u001b[43m(\u001b[49m\n\u001b[1;32m    487\u001b[0m \u001b[43m        \u001b[49m\u001b[43mmethod\u001b[49m\u001b[38;5;241;43m=\u001b[39;49m\u001b[43mrequest\u001b[49m\u001b[38;5;241;43m.\u001b[39;49m\u001b[43mmethod\u001b[49m\u001b[43m,\u001b[49m\n\u001b[1;32m    488\u001b[0m \u001b[43m        \u001b[49m\u001b[43murl\u001b[49m\u001b[38;5;241;43m=\u001b[39;49m\u001b[43murl\u001b[49m\u001b[43m,\u001b[49m\n\u001b[1;32m    489\u001b[0m \u001b[43m        \u001b[49m\u001b[43mbody\u001b[49m\u001b[38;5;241;43m=\u001b[39;49m\u001b[43mrequest\u001b[49m\u001b[38;5;241;43m.\u001b[39;49m\u001b[43mbody\u001b[49m\u001b[43m,\u001b[49m\n\u001b[1;32m    490\u001b[0m \u001b[43m        \u001b[49m\u001b[43mheaders\u001b[49m\u001b[38;5;241;43m=\u001b[39;49m\u001b[43mrequest\u001b[49m\u001b[38;5;241;43m.\u001b[39;49m\u001b[43mheaders\u001b[49m\u001b[43m,\u001b[49m\n\u001b[1;32m    491\u001b[0m \u001b[43m        \u001b[49m\u001b[43mredirect\u001b[49m\u001b[38;5;241;43m=\u001b[39;49m\u001b[38;5;28;43;01mFalse\u001b[39;49;00m\u001b[43m,\u001b[49m\n\u001b[1;32m    492\u001b[0m \u001b[43m        \u001b[49m\u001b[43massert_same_host\u001b[49m\u001b[38;5;241;43m=\u001b[39;49m\u001b[38;5;28;43;01mFalse\u001b[39;49;00m\u001b[43m,\u001b[49m\n\u001b[1;32m    493\u001b[0m \u001b[43m        \u001b[49m\u001b[43mpreload_content\u001b[49m\u001b[38;5;241;43m=\u001b[39;49m\u001b[38;5;28;43;01mFalse\u001b[39;49;00m\u001b[43m,\u001b[49m\n\u001b[1;32m    494\u001b[0m \u001b[43m        \u001b[49m\u001b[43mdecode_content\u001b[49m\u001b[38;5;241;43m=\u001b[39;49m\u001b[38;5;28;43;01mFalse\u001b[39;49;00m\u001b[43m,\u001b[49m\n\u001b[1;32m    495\u001b[0m \u001b[43m        \u001b[49m\u001b[43mretries\u001b[49m\u001b[38;5;241;43m=\u001b[39;49m\u001b[38;5;28;43mself\u001b[39;49m\u001b[38;5;241;43m.\u001b[39;49m\u001b[43mmax_retries\u001b[49m\u001b[43m,\u001b[49m\n\u001b[1;32m    496\u001b[0m \u001b[43m        \u001b[49m\u001b[43mtimeout\u001b[49m\u001b[38;5;241;43m=\u001b[39;49m\u001b[43mtimeout\u001b[49m\u001b[43m,\u001b[49m\n\u001b[1;32m    497\u001b[0m \u001b[43m        \u001b[49m\u001b[43mchunked\u001b[49m\u001b[38;5;241;43m=\u001b[39;49m\u001b[43mchunked\u001b[49m\u001b[43m,\u001b[49m\n\u001b[1;32m    498\u001b[0m \u001b[43m    \u001b[49m\u001b[43m)\u001b[49m\n\u001b[1;32m    500\u001b[0m \u001b[38;5;28;01mexcept\u001b[39;00m (ProtocolError, \u001b[38;5;167;01mOSError\u001b[39;00m) \u001b[38;5;28;01mas\u001b[39;00m err:\n",
      "File \u001b[0;32m/opt/conda/lib/python3.11/site-packages/urllib3/connectionpool.py:845\u001b[0m, in \u001b[0;36mHTTPConnectionPool.urlopen\u001b[0;34m(self, method, url, body, headers, retries, redirect, assert_same_host, timeout, pool_timeout, release_conn, chunked, body_pos, preload_content, decode_content, **response_kw)\u001b[0m\n\u001b[1;32m    843\u001b[0m     new_e \u001b[38;5;241m=\u001b[39m ProtocolError(\u001b[38;5;124m\"\u001b[39m\u001b[38;5;124mConnection aborted.\u001b[39m\u001b[38;5;124m\"\u001b[39m, new_e)\n\u001b[0;32m--> 845\u001b[0m retries \u001b[38;5;241m=\u001b[39m \u001b[43mretries\u001b[49m\u001b[38;5;241;43m.\u001b[39;49m\u001b[43mincrement\u001b[49m\u001b[43m(\u001b[49m\n\u001b[1;32m    846\u001b[0m \u001b[43m    \u001b[49m\u001b[43mmethod\u001b[49m\u001b[43m,\u001b[49m\u001b[43m \u001b[49m\u001b[43murl\u001b[49m\u001b[43m,\u001b[49m\u001b[43m \u001b[49m\u001b[43merror\u001b[49m\u001b[38;5;241;43m=\u001b[39;49m\u001b[43mnew_e\u001b[49m\u001b[43m,\u001b[49m\u001b[43m \u001b[49m\u001b[43m_pool\u001b[49m\u001b[38;5;241;43m=\u001b[39;49m\u001b[38;5;28;43mself\u001b[39;49m\u001b[43m,\u001b[49m\u001b[43m \u001b[49m\u001b[43m_stacktrace\u001b[49m\u001b[38;5;241;43m=\u001b[39;49m\u001b[43msys\u001b[49m\u001b[38;5;241;43m.\u001b[39;49m\u001b[43mexc_info\u001b[49m\u001b[43m(\u001b[49m\u001b[43m)\u001b[49m\u001b[43m[\u001b[49m\u001b[38;5;241;43m2\u001b[39;49m\u001b[43m]\u001b[49m\n\u001b[1;32m    847\u001b[0m \u001b[43m\u001b[49m\u001b[43m)\u001b[49m\n\u001b[1;32m    848\u001b[0m retries\u001b[38;5;241m.\u001b[39msleep()\n",
      "File \u001b[0;32m/opt/conda/lib/python3.11/site-packages/urllib3/util/retry.py:515\u001b[0m, in \u001b[0;36mRetry.increment\u001b[0;34m(self, method, url, response, error, _pool, _stacktrace)\u001b[0m\n\u001b[1;32m    514\u001b[0m     reason \u001b[38;5;241m=\u001b[39m error \u001b[38;5;129;01mor\u001b[39;00m ResponseError(cause)\n\u001b[0;32m--> 515\u001b[0m     \u001b[38;5;28;01mraise\u001b[39;00m MaxRetryError(_pool, url, reason) \u001b[38;5;28;01mfrom\u001b[39;00m \u001b[38;5;21;01mreason\u001b[39;00m  \u001b[38;5;66;03m# type: ignore[arg-type]\u001b[39;00m\n\u001b[1;32m    517\u001b[0m log\u001b[38;5;241m.\u001b[39mdebug(\u001b[38;5;124m\"\u001b[39m\u001b[38;5;124mIncremented Retry for (url=\u001b[39m\u001b[38;5;124m'\u001b[39m\u001b[38;5;132;01m%s\u001b[39;00m\u001b[38;5;124m'\u001b[39m\u001b[38;5;124m): \u001b[39m\u001b[38;5;132;01m%r\u001b[39;00m\u001b[38;5;124m\"\u001b[39m, url, new_retry)\n",
      "\u001b[0;31mMaxRetryError\u001b[0m: HTTPSConnectionPool(host='www.wikidata.org', port=443): Max retries exceeded with url: /entity/Q2734717 (Caused by NewConnectionError('<urllib3.connection.HTTPSConnection object at 0x7fa027057d10>: Failed to establish a new connection: [Errno 101] Network is unreachable'))",
      "\nDuring handling of the above exception, another exception occurred:\n",
      "\u001b[0;31mConnectionError\u001b[0m                           Traceback (most recent call last)",
      "Cell \u001b[0;32mIn[9], line 26\u001b[0m\n\u001b[1;32m     21\u001b[0m data \u001b[38;5;241m=\u001b[39m {\n\u001b[1;32m     22\u001b[0m     \u001b[38;5;124m'\u001b[39m\u001b[38;5;124mjson\u001b[39m\u001b[38;5;124m'\u001b[39m: [match[\u001b[38;5;241m0\u001b[39m]]\n\u001b[1;32m     23\u001b[0m }\n\u001b[1;32m     25\u001b[0m json_data \u001b[38;5;241m=\u001b[39m json\u001b[38;5;241m.\u001b[39mdumps(data)\n\u001b[0;32m---> 26\u001b[0m response \u001b[38;5;241m=\u001b[39m \u001b[43mrequests\u001b[49m\u001b[38;5;241;43m.\u001b[39;49m\u001b[43mpost\u001b[49m\u001b[43m(\u001b[49m\u001b[43murl\u001b[49m\u001b[43m,\u001b[49m\u001b[43m \u001b[49m\u001b[43mheaders\u001b[49m\u001b[38;5;241;43m=\u001b[39;49m\u001b[43mheaders\u001b[49m\u001b[43m,\u001b[49m\u001b[43m \u001b[49m\u001b[43mdata\u001b[49m\u001b[38;5;241;43m=\u001b[39;49m\u001b[43mjson_data\u001b[49m\u001b[43m)\u001b[49m\n\u001b[1;32m     28\u001b[0m \u001b[38;5;28;01mtry\u001b[39;00m:\n\u001b[1;32m     29\u001b[0m     desc \u001b[38;5;241m=\u001b[39m response\u001b[38;5;241m.\u001b[39mjson()[\u001b[38;5;124m'\u001b[39m\u001b[38;5;124mentities\u001b[39m\u001b[38;5;124m'\u001b[39m][match[\u001b[38;5;241m0\u001b[39m]][\u001b[38;5;124m'\u001b[39m\u001b[38;5;124mdescriptions\u001b[39m\u001b[38;5;124m'\u001b[39m][\u001b[38;5;124m'\u001b[39m\u001b[38;5;124men\u001b[39m\u001b[38;5;124m'\u001b[39m][\u001b[38;5;124m'\u001b[39m\u001b[38;5;124mvalue\u001b[39m\u001b[38;5;124m'\u001b[39m]\n",
      "File \u001b[0;32m/opt/conda/lib/python3.11/site-packages/requests/api.py:115\u001b[0m, in \u001b[0;36mpost\u001b[0;34m(url, data, json, **kwargs)\u001b[0m\n\u001b[1;32m    103\u001b[0m \u001b[38;5;28;01mdef\u001b[39;00m \u001b[38;5;21mpost\u001b[39m(url, data\u001b[38;5;241m=\u001b[39m\u001b[38;5;28;01mNone\u001b[39;00m, json\u001b[38;5;241m=\u001b[39m\u001b[38;5;28;01mNone\u001b[39;00m, \u001b[38;5;241m*\u001b[39m\u001b[38;5;241m*\u001b[39mkwargs):\n\u001b[1;32m    104\u001b[0m \u001b[38;5;250m    \u001b[39m\u001b[38;5;124mr\u001b[39m\u001b[38;5;124;03m\"\"\"Sends a POST request.\u001b[39;00m\n\u001b[1;32m    105\u001b[0m \n\u001b[1;32m    106\u001b[0m \u001b[38;5;124;03m    :param url: URL for the new :class:`Request` object.\u001b[39;00m\n\u001b[0;32m   (...)\u001b[0m\n\u001b[1;32m    112\u001b[0m \u001b[38;5;124;03m    :rtype: requests.Response\u001b[39;00m\n\u001b[1;32m    113\u001b[0m \u001b[38;5;124;03m    \"\"\"\u001b[39;00m\n\u001b[0;32m--> 115\u001b[0m     \u001b[38;5;28;01mreturn\u001b[39;00m \u001b[43mrequest\u001b[49m\u001b[43m(\u001b[49m\u001b[38;5;124;43m\"\u001b[39;49m\u001b[38;5;124;43mpost\u001b[39;49m\u001b[38;5;124;43m\"\u001b[39;49m\u001b[43m,\u001b[49m\u001b[43m \u001b[49m\u001b[43murl\u001b[49m\u001b[43m,\u001b[49m\u001b[43m \u001b[49m\u001b[43mdata\u001b[49m\u001b[38;5;241;43m=\u001b[39;49m\u001b[43mdata\u001b[49m\u001b[43m,\u001b[49m\u001b[43m \u001b[49m\u001b[43mjson\u001b[49m\u001b[38;5;241;43m=\u001b[39;49m\u001b[43mjson\u001b[49m\u001b[43m,\u001b[49m\u001b[43m \u001b[49m\u001b[38;5;241;43m*\u001b[39;49m\u001b[38;5;241;43m*\u001b[39;49m\u001b[43mkwargs\u001b[49m\u001b[43m)\u001b[49m\n",
      "File \u001b[0;32m/opt/conda/lib/python3.11/site-packages/requests/api.py:59\u001b[0m, in \u001b[0;36mrequest\u001b[0;34m(method, url, **kwargs)\u001b[0m\n\u001b[1;32m     55\u001b[0m \u001b[38;5;66;03m# By using the 'with' statement we are sure the session is closed, thus we\u001b[39;00m\n\u001b[1;32m     56\u001b[0m \u001b[38;5;66;03m# avoid leaving sockets open which can trigger a ResourceWarning in some\u001b[39;00m\n\u001b[1;32m     57\u001b[0m \u001b[38;5;66;03m# cases, and look like a memory leak in others.\u001b[39;00m\n\u001b[1;32m     58\u001b[0m \u001b[38;5;28;01mwith\u001b[39;00m sessions\u001b[38;5;241m.\u001b[39mSession() \u001b[38;5;28;01mas\u001b[39;00m session:\n\u001b[0;32m---> 59\u001b[0m     \u001b[38;5;28;01mreturn\u001b[39;00m \u001b[43msession\u001b[49m\u001b[38;5;241;43m.\u001b[39;49m\u001b[43mrequest\u001b[49m\u001b[43m(\u001b[49m\u001b[43mmethod\u001b[49m\u001b[38;5;241;43m=\u001b[39;49m\u001b[43mmethod\u001b[49m\u001b[43m,\u001b[49m\u001b[43m \u001b[49m\u001b[43murl\u001b[49m\u001b[38;5;241;43m=\u001b[39;49m\u001b[43murl\u001b[49m\u001b[43m,\u001b[49m\u001b[43m \u001b[49m\u001b[38;5;241;43m*\u001b[39;49m\u001b[38;5;241;43m*\u001b[39;49m\u001b[43mkwargs\u001b[49m\u001b[43m)\u001b[49m\n",
      "File \u001b[0;32m/opt/conda/lib/python3.11/site-packages/requests/sessions.py:589\u001b[0m, in \u001b[0;36mSession.request\u001b[0;34m(self, method, url, params, data, headers, cookies, files, auth, timeout, allow_redirects, proxies, hooks, stream, verify, cert, json)\u001b[0m\n\u001b[1;32m    584\u001b[0m send_kwargs \u001b[38;5;241m=\u001b[39m {\n\u001b[1;32m    585\u001b[0m     \u001b[38;5;124m\"\u001b[39m\u001b[38;5;124mtimeout\u001b[39m\u001b[38;5;124m\"\u001b[39m: timeout,\n\u001b[1;32m    586\u001b[0m     \u001b[38;5;124m\"\u001b[39m\u001b[38;5;124mallow_redirects\u001b[39m\u001b[38;5;124m\"\u001b[39m: allow_redirects,\n\u001b[1;32m    587\u001b[0m }\n\u001b[1;32m    588\u001b[0m send_kwargs\u001b[38;5;241m.\u001b[39mupdate(settings)\n\u001b[0;32m--> 589\u001b[0m resp \u001b[38;5;241m=\u001b[39m \u001b[38;5;28;43mself\u001b[39;49m\u001b[38;5;241;43m.\u001b[39;49m\u001b[43msend\u001b[49m\u001b[43m(\u001b[49m\u001b[43mprep\u001b[49m\u001b[43m,\u001b[49m\u001b[43m \u001b[49m\u001b[38;5;241;43m*\u001b[39;49m\u001b[38;5;241;43m*\u001b[39;49m\u001b[43msend_kwargs\u001b[49m\u001b[43m)\u001b[49m\n\u001b[1;32m    591\u001b[0m \u001b[38;5;28;01mreturn\u001b[39;00m resp\n",
      "File \u001b[0;32m/opt/conda/lib/python3.11/site-packages/requests/sessions.py:703\u001b[0m, in \u001b[0;36mSession.send\u001b[0;34m(self, request, **kwargs)\u001b[0m\n\u001b[1;32m    700\u001b[0m start \u001b[38;5;241m=\u001b[39m preferred_clock()\n\u001b[1;32m    702\u001b[0m \u001b[38;5;66;03m# Send the request\u001b[39;00m\n\u001b[0;32m--> 703\u001b[0m r \u001b[38;5;241m=\u001b[39m \u001b[43madapter\u001b[49m\u001b[38;5;241;43m.\u001b[39;49m\u001b[43msend\u001b[49m\u001b[43m(\u001b[49m\u001b[43mrequest\u001b[49m\u001b[43m,\u001b[49m\u001b[43m \u001b[49m\u001b[38;5;241;43m*\u001b[39;49m\u001b[38;5;241;43m*\u001b[39;49m\u001b[43mkwargs\u001b[49m\u001b[43m)\u001b[49m\n\u001b[1;32m    705\u001b[0m \u001b[38;5;66;03m# Total elapsed time of the request (approximately)\u001b[39;00m\n\u001b[1;32m    706\u001b[0m elapsed \u001b[38;5;241m=\u001b[39m preferred_clock() \u001b[38;5;241m-\u001b[39m start\n",
      "File \u001b[0;32m/opt/conda/lib/python3.11/site-packages/requests/adapters.py:519\u001b[0m, in \u001b[0;36mHTTPAdapter.send\u001b[0;34m(self, request, stream, timeout, verify, cert, proxies)\u001b[0m\n\u001b[1;32m    515\u001b[0m     \u001b[38;5;28;01mif\u001b[39;00m \u001b[38;5;28misinstance\u001b[39m(e\u001b[38;5;241m.\u001b[39mreason, _SSLError):\n\u001b[1;32m    516\u001b[0m         \u001b[38;5;66;03m# This branch is for urllib3 v1.22 and later.\u001b[39;00m\n\u001b[1;32m    517\u001b[0m         \u001b[38;5;28;01mraise\u001b[39;00m SSLError(e, request\u001b[38;5;241m=\u001b[39mrequest)\n\u001b[0;32m--> 519\u001b[0m     \u001b[38;5;28;01mraise\u001b[39;00m \u001b[38;5;167;01mConnectionError\u001b[39;00m(e, request\u001b[38;5;241m=\u001b[39mrequest)\n\u001b[1;32m    521\u001b[0m \u001b[38;5;28;01mexcept\u001b[39;00m ClosedPoolError \u001b[38;5;28;01mas\u001b[39;00m e:\n\u001b[1;32m    522\u001b[0m     \u001b[38;5;28;01mraise\u001b[39;00m \u001b[38;5;167;01mConnectionError\u001b[39;00m(e, request\u001b[38;5;241m=\u001b[39mrequest)\n",
      "\u001b[0;31mConnectionError\u001b[0m: HTTPSConnectionPool(host='www.wikidata.org', port=443): Max retries exceeded with url: /entity/Q2734717 (Caused by NewConnectionError('<urllib3.connection.HTTPSConnection object at 0x7fa027057d10>: Failed to establish a new connection: [Errno 101] Network is unreachable'))"
     ]
    }
   ],
   "source": [
    "import pandas as pd\n",
    "from collections import Counter\n",
    "\n",
    "rows = []\n",
    "\n",
    "url = 'https://lamapi.hel.sintef.cloud/entity/labels?token=lamapi_demo_2023'\n",
    "\n",
    "# Define the headers\n",
    "headers = {\n",
    "    'accept': 'application/json',\n",
    "    'Content-Type': 'application/json'\n",
    "}\n",
    "\n",
    "# Iterate over mentions items and collect rows\n",
    "for text, (url, label) in tqdm(mentions.items(), desc='Processing mentions', unit='item'):\n",
    "    match = re.search(r'Q(\\d+)$', url)\n",
    "    \n",
    "    if not match:\n",
    "        continue\n",
    "    \n",
    "    data = {\n",
    "        'json': [match[0]]\n",
    "    }\n",
    "\n",
    "    json_data = json.dumps(data)\n",
    "    response = requests.post(url, headers=headers, data=json_data)\n",
    "    \n",
    "    try:\n",
    "        desc = response.json()['entities'][match[0]]['descriptions']['en']['value']\n",
    "        new_row = {'text': text, 'label': label, 'desc': desc}\n",
    "        rows.append(new_row)\n",
    "    except:\n",
    "        pass\n",
    "\n",
    "# Create DataFrame from the list of rows\n",
    "df = pd.DataFrame(rows)\n",
    "category_counts = Counter(df['label'])\n",
    "\n",
    "# Display the counts for each category\n",
    "for category, count in category_counts.items():\n",
    "    print(f'{category}: {count}')\n",
    "    \n",
    "df.to_csv('./data/embedding_training_data/Round3_train.csv', index=False)\n"
   ]
  },
  {
   "cell_type": "code",
   "execution_count": null,
   "id": "2c120554",
   "metadata": {},
   "outputs": [],
   "source": [
    "### in case you want HT2\n",
    "\n",
    "tables_path = \"C:/ALESSANDRO/Università/MAGISTRALE/SINTEF_thesis/lamAPI/data/Dataset/Dataset/HardTablesR2/tables/\"\n",
    "cea_file = 'C:/ALESSANDRO/Università/MAGISTRALE/SINTEF_thesis/lamAPI/data/Dataset/Dataset/HardTablesR2/gt/cea.csv'\n",
    "os.listdir(tables_path)\n",
    "# Initialize logging\n",
    "#logging.basicConfig(level=logging.INFO, format='%(asctime)s - %(levelname)s - %(message)s')\n",
    "\n",
    "# Read the cea_file and create a key-value dictionary\n",
    "df = pd.read_csv(cea_file, header=None)\n",
    "df[\"key\"] = df[0] + \" \" + df[1].astype(str) + \" \" + df[2].astype(str)\n",
    "cea_values_dict = dict(zip(df[\"key\"].values, df[3].values))\n",
    "cea_keys_set = set(df[\"key\"].values)\n",
    "\n",
    "# Function to process a single table file\n",
    "def process_table_file(table_file):\n",
    "    try:\n",
    "        table_name = os.path.splitext(os.path.basename(table_file))[0]\n",
    "        df = pd.read_csv(table_file)\n",
    "        local_key_to_cell = {}\n",
    "        \n",
    "        for row in range(df.shape[0]):\n",
    "            for col in range(df.shape[1]):\n",
    "                key = f\"{table_name} {row+1} {col}\"\n",
    "                if key in cea_keys_set:\n",
    "                    cell_value = df.iloc[row, col]\n",
    "                    local_key_to_cell[key] = (cell_value, cea_values_dict[key])\n",
    "                    break  # Exit inner loop early as only one match per row/col is needed\n",
    "        \n",
    "        return local_key_to_cell\n",
    "    except Exception as e:\n",
    "        logging.error(f\"Error processing {table_file}: {e}\")\n",
    "        return {}\n",
    "\n",
    "pattern = r'^\\.'\n",
    "\n",
    "# Create a list of file paths, excluding files that start with a dot\n",
    "table_files = [os.path.join(tables_path, table) for table in os.listdir(tables_path) if not re.match(pattern, table)]\n",
    "\n",
    "# Process tables sequentially\n",
    "key_to_cell = {}\n",
    "for table_file in tqdm(table_files, desc=\"Processing tables\"):\n",
    "    local_key_to_cell = process_table_file(table_file)\n",
    "    key_to_cell.update(local_key_to_cell)\n",
    "\n",
    "\n",
    "\n",
    "with open('C:/ALESSANDRO/Università/MAGISTRALE/SINTEF_thesis/lamAPI/work/HT2_ner_type.json', 'r') as f:\n",
    "    ner_type = json.load(f)"
   ]
  },
  {
   "cell_type": "code",
   "execution_count": 70,
   "id": "a05142dd",
   "metadata": {},
   "outputs": [],
   "source": [
    "### in case you want R4\n",
    "\n",
    "with open('C:/ALESSANDRO/Università/MAGISTRALE/SINTEF_thesis/lamAPI/work/data/R4_ner_type_new.json', 'r') as f:\n",
    "    ner_type = json.load(f)\n",
    "\n",
    "with open('C:/ALESSANDRO/Università/MAGISTRALE/SINTEF_thesis/lamAPI/work/R4_key_to_cell.json', 'r') as f:\n",
    "    key_to_cell = json.load(f)"
   ]
  },
  {
   "cell_type": "code",
   "execution_count": 61,
   "id": "69009798",
   "metadata": {},
   "outputs": [],
   "source": [
    "sample_size = 4000\n",
    "key_to_cell_sample = dict(random.sample(list(key_to_cell.items()), sample_size))"
   ]
  },
  {
   "cell_type": "code",
   "execution_count": 69,
   "id": "f05c4ced",
   "metadata": {},
   "outputs": [
    {
     "data": {
      "text/plain": [
       "{'004JP0KZ 0': 'OTHERS',\n",
       " '0051358G 0': 'OTHERS',\n",
       " '007O51ZZ 0': 'None',\n",
       " '00E5422W 0': 'OTHERS',\n",
       " '00E5422W 1': 'OTHERS',\n",
       " '00E5422W 2': 'PERS',\n",
       " '00E5422W 3': 'None',\n",
       " '00ECUL14 0': 'OTHERS',\n",
       " '00GX3RE0 0': 'OTHERS',\n",
       " '00KVC61H 0': 'OTHERS',\n",
       " '00P63AAJ 0': 'None',\n",
       " '00P63AAJ 1': 'OTHERS',\n",
       " '00P63AAJ 4': 'PERS',\n",
       " '00TWHQA3 0': 'None',\n",
       " '00UQHNO3 0': 'OTHERS',\n",
       " '00YF468U 0': 'None',\n",
       " '0172127I 0': 'OTHERS',\n",
       " '01ANSETB 0': 'None',\n",
       " '01ANSETB 1': 'None',\n",
       " '01CYBJ7I 0': 'None',\n",
       " '01DQQLCP 0': 'OTHERS',\n",
       " '01DQQLCP 4': 'OTHERS',\n",
       " '01E31BCQ 0': 'None',\n",
       " '01EUFAWG 0': 'None',\n",
       " '01GQNYIT 0': 'None',\n",
       " '01IMPH1S 0': 'None',\n",
       " '01LAC0PK 0': 'OTHERS',\n",
       " '01LHSIJE 0': 'None',\n",
       " '01MBA5Y8 0': 'OTHERS',\n",
       " '01Q0EMNA 0': 'OTHERS',\n",
       " '01Q0EMNA 1': 'OTHERS',\n",
       " '01RLDR8E 0': 'None',\n",
       " '01SZ0JR8 0': 'OTHERS',\n",
       " '01U1PQIC 0': 'None',\n",
       " '01VFNPOS 0': 'OTHERS',\n",
       " '01VFNPOS 4': 'None',\n",
       " '01WL7IBA 0': 'None',\n",
       " '01WRLMW1 0': 'OTHERS',\n",
       " '01WRLMW1 2': 'None',\n",
       " '01ZJDM98 0': 'None',\n",
       " '01ZJDM98 3': 'None',\n",
       " '01ZJH3QE 0': 'None',\n",
       " '01ZJH3QE 2': 'None',\n",
       " '024LIOR3 0': 'None',\n",
       " '028QQCUY 0': 'OTHERS',\n",
       " '028QQCUY 2': 'None',\n",
       " '028WU3AI 0': 'None',\n",
       " '02ETHARY 0': 'None',\n",
       " '02JH4ZA3 0': 'OTHERS',\n",
       " '02K7HSLI 0': 'OTHERS',\n",
       " '02PVSLGM 0': 'OTHERS',\n",
       " '02UB4AKG 0': 'LOC',\n",
       " '02UR28RM 0': 'OTHERS',\n",
       " '02UR28RM 2': 'OTHERS',\n",
       " '02Y87OZW 0': 'None',\n",
       " '02YQAF33 0': 'None',\n",
       " '02YQAF33 2': 'None',\n",
       " '0338LZJ3 0': 'OTHERS',\n",
       " '036N38OE 0': 'OTHERS',\n",
       " '038PHBWK 0': 'OTHERS',\n",
       " '03CIRSMN 0': 'None',\n",
       " '03G17LQ1 0': None,\n",
       " '03NQ2WBB 0': 'None',\n",
       " '03Q5JG9I 0': 'OTHERS',\n",
       " '03RW1N6J 0': 'OTHERS',\n",
       " '03X8VNVL 0': 'OTHERS',\n",
       " '03XJOJ15 0': 'OTHERS',\n",
       " '03XJOJ15 1': 'ORG',\n",
       " '03Y8HLZM 0': 'OTHERS',\n",
       " '03YSY5D1 0': 'None',\n",
       " '03YSY5D1 2': 'None',\n",
       " '042AKDN1 0': 'None',\n",
       " '043YX1G8 0': 'None',\n",
       " '047K13GT 0': 'None',\n",
       " '047WX3HH 0': 'OTHERS',\n",
       " '048MPL7A 0': 'None',\n",
       " '048QURXN 0': 'OTHERS',\n",
       " '048QURXN 1': 'None',\n",
       " '048QURXN 2': 'PERS',\n",
       " '04A3K0PO 0': 'None',\n",
       " '04A3K0PO 1': 'PERS',\n",
       " '04DKEH06 0': 'OTHERS',\n",
       " '04G8BK0E 0': 'None',\n",
       " '04M2ZW6P 0': 'None',\n",
       " '04M2ZW6P 1': 'OTHERS',\n",
       " '04M2ZW6P 2': 'OTHERS',\n",
       " '04NEI1BM 0': 'LOC',\n",
       " '04OP4XNE 0': 'None',\n",
       " '04OP4XNE 2': 'None',\n",
       " '04POZEW8 0': 'LOC',\n",
       " '04TCCITO 0': 'OTHERS',\n",
       " '04TG3L77 0': 'None',\n",
       " '04YJW7FR 0': 'None',\n",
       " '04ZG21S4 0': 'OTHERS',\n",
       " '04ZNMNR4 0': 'None',\n",
       " '052B2XXG 0': 'None',\n",
       " '053D1XQG 0': 'OTHERS',\n",
       " '05579JJK 0': 'None',\n",
       " '055JW7V6 0': 'None',\n",
       " '055W1MOL 0': 'OTHERS',\n",
       " '055W1MOL 1': 'None',\n",
       " '055W1MOL 2': 'None',\n",
       " '05787LO9 0': 'None',\n",
       " '05787LO9 1': 'OTHERS',\n",
       " '05CRYAU3 0': 'OTHERS',\n",
       " '05DDA00M 0': 'LOC',\n",
       " '05FNVAQ9 0': 'OTHERS',\n",
       " '05FNVAQ9 1': 'None',\n",
       " '05GNATNA 0': 'None',\n",
       " '05GNATNA 1': 'None',\n",
       " '05M8N365 0': 'None',\n",
       " '05Q45FZU 0': 'OTHERS',\n",
       " '05Q45FZU 2': 'PERS',\n",
       " '05Q45FZU 3': 'PERS',\n",
       " '05Q45FZU 5': 'OTHERS',\n",
       " '05Q45FZU 6': 'OTHERS',\n",
       " '05Y8DW2L 0': 'None',\n",
       " '05Y9AWQN 0': 'OTHERS',\n",
       " '05ZV41BU 0': 'OTHERS',\n",
       " '05ZV41BU 2': 'None',\n",
       " '062JJ52T 0': 'None',\n",
       " '062JJ52T 1': 'OTHERS',\n",
       " '062JJ52T 2': 'None',\n",
       " '06593OQD 0': 'OTHERS',\n",
       " '06593OQD 1': 'None',\n",
       " '067JOREY 0': 'None',\n",
       " '0691NY9Q 0': 'OTHERS',\n",
       " '0691NY9Q 1': 'OTHERS',\n",
       " '0691NY9Q 2': 'None',\n",
       " '06BZ6E4W 0': 'OTHERS',\n",
       " '06E8WRYV 0': 'None',\n",
       " '06E8WRYV 1': 'PERS',\n",
       " '06E8WRYV 3': 'OTHERS',\n",
       " '06E8WRYV 4': 'PERS',\n",
       " '06HC0ATU 0': 'OTHERS',\n",
       " '06HC0ATU 2': 'None',\n",
       " '06KVQIQL 0': 'None',\n",
       " '06LMDSET 0': 'OTHERS',\n",
       " '06LMDSET 1': 'OTHERS',\n",
       " '06MG4HCW 0': 'OTHERS',\n",
       " '06MG4HCW 1': 'OTHERS',\n",
       " '06MG4HCW 2': 'None',\n",
       " '06MG4HCW 3': 'OTHERS',\n",
       " '06Q0TC4K 0': 'None',\n",
       " '06REVIH9 0': 'None',\n",
       " '06REVIH9 1': 'None',\n",
       " '06UFHM3B 0': 'None',\n",
       " '06UFHM3B 2': 'None',\n",
       " '06YFPJN8 0': 'None',\n",
       " '06ZS1QBE 0': 'OTHERS',\n",
       " '072LEIOU 0': 'None',\n",
       " '0763YT75 0': 'OTHERS',\n",
       " '07EC6353 0': 'None',\n",
       " '07FOR7FP 0': 'OTHERS',\n",
       " '07M178B2 0': 'None',\n",
       " '07M178B2 1': 'None',\n",
       " '07UGJ1TS 0': 'OTHERS',\n",
       " '07UGJ1TS 2': 'OTHERS',\n",
       " '07UGJ1TS 3': 'None',\n",
       " '07VI37L8 0': 'None',\n",
       " '07VV6NI0 0': None,\n",
       " '07YTOLUI 0': 'None',\n",
       " '07ZDYXBW 0': 'None',\n",
       " '080HU8A5 0': 'OTHERS',\n",
       " '080T1Q4J 0': 'None',\n",
       " '085QNFGZ 0': 'OTHERS',\n",
       " '088HGBFT 0': 'OTHERS',\n",
       " '088HLK5Y 0': 'None',\n",
       " '0893Z3MG 0': 'None',\n",
       " '0893Z3MG 2': 'PERS',\n",
       " '08ANTBYR 0': 'None',\n",
       " '08AUAYXJ 0': 'None',\n",
       " '08C31CFV 0': 'None',\n",
       " '08JKJLBH 0': 'None',\n",
       " '08OU1L4A 0': 'None',\n",
       " '08P5CZ45 0': 'None',\n",
       " '08QLRFYZ 0': 'None',\n",
       " '08QLRFYZ 1': 'None',\n",
       " '08XTIUJQ 0': 'None',\n",
       " '08YMVLSO 0': 'OTHERS',\n",
       " '08YTF2EA 0': 'OTHERS',\n",
       " '08ZRSU78 0': 'None',\n",
       " '090EELY2 0': 'None',\n",
       " '090EELY2 1': 'None',\n",
       " '090UICO5 0': 'None',\n",
       " '093BPOP2 0': 'OTHERS',\n",
       " '093BPOP2 3': 'OTHERS',\n",
       " '093WNWVK 0': 'None',\n",
       " '094KJUCZ 0': 'None',\n",
       " '094KJUCZ 1': 'None',\n",
       " '096SIBNV 0': 'OTHERS',\n",
       " '096SIBNV 2': 'PERS',\n",
       " '098SSUTB 0': 'OTHERS',\n",
       " '099M4771 0': 'None',\n",
       " '099M4771 2': 'None',\n",
       " '09A182ES 0': 'OTHERS',\n",
       " '09A182ES 1': 'OTHERS',\n",
       " '09A182ES 2': 'OTHERS',\n",
       " '09DZVIPV 0': 'None',\n",
       " '09G92DT9 0': 'OTHERS',\n",
       " '09JVS7NH 0': 'None',\n",
       " '09JYR2PD 0': 'OTHERS',\n",
       " '09L2Q3RN 0': 'None',\n",
       " '09L2Q3RN 1': 'None',\n",
       " '09MU0K5J 0': 'None',\n",
       " '09NARXLH 0': 'None',\n",
       " '09W795K6 0': 'OTHERS',\n",
       " '09W795K6 2': 'None',\n",
       " '09X2T1QL 0': 'None',\n",
       " '09Z268Z7 0': 'None',\n",
       " '0A0XLN1G 0': 'OTHERS',\n",
       " '0A1DUOG1 0': 'None',\n",
       " '0A1DUOG1 2': 'None',\n",
       " '0A4KYJH5 0': 'None',\n",
       " '0A6HP3I9 0': 'OTHERS',\n",
       " '0ABBTZ6K 0': 'LOC',\n",
       " '0ADP8WGU 0': 'OTHERS',\n",
       " '0ALMFI80 0': 'None',\n",
       " '0AMZPSVL 0': 'None',\n",
       " '0AN6JDE3 0': 'None',\n",
       " '0AQOU1Z2 0': 'None',\n",
       " '0AT60NZL 0': 'None',\n",
       " '0ATZFD0F 0': 'OTHERS',\n",
       " '0AY8RN4F 0': 'None',\n",
       " '0AYJCN8S 0': 'OTHERS',\n",
       " '0AYJCN8S 1': 'OTHERS',\n",
       " '0AYJCN8S 2': 'OTHERS',\n",
       " '0AYJCN8S 3': 'PERS',\n",
       " '0B2OS5R1 0': 'None',\n",
       " '0B5MQ6TY 0': 'OTHERS',\n",
       " '0B714WRF 0': 'OTHERS',\n",
       " '0B8EGHVB 0': 'OTHERS',\n",
       " '0B9OSA02 0': 'OTHERS',\n",
       " '0B9OSA02 2': 'OTHERS',\n",
       " '0BATY547 0': 'None',\n",
       " '0BCCXYB1 0': 'OTHERS',\n",
       " '0BCCXYB1 1': 'OTHERS',\n",
       " '0BCCXYB1 3': 'None',\n",
       " '0BCQ6N7L 0': 'None',\n",
       " '0BCQ6N7L 4': 'None',\n",
       " '0BE8W83X 0': 'OTHERS',\n",
       " '0BFF0YUV 0': 'OTHERS',\n",
       " '0BGLEU6I 0': 'None',\n",
       " '0BJ537J5 0': 'OTHERS',\n",
       " '0BKJ4I13 0': 'OTHERS',\n",
       " '0BL98BUE 0': 'OTHERS',\n",
       " '0BM19RVO 0': 'OTHERS',\n",
       " '0BRLJRVH 0': 'None',\n",
       " '0BWTBDV7 0': 'None',\n",
       " '0BY9CFLK 0': 'OTHERS',\n",
       " '0BZ4SHSS 0': 'None',\n",
       " '0BZ4SHSS 1': 'PERS',\n",
       " '0BZ4SHSS 2': 'None',\n",
       " '0CE9Q8NK 0': 'OTHERS',\n",
       " '0CETTKTA 0': 'OTHERS',\n",
       " '0CF12YZK 0': 'OTHERS',\n",
       " '0CHQAATH 0': 'None',\n",
       " '0CHQAATH 1': 'OTHERS',\n",
       " '0CM4MMFH 0': 'OTHERS',\n",
       " '0CNS9TBE 0': 'OTHERS',\n",
       " '0CNS9TBE 1': 'PERS',\n",
       " '0COSIQA5 0': 'OTHERS',\n",
       " '0COSIQA5 2': 'PERS',\n",
       " '0CQHI1F6 0': 'None',\n",
       " '0CQLQNJC 0': 'None',\n",
       " '0CSGAYFH 0': 'OTHERS',\n",
       " '0CSGAYFH 1': 'OTHERS',\n",
       " '0CSGAYFH 2': 'PERS',\n",
       " '0CWG2YAW 0': 'OTHERS',\n",
       " '0CXKAHX7 0': 'OTHERS',\n",
       " '0CYBNXC3 0': 'OTHERS',\n",
       " '0CYBNXC3 1': 'ORG',\n",
       " '0CYBNXC3 2': 'OTHERS',\n",
       " '0D1JRXQD 0': 'OTHERS',\n",
       " '0D1TAUK1 0': 'None',\n",
       " '0D1TAUK1 1': 'None',\n",
       " '0D1TAUK1 2': 'PERS',\n",
       " '0D28YVY1 0': 'None',\n",
       " '0D37DFRV 0': 'None',\n",
       " '0D3HT537 0': 'None',\n",
       " '0D3HT537 2': 'OTHERS',\n",
       " '0D4FQFOD 0': 'OTHERS',\n",
       " '0D4XYRRK 0': 'None',\n",
       " '0D50LFY8 0': 'None',\n",
       " '0D6K33OC 0': 'OTHERS',\n",
       " '0D74UUWW 0': 'OTHERS',\n",
       " '0D9S6XIF 0': 'OTHERS',\n",
       " '0D9S6XIF 1': 'None',\n",
       " '0DA2XICW 0': 'OTHERS',\n",
       " '0DFORTY4 0': 'OTHERS',\n",
       " '0DGP4QBV 0': 'None',\n",
       " '0DHFD9QY 0': 'OTHERS',\n",
       " '0DKI0XOV 0': 'OTHERS',\n",
       " '0DQ2LZQL 0': 'OTHERS',\n",
       " '0DRSOTA0 0': 'OTHERS',\n",
       " '0DRSOTA0 1': 'None',\n",
       " '0DS28PUJ 0': 'None',\n",
       " '0DTM9QTD 0': 'None',\n",
       " '0DTYMO1A 0': 'None',\n",
       " '0DUL67F5 0': 'OTHERS',\n",
       " '0DVQGVUW 0': 'OTHERS',\n",
       " '0DVQGVUW 1': 'OTHERS',\n",
       " '0DVQGVUW 2': 'OTHERS',\n",
       " '0DXSEL3V 0': 'OTHERS',\n",
       " '0E034AA8 0': 'OTHERS',\n",
       " '0E0MQ6P9 0': 'None',\n",
       " '0E2RQCG8 0': 'None',\n",
       " '0E36KBAI 0': 'None',\n",
       " '0E5HZYLC 0': 'OTHERS',\n",
       " '0E99CGNQ 0': 'OTHERS',\n",
       " '0E9V364A 0': 'OTHERS',\n",
       " '0EA0USHH 0': 'None',\n",
       " '0EA0USHH 2': 'PERS',\n",
       " '0EA5J6VQ 0': 'None',\n",
       " '0EB0Y28J 0': 'OTHERS',\n",
       " '0EBIX79R 0': 'None',\n",
       " '0EEAAHSN 0': 'OTHERS',\n",
       " '0EH4XC4H 0': 'None',\n",
       " '0EH4XC4H 2': 'None',\n",
       " '0ELQI204 0': 'None',\n",
       " '0ELQIVLQ 0': 'None',\n",
       " '0EQLZV3S 0': 'OTHERS',\n",
       " '0EQLZV3S 4': 'None',\n",
       " '0EWLKVEQ 0': 'OTHERS',\n",
       " '0EY6TMQ3 0': 'OTHERS',\n",
       " '0EY6TMQ3 1': 'None',\n",
       " '0EY6TMQ3 2': 'OTHERS',\n",
       " '0F4JJXI2 0': 'OTHERS',\n",
       " '0F6LQECV 0': 'None',\n",
       " '0F7CRZY7 0': 'None',\n",
       " '0FACU0M3 0': 'None',\n",
       " '0FACU0M3 1': 'None',\n",
       " '0FACU0M3 2': 'None',\n",
       " '0FAO1JD7 0': 'None',\n",
       " '0FAO1JD7 5': 'None',\n",
       " '0FBAKHXF 0': 'OTHERS',\n",
       " '0FBE0CUI 0': None,\n",
       " '0FBE0CUI 1': 'None',\n",
       " '0FCK14D2 0': 'None',\n",
       " '0FEEZFDC 0': 'None',\n",
       " '0FELA2HN 0': 'None',\n",
       " '0FGMJQ9T 0': 'OTHERS',\n",
       " '0FI2G4GC 0': 'None',\n",
       " '0FI2G4GC 2': 'None',\n",
       " '0FJRQYMF 0': 'None',\n",
       " '0FQOOJPU 0': 'OTHERS',\n",
       " '0FQOOJPU 3': 'None',\n",
       " '0FR6JCUO 0': 'None',\n",
       " '0FS8L110 0': 'OTHERS',\n",
       " '0FTAF4EE 0': 'None',\n",
       " '0FYAVRU3 0': 'None',\n",
       " '0FYAVRU3 1': 'None',\n",
       " '0FYAVRU3 2': 'None',\n",
       " '0FZN6CUN 0': 'OTHERS',\n",
       " '0FZN6CUN 2': 'None',\n",
       " '0FZN6CUN 3': 'OTHERS',\n",
       " '0G01YL5J 0': 'None',\n",
       " '0G4SA6ED 0': 'None',\n",
       " '0G8NAPL6 0': 'None',\n",
       " '0G8W5YMC 0': 'None',\n",
       " '0G8W5YMC 1': 'OTHERS',\n",
       " '0G9YPQC0 0': 'OTHERS',\n",
       " '0GA9HSVX 0': 'OTHERS',\n",
       " '0GBGG43F 0': 'OTHERS',\n",
       " '0GC2OQP2 0': 'None',\n",
       " '0GD2S3GH 0': 'OTHERS',\n",
       " '0GIG8PLM 0': 'None',\n",
       " '0GKCO1ZZ 0': 'OTHERS',\n",
       " '0GM9R6PS 0': 'OTHERS',\n",
       " '0GMWKRQT 0': 'OTHERS',\n",
       " '0GMWKRQT 3': 'PERS',\n",
       " '0GNRKF0W 0': 'OTHERS',\n",
       " '0GSRWASO 0': 'None',\n",
       " '0GX236AF 0': 'None',\n",
       " '0GX7MTRL 0': 'None',\n",
       " '0GZRBT6N 0': 'OTHERS',\n",
       " '0H0JFTZ7 0': 'None',\n",
       " '0H0U54UZ 0': 'None',\n",
       " '0H1I6R6W 0': 'None',\n",
       " '0H50583E 0': 'None',\n",
       " '0H5070EJ 0': 'None',\n",
       " '0H5070EJ 1': 'None',\n",
       " '0H5MDJKE 0': 'None',\n",
       " '0H602P8H 0': 'OTHERS',\n",
       " '0HAZGTKG 0': 'None',\n",
       " '0HBQKJ0N 0': 'None',\n",
       " '0HBULL36 0': 'OTHERS',\n",
       " '0HBULL36 1': 'None',\n",
       " '0HBULL36 2': 'PERS',\n",
       " '0HFFZV62 0': 'None',\n",
       " '0HFS83L2 0': 'None',\n",
       " '0HFU0URM 0': 'OTHERS',\n",
       " '0HFY1TOW 0': 'OTHERS',\n",
       " '0HFY1TOW 1': 'PERS',\n",
       " '0HH9QZXH 0': 'PERS',\n",
       " '0HH9QZXH 1': 'PERS',\n",
       " '0HH9QZXH 2': 'OTHERS',\n",
       " '0HHS4IMN 0': 'OTHERS',\n",
       " '0HJGDMP6 0': 'OTHERS',\n",
       " '0HJGDMP6 1': 'None',\n",
       " '0HL44T31 0': 'OTHERS',\n",
       " '0HL44T31 2': 'PERS',\n",
       " '0HM2EH6E 0': 'None',\n",
       " '0HM2EH6E 3': 'PERS',\n",
       " '0HMPUR60 0': 'None',\n",
       " '0HPIVEXT 0': 'OTHERS',\n",
       " '0HR2AB36 0': 'None',\n",
       " '0HR2AB36 1': 'None',\n",
       " '0HVP7HD9 0': 'OTHERS',\n",
       " '0HVP7HD9 1': 'None',\n",
       " '0HWIYSGE 0': 'OTHERS',\n",
       " '0HZ3VF5I 0': 'None',\n",
       " '0HZ3VF5I 2': 'None',\n",
       " '0HZG8QGJ 0': 'OTHERS',\n",
       " '0HZG8QGJ 2': 'OTHERS',\n",
       " '0HZUFNOC 0': 'None',\n",
       " '0HZUFNOC 1': 'OTHERS',\n",
       " '0HZXSJ0O 0': 'None',\n",
       " '0I3IYH0F 0': 'None',\n",
       " '0I3IYH0F 2': 'OTHERS',\n",
       " '0I4CZWLX 0': 'OTHERS',\n",
       " '0I4CZWLX 2': 'PERS',\n",
       " '0I6T32T5 0': 'None',\n",
       " '0I9YJFEW 0': 'None',\n",
       " '0IB1V331 0': 'None',\n",
       " '0ICI882S 0': 'None',\n",
       " '0ICI882S 3': 'PERS',\n",
       " '0IDSHISF 0': 'OTHERS',\n",
       " '0IGIUETU 0': 'OTHERS',\n",
       " '0II2ZK2E 0': 'OTHERS',\n",
       " '0IIAT1BA 0': 'OTHERS',\n",
       " '0ILFYJVV 0': 'OTHERS',\n",
       " '0ILP8Q56 0': 'None',\n",
       " '0IMQQ44H 0': 'OTHERS',\n",
       " '0IODHD6K 0': 'None',\n",
       " '0IPS0489 0': 'None',\n",
       " '0IUSS6UH 0': 'None',\n",
       " '0IUVF3CX 0': 'OTHERS',\n",
       " '0IZNMTJ4 0': 'None',\n",
       " '0IZNMTJ4 1': 'None',\n",
       " '0IZNMTJ4 2': 'OTHERS',\n",
       " '0J279GUO 0': 'None',\n",
       " '0J7GRZK4 0': 'OTHERS',\n",
       " '0J9OH8OO 0': 'OTHERS',\n",
       " '0J9OH8OO 1': 'OTHERS',\n",
       " '0JAKLI8E 0': 'OTHERS',\n",
       " '0JAKLI8E 1': 'OTHERS',\n",
       " '0JC7NPDO 0': 'OTHERS',\n",
       " '0JC7NPDO 3': 'PERS',\n",
       " '0JNW6FIF 0': 'None',\n",
       " '0JNW6FIF 2': 'None',\n",
       " '0JO07HR8 0': 'None',\n",
       " '0JO07HR8 1': 'None',\n",
       " '0JPUOOIS 0': 'None',\n",
       " '0JPUOOIS 1': 'PERS',\n",
       " '0JSE9VIO 0': 'None',\n",
       " '0JSE9VIO 2': 'OTHERS',\n",
       " '0JSF530F 0': 'OTHERS',\n",
       " '0JSFLOAY 0': 'None',\n",
       " '0JSQ0QCY 0': 'OTHERS',\n",
       " '0JYZA1ED 0': 'None',\n",
       " '0JYZA1ED 1': 'None',\n",
       " '0K73H19L 0': 'None',\n",
       " '0KD6T788 0': 'None',\n",
       " '0KDB98KK 0': 'None',\n",
       " '0KIHE46I 0': 'None',\n",
       " '0KK90BAC 0': 'None',\n",
       " '0KL64BZL 0': 'OTHERS',\n",
       " '0KLN3C83 0': 'OTHERS',\n",
       " '0KMM0MDY 0': 'ORG',\n",
       " '0KOI7WM1 0': 'None',\n",
       " '0KPS34E3 0': 'LOC',\n",
       " '0KPS34E3 2': 'OTHERS',\n",
       " '0KPXWZOR 0': 'OTHERS',\n",
       " '0KRWWJ1Z 0': 'None',\n",
       " '0KU8C5W9 0': 'None',\n",
       " '0KV5Z7HL 0': 'None',\n",
       " '0KW2QF49 0': 'OTHERS',\n",
       " '0KW2QF49 2': 'PERS',\n",
       " '0KWK2FSC 0': 'OTHERS',\n",
       " '0KWPGE4J 0': 'None',\n",
       " '0KWPGE4J 1': 'OTHERS',\n",
       " '0KXAFPMD 0': 'None',\n",
       " '0L2DBDE3 0': 'None',\n",
       " '0L4TV13I 0': 'None',\n",
       " '0L4YDT86 0': 'OTHERS',\n",
       " '0L5UF7QG 0': 'OTHERS',\n",
       " '0L96G1XK 0': 'None',\n",
       " '0LA1YLWQ 0': 'OTHERS',\n",
       " '0LA1YLWQ 1': 'PERS',\n",
       " '0LCZ022V 0': 'OTHERS',\n",
       " '0LEUE52N 0': 'None',\n",
       " '0LEUE52N 2': 'None',\n",
       " '0LF7RI6N 0': 'None',\n",
       " '0LFQSTRA 0': 'OTHERS',\n",
       " '0LFQSTRA 2': 'PERS',\n",
       " '0LGYY0Y7 0': 'None',\n",
       " '0LGYY0Y7 1': 'None',\n",
       " '0LJUXOT3 0': 'None',\n",
       " '0LJUXOT3 1': 'None',\n",
       " '0LJUXOT3 2': 'None',\n",
       " '0LKW8R19 0': 'OTHERS',\n",
       " '0LKW8R19 2': 'None',\n",
       " '0LM5YNP9 0': 'None',\n",
       " '0LMIV6M9 0': 'None',\n",
       " '0LMIV6M9 2': 'None',\n",
       " '0LP8DK3B 0': 'OTHERS',\n",
       " '0LPDH55H 0': 'OTHERS',\n",
       " '0LQRET9H 0': 'OTHERS',\n",
       " '0LQRET9H 1': 'PERS',\n",
       " '0LQRET9H 2': 'PERS',\n",
       " '0LRY8NCS 0': 'None',\n",
       " '0LUH6AM3 0': 'None',\n",
       " '0LWCP9IN 0': 'OTHERS',\n",
       " '0LYQ48I7 0': 'OTHERS',\n",
       " '0LZ0M8W4 0': 'None',\n",
       " '0M011IQS 0': 'None',\n",
       " '0M1H7VLW 0': 'LOC',\n",
       " '0M2E8Q7M 0': 'OTHERS',\n",
       " '0M4QKSEJ 0': 'OTHERS',\n",
       " '0M7R2JUU 0': 'None',\n",
       " '0M7R2JUU 1': 'None',\n",
       " '0M7R2JUU 3': 'None',\n",
       " '0M8OHZR7 0': 'LOC',\n",
       " '0M8OHZR7 1': 'None',\n",
       " '0MA8DH8A 0': 'OTHERS',\n",
       " '0MD93LSD 0': 'None',\n",
       " '0MDCTZZ4 0': 'OTHERS',\n",
       " '0MDCTZZ4 2': 'PERS',\n",
       " '0MHJDP97 0': 'None',\n",
       " '0MIJQU21 0': 'OTHERS',\n",
       " '0MJ5GAW7 0': 'None',\n",
       " '0MJNDWCQ 0': 'OTHERS',\n",
       " '0MJZWGEC 0': 'OTHERS',\n",
       " '0MRKHUC0 0': 'OTHERS',\n",
       " '0MVY10NE 0': 'OTHERS',\n",
       " '0MVY10NE 3': 'None',\n",
       " '0MYK9SQC 0': 'None',\n",
       " '0MZX65PH 0': 'OTHERS',\n",
       " '0N1MKC4M 0': 'None',\n",
       " '0N6KENKJ 0': 'None',\n",
       " '0N6O57QC 0': 'None',\n",
       " '0N8LXEHH 0': 'OTHERS',\n",
       " '0N8LXEHH 1': 'PERS',\n",
       " '0N9YLWN8 0': 'None',\n",
       " '0N9YLWN8 1': 'OTHERS',\n",
       " '0N9YLWN8 2': 'None',\n",
       " '0NABVFEC 0': 'None',\n",
       " '0NB51DS2 0': 'None',\n",
       " '0NC9EOWW 0': 'None',\n",
       " '0NFF7E76 0': 'None',\n",
       " '0NPH50EI 0': 'OTHERS',\n",
       " '0NTN4GGV 0': 'OTHERS',\n",
       " '0NTO3RPU 0': 'OTHERS',\n",
       " '0NWQUC4N 0': 'OTHERS',\n",
       " '0NXDLYXL 0': 'OTHERS',\n",
       " '0NXONAXU 0': 'None',\n",
       " '0NXONAXU 2': 'OTHERS',\n",
       " '0NY8YXSK 0': 'None',\n",
       " '0NZS30KH 0': 'OTHERS',\n",
       " '0NZWRCPZ 0': 'OTHERS',\n",
       " '0O43T5C3 0': 'OTHERS',\n",
       " '0O4FDDQK 0': 'None',\n",
       " '0O5BNSNV 0': 'OTHERS',\n",
       " '0O69BWXV 0': 'OTHERS',\n",
       " '0OA4EGKO 0': 'None',\n",
       " '0OA4EGKO 1': 'OTHERS',\n",
       " '0OA6VENE 0': 'None',\n",
       " '0OAMADWH 0': 'None',\n",
       " '0OB08DEK 0': 'None',\n",
       " '0OB08DEK 1': 'None',\n",
       " '0OB08DEK 2': 'OTHERS',\n",
       " '0OBBTH0D 0': 'OTHERS',\n",
       " '0OBURGN6 0': 'None',\n",
       " '0OC20PUO 0': 'OTHERS',\n",
       " '0OHS4RJS 0': 'OTHERS',\n",
       " '0OKK7QGN 0': 'OTHERS',\n",
       " '0OM2CN1O 0': 'None',\n",
       " '0OQKPP3I 0': 'OTHERS',\n",
       " '0ORZYGNX 0': 'OTHERS',\n",
       " '0ORZYGNX 1': 'PERS',\n",
       " '0OS6BBF4 0': 'None',\n",
       " '0OSXZ1YS 0': 'None',\n",
       " '0OSZFDPT 0': 'OTHERS',\n",
       " '0OVW4440 0': 'OTHERS',\n",
       " '0OXSXYFO 0': 'None',\n",
       " '0OXSXYFO 2': 'None',\n",
       " '0OXSXYFO 3': 'None',\n",
       " '0P0WW369 0': 'None',\n",
       " '0P22WM2I 0': 'OTHERS',\n",
       " '0P22WM2I 1': 'OTHERS',\n",
       " '0P22WM2I 3': 'None',\n",
       " '0P22WM2I 4': 'PERS',\n",
       " '0P3YFMB0 0': 'OTHERS',\n",
       " '0P4Y07PN 0': 'OTHERS',\n",
       " '0P4Y07PN 1': 'None',\n",
       " '0P4Y07PN 2': 'PERS',\n",
       " '0P5U2T0J 0': 'None',\n",
       " '0P5U2T0J 1': 'None',\n",
       " '0P6352JD 0': 'None',\n",
       " '0P6S2EZ4 0': 'None',\n",
       " '0P8H49LQ 0': 'OTHERS',\n",
       " '0P8H49LQ 1': 'PERS',\n",
       " '0PB75HWH 0': 'OTHERS',\n",
       " '0PCRB1YQ 0': None,\n",
       " '0POKKFWT 0': 'None',\n",
       " '0POKKFWT 1': 'None',\n",
       " '0POKKFWT 2': 'OTHERS',\n",
       " '0POKKFWT 3': 'None',\n",
       " '0PPMGSJT 0': 'OTHERS',\n",
       " '0PPMGSJT 1': 'None',\n",
       " '0PPV1SKR 0': 'OTHERS',\n",
       " '0PSDG2ZT 0': 'None',\n",
       " '0PSDG2ZT 1': 'None',\n",
       " '0PSDG2ZT 4': 'None',\n",
       " '0PSST7ME 0': 'None',\n",
       " '0PSST7ME 1': 'None',\n",
       " '0PTB4I72 0': 'None',\n",
       " '0PTB4I72 3': 'None',\n",
       " '0Q3HG42D 0': 'None',\n",
       " '0Q3HG42D 1': 'OTHERS',\n",
       " '0Q3HG42D 2': 'PERS',\n",
       " '0Q5XX0LM 0': 'None',\n",
       " '0Q7RIJLL 0': 'None',\n",
       " '0Q7RIJLL 2': 'None',\n",
       " '0QAHHD9I 0': 'OTHERS',\n",
       " '0QAHYAJL 0': 'OTHERS',\n",
       " '0QDCMDXN 0': 'None',\n",
       " '0QK8CB8W 0': 'OTHERS',\n",
       " '0QL4DLSU 0': 'None',\n",
       " '0QMLEYQK 0': 'OTHERS',\n",
       " '0QU2ISRB 0': 'OTHERS',\n",
       " '0QWF60VG 0': 'None',\n",
       " '0QWF60VG 1': 'OTHERS',\n",
       " '0QYXO4K4 0': 'None',\n",
       " '0R2J04D1 0': 'None',\n",
       " '0R8AZMJG 0': 'None',\n",
       " '0R8AZMJG 2': 'OTHERS',\n",
       " '0RAJG9KG 0': 'OTHERS',\n",
       " '0RHZPL7W 0': 'None',\n",
       " '0RHZPL7W 2': 'None',\n",
       " '0RIPCMLO 0': 'OTHERS',\n",
       " '0RNOIDAX 0': 'OTHERS',\n",
       " '0RRR8H7H 0': 'None',\n",
       " '0RUOGU3R 0': 'None',\n",
       " '0RWHW0S0 0': 'None',\n",
       " '0RWHW0S0 1': 'OTHERS',\n",
       " '0S2BFRET 0': 'None',\n",
       " '0S2BFRET 2': 'None',\n",
       " '0S4FM0J3 0': 'None',\n",
       " '0S6IKTG5 0': 'OTHERS',\n",
       " '0SJPYKY6 0': 'None',\n",
       " '0SKGG979 0': 'OTHERS',\n",
       " '0SKGG979 2': 'None',\n",
       " '0SKGG979 3': 'None',\n",
       " '0SKGG979 4': 'OTHERS',\n",
       " '0SKGG979 5': 'OTHERS',\n",
       " '0SKGG979 6': 'OTHERS',\n",
       " '0SLBYX3C 0': 'OTHERS',\n",
       " '0SMO454S 0': 'None',\n",
       " '0SNA0AGH 0': 'None',\n",
       " '0SO6UYJK 0': 'OTHERS',\n",
       " '0SQ25H5P 0': 'OTHERS',\n",
       " '0SQ31C9Q 0': 'None',\n",
       " '0SQ31C9Q 2': 'None',\n",
       " '0SSO4NBR 0': 'OTHERS',\n",
       " '0SZL7G95 0': 'OTHERS',\n",
       " '0T28R2PO 0': 'OTHERS',\n",
       " '0T28R2PO 1': 'PERS',\n",
       " '0T486PWQ 0': 'OTHERS',\n",
       " '0T486PWQ 1': 'None',\n",
       " '0T59SIHH 0': 'None',\n",
       " '0T59SIHH 2': 'None',\n",
       " '0T65J8H4 0': 'None',\n",
       " '0T65J8H4 2': 'None',\n",
       " '0T7GEIXR 0': 'None',\n",
       " '0T7PBD7C 0': 'OTHERS',\n",
       " '0T7PBD7C 1': 'None',\n",
       " '0T7PBD7C 2': 'None',\n",
       " '0T7PBD7C 3': 'OTHERS',\n",
       " '0T7PBD7C 4': 'OTHERS',\n",
       " '0TDMTLCQ 0': 'None',\n",
       " '0TESHWFQ 0': 'OTHERS',\n",
       " '0TGGBAEP 0': 'None',\n",
       " '0TGGBAEP 4': 'OTHERS',\n",
       " '0THA1EUG 0': 'OTHERS',\n",
       " '0TMM19GX 0': 'OTHERS',\n",
       " '0TNO785U 0': 'None',\n",
       " '0TNO785U 1': 'None',\n",
       " '0TODAT1K 0': 'OTHERS',\n",
       " '0TPHDO9O 0': 'OTHERS',\n",
       " '0TQXSY28 0': 'None',\n",
       " '0TTD3Y9A 0': 'OTHERS',\n",
       " '0U179BRO 0': 'PERS',\n",
       " '0U179BRO 1': 'PERS',\n",
       " '0U179BRO 2': 'OTHERS',\n",
       " '0U3WMR09 0': 'None',\n",
       " '0U5UX4OD 0': 'None',\n",
       " '0U7ZZ9VQ 0': 'None',\n",
       " '0U7ZZ9VQ 2': 'OTHERS',\n",
       " '0U8O156L 0': 'OTHERS',\n",
       " '0U8Z34R5 0': 'OTHERS',\n",
       " '0UJRG5XA 0': 'OTHERS',\n",
       " '0UJYI2D7 0': 'None',\n",
       " '0UJYI2D7 3': 'OTHERS',\n",
       " '0ULIOIIO 0': 'OTHERS',\n",
       " '0ULIOIIO 3': 'PERS',\n",
       " '0UNTY8U1 0': 'None',\n",
       " '0UNTY8U1 3': 'ORG',\n",
       " '0UVRLZTN 0': 'None',\n",
       " '0UX45YZS 0': 'None',\n",
       " '0V0KSIF4 0': 'OTHERS',\n",
       " '0V185T0N 0': 'OTHERS',\n",
       " '0V252RR1 0': 'OTHERS',\n",
       " '0V7U4MQ6 0': 'OTHERS',\n",
       " '0V7U4MQ6 1': 'None',\n",
       " '0V7U4MQ6 2': 'OTHERS',\n",
       " '0V7X7OWF 0': 'None',\n",
       " '0V7X7OWF 3': 'None',\n",
       " '0V8TZ3AW 0': 'None',\n",
       " '0VC79Y6X 0': 'None',\n",
       " '0VDTGLWV 0': 'OTHERS',\n",
       " '0VDX10IJ 0': 'None',\n",
       " '0VFQW5UF 0': 'OTHERS',\n",
       " '0VGKU21T 0': 'None',\n",
       " '0VHBQVX0 0': 'OTHERS',\n",
       " '0VHBQVX0 3': 'None',\n",
       " '0VLZTVKG 0': 'OTHERS',\n",
       " '0VLZTVKG 1': 'None',\n",
       " '0VLZTVKG 2': 'OTHERS',\n",
       " '0VMG3XBR 0': 'None',\n",
       " '0VOFB4BZ 0': 'OTHERS',\n",
       " '0VOL4ZNC 0': 'OTHERS',\n",
       " '0VOL4ZNC 1': 'OTHERS',\n",
       " '0VOL4ZNC 2': 'None',\n",
       " '0VPBUC1C 0': 'OTHERS',\n",
       " '0VRKHU9R 0': 'OTHERS',\n",
       " '0VRKHU9R 1': 'OTHERS',\n",
       " '0VRKHU9R 2': 'OTHERS',\n",
       " '0VRPY53T 0': 'OTHERS',\n",
       " '0VTG406B 0': 'OTHERS',\n",
       " '0VU1SD8F 0': 'OTHERS',\n",
       " '0VUZ4X1Z 0': 'None',\n",
       " '0VWH4ZVC 0': 'None',\n",
       " '0VWH4ZVC 1': 'None',\n",
       " '0VWP16RY 0': 'None',\n",
       " '0VX14984 0': 'None',\n",
       " '0VYDEW6Z 0': 'None',\n",
       " '0W07MB24 0': 'None',\n",
       " '0W1MIDYX 0': 'OTHERS',\n",
       " '0WAALUXG 0': 'OTHERS',\n",
       " '0WBH7OU7 0': 'OTHERS',\n",
       " '0WBTX8LY 0': 'None',\n",
       " '0WBTX8LY 1': 'OTHERS',\n",
       " '0WEIN2YO 0': 'None',\n",
       " '0WJ0RX3P 0': 'None',\n",
       " '0WJ38WFA 0': 'OTHERS',\n",
       " '0WLA1Q6W 0': 'None',\n",
       " '0WQ44P2X 0': 'OTHERS',\n",
       " '0WTSMZ5X 0': 'None',\n",
       " '0WY9E18V 0': 'None',\n",
       " '0X32HW86 0': 'None',\n",
       " '0X4OAXYR 0': 'None',\n",
       " '0X5ZSZRZ 0': 'OTHERS',\n",
       " '0X5ZSZRZ 3': 'OTHERS',\n",
       " '0X70GMID 0': 'None',\n",
       " '0X7OAOVL 0': 'None',\n",
       " '0X8CDUI8 0': 'None',\n",
       " '0X8E1ARY 0': 'None',\n",
       " '0XAB2CZI 0': 'LOC',\n",
       " '0XCI02I9 0': 'OTHERS',\n",
       " '0XFR24VL 0': 'OTHERS',\n",
       " '0XFWV6YW 0': 'None',\n",
       " '0XFWV6YW 3': 'None',\n",
       " '0XP73W2J 0': 'None',\n",
       " '0XQNCQS8 0': 'OTHERS',\n",
       " '0XWQ7DA6 0': 'None',\n",
       " '0XXGVKA8 0': 'None',\n",
       " '0XYJMMXX 0': 'OTHERS',\n",
       " '0XYWSLNT 0': 'None',\n",
       " '0Y117TCK 0': 'OTHERS',\n",
       " '0Y661AB3 0': 'None',\n",
       " '0YGR6NC0 0': 'None',\n",
       " '0YGR6NC0 1': 'OTHERS',\n",
       " '0YGZJ5OT 0': 'OTHERS',\n",
       " '0YN6B0VP 0': 'OTHERS',\n",
       " '0YOKDPGQ 0': 'None',\n",
       " '0YPTXKTS 0': 'OTHERS',\n",
       " '0YPTXKTS 2': 'None',\n",
       " '0YQH6FRH 0': 'OTHERS',\n",
       " '0YQH6FRH 2': 'OTHERS',\n",
       " '0YRRWSLO 0': 'OTHERS',\n",
       " '0YWAP4KG 0': 'OTHERS',\n",
       " '0YZCA873 0': 'OTHERS',\n",
       " '0Z0WRXY3 0': 'None',\n",
       " '0Z7HR2PY 0': 'None',\n",
       " '0Z8LKW3C 0': 'None',\n",
       " '0Z8LKW3C 1': 'PERS',\n",
       " '0ZA2NDHZ 0': None,\n",
       " '0ZA2NDHZ 1': 'None',\n",
       " '0ZA2NDHZ 3': 'None',\n",
       " '0ZEGHVZ4 0': 'None',\n",
       " '0ZEN85MZ 0': 'None',\n",
       " '0ZH7HCT0 0': 'OTHERS',\n",
       " '0ZJ3QVBI 0': 'None',\n",
       " '0ZJ3QVBI 3': 'None',\n",
       " '0ZPZSKZ3 0': 'None',\n",
       " '0ZQF0Y5Q 0': 'OTHERS',\n",
       " '0ZQF0Y5Q 1': 'PERS',\n",
       " '0ZQF0Y5Q 3': 'OTHERS',\n",
       " '0ZQF0Y5Q 4': 'PERS',\n",
       " '0ZQFADL3 0': 'None',\n",
       " '0ZQFADL3 2': 'OTHERS',\n",
       " '0ZRSWOE7 0': 'None',\n",
       " '0ZRSWOE7 3': 'None',\n",
       " '0ZXPJXH4 0': 'None',\n",
       " '0ZY7BPOH 0': 'None',\n",
       " '0ZY7BPOH 2': 'None',\n",
       " '0ZZFENJS 0': 'OTHERS',\n",
       " '0ZZFENJS 1': 'PERS',\n",
       " '0ZZFENJS 2': 'OTHERS',\n",
       " '0ZZQ0LZ3 0': 'LOC',\n",
       " '103PJIU4 0': 'OTHERS',\n",
       " '105WVIPZ 0': 'None',\n",
       " '1076TPA3 0': 'OTHERS',\n",
       " '10826GCC 0': 'None',\n",
       " '10B6Q5MQ 0': 'None',\n",
       " '10BIQ944 0': 'None',\n",
       " '10F51LIY 0': 'None',\n",
       " '10FQ2VGS 0': 'None',\n",
       " '10FVQH2L 0': 'OTHERS',\n",
       " '10FVQH2L 1': 'None',\n",
       " '10HTP9S0 0': 'OTHERS',\n",
       " '10HTP9S0 1': 'OTHERS',\n",
       " '10HTP9S0 3': 'None',\n",
       " '10HTP9S0 4': 'OTHERS',\n",
       " '10HTP9S0 5': 'None',\n",
       " '10JB6RUW 0': 'None',\n",
       " '10NJLLVE 0': 'OTHERS',\n",
       " '10RO3O6Y 0': 'OTHERS',\n",
       " '10WA15QW 0': 'None',\n",
       " '10YMXUTA 0': 'OTHERS',\n",
       " '112B1VAC 0': 'None',\n",
       " '113JGNU7 0': 'OTHERS',\n",
       " '113JGNU7 1': 'OTHERS',\n",
       " '115OQRJP 0': 'None',\n",
       " '1177HWE8 0': 'OTHERS',\n",
       " '1177HWE8 1': 'None',\n",
       " '1177HWE8 2': 'PERS',\n",
       " '119TO6NU 0': 'None',\n",
       " '119TO6NU 1': 'None',\n",
       " '11A6ADN9 0': 'None',\n",
       " '11F09MC7 0': 'OTHERS',\n",
       " '11GRUTK6 0': 'OTHERS',\n",
       " '11HAFGQ3 0': 'None',\n",
       " '11I9AQJT 0': 'None',\n",
       " '11I9AQJT 3': 'OTHERS',\n",
       " '11N0DSB7 0': 'None',\n",
       " '11VNNTDS 0': 'None',\n",
       " '11WF6M3G 0': 'OTHERS',\n",
       " '11WF6M3G 1': 'None',\n",
       " '11XPMNKQ 0': 'OTHERS',\n",
       " '11XPMNKQ 3': 'PERS',\n",
       " '11XPMNKQ 5': 'OTHERS',\n",
       " '1226RI72 0': 'OTHERS',\n",
       " '12360PVL 0': 'OTHERS',\n",
       " '124SI9XJ 0': 'None',\n",
       " '127RA856 0': 'OTHERS',\n",
       " '128A9IIX 0': 'None',\n",
       " '128UEAPW 0': 'None',\n",
       " '129RQ5VB 0': 'OTHERS',\n",
       " '129RQ5VB 1': 'PERS',\n",
       " '12AEKHF5 0': 'None',\n",
       " '12AEKHF5 1': 'None',\n",
       " '12AEKHF5 2': 'None',\n",
       " '12ATZ6B4 0': 'None',\n",
       " '12BFM3RM 0': 'None',\n",
       " '12FEHHLD 0': 'OTHERS',\n",
       " '12FEHHLD 2': 'PERS',\n",
       " '12H5GBE5 0': 'OTHERS',\n",
       " '12HBF8C0 0': 'None',\n",
       " '12HBF8C0 4': 'None',\n",
       " '12M6B5FK 0': 'None',\n",
       " '12M6B5FK 3': 'None',\n",
       " '12MLK2A7 0': 'None',\n",
       " '12MXNN05 0': 'None',\n",
       " '12PU7RXB 0': 'None',\n",
       " '12PU7RXB 3': 'None',\n",
       " '12Q2RHUG 0': 'OTHERS',\n",
       " '12U8D5WZ 0': 'None',\n",
       " '12U8D5WZ 2': 'OTHERS',\n",
       " '12XW1QWG 0': 'OTHERS',\n",
       " '12Z9OKSM 0': 'None',\n",
       " '12Z9OKSM 2': 'None',\n",
       " '12Z9OKSM 3': 'PERS',\n",
       " '130XAN3P 0': 'OTHERS',\n",
       " '13237ZEY 0': 'OTHERS',\n",
       " '13237ZEY 3': 'None',\n",
       " '1358K9KD 0': 'OTHERS',\n",
       " '1358K9KD 2': 'OTHERS',\n",
       " '1358K9KD 3': 'None',\n",
       " '1375IHBW 0': 'OTHERS',\n",
       " '1379MQU4 0': 'OTHERS',\n",
       " '1379MQU4 1': 'LOC',\n",
       " '1379MQU4 2': 'OTHERS',\n",
       " '1381436R 0': 'None',\n",
       " '1381436R 2': 'None',\n",
       " '138QG6HI 0': 'None',\n",
       " '138QG6HI 2': 'OTHERS',\n",
       " '138QG6HI 3': 'PERS',\n",
       " '13A0RGU7 0': 'OTHERS',\n",
       " '13BLTPJD 0': 'ORG',\n",
       " '13FEVPLJ 0': 'None',\n",
       " '13I6V9JT 0': 'None',\n",
       " '13KLAY89 0': 'OTHERS',\n",
       " '13KLAY89 2': 'OTHERS',\n",
       " '13KLAY89 4': 'OTHERS',\n",
       " '13L32JJM 0': 'None',\n",
       " '13L32JJM 2': 'None',\n",
       " '13QUSYFN 0': 'None',\n",
       " '13QUSYFN 1': 'None',\n",
       " '13SPN3E8 0': 'None',\n",
       " '13T3J27Q 0': 'ORG',\n",
       " '13U5EG58 0': 'None',\n",
       " '13UEGBII 0': 'None',\n",
       " '13UEGBII 2': 'OTHERS',\n",
       " '13WQ3CNR 0': 'OTHERS',\n",
       " '13XK09L4 0': 'None',\n",
       " '13XK09L4 1': 'None',\n",
       " '13XK09L4 2': 'OTHERS',\n",
       " '13XK09L4 3': 'OTHERS',\n",
       " '143P8CTW 0': 'None',\n",
       " '1442WAPW 0': 'None',\n",
       " '147FPYNN 0': 'None',\n",
       " '14A7ZUP6 0': 'None',\n",
       " '14BU4HGV 0': 'None',\n",
       " '14DACNEL 0': 'OTHERS',\n",
       " '14DXW1JT 0': 'ORG',\n",
       " '14ECPM3G 0': 'None',\n",
       " '14EFEGE2 0': 'OTHERS',\n",
       " '14EFEGE2 1': 'None',\n",
       " '14EFEGE2 3': 'OTHERS',\n",
       " '14FMYN0E 0': 'None',\n",
       " '14FOMHH3 0': 'None',\n",
       " '14I7VILY 0': 'None',\n",
       " '14I7VILY 1': 'None',\n",
       " '14I7VILY 2': 'PERS',\n",
       " '14JK32E9 0': 'OTHERS',\n",
       " '14JK32E9 1': 'OTHERS',\n",
       " '14M815AV 0': 'OTHERS',\n",
       " '14M815AV 2': 'OTHERS',\n",
       " '14M815AV 3': 'None',\n",
       " '14NF1XZI 0': 'None',\n",
       " '14SMIIZL 0': 'OTHERS',\n",
       " '14SMIIZL 3': 'None',\n",
       " '14TFOPU3 0': 'None',\n",
       " '14TFOPU3 3': 'PERS',\n",
       " '14UB65H2 0': 'OTHERS',\n",
       " '1506O06P 0': 'OTHERS',\n",
       " '155VYGX3 0': 'None',\n",
       " '155VYGX3 2': 'PERS',\n",
       " '1578I82F 0': 'OTHERS',\n",
       " '157MJN5X 0': 'OTHERS',\n",
       " '159HIN0Z 0': 'None',\n",
       " '159HIN0Z 1': 'ORG',\n",
       " '15CM535P 0': 'OTHERS',\n",
       " '15D5VIEB 0': 'OTHERS',\n",
       " '15HDRE87 0': 'OTHERS',\n",
       " '15IPQQ5L 0': 'OTHERS',\n",
       " '15LVHFA1 0': 'None',\n",
       " '15P5FTRN 0': 'OTHERS',\n",
       " '15PHM55A 0': 'None',\n",
       " '15QHBW3T 0': 'OTHERS',\n",
       " '15QNJ9MB 0': 'OTHERS',\n",
       " '15R3QSPC 0': 'None',\n",
       " '15R9FLVQ 0': 'OTHERS',\n",
       " '15S5LO9Q 0': 'OTHERS',\n",
       " '15S9J1SE 0': 'OTHERS',\n",
       " '15ULGJXA 0': 'None',\n",
       " '15V8PC6Q 0': 'None',\n",
       " '15WKT3AN 0': 'None',\n",
       " '15XPTITV 0': 'None',\n",
       " '15Z7HD0M 0': 'None',\n",
       " '160EDZDP 0': 'None',\n",
       " '160EDZDP 3': 'None',\n",
       " '160R5ZU1 0': 'None',\n",
       " '161A4HA0 0': 'OTHERS',\n",
       " '161A4HA0 1': 'OTHERS',\n",
       " '161QID4K 0': 'None',\n",
       " '162N8EJJ 0': 'OTHERS',\n",
       " '165KW7HA 0': 'OTHERS',\n",
       " '167M2QDH 0': 'None',\n",
       " '167M2QDH 1': 'None',\n",
       " '167M2QDH 2': None,\n",
       " '16912Z7N 0': 'OTHERS',\n",
       " '16CC6WDX 0': 'None',\n",
       " '16CC6WDX 1': 'None',\n",
       " '16CC6WDX 3': 'None',\n",
       " '16CNEMN7 0': 'None',\n",
       " '16CNEMN7 3': 'None',\n",
       " ...}"
      ]
     },
     "execution_count": 69,
     "metadata": {},
     "output_type": "execute_result"
    }
   ],
   "source": [
    "(ner_type)"
   ]
  },
  {
   "cell_type": "code",
   "execution_count": 76,
   "id": "e34e8d18",
   "metadata": {},
   "outputs": [
    {
     "data": {
      "text/plain": [
       "{'LOC', None, 'ORG', 'OTHERS', 'PERS'}"
      ]
     },
     "execution_count": 76,
     "metadata": {},
     "output_type": "execute_result"
    }
   ],
   "source": [
    "set(ner_type.values())"
   ]
  },
  {
   "cell_type": "code",
   "execution_count": 84,
   "id": "e44482ca",
   "metadata": {},
   "outputs": [
    {
     "name": "stderr",
     "output_type": "stream",
     "text": [
      "  1%|          | 27/4000 [00:05<12:39,  5.23it/s]\n"
     ]
    },
    {
     "ename": "KeyboardInterrupt",
     "evalue": "",
     "output_type": "error",
     "traceback": [
      "\u001b[1;31m---------------------------------------------------------------------------\u001b[0m",
      "\u001b[1;31mTypeError\u001b[0m                                 Traceback (most recent call last)",
      "File \u001b[1;32mc:\\Users\\abelo\\anaconda3\\envs\\v_env\\lib\\site-packages\\urllib3\\connectionpool.py:377\u001b[0m, in \u001b[0;36mHTTPConnectionPool._make_request\u001b[1;34m(self, conn, method, url, timeout, chunked, **httplib_request_kw)\u001b[0m\n\u001b[0;32m    376\u001b[0m \u001b[38;5;28;01mtry\u001b[39;00m:  \u001b[38;5;66;03m# Python 2.7, use buffering of HTTP responses\u001b[39;00m\n\u001b[1;32m--> 377\u001b[0m     httplib_response \u001b[38;5;241m=\u001b[39m \u001b[43mconn\u001b[49m\u001b[38;5;241;43m.\u001b[39;49m\u001b[43mgetresponse\u001b[49m\u001b[43m(\u001b[49m\u001b[43mbuffering\u001b[49m\u001b[38;5;241;43m=\u001b[39;49m\u001b[38;5;28;43;01mTrue\u001b[39;49;00m\u001b[43m)\u001b[49m\n\u001b[0;32m    378\u001b[0m \u001b[38;5;28;01mexcept\u001b[39;00m \u001b[38;5;167;01mTypeError\u001b[39;00m:  \u001b[38;5;66;03m# Python 3\u001b[39;00m\n",
      "\u001b[1;31mTypeError\u001b[0m: HTTPConnection.getresponse() got an unexpected keyword argument 'buffering'",
      "\nDuring handling of the above exception, another exception occurred:\n",
      "\u001b[1;31mKeyboardInterrupt\u001b[0m                         Traceback (most recent call last)",
      "Input \u001b[1;32mIn [84]\u001b[0m, in \u001b[0;36m<cell line: 39>\u001b[1;34m()\u001b[0m\n\u001b[0;32m     54\u001b[0m data \u001b[38;5;241m=\u001b[39m {\n\u001b[0;32m     55\u001b[0m     \u001b[38;5;124m'\u001b[39m\u001b[38;5;124mjson\u001b[39m\u001b[38;5;124m'\u001b[39m: [match[\u001b[38;5;241m0\u001b[39m]]\n\u001b[0;32m     56\u001b[0m }\n\u001b[0;32m     58\u001b[0m json_data \u001b[38;5;241m=\u001b[39m json\u001b[38;5;241m.\u001b[39mdumps(data)\n\u001b[1;32m---> 59\u001b[0m response \u001b[38;5;241m=\u001b[39m \u001b[43mrequests\u001b[49m\u001b[38;5;241;43m.\u001b[39;49m\u001b[43mpost\u001b[49m\u001b[43m(\u001b[49m\u001b[43murl\u001b[49m\u001b[43m,\u001b[49m\u001b[43m \u001b[49m\u001b[43mheaders\u001b[49m\u001b[38;5;241;43m=\u001b[39;49m\u001b[43mheaders\u001b[49m\u001b[43m,\u001b[49m\u001b[43m \u001b[49m\u001b[43mdata\u001b[49m\u001b[38;5;241;43m=\u001b[39;49m\u001b[43mjson_data\u001b[49m\u001b[43m)\u001b[49m\n\u001b[0;32m     60\u001b[0m \u001b[38;5;28;01mif\u001b[39;00m \u001b[38;5;28mlen\u001b[39m(response\u001b[38;5;241m.\u001b[39mjson()) \u001b[38;5;241m==\u001b[39m \u001b[38;5;241m0\u001b[39m:\n\u001b[0;32m     61\u001b[0m     \u001b[38;5;28;01mcontinue\u001b[39;00m\n",
      "File \u001b[1;32mc:\\Users\\abelo\\anaconda3\\envs\\v_env\\lib\\site-packages\\requests\\api.py:115\u001b[0m, in \u001b[0;36mpost\u001b[1;34m(url, data, json, **kwargs)\u001b[0m\n\u001b[0;32m    103\u001b[0m \u001b[38;5;28;01mdef\u001b[39;00m \u001b[38;5;21mpost\u001b[39m(url, data\u001b[38;5;241m=\u001b[39m\u001b[38;5;28;01mNone\u001b[39;00m, json\u001b[38;5;241m=\u001b[39m\u001b[38;5;28;01mNone\u001b[39;00m, \u001b[38;5;241m*\u001b[39m\u001b[38;5;241m*\u001b[39mkwargs):\n\u001b[0;32m    104\u001b[0m \u001b[38;5;250m    \u001b[39m\u001b[38;5;124mr\u001b[39m\u001b[38;5;124;03m\"\"\"Sends a POST request.\u001b[39;00m\n\u001b[0;32m    105\u001b[0m \n\u001b[0;32m    106\u001b[0m \u001b[38;5;124;03m    :param url: URL for the new :class:`Request` object.\u001b[39;00m\n\u001b[1;32m   (...)\u001b[0m\n\u001b[0;32m    112\u001b[0m \u001b[38;5;124;03m    :rtype: requests.Response\u001b[39;00m\n\u001b[0;32m    113\u001b[0m \u001b[38;5;124;03m    \"\"\"\u001b[39;00m\n\u001b[1;32m--> 115\u001b[0m     \u001b[38;5;28;01mreturn\u001b[39;00m request(\u001b[38;5;124m\"\u001b[39m\u001b[38;5;124mpost\u001b[39m\u001b[38;5;124m\"\u001b[39m, url, data\u001b[38;5;241m=\u001b[39mdata, json\u001b[38;5;241m=\u001b[39mjson, \u001b[38;5;241m*\u001b[39m\u001b[38;5;241m*\u001b[39mkwargs)\n",
      "File \u001b[1;32mc:\\Users\\abelo\\anaconda3\\envs\\v_env\\lib\\site-packages\\requests\\api.py:59\u001b[0m, in \u001b[0;36mrequest\u001b[1;34m(method, url, **kwargs)\u001b[0m\n\u001b[0;32m     55\u001b[0m \u001b[38;5;66;03m# By using the 'with' statement we are sure the session is closed, thus we\u001b[39;00m\n\u001b[0;32m     56\u001b[0m \u001b[38;5;66;03m# avoid leaving sockets open which can trigger a ResourceWarning in some\u001b[39;00m\n\u001b[0;32m     57\u001b[0m \u001b[38;5;66;03m# cases, and look like a memory leak in others.\u001b[39;00m\n\u001b[0;32m     58\u001b[0m \u001b[38;5;28;01mwith\u001b[39;00m sessions\u001b[38;5;241m.\u001b[39mSession() \u001b[38;5;28;01mas\u001b[39;00m session:\n\u001b[1;32m---> 59\u001b[0m     \u001b[38;5;28;01mreturn\u001b[39;00m session\u001b[38;5;241m.\u001b[39mrequest(method\u001b[38;5;241m=\u001b[39mmethod, url\u001b[38;5;241m=\u001b[39murl, \u001b[38;5;241m*\u001b[39m\u001b[38;5;241m*\u001b[39mkwargs)\n",
      "File \u001b[1;32mc:\\Users\\abelo\\anaconda3\\envs\\v_env\\lib\\site-packages\\requests\\sessions.py:587\u001b[0m, in \u001b[0;36mSession.request\u001b[1;34m(self, method, url, params, data, headers, cookies, files, auth, timeout, allow_redirects, proxies, hooks, stream, verify, cert, json)\u001b[0m\n\u001b[0;32m    582\u001b[0m send_kwargs \u001b[38;5;241m=\u001b[39m {\n\u001b[0;32m    583\u001b[0m     \u001b[38;5;124m\"\u001b[39m\u001b[38;5;124mtimeout\u001b[39m\u001b[38;5;124m\"\u001b[39m: timeout,\n\u001b[0;32m    584\u001b[0m     \u001b[38;5;124m\"\u001b[39m\u001b[38;5;124mallow_redirects\u001b[39m\u001b[38;5;124m\"\u001b[39m: allow_redirects,\n\u001b[0;32m    585\u001b[0m }\n\u001b[0;32m    586\u001b[0m send_kwargs\u001b[38;5;241m.\u001b[39mupdate(settings)\n\u001b[1;32m--> 587\u001b[0m resp \u001b[38;5;241m=\u001b[39m \u001b[38;5;28mself\u001b[39m\u001b[38;5;241m.\u001b[39msend(prep, \u001b[38;5;241m*\u001b[39m\u001b[38;5;241m*\u001b[39msend_kwargs)\n\u001b[0;32m    589\u001b[0m \u001b[38;5;28;01mreturn\u001b[39;00m resp\n",
      "File \u001b[1;32mc:\\Users\\abelo\\anaconda3\\envs\\v_env\\lib\\site-packages\\requests\\sessions.py:701\u001b[0m, in \u001b[0;36mSession.send\u001b[1;34m(self, request, **kwargs)\u001b[0m\n\u001b[0;32m    698\u001b[0m start \u001b[38;5;241m=\u001b[39m preferred_clock()\n\u001b[0;32m    700\u001b[0m \u001b[38;5;66;03m# Send the request\u001b[39;00m\n\u001b[1;32m--> 701\u001b[0m r \u001b[38;5;241m=\u001b[39m adapter\u001b[38;5;241m.\u001b[39msend(request, \u001b[38;5;241m*\u001b[39m\u001b[38;5;241m*\u001b[39mkwargs)\n\u001b[0;32m    703\u001b[0m \u001b[38;5;66;03m# Total elapsed time of the request (approximately)\u001b[39;00m\n\u001b[0;32m    704\u001b[0m elapsed \u001b[38;5;241m=\u001b[39m preferred_clock() \u001b[38;5;241m-\u001b[39m start\n",
      "File \u001b[1;32mc:\\Users\\abelo\\anaconda3\\envs\\v_env\\lib\\site-packages\\requests\\adapters.py:486\u001b[0m, in \u001b[0;36mHTTPAdapter.send\u001b[1;34m(self, request, stream, timeout, verify, cert, proxies)\u001b[0m\n\u001b[0;32m    483\u001b[0m     timeout \u001b[38;5;241m=\u001b[39m TimeoutSauce(connect\u001b[38;5;241m=\u001b[39mtimeout, read\u001b[38;5;241m=\u001b[39mtimeout)\n\u001b[0;32m    485\u001b[0m \u001b[38;5;28;01mtry\u001b[39;00m:\n\u001b[1;32m--> 486\u001b[0m     resp \u001b[38;5;241m=\u001b[39m \u001b[43mconn\u001b[49m\u001b[38;5;241;43m.\u001b[39;49m\u001b[43murlopen\u001b[49m\u001b[43m(\u001b[49m\n\u001b[0;32m    487\u001b[0m \u001b[43m        \u001b[49m\u001b[43mmethod\u001b[49m\u001b[38;5;241;43m=\u001b[39;49m\u001b[43mrequest\u001b[49m\u001b[38;5;241;43m.\u001b[39;49m\u001b[43mmethod\u001b[49m\u001b[43m,\u001b[49m\n\u001b[0;32m    488\u001b[0m \u001b[43m        \u001b[49m\u001b[43murl\u001b[49m\u001b[38;5;241;43m=\u001b[39;49m\u001b[43murl\u001b[49m\u001b[43m,\u001b[49m\n\u001b[0;32m    489\u001b[0m \u001b[43m        \u001b[49m\u001b[43mbody\u001b[49m\u001b[38;5;241;43m=\u001b[39;49m\u001b[43mrequest\u001b[49m\u001b[38;5;241;43m.\u001b[39;49m\u001b[43mbody\u001b[49m\u001b[43m,\u001b[49m\n\u001b[0;32m    490\u001b[0m \u001b[43m        \u001b[49m\u001b[43mheaders\u001b[49m\u001b[38;5;241;43m=\u001b[39;49m\u001b[43mrequest\u001b[49m\u001b[38;5;241;43m.\u001b[39;49m\u001b[43mheaders\u001b[49m\u001b[43m,\u001b[49m\n\u001b[0;32m    491\u001b[0m \u001b[43m        \u001b[49m\u001b[43mredirect\u001b[49m\u001b[38;5;241;43m=\u001b[39;49m\u001b[38;5;28;43;01mFalse\u001b[39;49;00m\u001b[43m,\u001b[49m\n\u001b[0;32m    492\u001b[0m \u001b[43m        \u001b[49m\u001b[43massert_same_host\u001b[49m\u001b[38;5;241;43m=\u001b[39;49m\u001b[38;5;28;43;01mFalse\u001b[39;49;00m\u001b[43m,\u001b[49m\n\u001b[0;32m    493\u001b[0m \u001b[43m        \u001b[49m\u001b[43mpreload_content\u001b[49m\u001b[38;5;241;43m=\u001b[39;49m\u001b[38;5;28;43;01mFalse\u001b[39;49;00m\u001b[43m,\u001b[49m\n\u001b[0;32m    494\u001b[0m \u001b[43m        \u001b[49m\u001b[43mdecode_content\u001b[49m\u001b[38;5;241;43m=\u001b[39;49m\u001b[38;5;28;43;01mFalse\u001b[39;49;00m\u001b[43m,\u001b[49m\n\u001b[0;32m    495\u001b[0m \u001b[43m        \u001b[49m\u001b[43mretries\u001b[49m\u001b[38;5;241;43m=\u001b[39;49m\u001b[38;5;28;43mself\u001b[39;49m\u001b[38;5;241;43m.\u001b[39;49m\u001b[43mmax_retries\u001b[49m\u001b[43m,\u001b[49m\n\u001b[0;32m    496\u001b[0m \u001b[43m        \u001b[49m\u001b[43mtimeout\u001b[49m\u001b[38;5;241;43m=\u001b[39;49m\u001b[43mtimeout\u001b[49m\u001b[43m,\u001b[49m\n\u001b[0;32m    497\u001b[0m \u001b[43m        \u001b[49m\u001b[43mchunked\u001b[49m\u001b[38;5;241;43m=\u001b[39;49m\u001b[43mchunked\u001b[49m\u001b[43m,\u001b[49m\n\u001b[0;32m    498\u001b[0m \u001b[43m    \u001b[49m\u001b[43m)\u001b[49m\n\u001b[0;32m    500\u001b[0m \u001b[38;5;28;01mexcept\u001b[39;00m (ProtocolError, \u001b[38;5;167;01mOSError\u001b[39;00m) \u001b[38;5;28;01mas\u001b[39;00m err:\n\u001b[0;32m    501\u001b[0m     \u001b[38;5;28;01mraise\u001b[39;00m \u001b[38;5;167;01mConnectionError\u001b[39;00m(err, request\u001b[38;5;241m=\u001b[39mrequest)\n",
      "File \u001b[1;32mc:\\Users\\abelo\\anaconda3\\envs\\v_env\\lib\\site-packages\\urllib3\\connectionpool.py:597\u001b[0m, in \u001b[0;36mHTTPConnectionPool.urlopen\u001b[1;34m(self, method, url, body, headers, retries, redirect, assert_same_host, timeout, pool_timeout, release_conn, chunked, body_pos, **response_kw)\u001b[0m\n\u001b[0;32m    594\u001b[0m     \u001b[38;5;28mself\u001b[39m\u001b[38;5;241m.\u001b[39m_prepare_proxy(conn)\n\u001b[0;32m    596\u001b[0m \u001b[38;5;66;03m# Make the request on the httplib connection object.\u001b[39;00m\n\u001b[1;32m--> 597\u001b[0m httplib_response \u001b[38;5;241m=\u001b[39m \u001b[38;5;28;43mself\u001b[39;49m\u001b[38;5;241;43m.\u001b[39;49m\u001b[43m_make_request\u001b[49m\u001b[43m(\u001b[49m\u001b[43mconn\u001b[49m\u001b[43m,\u001b[49m\u001b[43m \u001b[49m\u001b[43mmethod\u001b[49m\u001b[43m,\u001b[49m\u001b[43m \u001b[49m\u001b[43murl\u001b[49m\u001b[43m,\u001b[49m\n\u001b[0;32m    598\u001b[0m \u001b[43m                                      \u001b[49m\u001b[43mtimeout\u001b[49m\u001b[38;5;241;43m=\u001b[39;49m\u001b[43mtimeout_obj\u001b[49m\u001b[43m,\u001b[49m\n\u001b[0;32m    599\u001b[0m \u001b[43m                                      \u001b[49m\u001b[43mbody\u001b[49m\u001b[38;5;241;43m=\u001b[39;49m\u001b[43mbody\u001b[49m\u001b[43m,\u001b[49m\u001b[43m \u001b[49m\u001b[43mheaders\u001b[49m\u001b[38;5;241;43m=\u001b[39;49m\u001b[43mheaders\u001b[49m\u001b[43m,\u001b[49m\n\u001b[0;32m    600\u001b[0m \u001b[43m                                      \u001b[49m\u001b[43mchunked\u001b[49m\u001b[38;5;241;43m=\u001b[39;49m\u001b[43mchunked\u001b[49m\u001b[43m)\u001b[49m\n\u001b[0;32m    602\u001b[0m \u001b[38;5;66;03m# If we're going to release the connection in ``finally:``, then\u001b[39;00m\n\u001b[0;32m    603\u001b[0m \u001b[38;5;66;03m# the response doesn't need to know about the connection. Otherwise\u001b[39;00m\n\u001b[0;32m    604\u001b[0m \u001b[38;5;66;03m# it will also try to release it and we'll have a double-release\u001b[39;00m\n\u001b[0;32m    605\u001b[0m \u001b[38;5;66;03m# mess.\u001b[39;00m\n\u001b[0;32m    606\u001b[0m response_conn \u001b[38;5;241m=\u001b[39m conn \u001b[38;5;28;01mif\u001b[39;00m \u001b[38;5;129;01mnot\u001b[39;00m release_conn \u001b[38;5;28;01melse\u001b[39;00m \u001b[38;5;28;01mNone\u001b[39;00m\n",
      "File \u001b[1;32mc:\\Users\\abelo\\anaconda3\\envs\\v_env\\lib\\site-packages\\urllib3\\connectionpool.py:380\u001b[0m, in \u001b[0;36mHTTPConnectionPool._make_request\u001b[1;34m(self, conn, method, url, timeout, chunked, **httplib_request_kw)\u001b[0m\n\u001b[0;32m    378\u001b[0m \u001b[38;5;28;01mexcept\u001b[39;00m \u001b[38;5;167;01mTypeError\u001b[39;00m:  \u001b[38;5;66;03m# Python 3\u001b[39;00m\n\u001b[0;32m    379\u001b[0m     \u001b[38;5;28;01mtry\u001b[39;00m:\n\u001b[1;32m--> 380\u001b[0m         httplib_response \u001b[38;5;241m=\u001b[39m \u001b[43mconn\u001b[49m\u001b[38;5;241;43m.\u001b[39;49m\u001b[43mgetresponse\u001b[49m\u001b[43m(\u001b[49m\u001b[43m)\u001b[49m\n\u001b[0;32m    381\u001b[0m     \u001b[38;5;28;01mexcept\u001b[39;00m \u001b[38;5;167;01mException\u001b[39;00m \u001b[38;5;28;01mas\u001b[39;00m e:\n\u001b[0;32m    382\u001b[0m         \u001b[38;5;66;03m# Remove the TypeError from the exception chain in Python 3;\u001b[39;00m\n\u001b[0;32m    383\u001b[0m         \u001b[38;5;66;03m# otherwise it looks like a programming error was the cause.\u001b[39;00m\n\u001b[0;32m    384\u001b[0m         six\u001b[38;5;241m.\u001b[39mraise_from(e, \u001b[38;5;28;01mNone\u001b[39;00m)\n",
      "File \u001b[1;32mc:\\Users\\abelo\\anaconda3\\envs\\v_env\\lib\\http\\client.py:1374\u001b[0m, in \u001b[0;36mHTTPConnection.getresponse\u001b[1;34m(self)\u001b[0m\n\u001b[0;32m   1372\u001b[0m \u001b[38;5;28;01mtry\u001b[39;00m:\n\u001b[0;32m   1373\u001b[0m     \u001b[38;5;28;01mtry\u001b[39;00m:\n\u001b[1;32m-> 1374\u001b[0m         \u001b[43mresponse\u001b[49m\u001b[38;5;241;43m.\u001b[39;49m\u001b[43mbegin\u001b[49m\u001b[43m(\u001b[49m\u001b[43m)\u001b[49m\n\u001b[0;32m   1375\u001b[0m     \u001b[38;5;28;01mexcept\u001b[39;00m \u001b[38;5;167;01mConnectionError\u001b[39;00m:\n\u001b[0;32m   1376\u001b[0m         \u001b[38;5;28mself\u001b[39m\u001b[38;5;241m.\u001b[39mclose()\n",
      "File \u001b[1;32mc:\\Users\\abelo\\anaconda3\\envs\\v_env\\lib\\http\\client.py:318\u001b[0m, in \u001b[0;36mHTTPResponse.begin\u001b[1;34m(self)\u001b[0m\n\u001b[0;32m    316\u001b[0m \u001b[38;5;66;03m# read until we get a non-100 response\u001b[39;00m\n\u001b[0;32m    317\u001b[0m \u001b[38;5;28;01mwhile\u001b[39;00m \u001b[38;5;28;01mTrue\u001b[39;00m:\n\u001b[1;32m--> 318\u001b[0m     version, status, reason \u001b[38;5;241m=\u001b[39m \u001b[38;5;28;43mself\u001b[39;49m\u001b[38;5;241;43m.\u001b[39;49m\u001b[43m_read_status\u001b[49m\u001b[43m(\u001b[49m\u001b[43m)\u001b[49m\n\u001b[0;32m    319\u001b[0m     \u001b[38;5;28;01mif\u001b[39;00m status \u001b[38;5;241m!=\u001b[39m CONTINUE:\n\u001b[0;32m    320\u001b[0m         \u001b[38;5;28;01mbreak\u001b[39;00m\n",
      "File \u001b[1;32mc:\\Users\\abelo\\anaconda3\\envs\\v_env\\lib\\http\\client.py:279\u001b[0m, in \u001b[0;36mHTTPResponse._read_status\u001b[1;34m(self)\u001b[0m\n\u001b[0;32m    278\u001b[0m \u001b[38;5;28;01mdef\u001b[39;00m \u001b[38;5;21m_read_status\u001b[39m(\u001b[38;5;28mself\u001b[39m):\n\u001b[1;32m--> 279\u001b[0m     line \u001b[38;5;241m=\u001b[39m \u001b[38;5;28mstr\u001b[39m(\u001b[38;5;28;43mself\u001b[39;49m\u001b[38;5;241;43m.\u001b[39;49m\u001b[43mfp\u001b[49m\u001b[38;5;241;43m.\u001b[39;49m\u001b[43mreadline\u001b[49m\u001b[43m(\u001b[49m\u001b[43m_MAXLINE\u001b[49m\u001b[43m \u001b[49m\u001b[38;5;241;43m+\u001b[39;49m\u001b[43m \u001b[49m\u001b[38;5;241;43m1\u001b[39;49m\u001b[43m)\u001b[49m, \u001b[38;5;124m\"\u001b[39m\u001b[38;5;124miso-8859-1\u001b[39m\u001b[38;5;124m\"\u001b[39m)\n\u001b[0;32m    280\u001b[0m     \u001b[38;5;28;01mif\u001b[39;00m \u001b[38;5;28mlen\u001b[39m(line) \u001b[38;5;241m>\u001b[39m _MAXLINE:\n\u001b[0;32m    281\u001b[0m         \u001b[38;5;28;01mraise\u001b[39;00m LineTooLong(\u001b[38;5;124m\"\u001b[39m\u001b[38;5;124mstatus line\u001b[39m\u001b[38;5;124m\"\u001b[39m)\n",
      "File \u001b[1;32mc:\\Users\\abelo\\anaconda3\\envs\\v_env\\lib\\socket.py:705\u001b[0m, in \u001b[0;36mSocketIO.readinto\u001b[1;34m(self, b)\u001b[0m\n\u001b[0;32m    703\u001b[0m \u001b[38;5;28;01mwhile\u001b[39;00m \u001b[38;5;28;01mTrue\u001b[39;00m:\n\u001b[0;32m    704\u001b[0m     \u001b[38;5;28;01mtry\u001b[39;00m:\n\u001b[1;32m--> 705\u001b[0m         \u001b[38;5;28;01mreturn\u001b[39;00m \u001b[38;5;28;43mself\u001b[39;49m\u001b[38;5;241;43m.\u001b[39;49m\u001b[43m_sock\u001b[49m\u001b[38;5;241;43m.\u001b[39;49m\u001b[43mrecv_into\u001b[49m\u001b[43m(\u001b[49m\u001b[43mb\u001b[49m\u001b[43m)\u001b[49m\n\u001b[0;32m    706\u001b[0m     \u001b[38;5;28;01mexcept\u001b[39;00m timeout:\n\u001b[0;32m    707\u001b[0m         \u001b[38;5;28mself\u001b[39m\u001b[38;5;241m.\u001b[39m_timeout_occurred \u001b[38;5;241m=\u001b[39m \u001b[38;5;28;01mTrue\u001b[39;00m\n",
      "File \u001b[1;32mc:\\Users\\abelo\\anaconda3\\envs\\v_env\\lib\\ssl.py:1273\u001b[0m, in \u001b[0;36mSSLSocket.recv_into\u001b[1;34m(self, buffer, nbytes, flags)\u001b[0m\n\u001b[0;32m   1269\u001b[0m     \u001b[38;5;28;01mif\u001b[39;00m flags \u001b[38;5;241m!=\u001b[39m \u001b[38;5;241m0\u001b[39m:\n\u001b[0;32m   1270\u001b[0m         \u001b[38;5;28;01mraise\u001b[39;00m \u001b[38;5;167;01mValueError\u001b[39;00m(\n\u001b[0;32m   1271\u001b[0m           \u001b[38;5;124m\"\u001b[39m\u001b[38;5;124mnon-zero flags not allowed in calls to recv_into() on \u001b[39m\u001b[38;5;132;01m%s\u001b[39;00m\u001b[38;5;124m\"\u001b[39m \u001b[38;5;241m%\u001b[39m\n\u001b[0;32m   1272\u001b[0m           \u001b[38;5;28mself\u001b[39m\u001b[38;5;241m.\u001b[39m\u001b[38;5;18m__class__\u001b[39m)\n\u001b[1;32m-> 1273\u001b[0m     \u001b[38;5;28;01mreturn\u001b[39;00m \u001b[38;5;28;43mself\u001b[39;49m\u001b[38;5;241;43m.\u001b[39;49m\u001b[43mread\u001b[49m\u001b[43m(\u001b[49m\u001b[43mnbytes\u001b[49m\u001b[43m,\u001b[49m\u001b[43m \u001b[49m\u001b[43mbuffer\u001b[49m\u001b[43m)\u001b[49m\n\u001b[0;32m   1274\u001b[0m \u001b[38;5;28;01melse\u001b[39;00m:\n\u001b[0;32m   1275\u001b[0m     \u001b[38;5;28;01mreturn\u001b[39;00m \u001b[38;5;28msuper\u001b[39m()\u001b[38;5;241m.\u001b[39mrecv_into(buffer, nbytes, flags)\n",
      "File \u001b[1;32mc:\\Users\\abelo\\anaconda3\\envs\\v_env\\lib\\ssl.py:1129\u001b[0m, in \u001b[0;36mSSLSocket.read\u001b[1;34m(self, len, buffer)\u001b[0m\n\u001b[0;32m   1127\u001b[0m \u001b[38;5;28;01mtry\u001b[39;00m:\n\u001b[0;32m   1128\u001b[0m     \u001b[38;5;28;01mif\u001b[39;00m buffer \u001b[38;5;129;01mis\u001b[39;00m \u001b[38;5;129;01mnot\u001b[39;00m \u001b[38;5;28;01mNone\u001b[39;00m:\n\u001b[1;32m-> 1129\u001b[0m         \u001b[38;5;28;01mreturn\u001b[39;00m \u001b[38;5;28;43mself\u001b[39;49m\u001b[38;5;241;43m.\u001b[39;49m\u001b[43m_sslobj\u001b[49m\u001b[38;5;241;43m.\u001b[39;49m\u001b[43mread\u001b[49m\u001b[43m(\u001b[49m\u001b[38;5;28;43mlen\u001b[39;49m\u001b[43m,\u001b[49m\u001b[43m \u001b[49m\u001b[43mbuffer\u001b[49m\u001b[43m)\u001b[49m\n\u001b[0;32m   1130\u001b[0m     \u001b[38;5;28;01melse\u001b[39;00m:\n\u001b[0;32m   1131\u001b[0m         \u001b[38;5;28;01mreturn\u001b[39;00m \u001b[38;5;28mself\u001b[39m\u001b[38;5;241m.\u001b[39m_sslobj\u001b[38;5;241m.\u001b[39mread(\u001b[38;5;28mlen\u001b[39m)\n",
      "\u001b[1;31mKeyboardInterrupt\u001b[0m: "
     ]
    }
   ],
   "source": [
    "def get_query(name, value):\n",
    "    name = str(name).replace('\"', ' ')\n",
    "    if value is not None:\n",
    "        # Soft filtering constraint\n",
    "        query_dict = {\n",
    "            \"query\": {\n",
    "                \"bool\": {\n",
    "                    \"must\": [\n",
    "                        {\"match\": {\"name\": {\"query\": name, \"boost\": 2.0}}}\n",
    "                    ],\n",
    "                    \"should\": [\n",
    "                        {\"term\": {\"NERtype\": value}}\n",
    "                    ]\n",
    "                }\n",
    "            }\n",
    "        }\n",
    "        params = {\n",
    "            'name': name,\n",
    "            'token': 'lamapi_demo_2023',\n",
    "            'kg': 'wikidata',\n",
    "            'limit': 1000,\n",
    "            'query': json.dumps(query_dict),  # Convert the query dictionary to a JSON string\n",
    "            'sort': [\n",
    "                '{\"popularity\": {\"order\": \"desc\"}}'\n",
    "            ]\n",
    "        }\n",
    "    \n",
    "    return params\n",
    "\n",
    "url = 'https://lamapi.hel.sintef.cloud/entity/labels?token=lamapi_demo_2023'\n",
    "\n",
    "# Define the headers\n",
    "headers = {\n",
    "    'accept': 'application/json',\n",
    "    'Content-Type': 'application/json'\n",
    "}\n",
    "\n",
    "queries = []\n",
    "for key in tqdm(key_to_cell_sample):\n",
    "    id_table, _, id_col = key.split(\" \")\n",
    "    name = key_to_cell[key][0]\n",
    "    q_ids = key_to_cell[key][1].split(' ')\n",
    "    new_key = f\"{id_table} {id_col}\"\n",
    "    if new_key in ner_type:\n",
    "        NER_type = ner_type[new_key]\n",
    "        if NER_type != None:\n",
    "            query = get_query(name, NER_type)\n",
    "            \n",
    "            matched_results = []\n",
    "            for q_id in q_ids:            \n",
    "                match = re.search(r'Q(\\d+)$', q_id)\n",
    "                if not match:\n",
    "                    continue\n",
    "                data = {\n",
    "                    'json': [match[0]]\n",
    "                }\n",
    "\n",
    "                json_data = json.dumps(data)\n",
    "                response = requests.post(url, headers=headers, data=json_data)\n",
    "                if len(response.json()) == 0:\n",
    "                    continue\n",
    "                \n",
    "                true_ner = response.json()[match[0]]['NERtype']\n",
    "                break\n",
    "\n",
    "            if match:\n",
    "                data = json.loads(query['query'])\n",
    "                ner_type_list = data['query']['bool']['should'][0]['term']['NERtype']\n",
    "                # ner_type_list is the ner column\n",
    "                queries.append((query, match[0],ner_type_list, true_ner))\n"
   ]
  },
  {
   "cell_type": "code",
   "execution_count": 1,
   "id": "e5bbebcd",
   "metadata": {},
   "outputs": [
    {
     "ename": "NameError",
     "evalue": "name 'tqdm' is not defined",
     "output_type": "error",
     "traceback": [
      "\u001b[1;31m---------------------------------------------------------------------------\u001b[0m",
      "\u001b[1;31mNameError\u001b[0m                                 Traceback (most recent call last)",
      "Input \u001b[1;32mIn [1]\u001b[0m, in \u001b[0;36m<cell line: 38>\u001b[1;34m()\u001b[0m\n\u001b[0;32m     32\u001b[0m headers \u001b[38;5;241m=\u001b[39m {\n\u001b[0;32m     33\u001b[0m     \u001b[38;5;124m'\u001b[39m\u001b[38;5;124maccept\u001b[39m\u001b[38;5;124m'\u001b[39m: \u001b[38;5;124m'\u001b[39m\u001b[38;5;124mapplication/json\u001b[39m\u001b[38;5;124m'\u001b[39m,\n\u001b[0;32m     34\u001b[0m     \u001b[38;5;124m'\u001b[39m\u001b[38;5;124mContent-Type\u001b[39m\u001b[38;5;124m'\u001b[39m: \u001b[38;5;124m'\u001b[39m\u001b[38;5;124mapplication/json\u001b[39m\u001b[38;5;124m'\u001b[39m\n\u001b[0;32m     35\u001b[0m }\n\u001b[0;32m     37\u001b[0m queries \u001b[38;5;241m=\u001b[39m []\n\u001b[1;32m---> 38\u001b[0m \u001b[38;5;28;01mfor\u001b[39;00m key \u001b[38;5;129;01min\u001b[39;00m \u001b[43mtqdm\u001b[49m(key_to_cell_sample):\n\u001b[0;32m     39\u001b[0m     id_table, _, id_col \u001b[38;5;241m=\u001b[39m key\u001b[38;5;241m.\u001b[39msplit(\u001b[38;5;124m\"\u001b[39m\u001b[38;5;124m \u001b[39m\u001b[38;5;124m\"\u001b[39m)\n\u001b[0;32m     40\u001b[0m     name \u001b[38;5;241m=\u001b[39m key_to_cell[key][\u001b[38;5;241m0\u001b[39m]\n",
      "\u001b[1;31mNameError\u001b[0m: name 'tqdm' is not defined"
     ]
    }
   ],
   "source": [
    "def get_query(name, value):\n",
    "    name = str(name).replace('\"', ' ')\n",
    "\n",
    "    if value is not None:\n",
    "        # Hard filtering constraint\n",
    "        query_dict = {\n",
    "            \"query\": {\n",
    "                \"bool\": {\n",
    "                    \"must\": [\n",
    "                        {\"match\": {\"name\": {\"query\": name, \"boost\": 2.0}}},\n",
    "                        {\"term\": {\"NERtype\": value}}\n",
    "                    ]\n",
    "                }\n",
    "            }\n",
    "        }\n",
    "        params = {\n",
    "            'name': name,\n",
    "            'token': 'lamapi_demo_2023',\n",
    "            'kg': 'wikidata',\n",
    "            'limit': 1000,\n",
    "            'query': json.dumps(query_dict),  # Convert the query dictionary to a JSON string\n",
    "            'sort': [\n",
    "                '{\"popularity\": {\"order\": \"desc\"}}'\n",
    "            ]\n",
    "        }    \n",
    "\n",
    "    return params\n",
    "\n",
    "url = 'https://lamapi.hel.sintef.cloud/entity/labels?token=lamapi_demo_2023'\n",
    "\n",
    "# Define the headers\n",
    "headers = {\n",
    "    'accept': 'application/json',\n",
    "    'Content-Type': 'application/json'\n",
    "}\n",
    "\n",
    "queries = []\n",
    "for key in tqdm(key_to_cell_sample):\n",
    "    id_table, _, id_col = key.split(\" \")\n",
    "    name = key_to_cell[key][0]\n",
    "    q_ids = key_to_cell[key][1].split(' ')\n",
    "    new_key = f\"{id_table} {id_col}\"\n",
    "    if new_key in ner_type:\n",
    "        NER_type = ner_type[new_key]\n",
    "        if NER_type is None:\n",
    "            print(f\"q_ids: {q_ids}, ner_type key: {new_key}\")\n",
    "        query = get_query(name, NER_type)\n",
    "        \n",
    "        matched_results = []\n",
    "        for q_id in q_ids:\n",
    "            match = re.search(r'Q(\\d+)$', q_id)\n",
    "            if not match:\n",
    "                continue\n",
    "            data = {\n",
    "                'json': [match[0]]\n",
    "            }\n",
    "\n",
    "            json_data = json.dumps(data)\n",
    "            response = requests.post(url, headers=headers, data=json_data)\n",
    "            if len(response.json()) == 0:\n",
    "                continue\n",
    "            \n",
    "            true_ner = response.json()[match[0]]['NERtype']\n",
    "            break\n",
    "\n",
    "        if match:\n",
    "            data = json.loads(query['query'])\n",
    "            ner_type_list = data['query']['bool']['must'][1]['term']['NERtype']\n",
    "            queries.append((query, match[0],ner_type_list,true_ner))\n"
   ]
  },
  {
   "cell_type": "code",
   "execution_count": 87,
   "id": "56ee6b07",
   "metadata": {},
   "outputs": [
    {
     "name": "stderr",
     "output_type": "stream",
     "text": [
      "\n",
      "  0%|          | 0/506 [00:00<?, ?it/s]"
     ]
    },
    {
     "name": "stderr",
     "output_type": "stream",
     "text": [
      "\u001b[A"
     ]
    }
   ],
   "source": [
    "import aiohttp\n",
    "import asyncio\n",
    "import backoff\n",
    "import nest_asyncio\n",
    "import random\n",
    "from tqdm import tqdm\n",
    "import numpy as np\n",
    "\n",
    "# Assume queries is a list of tuples [(param1, id1), (param2, id2), ...]\n",
    "\n",
    "failed_queries = {}\n",
    "url = 'https://lamapi.hel.sintef.cloud/lookup/entity-retrieval'\n",
    "\n",
    "# Backoff decorator for handling retries with exponential backoff\n",
    "@backoff.on_exception(\n",
    "    backoff.expo, \n",
    "    (aiohttp.ClientError, aiohttp.http_exceptions.HttpProcessingError, asyncio.TimeoutError), \n",
    "    max_tries=10, \n",
    "    max_time=400\n",
    ")\n",
    "async def fetch(session, url, params, headers, semaphore):\n",
    "    async with semaphore:\n",
    "        # Convert all params to str, int, or float\n",
    "        #params = {k: (int(v) if isinstance(v, np.integer) else str(v)) for k, v in params.items()}\n",
    "        async with session.get(url, params=params, headers=headers, timeout=50) as response:\n",
    "            try:\n",
    "                response.raise_for_status()  # Raises an exception for 4XX/5XX status codes\n",
    "                return await response.json()\n",
    "            except Exception as e:\n",
    "                return []\n",
    "\n",
    "async def process_item(session, url, id, headers, params, semaphore, pbar):\n",
    "    try:\n",
    "        data = await fetch(session, url, params, headers, semaphore)\n",
    "    except aiohttp.ClientResponseError as e:\n",
    "        if e.status == 404:\n",
    "            print(f\"404 Error: Resource not found for '{id}'\")\n",
    "            asyncio.get_event_loop().call_soon_threadsafe(pbar.update, 1)\n",
    "            return 0, 0\n",
    "        else:\n",
    "            raise  # Re-raise the exception for other status codes\n",
    "\n",
    "    num_result = len(data) if data else 0\n",
    "\n",
    "    if data:\n",
    "        for item in data:\n",
    "            if id == item.get('id'):\n",
    "                asyncio.get_event_loop().call_soon_threadsafe(pbar.update, 1)\n",
    "                pos_score = item.get('pos_score', 0)\n",
    "                if pos_score:\n",
    "                    mrr_increment = (num_result - (pos_score * num_result)) / num_result\n",
    "                else:\n",
    "                    mrr_increment = 1 / num_result  # Assume worst case for MRR if pos_score is 0\n",
    "                return mrr_increment, 1\n",
    "\n",
    "    return 0, 0\n",
    "\n",
    "async def main(queries, url, pbar, failed_queries):\n",
    "    headers = {'accept': 'application/json'}\n",
    "    semaphore = asyncio.Semaphore(50)  # Limit to 50 concurrent requests\n",
    "    m_mrr = 0\n",
    "    cont_el = 0\n",
    "\n",
    "    async with aiohttp.ClientSession() as session:\n",
    "        tasks = []\n",
    "        for param, id, _, _ in queries:\n",
    "            tasks.append(process_item(session, url, id, headers, param, semaphore, pbar))\n",
    "        \n",
    "        results = await asyncio.gather(*tasks)\n",
    "        \n",
    "        for (mrr_increment, count), (param, id, col_NERtype, item_NERtype) in zip(results, queries):\n",
    "            if mrr_increment == 0 and count == 0:\n",
    "                failed_queries[id] = (col_NERtype, item_NERtype)\n",
    "            else:\n",
    "                m_mrr += mrr_increment\n",
    "                cont_el += count\n",
    "\n",
    "        asyncio.get_event_loop().call_soon_threadsafe(pbar.close)\n",
    "\n",
    "    print(f\"Coverage of 2T: {cont_el / len(queries)}\")\n",
    "    print(f\"Measure Reciprocal Rank of 2T: {m_mrr / len(queries)}\")\n",
    "\n",
    "# Check if there's already a running event loop\n",
    "if __name__ == \"__main__\":\n",
    "    nest_asyncio.apply()  # Apply nest_asyncio\n",
    "    try:\n",
    "        pbar = tqdm(total=len(queries))\n",
    "        asyncio.run(main(queries, url, pbar, failed_queries))\n",
    "    except RuntimeError:  # For environments like Jupyter\n",
    "        loop = asyncio.get_event_loop()\n",
    "        loop.run_until_complete(main(queries, url, pbar, failed_queries))\n"
   ]
  },
  {
   "cell_type": "code",
   "execution_count": 82,
   "id": "3b5e6926",
   "metadata": {},
   "outputs": [],
   "source": [
    "with open('C:/ALESSANDRO/Università/MAGISTRALE/SINTEF_thesis/lamAPI/data/R4_failed_queries_HARD.json', 'w') as json_file:\n",
    "    json.dump(failed_queries, json_file, indent=4)"
   ]
  },
  {
   "cell_type": "code",
   "execution_count": 44,
   "id": "c9ab62b0",
   "metadata": {},
   "outputs": [
    {
     "data": {
      "text/plain": [
       "{'Q41319588': 'OTHERS',\n",
       " 'Q279292': 'OTHERS',\n",
       " 'Q306216': 'LOC',\n",
       " 'Q64616170': 'ORG',\n",
       " 'Q105231773': 'ORG',\n",
       " 'Q2201159': 'OTHERS',\n",
       " 'Q176830': 'LOC',\n",
       " 'Q10333266': 'LOC',\n",
       " 'Q105064589': 'ORG',\n",
       " 'Q1570564': 'OTHERS',\n",
       " 'Q56477536': 'ORG',\n",
       " 'Q1319364': 'OTHERS',\n",
       " 'Q1168148': 'OTHERS',\n",
       " 'Q84933431': 'OTHERS',\n",
       " 'Q83640976': 'OTHERS',\n",
       " 'Q60372364': 'OTHERS',\n",
       " 'Q11365639': 'LOC',\n",
       " 'Q89692143': 'ORG',\n",
       " 'Q2823425': 'LOC',\n",
       " 'Q18845117': 'OTHERS',\n",
       " 'Q41319497': 'OTHERS',\n",
       " 'Q9282293': 'LOC',\n",
       " 'Q57033626': 'OTHERS',\n",
       " 'Q889587': 'OTHERS',\n",
       " 'Q2153640': 'OTHERS',\n",
       " 'Q1646461': 'LOC',\n",
       " 'Q18882447': 'OTHERS',\n",
       " 'Q1547773': 'ORG',\n",
       " 'Q14217100': 'LOC',\n",
       " 'Q64682396': 'OTHERS',\n",
       " 'Q96069725': 'LOC',\n",
       " 'Q12544': 'LOC',\n",
       " 'Q5970': 'ORG',\n",
       " 'Q86354019': 'OTHERS',\n",
       " 'Q4651363': 'ORG',\n",
       " 'Q311695': 'OTHERS',\n",
       " 'Q93040237': 'OTHERS',\n",
       " 'Q41796518': 'OTHERS',\n",
       " 'Q278151': 'OTHERS',\n",
       " 'Q2981963': 'LOC',\n",
       " 'Q80111478': 'OTHERS',\n",
       " 'Q91511110': 'OTHERS',\n",
       " 'Q834482': 'OTHERS',\n",
       " 'Q86248958': 'OTHERS',\n",
       " 'Q2272973': 'OTHERS',\n",
       " 'Q342939': 'OTHERS',\n",
       " 'Q91420452': 'OTHERS',\n",
       " 'Q2704704': 'OTHERS',\n",
       " 'Q263741': 'LOC',\n",
       " 'Q78243762': 'OTHERS',\n",
       " 'Q765644': 'LOC',\n",
       " 'Q2616988': 'OTHERS',\n",
       " 'Q86358821': 'LOC',\n",
       " 'Q1803099': 'LOC',\n",
       " 'Q1759911': 'ORG',\n",
       " 'Q77980182': 'OTHERS',\n",
       " 'Q1929004': 'OTHERS',\n",
       " 'Q20805463': 'OTHERS',\n",
       " 'Q5956': 'ORG',\n",
       " 'Q2375620': 'ORG',\n",
       " 'Q15989': 'LOC',\n",
       " 'Q997087': 'LOC',\n",
       " 'Q1530878': 'OTHERS',\n",
       " 'Q14505644': 'LOC',\n",
       " 'Q12626835': 'OTHERS',\n",
       " 'Q41319513': 'OTHERS',\n",
       " 'Q76759829': 'OTHERS',\n",
       " 'Q77980709': 'OTHERS',\n",
       " 'Q52902': 'LOC',\n",
       " 'Q2743705': 'OTHERS',\n",
       " 'Q484664': 'LOC',\n",
       " 'Q82230': 'OTHERS',\n",
       " 'Q921119': 'OTHERS',\n",
       " 'Q86156996': 'OTHERS',\n",
       " 'Q15831435': 'OTHERS',\n",
       " 'Q178878': 'LOC',\n",
       " 'Q1218597': 'OTHERS',\n",
       " 'Q207406': 'LOC',\n",
       " 'Q1630016': 'OTHERS',\n",
       " 'Q18888595': 'OTHERS',\n",
       " 'Q58439861': 'ORG',\n",
       " 'Q77909609': 'OTHERS',\n",
       " 'Q69693505': 'ORG',\n",
       " 'Q77982444': 'OTHERS',\n",
       " 'Q983729': 'LOC',\n",
       " 'Q76782542': 'OTHERS',\n",
       " 'Q3088623': 'LOC',\n",
       " 'Q9336171': 'LOC',\n",
       " 'Q1148576': 'OTHERS',\n",
       " 'Q86203840': 'OTHERS',\n",
       " 'Q78244925': 'OTHERS',\n",
       " 'Q3231617': 'OTHERS',\n",
       " 'Q223799': 'ORG',\n",
       " 'Q7355542': 'OTHERS',\n",
       " 'Q2295412': 'LOC',\n",
       " 'Q1569781': 'OTHERS',\n",
       " 'Q86853644': 'OTHERS',\n",
       " 'Q1112934': 'LOC',\n",
       " 'Q3688251': 'OTHERS',\n",
       " 'Q3476523': 'OTHERS',\n",
       " 'Q497861': 'LOC',\n",
       " 'Q2424850': 'OTHERS',\n",
       " 'Q993743': 'OTHERS',\n",
       " 'Q7885334': 'OTHERS',\n",
       " 'Q1993660': 'LOC',\n",
       " 'Q78191247': 'OTHERS',\n",
       " 'Q497804': 'LOC',\n",
       " 'Q164596': 'ORG',\n",
       " 'Q77629205': 'OTHERS',\n",
       " 'Q25022515': 'LOC',\n",
       " 'Q194104': 'OTHERS',\n",
       " 'Q17999': 'OTHERS',\n",
       " 'Q21560198': 'LOC',\n",
       " 'Q18882458': 'OTHERS',\n",
       " 'Q2987303': 'OTHERS',\n",
       " 'Q6053': 'ORG',\n",
       " 'Q18845536': 'OTHERS',\n",
       " 'Q2856316': 'LOC',\n",
       " 'Q7831634': 'OTHERS',\n",
       " 'Q15814081': 'LOC',\n",
       " 'Q1569748': 'OTHERS',\n",
       " 'Q41319510': 'OTHERS',\n",
       " 'Q483153': 'ORG',\n",
       " 'Q2652121': 'OTHERS',\n",
       " 'Q1890759': 'OTHERS',\n",
       " 'Q14489431': 'LOC',\n",
       " 'Q3342': 'LOC',\n",
       " 'Q930838': 'LOC',\n",
       " 'Q2162084': 'LOC',\n",
       " 'Q2963301': 'ORG',\n",
       " 'Q1775206': 'LOC',\n",
       " 'Q79998002': 'OTHERS',\n",
       " 'Q97015150': 'OTHERS',\n",
       " 'Q1803466': 'LOC',\n",
       " 'Q3731342': 'OTHERS',\n",
       " 'Q988751': 'OTHERS',\n",
       " 'Q13466446': 'OTHERS',\n",
       " 'Q39000032': 'OTHERS',\n",
       " 'Q575822': 'LOC',\n",
       " 'Q62390260': 'OTHERS',\n",
       " 'Q66228': 'LOC',\n",
       " 'Q3499049': 'LOC',\n",
       " 'Q15874954': 'OTHERS',\n",
       " 'Q3710279': 'OTHERS',\n",
       " 'Q309331': 'ORG',\n",
       " 'Q75699327': 'LOC',\n",
       " 'Q40881': 'OTHERS',\n",
       " 'Q5776966': 'ORG',\n",
       " 'Q20805484': 'OTHERS',\n",
       " 'Q77307090': 'OTHERS',\n",
       " 'Q65770023': 'OTHERS',\n",
       " 'Q2894053': 'ORG',\n",
       " 'Q3599937': 'OTHERS',\n",
       " 'Q86091591': 'OTHERS',\n",
       " 'Q10435003': 'LOC',\n",
       " 'Q86466789': 'OTHERS',\n",
       " 'Q2329092': 'OTHERS',\n",
       " 'Q3599076': 'OTHERS',\n",
       " 'Q97007039': 'OTHERS',\n",
       " 'Q134735': 'LOC',\n",
       " 'Q150489': 'ORG',\n",
       " 'Q3687331': 'OTHERS',\n",
       " 'Q97627496': 'OTHERS',\n",
       " 'Q74651897': 'OTHERS',\n",
       " 'Q19725078': 'OTHERS',\n",
       " 'Q1353876': 'LOC',\n",
       " 'Q80709392': 'OTHERS',\n",
       " 'Q10328623': 'LOC',\n",
       " 'Q56477541': 'ORG',\n",
       " 'Q1112438': 'ORG',\n",
       " 'Q1301234': 'ORG',\n",
       " 'Q176914': 'LOC',\n",
       " 'Q3130565': 'OTHERS',\n",
       " 'Q1569868': 'OTHERS',\n",
       " 'Q13460607': 'OTHERS',\n",
       " 'Q55636858': 'OTHERS',\n",
       " 'Q6045': 'ORG',\n",
       " 'Q82995560': 'OTHERS',\n",
       " 'Q18845590': 'OTHERS',\n",
       " 'Q612773': 'LOC',\n",
       " 'Q278877': 'LOC',\n",
       " 'Q202128': 'LOC',\n",
       " 'Q633324': 'LOC',\n",
       " 'Q3688331': 'OTHERS',\n",
       " 'Q102469': 'LOC',\n",
       " 'Q65772208': 'OTHERS',\n",
       " 'Q2628399': 'OTHERS',\n",
       " 'Q1045374': 'OTHERS',\n",
       " 'Q89575559': 'OTHERS',\n",
       " 'Q2533598': 'OTHERS',\n",
       " 'Q81177165': 'OTHERS',\n",
       " 'Q1013478': 'ORG',\n",
       " 'Q1569821': 'OTHERS',\n",
       " 'Q91027815': 'OTHERS',\n",
       " 'Q79805043': 'OTHERS',\n",
       " 'Q686645': 'ORG',\n",
       " 'Q22402198': 'LOC',\n",
       " 'Q63771': 'LOC',\n",
       " 'Q18614927': 'OTHERS',\n",
       " 'Q388488': 'LOC',\n",
       " 'Q28917': 'OTHERS',\n",
       " 'Q83631759': 'OTHERS',\n",
       " 'Q18882079': 'OTHERS',\n",
       " 'Q16024': 'LOC',\n",
       " 'Q1634594': 'OTHERS',\n",
       " 'Q501242': 'LOC',\n",
       " 'Q10451': 'ORG',\n",
       " 'Q3689919': 'OTHERS',\n",
       " 'Q38049003': 'LOC',\n",
       " 'Q56052397': 'OTHERS',\n",
       " 'Q1559811': 'ORG',\n",
       " 'Q1149612': 'OTHERS',\n",
       " 'Q18882440': 'OTHERS',\n",
       " 'Q4529416': 'OTHERS',\n",
       " 'Q1205642': 'ORG',\n",
       " 'Q11700300': 'LOC',\n",
       " 'Q92937763': 'OTHERS',\n",
       " 'Q1862339': 'OTHERS',\n",
       " 'Q2395500': 'OTHERS',\n",
       " 'Q28923850': 'OTHERS',\n",
       " 'Q894759': 'LOC',\n",
       " 'Q660016': 'LOC',\n",
       " 'Q18882089': 'OTHERS',\n",
       " 'Q91825799': 'OTHERS',\n",
       " 'Q519788': 'LOC',\n",
       " 'Q3780470': 'OTHERS',\n",
       " 'Q66623013': 'OTHERS',\n",
       " 'Q908640': 'OTHERS',\n",
       " 'Q78241885': 'OTHERS',\n",
       " 'Q2616970': 'OTHERS',\n",
       " 'Q5348888': 'LOC',\n",
       " 'Q93039839': 'OTHERS',\n",
       " 'Q1423078': 'LOC',\n",
       " 'Q142636': 'ORG',\n",
       " 'Q76722654': 'OTHERS',\n",
       " 'Q104147571': 'LOC',\n",
       " 'Q672537': 'LOC',\n",
       " 'Q14875596': 'OTHERS',\n",
       " 'Q5372143': 'OTHERS',\n",
       " 'Q1349937': 'LOC',\n",
       " 'Q488668': 'LOC',\n",
       " 'Q18844888': 'OTHERS',\n",
       " 'Q2429243': 'LOC',\n",
       " 'Q2862516': 'OTHERS',\n",
       " 'Q320967': 'OTHERS',\n",
       " 'Q6478101': 'LOC',\n",
       " 'Q645222': 'OTHERS',\n",
       " 'Q2584846': 'OTHERS',\n",
       " 'Q55205725': 'OTHERS',\n",
       " 'Q18882465': 'OTHERS',\n",
       " 'Q19768229': 'OTHERS',\n",
       " 'Q26786604': 'OTHERS',\n",
       " 'Q27840': 'LOC',\n",
       " 'Q1333418': 'LOC',\n",
       " 'Q14850809': 'OTHERS',\n",
       " 'Q3917337': 'LOC',\n",
       " 'Q3066174': 'LOC',\n",
       " 'Q65772024': 'OTHERS',\n",
       " 'Q6682231': 'ORG',\n",
       " 'Q18464151': 'LOC',\n",
       " 'Q60239916': 'OTHERS',\n",
       " 'Q282269': 'LOC',\n",
       " 'Q15856153': 'OTHERS',\n",
       " 'Q25767774': 'LOC',\n",
       " 'Q86157037': 'OTHERS',\n",
       " 'Q6511136': 'LOC',\n",
       " 'Q80688': 'OTHERS',\n",
       " 'Q672462': 'OTHERS',\n",
       " 'Q77630755': 'OTHERS',\n",
       " 'Q388841': 'OTHERS',\n",
       " 'Q13141057': 'OTHERS',\n",
       " 'Q3593555': 'LOC',\n",
       " 'Q682583': 'OTHERS',\n",
       " 'Q11477521': 'LOC',\n",
       " 'Q16511': 'LOC',\n",
       " 'Q81435737': 'OTHERS',\n",
       " 'Q501270': 'LOC',\n",
       " 'Q970191': 'OTHERS',\n",
       " 'Q254176': 'LOC',\n",
       " 'Q2274963': 'OTHERS',\n",
       " 'Q161280': 'OTHERS',\n",
       " 'Q13440': 'OTHERS',\n",
       " 'Q21566280': 'LOC',\n",
       " 'Q17775906': 'LOC',\n",
       " 'Q74337267': 'LOC',\n",
       " 'Q85476158': 'OTHERS',\n",
       " 'Q18881965': 'OTHERS',\n",
       " 'Q2534226': 'LOC',\n",
       " 'Q97627543': 'OTHERS',\n",
       " 'Q1364541': 'LOC',\n",
       " 'Q4499828': 'LOC',\n",
       " 'Q12556': 'LOC',\n",
       " 'Q1828011': 'LOC',\n",
       " 'Q2442235': 'OTHERS',\n",
       " 'Q1205685': 'ORG',\n",
       " 'Q11511194': 'ORG',\n",
       " 'Q623424': 'LOC',\n",
       " 'Q1334381': 'OTHERS',\n",
       " 'Q19646375': 'OTHERS',\n",
       " 'Q77409444': 'OTHERS',\n",
       " 'Q83714602': 'OTHERS',\n",
       " 'Q2471874': 'LOC',\n",
       " 'Q24879': 'LOC',\n",
       " 'Q26206540': 'OTHERS',\n",
       " 'Q200634': 'LOC',\n",
       " 'Q49781973': 'OTHERS',\n",
       " 'Q87947754': 'OTHERS',\n",
       " 'Q2637224': 'OTHERS',\n",
       " 'Q3598713': 'OTHERS',\n",
       " 'Q18881977': 'OTHERS',\n",
       " 'Q3692422': 'LOC',\n",
       " 'Q98481863': 'ORG',\n",
       " 'Q1116714': 'OTHERS',\n",
       " 'Q1775304': 'LOC',\n",
       " 'Q93837948': 'OTHERS',\n",
       " 'Q78242070': 'OTHERS',\n",
       " 'Q102472401': 'LOC',\n",
       " 'Q86106553': 'LOC',\n",
       " 'Q584589': 'LOC',\n",
       " 'Q86250400': 'OTHERS',\n",
       " 'Q18881678': 'OTHERS',\n",
       " 'Q31194': 'LOC',\n",
       " 'Q98745066': 'ORG',\n",
       " 'Q2537379': 'OTHERS',\n",
       " 'Q1445363': 'OTHERS',\n",
       " 'Q89650821': 'OTHERS',\n",
       " 'Q483695': 'ORG',\n",
       " 'Q2632784': 'OTHERS',\n",
       " 'Q59311769': 'OTHERS',\n",
       " 'Q18845586': 'OTHERS',\n",
       " 'Q100082': 'LOC',\n",
       " 'Q176937': 'LOC',\n",
       " 'Q62017162': 'OTHERS',\n",
       " 'Q104914792': 'OTHERS',\n",
       " 'Q1489862': 'ORG',\n",
       " 'Q20515865': 'LOC',\n",
       " 'Q3670950': 'OTHERS',\n",
       " 'Q60247710': 'OTHERS',\n",
       " 'Q1546645': 'LOC',\n",
       " 'Q16735627': 'OTHERS',\n",
       " 'Q30593645': 'OTHERS',\n",
       " 'Q95514450': 'OTHERS',\n",
       " 'Q67204096': 'OTHERS',\n",
       " 'Q88403290': 'OTHERS',\n",
       " 'Q17882': 'OTHERS',\n",
       " 'Q5644179': 'LOC',\n",
       " 'Q6819071': 'LOC',\n",
       " 'Q30624106': 'OTHERS',\n",
       " 'Q571771': 'OTHERS',\n",
       " 'Q43260516': 'LOC',\n",
       " 'Q75698970': 'LOC',\n",
       " 'Q60247834': 'OTHERS',\n",
       " 'Q2908282': 'LOC',\n",
       " 'Q19375324': 'OTHERS',\n",
       " 'Q114913': 'ORG',\n",
       " 'Q1030389': 'LOC',\n",
       " 'Q2299611': 'OTHERS',\n",
       " 'Q2591630': 'OTHERS',\n",
       " 'Q4816040': 'ORG',\n",
       " 'Q124375': 'LOC',\n",
       " 'Q805784': 'ORG',\n",
       " 'Q6450740': 'OTHERS',\n",
       " 'Q39073105': 'OTHERS',\n",
       " 'Q729801': 'LOC',\n",
       " 'Q1216084': 'OTHERS',\n",
       " 'Q31559029': 'LOC',\n",
       " 'Q2079479': 'ORG',\n",
       " 'Q993732': 'ORG',\n",
       " 'Q79880': 'LOC',\n",
       " 'Q7080184': 'OTHERS',\n",
       " 'Q1581162': 'LOC',\n",
       " 'Q11352733': 'ORG',\n",
       " 'Q708835': 'ORG',\n",
       " 'Q85847942': 'ORG',\n",
       " 'Q75699321': 'LOC',\n",
       " 'Q67205162': 'OTHERS',\n",
       " 'Q291059': 'OTHERS',\n",
       " 'Q661451': 'LOC',\n",
       " 'Q17747402': 'OTHERS',\n",
       " 'Q77746': 'LOC',\n",
       " 'Q37043': 'OTHERS',\n",
       " 'Q5038466': 'LOC',\n",
       " 'Q76790040': 'OTHERS',\n",
       " 'Q1778240': 'OTHERS',\n",
       " 'Q91779481': 'OTHERS',\n",
       " 'Q12722': 'LOC',\n",
       " 'Q267144': 'OTHERS',\n",
       " 'Q6871463': 'OTHERS',\n",
       " 'Q17591821': 'LOC',\n",
       " 'Q2834810': 'LOC',\n",
       " 'Q74651710': 'OTHERS',\n",
       " 'Q1144599': 'LOC',\n",
       " 'Q771404': 'LOC',\n",
       " 'Q81132': 'LOC',\n",
       " 'Q2147516': 'LOC',\n",
       " 'Q3500538': 'LOC',\n",
       " 'Q18882443': 'OTHERS',\n",
       " 'Q15779': 'OTHERS',\n",
       " 'Q201355': 'LOC',\n",
       " 'Q784022': 'OTHERS',\n",
       " 'Q11353619': 'ORG',\n",
       " 'Q97671415': 'OTHERS',\n",
       " 'Q11153779': 'OTHERS',\n",
       " 'Q215819': 'OTHERS',\n",
       " 'Q74337257': 'LOC',\n",
       " 'Q18845112': 'OTHERS',\n",
       " 'Q42561603': 'OTHERS',\n",
       " 'Q12479417': 'OTHERS',\n",
       " 'Q2617303': 'OTHERS',\n",
       " 'Q919404': 'LOC',\n",
       " 'Q660339': 'LOC',\n",
       " 'Q590230': 'LOC',\n",
       " 'Q2081918': 'LOC',\n",
       " 'Q18844889': 'OTHERS',\n",
       " 'Q1550449': 'ORG',\n",
       " 'Q93725704': 'OTHERS',\n",
       " 'Q74103921': 'OTHERS',\n",
       " 'Q7770051': 'LOC',\n",
       " 'Q1746330': 'ORG',\n",
       " 'Q2753179': 'OTHERS',\n",
       " 'Q25022514': 'LOC',\n",
       " 'Q41357775': 'ORG',\n",
       " 'Q81294641': 'LOC',\n",
       " 'Q19381330': 'LOC',\n",
       " 'Q10419816': 'LOC',\n",
       " 'Q622796': 'OTHERS',\n",
       " 'Q2050875': 'LOC',\n",
       " 'Q76597901': 'OTHERS',\n",
       " 'Q1205284': 'ORG',\n",
       " 'Q732300': 'LOC',\n",
       " 'Q2739939': 'LOC',\n",
       " 'Q176979': 'LOC',\n",
       " 'Q3458939': 'OTHERS',\n",
       " 'Q163164': 'OTHERS',\n",
       " 'Q18881974': 'OTHERS',\n",
       " 'Q77408321': 'OTHERS',\n",
       " 'Q224494': 'OTHERS',\n",
       " 'Q2025992': 'OTHERS',\n",
       " 'Q1620303': 'LOC',\n",
       " 'Q65772212': 'OTHERS',\n",
       " 'Q86310310': 'OTHERS',\n",
       " 'Q77839417': 'OTHERS',\n",
       " 'Q18881674': 'OTHERS',\n",
       " 'Q1022366': 'OTHERS',\n",
       " 'Q1026019': 'ORG',\n",
       " 'Q75699286': 'LOC',\n",
       " 'Q5715907': 'ORG',\n",
       " 'Q15708337': 'OTHERS',\n",
       " 'Q1104567': 'OTHERS',\n",
       " 'Q86894802': 'OTHERS',\n",
       " 'Q3458889': 'OTHERS',\n",
       " 'Q177075': 'LOC',\n",
       " 'Q16047812': 'LOC',\n",
       " 'Q1319988': 'LOC',\n",
       " 'Q18845530': 'OTHERS',\n",
       " 'Q18882009': 'OTHERS',\n",
       " 'Q865076': 'LOC',\n",
       " 'Q1108829': 'OTHERS',\n",
       " 'Q2673008': 'LOC',\n",
       " 'Q102435': 'LOC',\n",
       " 'Q2085615': 'OTHERS',\n",
       " 'Q1323908': 'LOC',\n",
       " 'Q95514511': 'OTHERS',\n",
       " 'Q19362881': 'OTHERS',\n",
       " 'Q21038691': 'OTHERS',\n",
       " 'Q6523193': 'LOC',\n",
       " 'Q2079081': 'LOC',\n",
       " 'Q306789': 'LOC',\n",
       " 'Q86427115': 'OTHERS',\n",
       " 'Q1119526': 'LOC',\n",
       " 'Q59311287': 'OTHERS',\n",
       " 'Q3686918': 'OTHERS',\n",
       " 'Q3140889': 'OTHERS',\n",
       " 'Q276837': 'OTHERS',\n",
       " 'Q670975': 'LOC',\n",
       " 'Q665720': 'LOC',\n",
       " 'Q2982552': 'OTHERS',\n",
       " 'Q49176': 'LOC',\n",
       " 'Q2209140': 'OTHERS',\n",
       " 'Q77984214': 'OTHERS',\n",
       " 'Q1047646': 'OTHERS',\n",
       " 'Q725594': 'OTHERS',\n",
       " 'Q2217726': 'LOC',\n",
       " 'Q91330689': 'OTHERS',\n",
       " 'Q1389657': 'OTHERS',\n",
       " 'Q84855347': 'OTHERS',\n",
       " 'Q606365': 'LOC',\n",
       " 'Q6729021': 'LOC',\n",
       " 'Q7830411': 'OTHERS',\n",
       " 'Q20805518': 'OTHERS',\n",
       " 'Q2620426': 'LOC',\n",
       " 'Q495791': 'OTHERS',\n",
       " 'Q1779859': 'OTHERS',\n",
       " 'Q96277270': 'ORG',\n",
       " 'Q3373817': 'OTHERS',\n",
       " 'Q2641647': 'OTHERS',\n",
       " 'Q539614': 'OTHERS',\n",
       " 'Q1787505': 'LOC',\n",
       " 'Q66622963': 'OTHERS'}"
      ]
     },
     "execution_count": 44,
     "metadata": {},
     "output_type": "execute_result"
    }
   ],
   "source": [
    "failed_queries"
   ]
  },
  {
   "cell_type": "code",
   "execution_count": 45,
   "id": "ad6bdd36",
   "metadata": {},
   "outputs": [
    {
     "name": "stdout",
     "output_type": "stream",
     "text": [
      "{'name': 'Bidstock', 'token': 'lamapi_demo_2023', 'kg': 'wikidata', 'limit': 1000, 'query': '{\"query\": {\"bool\": {\"must\": [{\"match\": {\"name\": {\"query\": \"Bidstock\", \"boost\": 2.0}}}, {\"term\": {\"NERtype\": \"OTHERS\"}}]}}}', 'sort': ['{\"popularity\": {\"order\": \"desc\"}}']}\n"
     ]
    }
   ],
   "source": [
    "for p, k, _ in queries:\n",
    "    if k == \"Q41319588\":\n",
    "        print(p)"
   ]
  },
  {
   "cell_type": "code",
   "execution_count": 2,
   "id": "50cd060b-eb7e-460f-a1d7-63b8b15cad2b",
   "metadata": {},
   "outputs": [],
   "source": [
    "####################\n",
    "# READ THE JSON\n",
    "#####################\n",
    "\n",
    "json_file_path = \"C:/ALESSANDRO/Università/MAGISTRALE/SINTEF_thesis/lamAPI/data/Round1_T2D_f3_sorted_mentions.json\"\n",
    "\n",
    "# Load the JSON file\n",
    "with open(json_file_path, \"r\") as file:\n",
    "    R1_sorted_mentions = json.load(file)\n",
    "\n",
    "\n",
    "# SPLIT OVER THE QUARTILES\n",
    "\n",
    "n = len(R1_sorted_mentions)\n",
    "q1_idx = n // 4\n",
    "q2_idx = n // 2\n",
    "q3_idx = 3 * n // 4\n",
    "\n",
    "# Step 3: Split the list into quartiles\n",
    "q1 = R1_sorted_mentions[:q1_idx]\n",
    "q2 = R1_sorted_mentions[q1_idx:q2_idx]\n",
    "q3 = R1_sorted_mentions[q2_idx:q3_idx]\n",
    "q4 = R1_sorted_mentions[q3_idx:]\n",
    "\n",
    "sample_size = 1000\n",
    "R1_sample_keys = []\n",
    "R1_sample_keys = R1_sample_keys + random.sample(q1, sample_size)\n",
    "R1_sample_keys = R1_sample_keys + random.sample(q2, sample_size)\n",
    "R1_sample_keys = R1_sample_keys + random.sample(q3, sample_size)\n",
    "R1_sample_keys = R1_sample_keys + random.sample(q4, sample_size)\n",
    "\n",
    "q_ids = {item[1]['name']: item[1]['id'] for item in R1_sample_keys}"
   ]
  },
  {
   "cell_type": "code",
   "execution_count": 4,
   "id": "1a0385ec",
   "metadata": {},
   "outputs": [
    {
     "name": "stderr",
     "output_type": "stream",
     "text": [
      "100%|██████████| 64/64 [00:02<00:00, 30.33it/s]\n"
     ]
    }
   ],
   "source": [
    "# find the mention in the table\n",
    "tables = \"C:/ALESSANDRO/Università/MAGISTRALE/SINTEF_thesis/lamAPI/data/Dataset/Dataset/Round1_T2D/tables/\"\n",
    "cta_file = 'C:/ALESSANDRO/Università/MAGISTRALE/SINTEF_thesis/lamAPI/data/Dataset/Dataset/Round1_T2D/gt/CTA_Round1_gt.csv'\n",
    "os.listdir(tables)\n",
    "\n",
    "mapping = {\n",
    "    \"LOC\": [\n",
    "        \"Place\", \"PopulatedPlace\", \"City\", \"Country\", \"Region\", \"Mountain\", \"Island\", \"Lake\", \"River\",\n",
    "        \"Park\", \"Building\", \"HistoricPlace\", \"Monument\", \"Bridge\", \"Road\", \"Airport\"\n",
    "    ],\n",
    "    \"PERS\": [\n",
    "        \"Person\", \"Artist\", \"Athlete\", \"Politician\", \"Scientist\", \"Writer\", \"Actor\", \"Musician\", \"MilitaryPerson\",\n",
    "        \"Religious\", \"Royalty\", \"Criminal\"\n",
    "    ],\n",
    "    \"ORG\": [\n",
    "        \"Organisation\", \"Company\", \"EducationalInstitution\", \"PoliticalParty\", \"SportsTeam\", \"Non-ProfitOrganisation\",\n",
    "        \"GovernmentAgency\", \"ReligiousOrganisation\", \"Band\", \"Library\", \"Museum\", \"Hospital\", \"University\", \"TradeUnion\"\n",
    "    ]\n",
    "}\n",
    "\n",
    "# Create reverse mapping\n",
    "reverse_mapping = {v: k for k, values in mapping.items() for v in values}\n",
    "\n",
    "# Define function to map df[2] values to their categories\n",
    "def map_class_to_category(class_name):\n",
    "    return reverse_mapping.get(class_name, \"OTHERS\")\n",
    "\n",
    "# Apply the function and create the 'key' column\n",
    "cta_keys = {}\n",
    "df = pd.read_csv(cta_file, header=None)\n",
    "type = df[2].astype(str).str.split('/').str[-1]\n",
    "df[\"category\"] = type.apply(map_class_to_category)\n",
    "cta_keys[\"key\"] = (df[0] + \" \" + df[1].astype('str'), df[\"category\"])\n",
    "\n",
    "key_to_cell = {}\n",
    "for table in tqdm(os.listdir(tables)):\n",
    "    table_file = os.path.join(tables, table)\n",
    "    table_name = table.split(\".\")[0]\n",
    "    df = pd.read_csv(table_file)\n",
    "    for row in range(df.shape[0]):\n",
    "        for col in range(df.shape[1]):\n",
    "            key = f\"{table_name} {col}\"\n",
    "            if key in set(cta_keys[\"key\"][0].values):\n",
    "                tmp_index = cta_keys[\"key\"][0].values.tolist().index(key)\n",
    "                tmp_value = cta_keys[\"key\"][1].iloc[tmp_index]\n",
    "                key_to_cell[key] = tmp_value"
   ]
  },
  {
   "cell_type": "code",
   "execution_count": 6,
   "id": "78e9d113",
   "metadata": {},
   "outputs": [],
   "source": [
    "def get_keys_from_value(d, value):\n",
    "    keys = [key for key, val in d.items() if val == value]\n",
    "    return keys[0]"
   ]
  },
  {
   "cell_type": "code",
   "execution_count": 7,
   "id": "33d6b59f",
   "metadata": {},
   "outputs": [
    {
     "name": "stderr",
     "output_type": "stream",
     "text": [
      "  0%|          | 0/9 [00:00<?, ?it/s]"
     ]
    },
    {
     "name": "stderr",
     "output_type": "stream",
     "text": [
      "100%|██████████| 9/9 [00:04<00:00,  2.17it/s]"
     ]
    },
    {
     "name": "stdout",
     "output_type": "stream",
     "text": [
      "Processing complete.\n"
     ]
    },
    {
     "name": "stderr",
     "output_type": "stream",
     "text": [
      "\n"
     ]
    }
   ],
   "source": [
    "cea_file = 'C:/ALESSANDRO/Università/MAGISTRALE/SINTEF_thesis/lamAPI/data/Dataset/Dataset/Round1_T2D/gt/CEA_Round1_gt_WD.csv'\n",
    "mentions = {}\n",
    "chunk_size = 1000\n",
    "column_names = [\"table_name\", \"row\", \"col\", \"url\"] \n",
    "\n",
    "total_rows = sum(1 for line in open(cea_file)) - 1  # Exclude header\n",
    "total_iterations = (total_rows + chunk_size - 1) // chunk_size  # Ceiling division to include last chunk\n",
    "\n",
    "count = 0\n",
    "for chunk_cea in tqdm(pd.read_csv(cea_file, chunksize=chunk_size), total=total_iterations):\n",
    "    chunk_cea.columns = column_names\n",
    "    for _, row in chunk_cea.iterrows():\n",
    "        key = f\"{row['table_name']} {row['col']}\"\n",
    "        if key in key_to_cell.keys() and row[\"url\"] in q_ids.values():\n",
    "            count += 1\n",
    "            data = key_to_cell[key]\n",
    "            mentions[get_keys_from_value(q_ids, row[\"url\"])] = (row[\"url\"], data)\n",
    "\n",
    "print(\"Processing complete.\")"
   ]
  },
  {
   "cell_type": "code",
   "execution_count": 10,
   "id": "cbb3fb53",
   "metadata": {},
   "outputs": [
    {
     "name": "stderr",
     "output_type": "stream",
     "text": [
      "  1%|          | 48/3865 [00:37<31:35,  2.01it/s]  "
     ]
    },
    {
     "name": "stdout",
     "output_type": "stream",
     "text": [
      "st helena pounds: Q374453 NOT FOUND in OTHERS\n",
      "___________________________\n"
     ]
    },
    {
     "name": "stderr",
     "output_type": "stream",
     "text": [
      "  2%|▏         | 63/3865 [00:45<29:30,  2.15it/s]"
     ]
    },
    {
     "name": "stdout",
     "output_type": "stream",
     "text": [
      "abraham the syrian: Q1292819 NOT FOUND in OTHERS\n",
      "___________________________\n"
     ]
    },
    {
     "name": "stderr",
     "output_type": "stream",
     "text": [
      "  5%|▍         | 189/3865 [01:50<12:25,  4.93it/s]  "
     ]
    },
    {
     "name": "stdout",
     "output_type": "stream",
     "text": [
      "queensland, australia: Q36074 NOT FOUND in OTHERS\n",
      "___________________________\n"
     ]
    },
    {
     "name": "stderr",
     "output_type": "stream",
     "text": [
      "  6%|▌         | 226/3865 [02:02<17:14,  3.52it/s]"
     ]
    },
    {
     "name": "stdout",
     "output_type": "stream",
     "text": [
      "darksiders: Q30525856 NOT FOUND in OTHERS\n",
      "___________________________\n"
     ]
    },
    {
     "name": "stderr",
     "output_type": "stream",
     "text": [
      " 10%|█         | 393/3865 [02:36<11:20,  5.10it/s]"
     ]
    },
    {
     "name": "stdout",
     "output_type": "stream",
     "text": [
      "icarus, international journal of solar system studies: Q1656088 NOT FOUND in OTHERS\n",
      "___________________________\n"
     ]
    },
    {
     "name": "stderr",
     "output_type": "stream",
     "text": [
      " 13%|█▎        | 501/3865 [02:53<13:50,  4.05it/s]"
     ]
    },
    {
     "name": "stdout",
     "output_type": "stream",
     "text": [
      "eastern hognose snake: Q2699564 NOT FOUND in OTHERS\n",
      "___________________________\n"
     ]
    },
    {
     "name": "stderr",
     "output_type": "stream",
     "text": [
      " 16%|█▌        | 627/3865 [03:14<05:49,  9.26it/s]"
     ]
    },
    {
     "name": "stdout",
     "output_type": "stream",
     "text": [
      "dijibouti: Q977 NOT FOUND in LOC\n",
      "___________________________\n"
     ]
    },
    {
     "name": "stderr",
     "output_type": "stream",
     "text": [
      " 19%|█▉        | 742/3865 [03:32<07:15,  7.17it/s]"
     ]
    },
    {
     "name": "stdout",
     "output_type": "stream",
     "text": [
      "swee waxbill: Q27075727 NOT FOUND in OTHERS\n",
      "___________________________\n"
     ]
    },
    {
     "name": "stderr",
     "output_type": "stream",
     "text": [
      " 24%|██▍       | 924/3865 [04:05<10:17,  4.76it/s]"
     ]
    },
    {
     "name": "stdout",
     "output_type": "stream",
     "text": [
      "dusky canada goose: Q27600982 NOT FOUND in OTHERS\n",
      "___________________________\n"
     ]
    },
    {
     "name": "stderr",
     "output_type": "stream",
     "text": [
      " 25%|██▍       | 952/3865 [04:08<05:37,  8.62it/s]"
     ]
    },
    {
     "name": "stdout",
     "output_type": "stream",
     "text": [
      "carmona retusa: Q15283553 NOT FOUND in OTHERS\n",
      "___________________________\n"
     ]
    },
    {
     "name": "stderr",
     "output_type": "stream",
     "text": [
      " 27%|██▋       | 1034/3865 [04:23<10:47,  4.38it/s]"
     ]
    },
    {
     "name": "stdout",
     "output_type": "stream",
     "text": [
      "waterhousea floribunda: Q108742313 NOT FOUND in OTHERS\n",
      "___________________________\n"
     ]
    },
    {
     "name": "stderr",
     "output_type": "stream",
     "text": [
      " 27%|██▋       | 1041/3865 [04:24<05:44,  8.20it/s]"
     ]
    },
    {
     "name": "stdout",
     "output_type": "stream",
     "text": [
      "oldsquaw: Q26597 NOT FOUND in OTHERS\n",
      "___________________________\n"
     ]
    },
    {
     "name": "stderr",
     "output_type": "stream",
     "text": [
      " 28%|██▊       | 1100/3865 [04:33<05:21,  8.60it/s]"
     ]
    },
    {
     "name": "stdout",
     "output_type": "stream",
     "text": [
      "northern short-tailed shrew: Q1766543 NOT FOUND in OTHERS\n",
      "___________________________\n"
     ]
    },
    {
     "name": "stderr",
     "output_type": "stream",
     "text": [
      " 33%|███▎      | 1272/3865 [04:59<03:52, 11.14it/s]"
     ]
    },
    {
     "name": "stdout",
     "output_type": "stream",
     "text": [
      "ireland: Q27 NOT FOUND in OTHERS\n",
      "___________________________\n"
     ]
    },
    {
     "name": "stderr",
     "output_type": "stream",
     "text": [
      " 38%|███▊      | 1466/3865 [05:30<06:05,  6.56it/s]"
     ]
    },
    {
     "name": "stdout",
     "output_type": "stream",
     "text": [
      "jeff leonard: Q3176709 NOT FOUND in OTHERS\n",
      "___________________________\n"
     ]
    },
    {
     "name": "stderr",
     "output_type": "stream",
     "text": [
      " 40%|████      | 1555/3865 [05:46<06:03,  6.35it/s]"
     ]
    },
    {
     "name": "stdout",
     "output_type": "stream",
     "text": [
      "bill hutchinson: Q4909545 NOT FOUND in OTHERS\n",
      "___________________________\n"
     ]
    },
    {
     "name": "stderr",
     "output_type": "stream",
     "text": [
      " 41%|████▏     | 1596/3865 [05:52<05:22,  7.03it/s]"
     ]
    },
    {
     "name": "stdout",
     "output_type": "stream",
     "text": [
      "eggert lake: Q491288 NOT FOUND in LOC\n",
      "___________________________\n"
     ]
    },
    {
     "name": "stderr",
     "output_type": "stream",
     "text": [
      " 43%|████▎     | 1657/3865 [06:03<06:29,  5.67it/s]"
     ]
    },
    {
     "name": "stdout",
     "output_type": "stream",
     "text": [
      "achnatherum speciosum: Q15507171 NOT FOUND in OTHERS\n",
      "___________________________\n"
     ]
    },
    {
     "name": "stderr",
     "output_type": "stream",
     "text": [
      " 43%|████▎     | 1660/3865 [06:04<06:21,  5.78it/s]"
     ]
    },
    {
     "name": "stdout",
     "output_type": "stream",
     "text": [
      "cyril, apostle to the slavs: Q239925 NOT FOUND in OTHERS\n",
      "___________________________\n"
     ]
    },
    {
     "name": "stderr",
     "output_type": "stream",
     "text": [
      " 43%|████▎     | 1675/3865 [06:06<05:29,  6.65it/s]"
     ]
    },
    {
     "name": "stdout",
     "output_type": "stream",
     "text": [
      "african citril: Q27075797 NOT FOUND in OTHERS\n",
      "___________________________\n"
     ]
    },
    {
     "name": "stderr",
     "output_type": "stream",
     "text": [
      " 46%|████▌     | 1771/3865 [06:22<03:12, 10.89it/s]"
     ]
    },
    {
     "name": "stdout",
     "output_type": "stream",
     "text": [
      "raven squad: Q5237049 NOT FOUND in OTHERS\n",
      "___________________________\n"
     ]
    },
    {
     "name": "stderr",
     "output_type": "stream",
     "text": [
      " 47%|████▋     | 1814/3865 [06:30<06:06,  5.60it/s]"
     ]
    },
    {
     "name": "stdout",
     "output_type": "stream",
     "text": [
      "green wood-hoopoe: Q811583 NOT FOUND in OTHERS\n",
      "___________________________\n"
     ]
    },
    {
     "name": "stderr",
     "output_type": "stream",
     "text": [
      " 47%|████▋     | 1819/3865 [06:30<04:10,  8.17it/s]"
     ]
    },
    {
     "name": "stdout",
     "output_type": "stream",
     "text": [
      "lac a l'eau-claire: Q1699973 NOT FOUND in LOC\n",
      "___________________________\n"
     ]
    },
    {
     "name": "stderr",
     "output_type": "stream",
     "text": [
      " 48%|████▊     | 1844/3865 [06:34<04:14,  7.93it/s]"
     ]
    },
    {
     "name": "stdout",
     "output_type": "stream",
     "text": [
      "pale flycatcher: Q1318056 NOT FOUND in OTHERS\n",
      "___________________________\n"
     ]
    },
    {
     "name": "stderr",
     "output_type": "stream",
     "text": [
      " 50%|█████     | 1949/3865 [06:53<05:49,  5.49it/s]"
     ]
    },
    {
     "name": "stdout",
     "output_type": "stream",
     "text": [
      "oplismenus burmannii: Q13936835 NOT FOUND in OTHERS\n",
      "___________________________\n"
     ]
    },
    {
     "name": "stderr",
     "output_type": "stream",
     "text": [
      " 52%|█████▏    | 2017/3865 [07:05<04:14,  7.25it/s]"
     ]
    },
    {
     "name": "stdout",
     "output_type": "stream",
     "text": [
      "carex heliophila: Q2938524 NOT FOUND in OTHERS\n",
      "___________________________\n"
     ]
    },
    {
     "name": "stderr",
     "output_type": "stream",
     "text": [
      " 53%|█████▎    | 2036/3865 [07:08<05:09,  5.92it/s]"
     ]
    },
    {
     "name": "stdout",
     "output_type": "stream",
     "text": [
      "lake james, north carolina: Q1485910 NOT FOUND in LOC\n",
      "___________________________\n"
     ]
    },
    {
     "name": "stderr",
     "output_type": "stream",
     "text": [
      " 58%|█████▊    | 2233/3865 [07:41<03:25,  7.94it/s]"
     ]
    },
    {
     "name": "stdout",
     "output_type": "stream",
     "text": [
      "new south wales, australia: Q3224 NOT FOUND in OTHERS\n",
      "___________________________\n"
     ]
    },
    {
     "name": "stderr",
     "output_type": "stream",
     "text": [
      " 60%|██████    | 2336/3865 [07:56<03:25,  7.42it/s]"
     ]
    },
    {
     "name": "stdout",
     "output_type": "stream",
     "text": [
      "eastern screech-owl: Q251939 NOT FOUND in OTHERS\n",
      "___________________________\n"
     ]
    },
    {
     "name": "stderr",
     "output_type": "stream",
     "text": [
      " 62%|██████▏   | 2401/3865 [08:06<03:02,  8.03it/s]"
     ]
    },
    {
     "name": "stdout",
     "output_type": "stream",
     "text": [
      "egyptian rousette: Q754983 NOT FOUND in OTHERS\n",
      "___________________________\n"
     ]
    },
    {
     "name": "stderr",
     "output_type": "stream",
     "text": [
      " 64%|██████▎   | 2457/3865 [08:15<05:26,  4.31it/s]"
     ]
    },
    {
     "name": "stdout",
     "output_type": "stream",
     "text": [
      "bahamas, the: Q778 NOT FOUND in LOC\n",
      "___________________________\n"
     ]
    },
    {
     "name": "stderr",
     "output_type": "stream",
     "text": [
      " 67%|██████▋   | 2594/3865 [08:38<03:26,  6.17it/s]"
     ]
    },
    {
     "name": "stdout",
     "output_type": "stream",
     "text": [
      "eagle owl: Q214293 NOT FOUND in OTHERS\n",
      "___________________________\n"
     ]
    },
    {
     "name": "stderr",
     "output_type": "stream",
     "text": [
      " 67%|██████▋   | 2599/3865 [08:38<02:48,  7.51it/s]"
     ]
    },
    {
     "name": "stdout",
     "output_type": "stream",
     "text": [
      "koninklijk museum van het leger en de krijgsgeschiedenis: Q1395176 NOT FOUND in ORG\n",
      "___________________________\n"
     ]
    },
    {
     "name": "stderr",
     "output_type": "stream",
     "text": [
      " 67%|██████▋   | 2603/3865 [08:39<03:40,  5.73it/s]"
     ]
    },
    {
     "name": "stdout",
     "output_type": "stream",
     "text": [
      "african pied hornbill: Q226128 NOT FOUND in OTHERS\n",
      "___________________________\n"
     ]
    },
    {
     "name": "stderr",
     "output_type": "stream",
     "text": [
      " 69%|██████▉   | 2681/3865 [08:53<02:02,  9.67it/s]"
     ]
    },
    {
     "name": "stdout",
     "output_type": "stream",
     "text": [
      "lac st-jean: Q979922 NOT FOUND in LOC\n",
      "___________________________\n"
     ]
    },
    {
     "name": "stderr",
     "output_type": "stream",
     "text": [
      " 70%|███████   | 2713/3865 [08:57<02:13,  8.62it/s]"
     ]
    },
    {
     "name": "stdout",
     "output_type": "stream",
     "text": [
      "southern water snake: Q2065834 NOT FOUND in OTHERS\n",
      "___________________________\n"
     ]
    },
    {
     "name": "stderr",
     "output_type": "stream",
     "text": [
      " 73%|███████▎  | 2827/3865 [09:16<03:20,  5.19it/s]"
     ]
    },
    {
     "name": "stdout",
     "output_type": "stream",
     "text": [
      "haronga madagascariensis: Q5194906 NOT FOUND in OTHERS\n",
      "___________________________\n"
     ]
    },
    {
     "name": "stderr",
     "output_type": "stream",
     "text": [
      " 76%|███████▋  | 2948/3865 [09:36<02:03,  7.40it/s]"
     ]
    },
    {
     "name": "stdout",
     "output_type": "stream",
     "text": [
      "white gopher snake: Q1663774 NOT FOUND in OTHERS\n",
      "___________________________\n"
     ]
    },
    {
     "name": "stderr",
     "output_type": "stream",
     "text": [
      " 77%|███████▋  | 2968/3865 [09:38<02:05,  7.16it/s]"
     ]
    },
    {
     "name": "stdout",
     "output_type": "stream",
     "text": [
      "african pygmy-goose: Q386949 NOT FOUND in OTHERS\n",
      "___________________________\n"
     ]
    },
    {
     "name": "stderr",
     "output_type": "stream",
     "text": [
      " 78%|███████▊  | 3025/3865 [09:47<01:51,  7.50it/s]"
     ]
    },
    {
     "name": "stdout",
     "output_type": "stream",
     "text": [
      "brown snake-eagle: Q549126 NOT FOUND in OTHERS\n",
      "___________________________\n"
     ]
    },
    {
     "name": "stderr",
     "output_type": "stream",
     "text": [
      " 80%|███████▉  | 3078/3865 [09:56<02:15,  5.83it/s]"
     ]
    },
    {
     "name": "stdout",
     "output_type": "stream",
     "text": [
      "charley root: Q5085471 NOT FOUND in OTHERS\n",
      "___________________________\n"
     ]
    },
    {
     "name": "stderr",
     "output_type": "stream",
     "text": [
      " 80%|████████  | 3095/3865 [09:59<01:49,  7.04it/s]"
     ]
    },
    {
     "name": "stdout",
     "output_type": "stream",
     "text": [
      "little greenbul: Q25249305 NOT FOUND in OTHERS\n",
      "___________________________\n"
     ]
    },
    {
     "name": "stderr",
     "output_type": "stream",
     "text": [
      " 83%|████████▎ | 3208/3865 [10:16<01:31,  7.16it/s]"
     ]
    },
    {
     "name": "stdout",
     "output_type": "stream",
     "text": [
      "crawfish frog: Q26849093 NOT FOUND in OTHERS\n",
      "___________________________\n"
     ]
    },
    {
     "name": "stderr",
     "output_type": "stream",
     "text": [
      " 84%|████████▎ | 3231/3865 [10:19<01:21,  7.83it/s]"
     ]
    },
    {
     "name": "stdout",
     "output_type": "stream",
     "text": [
      "bud man: Q125074 NOT FOUND in ORG\n",
      "___________________________\n"
     ]
    },
    {
     "name": "stderr",
     "output_type": "stream",
     "text": [
      " 85%|████████▌ | 3298/3865 [10:29<01:09,  8.15it/s]"
     ]
    },
    {
     "name": "stdout",
     "output_type": "stream",
     "text": [
      "banded martin: Q1589557 NOT FOUND in OTHERS\n",
      "___________________________\n"
     ]
    },
    {
     "name": "stderr",
     "output_type": "stream",
     "text": [
      " 86%|████████▌ | 3312/3865 [10:31<01:52,  4.90it/s]"
     ]
    },
    {
     "name": "stdout",
     "output_type": "stream",
     "text": [
      "african scops-owl: Q1270188 NOT FOUND in OTHERS\n",
      "___________________________\n"
     ]
    },
    {
     "name": "stderr",
     "output_type": "stream",
     "text": [
      " 90%|████████▉ | 3463/3865 [10:53<00:37, 10.62it/s]"
     ]
    },
    {
     "name": "stdout",
     "output_type": "stream",
     "text": [
      "southern flying squirrel: Q913350 NOT FOUND in OTHERS\n",
      "___________________________\n"
     ]
    },
    {
     "name": "stderr",
     "output_type": "stream",
     "text": [
      " 90%|█████████ | 3491/3865 [10:58<00:45,  8.17it/s]"
     ]
    },
    {
     "name": "stdout",
     "output_type": "stream",
     "text": [
      "black cuckoo-shrike: Q1306580 NOT FOUND in OTHERS\n",
      "___________________________\n"
     ]
    },
    {
     "name": "stderr",
     "output_type": "stream",
     "text": [
      " 91%|█████████ | 3524/3865 [11:04<01:06,  5.14it/s]"
     ]
    },
    {
     "name": "stdout",
     "output_type": "stream",
     "text": [
      "schedonorus arundinaceus: Q157922 NOT FOUND in OTHERS\n",
      "___________________________\n"
     ]
    },
    {
     "name": "stderr",
     "output_type": "stream",
     "text": [
      " 92%|█████████▏| 3562/3865 [11:10<00:41,  7.38it/s]"
     ]
    },
    {
     "name": "stdout",
     "output_type": "stream",
     "text": [
      "springhare: Q3027980 NOT FOUND in OTHERS\n",
      "___________________________\n"
     ]
    },
    {
     "name": "stderr",
     "output_type": "stream",
     "text": [
      " 92%|█████████▏| 3574/3865 [11:12<00:56,  5.14it/s]"
     ]
    },
    {
     "name": "stdout",
     "output_type": "stream",
     "text": [
      "sharpe's starling: Q27075613 NOT FOUND in OTHERS\n",
      "___________________________\n"
     ]
    },
    {
     "name": "stderr",
     "output_type": "stream",
     "text": [
      " 93%|█████████▎| 3594/3865 [11:16<00:45,  5.91it/s]"
     ]
    },
    {
     "name": "stdout",
     "output_type": "stream",
     "text": [
      "worm snake: Q2940133 NOT FOUND in OTHERS\n",
      "___________________________\n"
     ]
    },
    {
     "name": "stderr",
     "output_type": "stream",
     "text": [
      " 97%|█████████▋| 3730/3865 [11:37<00:17,  7.67it/s]"
     ]
    },
    {
     "name": "stdout",
     "output_type": "stream",
     "text": [
      "pickerel frog: Q28035920 NOT FOUND in OTHERS\n",
      "___________________________\n"
     ]
    },
    {
     "name": "stderr",
     "output_type": "stream",
     "text": [
      " 97%|█████████▋| 3749/3865 [11:40<00:15,  7.25it/s]"
     ]
    },
    {
     "name": "stdout",
     "output_type": "stream",
     "text": [
      "baystones: Q7968079 NOT FOUND in LOC\n",
      "___________________________\n"
     ]
    },
    {
     "name": "stderr",
     "output_type": "stream",
     "text": [
      " 97%|█████████▋| 3761/3865 [11:43<00:24,  4.20it/s]"
     ]
    },
    {
     "name": "stdout",
     "output_type": "stream",
     "text": [
      "yellow-spotted barbet: Q5734788 NOT FOUND in OTHERS\n",
      "___________________________\n"
     ]
    },
    {
     "name": "stderr",
     "output_type": "stream",
     "text": [
      " 98%|█████████▊| 3785/3865 [11:46<00:11,  7.11it/s]"
     ]
    },
    {
     "name": "stdout",
     "output_type": "stream",
     "text": [
      "southeastern five-lined skink: Q137678 NOT FOUND in OTHERS\n",
      "___________________________\n"
     ]
    },
    {
     "name": "stderr",
     "output_type": "stream",
     "text": [
      " 99%|█████████▉| 3839/3865 [11:55<00:03,  6.72it/s]"
     ]
    },
    {
     "name": "stdout",
     "output_type": "stream",
     "text": [
      "matrix, the: Q83495 NOT FOUND in OTHERS\n",
      "___________________________\n"
     ]
    },
    {
     "name": "stderr",
     "output_type": "stream",
     "text": [
      "100%|█████████▉| 3862/3865 [11:58<00:00,  5.38it/s]"
     ]
    },
    {
     "name": "stdout",
     "output_type": "stream",
     "text": [
      "Coverage of R1: 0.9844760672703752\n",
      "Measure Reciprocal Rank of R1: 0.9581293661060406\n"
     ]
    },
    {
     "name": "stderr",
     "output_type": "stream",
     "text": [
      "\n"
     ]
    }
   ],
   "source": [
    "url = 'https://lamapi.hel.sintef.cloud/lookup/entity-retrieval'\n",
    "failed_queries = {}\n",
    "\n",
    "# Backoff decorator for handling retries with exponential backoff\n",
    "@backoff.on_exception(\n",
    "    backoff.expo, \n",
    "    (aiohttp.ClientError, aiohttp.http_exceptions.HttpProcessingError, asyncio.TimeoutError), \n",
    "    max_tries=5, \n",
    "    max_time=300\n",
    ")\n",
    "async def fetch(session, url, params, headers, semaphore):\n",
    "    async with semaphore:\n",
    "        async with session.get(url, params=params, headers=headers, timeout=30) as response:\n",
    "            try:\n",
    "                response.raise_for_status()  # Raises an exception for 4XX/5XX status codes\n",
    "                return await response.json()\n",
    "            except Exception as e:\n",
    "                return []\n",
    "async def process_item(session, name, value, url, headers, semaphore, pbar):\n",
    "    ### SOFT FILTERING CONTSTRAINT\n",
    "    params = {\n",
    "        'name': name,\n",
    "        'token': 'lamapi_demo_2023',\n",
    "        'kg': 'wikidata',\n",
    "        'limit': 1000,\n",
    "        'query': f'''\n",
    "            {{\n",
    "                \"query\": {{\n",
    "                    \"bool\": {{\n",
    "                        \"must\": [\n",
    "                            {{\n",
    "                                \"match\": {{\n",
    "                                    \"name\": {{\n",
    "                                        \"query\": \"{name}\",\n",
    "                                        \"boost\": 2.0\n",
    "                                    }}\n",
    "                                }}\n",
    "                            }}\n",
    "                        ],\n",
    "                        \"should\": [\n",
    "                            {{\n",
    "                                \"term\": {{\n",
    "                                    \"NERtype\": \"{value[1]}\"\n",
    "                                }}\n",
    "                            }}\n",
    "                        ]\n",
    "                    }}\n",
    "                }}\n",
    "            }}\n",
    "            ''',\n",
    "        'sort': [\n",
    "            f'''{{\"popularity\": {{\"order\": \"desc\"}}}}'''\n",
    "        ]\n",
    "    }\n",
    "\n",
    "\n",
    "\n",
    "    try:\n",
    "        data = await fetch(session, url, params, headers, semaphore)\n",
    "    except ClientResponseError as e:\n",
    "        if e.status == 404:\n",
    "            print(f\"404 Error: Resource not found for '{name}'\")\n",
    "            pbar.update(1)  # No need to await here\n",
    "            return 0, 0\n",
    "        else:\n",
    "            raise  # Re-raise the exception for other status codes\n",
    "\n",
    "    num_result = len(data) if data else 0\n",
    "\n",
    "    if data:\n",
    "        pbar.update(1)  # No need to await here\n",
    "        for item in data:\n",
    "            GT_id_match = re.search(r'Q(\\d+)$', value[0])\n",
    "\n",
    "            if GT_id_match:\n",
    "                GT_id = GT_id_match[0]\n",
    "                if GT_id == item.get('id'):\n",
    "                    pos_score = item.get('pos_score', 0)\n",
    "                    if pos_score:\n",
    "                        mrr_increment = (num_result - (pos_score * num_result)) / num_result\n",
    "                    else:\n",
    "                        mrr_increment = 1 / num_result  # Assume worst case for MRR if pos_score is 0\n",
    "                    return mrr_increment, 1\n",
    "\n",
    "        print(f\"{name}: {GT_id_match[0]} NOT FOUND in {value[1]}\")\n",
    "        print(\"___________________________\")\n",
    "\n",
    "    return 0, 0\n",
    "\n",
    "async def main(mentions, url, pbar, failed_queries):\n",
    "    string_name_list = mentions\n",
    "    headers = {'accept': 'application/json'}\n",
    "    semaphore = asyncio.Semaphore(50)  # Limit to 50 concurrent requests\n",
    "    m_mrr = 0\n",
    "    cont_el = 0\n",
    "    async with aiohttp.ClientSession() as session:\n",
    "        tasks = []\n",
    "        for name, type in string_name_list.items():\n",
    "            tasks.append(process_item(session, name, type, url, headers, semaphore, pbar))\n",
    "        \n",
    "        results = await asyncio.gather(*tasks)\n",
    "        \n",
    "        for (mrr_increment, count), (name, url_id) in zip(results, string_name_list.items()):\n",
    "            if mrr_increment == 0 and count == 0:                \n",
    "                failed_queries[url_id] = name\n",
    "                            \n",
    "            m_mrr += mrr_increment\n",
    "            cont_el += count\n",
    "\n",
    "        pbar.close()  # No need to await here\n",
    "\n",
    "    print(f\"Coverage of R1: {cont_el / len(mentions)}\")\n",
    "    print(f\"Measure Reciprocal Rank of R1: {m_mrr / len(mentions)}\")\n",
    "\n",
    "# Check if there's already a running event loop\n",
    "if __name__ == \"__main__\":\n",
    "    nest_asyncio.apply()  # Apply nest_asyncio\n",
    "    try:\n",
    "        pbar = tqdm(total=len(mentions))\n",
    "        asyncio.run(main(mentions, url, pbar, failed_queries))\n",
    "    except RuntimeError:  # For environments like Jupyter\n",
    "        loop = asyncio.get_event_loop()\n",
    "        loop.run_until_complete(main(mentions, url, pbar))\n"
   ]
  },
  {
   "cell_type": "code",
   "execution_count": 52,
   "id": "3d162709",
   "metadata": {},
   "outputs": [],
   "source": [
    "with open('C:/ALESSANDRO/Università/MAGISTRALE/SINTEF_thesis/lamAPI/data/HT2_failed_queries_SOFT.json', 'w') as json_file:\n",
    "    json.dump(failed_queries, json_file, indent=4)"
   ]
  },
  {
   "cell_type": "code",
   "execution_count": 52,
   "id": "48472390",
   "metadata": {},
   "outputs": [],
   "source": [
    "with open('C:/ALESSANDRO/Università/MAGISTRALE/SINTEF_thesis/lamAPI/data/HT2_failed_queries_HARD.json', 'r') as f:\n",
    "    failed_queries_hard = json.load(f)\n",
    "\n",
    "with open('C:/ALESSANDRO/Università/MAGISTRALE/SINTEF_thesis/lamAPI/data/HT2_failed_queries_SOFT.json', 'r') as f:\n",
    "    failed_queries_soft = json.load(f)"
   ]
  },
  {
   "cell_type": "code",
   "execution_count": 48,
   "id": "9496a761",
   "metadata": {},
   "outputs": [
    {
     "data": {
      "text/plain": [
       "{'Q102435',\n",
       " 'Q1205642',\n",
       " 'Q12722',\n",
       " 'Q13440',\n",
       " 'Q134735',\n",
       " 'Q1353876',\n",
       " 'Q1364541',\n",
       " 'Q1423078',\n",
       " 'Q15814081',\n",
       " 'Q15856153',\n",
       " 'Q15989',\n",
       " 'Q16511',\n",
       " 'Q1775206',\n",
       " 'Q1779859',\n",
       " 'Q1787505',\n",
       " 'Q18845586',\n",
       " 'Q18882458',\n",
       " 'Q18888595',\n",
       " 'Q19362881',\n",
       " 'Q19381330',\n",
       " 'Q200634',\n",
       " 'Q20805463',\n",
       " 'Q21560198',\n",
       " 'Q2162084',\n",
       " 'Q2395500',\n",
       " 'Q276837',\n",
       " 'Q282269',\n",
       " 'Q2908282',\n",
       " 'Q3231617',\n",
       " 'Q3500538',\n",
       " 'Q38049003',\n",
       " 'Q3917337',\n",
       " 'Q4529416',\n",
       " 'Q59311769',\n",
       " 'Q612773',\n",
       " 'Q62017162',\n",
       " 'Q65772024',\n",
       " 'Q66623013',\n",
       " 'Q6819071',\n",
       " 'Q74337267',\n",
       " 'Q74651710',\n",
       " 'Q75699321',\n",
       " 'Q77307090',\n",
       " 'Q77980182',\n",
       " 'Q77980709',\n",
       " 'Q78191247',\n",
       " 'Q81132',\n",
       " 'Q834482',\n",
       " 'Q91330689',\n",
       " 'Q91511110',\n",
       " 'Q9336171',\n",
       " 'Q93725704'}"
      ]
     },
     "execution_count": 48,
     "metadata": {},
     "output_type": "execute_result"
    }
   ],
   "source": [
    "(set(failed_queries_hard.keys()) & set(failed_queries_soft.keys()))"
   ]
  },
  {
   "cell_type": "code",
   "execution_count": 53,
   "id": "1043957c",
   "metadata": {},
   "outputs": [
    {
     "name": "stdout",
     "output_type": "stream",
     "text": [
      "failed_queries_hard: 499 vs failed_queries_soft: 358\n"
     ]
    }
   ],
   "source": [
    "print(f\"failed_queries_hard: {len(failed_queries_hard)} vs failed_queries_soft: {len(failed_queries_soft)}\")"
   ]
  },
  {
   "cell_type": "code",
   "execution_count": 54,
   "id": "0295d186",
   "metadata": {},
   "outputs": [
    {
     "name": "stdout",
     "output_type": "stream",
     "text": [
      "143\n"
     ]
    }
   ],
   "source": [
    "# 19 entities doesn’t match due to the Hard filtering constraint\n",
    "\n",
    "missing_values = set(failed_queries_hard) - set(failed_queries_soft)\n",
    "print(len(missing_values))"
   ]
  },
  {
   "cell_type": "code",
   "execution_count": 57,
   "id": "cf8cd338",
   "metadata": {},
   "outputs": [
    {
     "data": {
      "text/plain": [
       "'LOC'"
      ]
     },
     "execution_count": 57,
     "metadata": {},
     "output_type": "execute_result"
    }
   ],
   "source": [
    "failed_queries_hard['Q102469']"
   ]
  },
  {
   "cell_type": "code",
   "execution_count": 55,
   "id": "bbc8c58b",
   "metadata": {},
   "outputs": [
    {
     "data": {
      "text/plain": [
       "{'Q1013478',\n",
       " 'Q1022366',\n",
       " 'Q102469',\n",
       " 'Q102472401',\n",
       " 'Q1026019',\n",
       " 'Q1030389',\n",
       " 'Q10333266',\n",
       " 'Q104147571',\n",
       " 'Q10451',\n",
       " 'Q104914792',\n",
       " 'Q105064589',\n",
       " 'Q105231773',\n",
       " 'Q1112438',\n",
       " 'Q11352733',\n",
       " 'Q11353619',\n",
       " 'Q11511194',\n",
       " 'Q1205685',\n",
       " 'Q1218597',\n",
       " 'Q12544',\n",
       " 'Q1319988',\n",
       " 'Q142636',\n",
       " 'Q1445363',\n",
       " 'Q14875596',\n",
       " 'Q1489862',\n",
       " 'Q150489',\n",
       " 'Q1530878',\n",
       " 'Q1547773',\n",
       " 'Q1550449',\n",
       " 'Q1559811',\n",
       " 'Q1569748',\n",
       " 'Q1569781',\n",
       " 'Q1569821',\n",
       " 'Q1569868',\n",
       " 'Q1570564',\n",
       " 'Q15708337',\n",
       " 'Q1581162',\n",
       " 'Q1630016',\n",
       " 'Q163164',\n",
       " 'Q1634594',\n",
       " 'Q164596',\n",
       " 'Q16735627',\n",
       " 'Q1746330',\n",
       " 'Q1759911',\n",
       " 'Q1803466',\n",
       " 'Q19375324',\n",
       " 'Q194104',\n",
       " 'Q2079479',\n",
       " 'Q215819',\n",
       " 'Q2201159',\n",
       " 'Q2209140',\n",
       " 'Q223799',\n",
       " 'Q224494',\n",
       " 'Q2272973',\n",
       " 'Q2274963',\n",
       " 'Q2299611',\n",
       " 'Q2375620',\n",
       " 'Q2442235',\n",
       " 'Q2534226',\n",
       " 'Q2591630',\n",
       " 'Q2616970',\n",
       " 'Q2616988',\n",
       " 'Q2617303',\n",
       " 'Q2620426',\n",
       " 'Q2641647',\n",
       " 'Q2652121',\n",
       " 'Q267144',\n",
       " 'Q2673008',\n",
       " 'Q26786604',\n",
       " 'Q2739939',\n",
       " 'Q2753179',\n",
       " 'Q278151',\n",
       " 'Q278877',\n",
       " 'Q2862516',\n",
       " 'Q2894053',\n",
       " 'Q2982552',\n",
       " 'Q2987303',\n",
       " 'Q30624106',\n",
       " 'Q309331',\n",
       " 'Q320967',\n",
       " 'Q3373817',\n",
       " 'Q3458889',\n",
       " 'Q3458939',\n",
       " 'Q3476523',\n",
       " 'Q3670950',\n",
       " 'Q37043',\n",
       " 'Q3731342',\n",
       " 'Q388488',\n",
       " 'Q388841',\n",
       " 'Q40881',\n",
       " 'Q41357775',\n",
       " 'Q42561603',\n",
       " 'Q43260516',\n",
       " 'Q4816040',\n",
       " 'Q5372143',\n",
       " 'Q539614',\n",
       " 'Q56052397',\n",
       " 'Q56477541',\n",
       " 'Q5715907',\n",
       " 'Q571771',\n",
       " 'Q575822',\n",
       " 'Q5776966',\n",
       " 'Q58439861',\n",
       " 'Q5956',\n",
       " 'Q5970',\n",
       " 'Q60372364',\n",
       " 'Q6045',\n",
       " 'Q6053',\n",
       " 'Q622796',\n",
       " 'Q623424',\n",
       " 'Q645222',\n",
       " 'Q64682396',\n",
       " 'Q65770023',\n",
       " 'Q66228',\n",
       " 'Q6682231',\n",
       " 'Q67204096',\n",
       " 'Q67205162',\n",
       " 'Q69693505',\n",
       " 'Q7080184',\n",
       " 'Q708835',\n",
       " 'Q725594',\n",
       " 'Q7355542',\n",
       " 'Q771404',\n",
       " 'Q7830411',\n",
       " 'Q784022',\n",
       " 'Q805784',\n",
       " 'Q80688',\n",
       " 'Q81294641',\n",
       " 'Q82230',\n",
       " 'Q85847942',\n",
       " 'Q86106553',\n",
       " 'Q865076',\n",
       " 'Q889587',\n",
       " 'Q89692143',\n",
       " 'Q908640',\n",
       " 'Q919404',\n",
       " 'Q97007039',\n",
       " 'Q97015150',\n",
       " 'Q970191',\n",
       " 'Q97627496',\n",
       " 'Q97627543',\n",
       " 'Q98481863',\n",
       " 'Q988751',\n",
       " 'Q993732'}"
      ]
     },
     "execution_count": 55,
     "metadata": {},
     "output_type": "execute_result"
    }
   ],
   "source": [
    "missing_values"
   ]
  }
 ],
 "metadata": {
  "kernelspec": {
   "display_name": "Python 3 (ipykernel)",
   "language": "python",
   "name": "python3"
  },
  "language_info": {
   "codemirror_mode": {
    "name": "ipython",
    "version": 3
   },
   "file_extension": ".py",
   "mimetype": "text/x-python",
   "name": "python",
   "nbconvert_exporter": "python",
   "pygments_lexer": "ipython3",
   "version": "3.11.6"
  }
 },
 "nbformat": 4,
 "nbformat_minor": 5
}
