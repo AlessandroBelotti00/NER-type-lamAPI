{
 "cells": [
  {
   "cell_type": "code",
   "execution_count": null,
   "id": "456caee8",
   "metadata": {},
   "outputs": [],
   "source": []
  }
 ],
 "metadata": {
  "kernelspec": {
   "display_name": "v_env",
   "language": "python",
   "name": "python3"
  },
  "language_info": {
   "name": "python",
   "version": "3.10.4"
  }
 },
 "nbformat": 4,
 "nbformat_minor": 2
}
