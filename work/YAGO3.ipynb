{
 "cells": [
  {
   "cell_type": "code",
   "execution_count": 1,
   "id": "506e2b01-54de-454d-a13e-b7c71d4f43f7",
   "metadata": {},
   "outputs": [],
   "source": [
    "import gzip  # For reading compressed files\n",
    "from tqdm import tqdm\n",
    "import json"
   ]
  },
  {
   "cell_type": "code",
   "execution_count": 2,
   "id": "2c9a16ee",
   "metadata": {},
   "outputs": [
    {
     "name": "stderr",
     "output_type": "stream",
     "text": [
      "  0%|          | 0/5394049 [00:00<?, ?it/s]"
     ]
    },
    {
     "name": "stderr",
     "output_type": "stream",
     "text": [
      " 99%|█████████▉| 5338180/5394049 [00:02<00:00, 1966426.10it/s]"
     ]
    },
    {
     "name": "stdout",
     "output_type": "stream",
     "text": [
      "Processed 0 lines\n"
     ]
    },
    {
     "name": "stderr",
     "output_type": "stream",
     "text": [
      "\n"
     ]
    }
   ],
   "source": [
    "file_path = \"./yago-wd-full-types.nt.gz\"\n",
    "\n",
    "try:\n",
    "    with gzip.open(file_path, 'rb') as f:\n",
    "        chunk = []\n",
    "        \n",
    "        # Use tqdm to wrap the file iterator to track progress\n",
    "        for line in tqdm(f, total=5394049):\n",
    "            line_str = line.decode('utf-8').strip()\n",
    "            chunk.append(line_str)\n",
    "            \n",
    "        print(f\"Processed {line_count} lines\")\n",
    "        \n",
    "except FileNotFoundError:\n",
    "    print(f\"Error: File '{file_path}' not found.\")\n",
    "except Exception as e:\n",
    "    print(f\"Error processing RDF data: {e}\")"
   ]
  },
  {
   "cell_type": "code",
   "execution_count": 3,
   "id": "d59aa289-9b79-4185-8ece-cf8bdc0c7524",
   "metadata": {},
   "outputs": [],
   "source": [
    "organization_list = [\n",
    "    'Airline', 'Consortium', 'Corporation', 'EducationalOrganization', 'CollegeOrUniversity', 'ElementarySchool', 'HighSchool', \n",
    "    'MiddleSchool', 'Preschool', 'School', 'FundingScheme', 'GovernmentOrganization', 'LibrarySystem',\n",
    "    'AnimalShelter', 'ArchiveOrganization', 'AutoBodyShop', 'AutoDealer', 'AutoPartsStore', 'AutoRental', \n",
    "    'AutoRepair', 'AutoWash', 'GasStation', 'MotorcycleDealer', 'MotorcycleRepair', 'ChildCare', ' MedicalOrganization', 'Dentist', ' LocalBusiness', \n",
    "    'DryCleaningOrLaundry', 'FireStation', 'Hospital', 'PoliceStation', 'EmploymentAgency', 'AdultEntertainment', \n",
    "    'AmusementPark', 'ArtGallery', 'Casino', 'ComedyClub', 'MovieTheater', 'NightClub', 'AccountingService', \n",
    "    'AutomatedTeller', 'BankOrCreditUnion', 'InsuranceAgency', 'Bakery', 'BarOrPub', 'Brewery', 'CafeOrCoffeeShop', \n",
    "    'Distillery', 'FastFoodRestaurant', 'IceCreamShop', 'Restaurant', 'Winery', 'PostOffice', 'BeautySalon', \n",
    "    'DaySpa', 'HairSalon', 'HealthClub', 'NailSalon', 'TattooParlor', 'Electrician', 'GeneralContractor', \n",
    "    'HVACBusiness', 'HousePainter', 'Locksmith', 'MovingCompany', 'Plumber', 'RoofingContractor', 'InternetCafe', \n",
    "    'Attorney', 'Notary', 'Library', 'BedAndBreakfast', 'Campground', 'Hostel', 'Hotel', 'Motel', 'Resort', 'SkiResort',\n",
    "    'VacationRental', 'DiagnosticLab', 'NGO', 'NewsMediaOrganization', 'OnlineStore', 'DanceGroup', 'MusicGroup', \n",
    "    'TheaterGroup', 'PoliticalParty', 'FundingAgency', 'ResearchProject', 'ResearchOrganization', \n",
    "    'SearchRescueOrganization', 'SportsTeam', 'WorkersUnion', 'OnlineBusiness', 'PerformingGroup', 'Project', 'SportsOrganization', \n",
    "    'MedicalBusiness', 'CommunityHealth', 'Dermatology', 'DietNutrition', 'Emergency', 'Geriatric', 'Gynecologic',\n",
    "    'MedicalClinic', 'CovidTestingFacility', 'Midwifery', 'Nursing', 'Obstetric', 'Oncologic', 'Optician', 'Optometric',\n",
    "    'Otolaryngologic', 'Pediatric', 'Pharmacy', 'Physician', 'IndividualPhysician', 'PhysiciansOffice', 'Physiotherapy',\n",
    "    'PlasticSurgery', 'Podiatric', 'PrimaryCare', 'Psychiatric', 'PublicHealth', 'ProfessionalService', 'RadioStation',\n",
    "    'RealEstateAgent', 'RecyclingCenter', 'SelfStorage', 'ShoppingCenter', 'SportsActivityLocation', 'BowlingAlley',\n",
    "    'ExerciseGym', 'GolfCourse', 'PublicSwimmingPool', 'SportsClub', 'StadiumOrArena', 'TennisComplex',\n",
    "    'Store', 'BikeStore', 'BookStore', 'ClothingStore', 'ComputerStore', 'ConvenienceStore', 'DepartmentStore',\n",
    "    'ElectronicsStore', 'Florist', 'FurnitureStore', 'GardenStore', 'GroceryStore', 'HardwareStore', 'HobbyShop',\n",
    "    'HomeGoodsStore', 'JewelryStore', 'LiquorStore', 'MensClothingStore', 'MobilePhoneStore', 'MovieRentalStore',\n",
    "    'MusicStore', 'OfficeEquipmentStore', 'OutletStore', 'PawnShop', 'PetStore', 'ShoeStore', 'SportingGoodsStore',\n",
    "    'TireShop', 'ToyStore', 'WholesaleStore', 'TelevisionStation', 'TouristInformationCenter', 'TravelAgency',\n",
    "    'VeterinaryCare'\n",
    "]\n",
    "\n",
    "\n",
    "person_list = [\n",
    "    'Patient', 'Human'\n",
    "]\n",
    "\n",
    "place_list = [\n",
    "    'Apartment', 'CampingPitch', 'SingleFamilyResidence', 'HotelRoom', 'MeetingRoom', 'Suite', 'City', \n",
    "    'Country', 'SchoolDistrict', 'State', 'Airport', 'Aquarium', 'Beach', 'BoatTerminal', 'Bridge', 'BusStation', \n",
    "    'BusStop', 'Campground', 'Cemetery', 'Crematorium', 'EducationalOrganization', 'EventVenue', 'FireStation', 'CityHall', \n",
    "    'Courthouse', 'DefenceEstablishment', 'Embassy', 'LegislativeBuilding', 'Hospital', 'MovieTheater', 'Museum', 'MusicVenue', 'Park', \n",
    "    'ParkingFacility', 'PerformingArtsTheater', 'PlaceOfWorship', 'BuddhistTemple', 'CatholicChurch', 'HinduTemple', 'Mosque', 'Synagogue', 'Playground', \n",
    "    'PoliceStation', 'PublicToilet', 'RVPark', 'StadiumOrArena', 'SubwayStation', 'TaxiStand', 'TrainStation', 'Zoo', \n",
    "    'Canal', 'LakeBodyOfWater', 'OceanBodyOfWater', 'Pond', 'Reservoir', 'RiverBodyOfWater', 'SeaBodyOfWater', \n",
    "    'Waterfall', 'Continent', 'Mountain', 'Volcano', 'ApartmentComplex', 'GatedResidenceCommunity', 'TouristAttraction', \n",
    "    'TouristDestination', 'Accommodation', 'AdministrativeArea', 'CivicStructure', 'Landform', \n",
    "    'LandmarksOrHistoricalBuildings', 'LocalBusiness', 'Residence'\n",
    "]\n",
    "\n"
   ]
  },
  {
   "cell_type": "code",
   "execution_count": 11,
   "id": "04089ac0",
   "metadata": {},
   "outputs": [
    {
     "name": "stderr",
     "output_type": "stream",
     "text": [
      "100%|██████████| 5338180/5338180 [00:08<00:00, 609926.93it/s]\n"
     ]
    }
   ],
   "source": [
    "ORG = []\n",
    "LOC = []\n",
    "PERS = []\n",
    "OTHERS = []\n",
    "\n",
    "\n",
    "for line in tqdm(chunk):\n",
    "  \n",
    "    parts = line.split('\\t')\n",
    "    if len(parts) >= 3:\n",
    "        input_string = parts[2].rsplit('/', 1)[-1]\n",
    "        cleaned_string = input_string.rstrip('> .')\n",
    "        \n",
    "        #print(cleaned_string)\n",
    "        \n",
    "        if cleaned_string in organization_list:\n",
    "            ORG.append(line)\n",
    "            #print(f\"ORG: {line}\")\n",
    "        elif cleaned_string in place_list:\n",
    "            LOC.append(line)\n",
    "            #print(f\"LOC: {line}\")\n",
    "        elif cleaned_string in person_list:\n",
    "            PERS.append(line)\n",
    "            #print(f\"PERS: {line}\")\n",
    "        elif cleaned_string != \"\": \n",
    "            OTHERS.append(line)\n",
    "            #print(f\"OTHERS: {line}\")\n",
    "    #print(parts[1].split(' ')[0])\n",
    "    \n"
   ]
  },
  {
   "cell_type": "code",
   "execution_count": 6,
   "id": "fe29c153-c22b-4ed4-a9f0-de2bf0aed2a1",
   "metadata": {},
   "outputs": [
    {
     "name": "stdout",
     "output_type": "stream",
     "text": [
      "ORG = 290168\n",
      "LOC = 439422\n",
      "PERS = 1673765\n",
      "OTHERS = 2934825\n"
     ]
    }
   ],
   "source": [
    "print(f\"ORG = {len(ORG)}\")\n",
    "print(f\"LOC = {len(LOC)}\")\n",
    "print(f\"PERS = {len(PERS)}\")\n",
    "print(f\"OTHERS = {len(OTHERS)}\")"
   ]
  },
  {
   "cell_type": "code",
   "execution_count": null,
   "id": "f87b759e-ced0-4ca0-b4ea-86669e09dfef",
   "metadata": {},
   "outputs": [],
   "source": [
    "data = {\n",
    "    \"ORG\": ORG,\n",
    "    \"LOC\": LOC,\n",
    "    \"PERS\": PERS,\n",
    "    \"OTHERS\": OTHERS\n",
    "}\n",
    "\n",
    "# Specify the file path where you want to save the JSON file\n",
    "json_file_path = \"./entity_classification.json\"\n",
    "\n",
    "# Write the categorized data to a JSON file\n",
    "try:\n",
    "    with open(json_file_path, 'w') as json_file:\n",
    "        json.dump(data, json_file, indent=4)\n",
    "    print(f\"Data saved successfully to {json_file_path}\")\n",
    "except Exception as e:\n",
    "    print(f\"Error saving data to JSON file: {e}\")"
   ]
  },
  {
   "cell_type": "markdown",
   "id": "512c2815-ddcb-42ec-8e42-c2f2ec646cbb",
   "metadata": {},
   "source": [
    "## YAGO4 classification "
   ]
  },
  {
   "cell_type": "code",
   "execution_count": 2,
   "id": "1302d78f-c9db-4033-b00b-ac121e4615a5",
   "metadata": {},
   "outputs": [
    {
     "name": "stdout",
     "output_type": "stream",
     "text": [
      "Data loaded successfully from ./my-data/entity_classification.json\n"
     ]
    }
   ],
   "source": [
    "json_file_path = \"./my-data/entity_classification.json\"\n",
    "\n",
    "ORG = []\n",
    "LOC = []\n",
    "PERS = []\n",
    "OTHERS = []\n",
    "\n",
    "# Read the categorized data from the JSON file\n",
    "try:\n",
    "    with open(json_file_path, 'r') as json_file:\n",
    "        data = json.load(json_file)\n",
    "\n",
    "        # Populate lists based on the loaded data\n",
    "        ORG = data.get(\"ORG\", [])\n",
    "        LOC = data.get(\"LOC\", [])\n",
    "        PERS = data.get(\"PERS\", [])\n",
    "        OTHERS = data.get(\"OTHERS\", [])\n",
    "\n",
    "    print(f\"Data loaded successfully from {json_file_path}\")\n",
    "\n",
    "except FileNotFoundError:\n",
    "    print(f\"Error: File '{json_file_path}' not found.\")\n",
    "except Exception as e:\n",
    "    print(f\"Error loading data from JSON file: {e}\")\n"
   ]
  },
  {
   "cell_type": "markdown",
   "id": "03a5921e-3a38-429b-a33b-0b861a2e92ee",
   "metadata": {},
   "source": [
    "## Wikidata links"
   ]
  },
  {
   "cell_type": "code",
   "execution_count": null,
   "id": "a504627f-8ee3-4758-89fb-104963341ee4",
   "metadata": {},
   "outputs": [
    {
     "name": "stderr",
     "output_type": "stream",
     "text": [
      " 40%|████      | 14970957/37091475 [01:48<06:10, 59648.11it/s] "
     ]
    }
   ],
   "source": [
    "file_path = \"./my-data/yago-wd-sameAs.nt.gz\"\n",
    "\n",
    "try:\n",
    "    with gzip.open(file_path, 'rb') as f:\n",
    "        line_count = 0\n",
    "        chunk = []\n",
    "        \n",
    "        # Use tqdm to wrap the file iterator to track progress\n",
    "        for line in tqdm(f, total=37091475):\n",
    "            line_str = line.decode('utf-8').strip()\n",
    "            chunk.append(line_str)\n",
    "            \n",
    "        print(f\"Processed {line_count} lines\")\n",
    "        \n",
    "except FileNotFoundError:\n",
    "    print(f\"Error: File '{file_path}' not found.\")\n",
    "except Exception as e:\n",
    "    print(f\"Error processing RDF data: {e}\")"
   ]
  },
  {
   "cell_type": "code",
   "execution_count": 1,
   "id": "5c204e93-df37-4c9b-b29c-d0485780b50b",
   "metadata": {},
   "outputs": [],
   "source": [
    "##################################\n",
    "# EXECUTE FROM THIS FOR THE MAPPING\n",
    "##################################à\n",
    "\n",
    "json_file_path = \"./my-data/mapping.json\"\n",
    "\n",
    "try:\n",
    "    # Open the JSON file for reading\n",
    "    with open(json_file_path, 'r') as json_file:\n",
    "        mapping = json.load(json_file)\n",
    "        \n",
    "except FileNotFoundError:\n",
    "    print(f\"Error: File '{json_file_path}' not found.\")\n",
    "except json.JSONDecodeError as e:\n",
    "    print(f\"Error decoding JSON data: {e}\")\n",
    "except Exception as e:\n",
    "    print(f\"Error loading data from JSON file: {e}\")\n"
   ]
  },
  {
   "cell_type": "code",
   "execution_count": 4,
   "id": "b098404b-e9aa-462b-a060-cdc24fc12f99",
   "metadata": {},
   "outputs": [],
   "source": [
    "mapping_yago_wiki = {}\n",
    "\n",
    "for key, value in mapping.items():\n",
    "    # Remove trailing '>' from key and value\n",
    "    fixed_key = key.rstrip('>')\n",
    "    fixed_value = value.rstrip('>')\n",
    "    \n",
    "    # Update the updated_mapping_dict with the fixed key-value pair\n",
    "    mapping_yago_wiki[fixed_key] = fixed_value"
   ]
  },
  {
   "cell_type": "code",
   "execution_count": 8,
   "id": "56de913c-d766-4f2c-8bde-acd8716f289c",
   "metadata": {},
   "outputs": [],
   "source": [
    "merged_list = ORG + LOC + PERS + OTHERS\n",
    "yago_wiki = {}\n",
    "\n",
    "for el_yago in merged_list:\n",
    "    url_yago = el_yago.split('\\t')\n",
    "    if len(url_yago) >= 3:\n",
    "        start_index = url_yago[0].rfind('/') + 1\n",
    "        end_index = url_yago[0].rfind('>')\n",
    "        \n",
    "        # Extract the desired substring\n",
    "        extracted_string = url_yago[0][start_index:end_index]\n",
    "        id = mapping_yago_wiki[extracted_string]\n",
    "        yago_wiki[url_yago[0]] = id\n",
    "                "
   ]
  },
  {
   "cell_type": "code",
   "execution_count": 9,
   "id": "d8f15e21-9597-4560-a1df-fb8825dc722c",
   "metadata": {},
   "outputs": [
    {
     "name": "stdout",
     "output_type": "stream",
     "text": [
      "Data saved successfully to ./def_mapping.json\n"
     ]
    }
   ],
   "source": [
    "\n",
    "# Specify the file path where you want to save the JSON file\n",
    "json_file_path = \"./def_mapping.json\"\n",
    "\n",
    "# Write the categorized data to a JSON file\n",
    "try:\n",
    "    with open(json_file_path, 'w') as json_file:\n",
    "        json.dump(yago_wiki, json_file, indent=4)\n",
    "    print(f\"Data saved successfully to {json_file_path}\")\n",
    "except Exception as e:\n",
    "    print(f\"Error saving data to JSON file: {e}\")"
   ]
  }
 ],
 "metadata": {
  "kernelspec": {
   "display_name": "Python 3 (ipykernel)",
   "language": "python",
   "name": "python3"
  },
  "language_info": {
   "codemirror_mode": {
    "name": "ipython",
    "version": 3
   },
   "file_extension": ".py",
   "mimetype": "text/x-python",
   "name": "python",
   "nbconvert_exporter": "python",
   "pygments_lexer": "ipython3",
   "version": "3.11.6"
  }
 },
 "nbformat": 4,
 "nbformat_minor": 5
}
