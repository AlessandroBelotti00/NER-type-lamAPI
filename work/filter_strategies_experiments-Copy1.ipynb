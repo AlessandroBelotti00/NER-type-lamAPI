{
 "cells": [
  {
   "cell_type": "code",
   "execution_count": 2,
   "metadata": {},
   "outputs": [
    {
     "name": "stdout",
     "output_type": "stream",
     "text": [
      "Collecting SPARQLWrapper\n",
      "  Downloading SPARQLWrapper-2.0.0-py3-none-any.whl.metadata (2.0 kB)\n",
      "Collecting rdflib>=6.1.1 (from SPARQLWrapper)\n",
      "  Downloading rdflib-7.1.2-py3-none-any.whl.metadata (11 kB)\n",
      "Collecting pyparsing<4,>=3.2.0 (from rdflib>=6.1.1->SPARQLWrapper)\n",
      "  Downloading pyparsing-3.2.1-py3-none-any.whl.metadata (5.0 kB)\n",
      "Downloading SPARQLWrapper-2.0.0-py3-none-any.whl (28 kB)\n",
      "Downloading rdflib-7.1.2-py3-none-any.whl (567 kB)\n",
      "\u001b[2K   \u001b[90m━━━━━━━━━━━━━━━━━━━━━━━━━━━━━━━━━━━━━━━━\u001b[0m \u001b[32m567.0/567.0 kB\u001b[0m \u001b[31m6.8 MB/s\u001b[0m eta \u001b[36m0:00:00\u001b[0m00:01\u001b[0m00:01\u001b[0m\n",
      "\u001b[?25hDownloading pyparsing-3.2.1-py3-none-any.whl (107 kB)\n",
      "\u001b[2K   \u001b[90m━━━━━━━━━━━━━━━━━━━━━━━━━━━━━━━━━━━━━━━━\u001b[0m \u001b[32m107.7/107.7 kB\u001b[0m \u001b[31m6.1 MB/s\u001b[0m eta \u001b[36m0:00:00\u001b[0m\n",
      "\u001b[?25hInstalling collected packages: pyparsing, rdflib, SPARQLWrapper\n",
      "  Attempting uninstall: pyparsing\n",
      "    Found existing installation: pyparsing 3.1.1\n",
      "    Uninstalling pyparsing-3.1.1:\n",
      "      Successfully uninstalled pyparsing-3.1.1\n",
      "Successfully installed SPARQLWrapper-2.0.0 pyparsing-3.2.1 rdflib-7.1.2\n"
     ]
    }
   ],
   "source": [
    "! pip install SPARQLWrapper"
   ]
  },
  {
   "cell_type": "code",
   "execution_count": 83,
   "metadata": {},
   "outputs": [],
   "source": [
    "import os\n",
    "import pandas as pd\n",
    "from tqdm import tqdm\n",
    "import logging\n",
    "import requests\n",
    "from SPARQLWrapper import SPARQLWrapper, JSON\n",
    "import time\n",
    "import re\n",
    "from collections import Counter\n",
    "import json\n",
    "from requests import get"
   ]
  },
  {
   "cell_type": "code",
   "execution_count": 86,
   "metadata": {},
   "outputs": [],
   "source": [
    "import json\n",
    "from requests import get\n",
    "\n",
    "def get_wikidata_item_tree_item_idsSPARQL(root_items, forward_properties=None, backward_properties=None):\n",
    "    \"\"\"Return ids of WikiData items, which are in the tree spanned by the given root items and claims relating them\n",
    "        to other items.\n",
    "\n",
    "    :param root_items: iterable[int] One or multiple item entities that are the root elements of the tree\n",
    "    :param forward_properties: iterable[int] | None property-claims to follow forward; that is, if root item R has\n",
    "        a claim P:I, and P is in the list, the search will branch recursively to item I as well.\n",
    "    :param backward_properties: iterable[int] | None property-claims to follow in reverse; that is, if (for a root\n",
    "        item R) an item I has a claim P:R, and P is in the list, the search will branch recursively to item I as well.\n",
    "    :return: iterable[int]: List with ids of WikiData items in the tree\n",
    "    \"\"\"\n",
    "\n",
    "    query = '''PREFIX wikibase: <http://wikiba.se/ontology#>\n",
    "            PREFIX wd: <http://www.wikidata.org/entity/>\n",
    "            PREFIX wdt: <http://www.wikidata.org/prop/direct/>\n",
    "            PREFIX rdfs: <http://www.w3.org/2000/01/rdf-schema#>'''\n",
    "    if forward_properties:\n",
    "        query +='''SELECT ?WD_id WHERE {\n",
    "                  ?tree0 (wdt:P%s)* ?WD_id .\n",
    "                  BIND (wd:%s AS ?tree0)\n",
    "                  }'''%( ','.join(map(str, forward_properties)),','.join(map(str, root_items)))\n",
    "    elif backward_properties:\n",
    "        query+='''SELECT ?WD_id WHERE {\n",
    "                    ?WD_id (wdt:P%s)* wd:Q%s .\n",
    "                    }'''%(','.join(map(str, backward_properties)), ','.join(map(str, root_items)))\n",
    "    #print(query)\n",
    "\n",
    "    url = 'https://query.wikidata.org/bigdata/namespace/wdq/sparql'\n",
    "    data = get(url, params={'query': query, 'format': 'json'}).json()\n",
    "    \n",
    "    ids = []\n",
    "    for item in data['results']['bindings']:\n",
    "        this_id=item[\"WD_id\"][\"value\"].split(\"/\")[-1].lstrip(\"Q\")\n",
    "        #print(item)\n",
    "        try:\n",
    "            this_id = int(this_id)\n",
    "            ids.append(this_id)\n",
    "            #print(this_id)\n",
    "        except ValueError:\n",
    "            #print(\"exception\")\n",
    "            continue\n",
    "    return ids\n",
    "\n",
    "\n",
    "try:\n",
    "    organization_subclass = get_wikidata_item_tree_item_idsSPARQL([43229], backward_properties=[279])\n",
    "except json.decoder.JSONDecodeError:\n",
    "    organization_subclass = []\n",
    "\n",
    "try:\n",
    "    country_subclass = get_wikidata_item_tree_item_idsSPARQL([6256], backward_properties=[279])\n",
    "except json.decoder.JSONDecodeError:\n",
    "    country_subclass = []\n",
    "\n",
    "try:\n",
    "    city_subclass = get_wikidata_item_tree_item_idsSPARQL([515], backward_properties=[279])\n",
    "except json.decoder.JSONDecodeError:\n",
    "    city_subclass = []\n",
    "\n",
    "try:\n",
    "    capitals_subclass = get_wikidata_item_tree_item_idsSPARQL([5119], backward_properties=[279])\n",
    "except json.decoder.JSONDecodeError:\n",
    "    capitals_subclass = []\n",
    "\n",
    "try:\n",
    "    admTerr_subclass = get_wikidata_item_tree_item_idsSPARQL([15916867], backward_properties=[279])\n",
    "except json.decoder.JSONDecodeError:\n",
    "    admTerr_subclass = []\n",
    "\n",
    "try:\n",
    "    family_subclass = get_wikidata_item_tree_item_idsSPARQL([17350442], backward_properties=[279])\n",
    "except json.decoder.JSONDecodeError:\n",
    "    family_subclass = []\n",
    "\n",
    "try:\n",
    "    sportLeague_subclass = get_wikidata_item_tree_item_idsSPARQL([623109], backward_properties=[279])\n",
    "except json.decoder.JSONDecodeError:\n",
    "    sportLeague_subclass = []\n",
    "\n",
    "try:\n",
    "    venue_subclass = get_wikidata_item_tree_item_idsSPARQL([8436], backward_properties=[279])\n",
    "except json.decoder.JSONDecodeError:\n",
    "    venue_subclass = []\n",
    "\n",
    "# Removing overlaps for organization_subclass\n",
    "organization_subclass = list(set(organization_subclass) - set(country_subclass) - set(city_subclass) - set(capitals_subclass) - set(admTerr_subclass) - set(family_subclass) - set(sportLeague_subclass) - set(venue_subclass))\n",
    "\n",
    "try:\n",
    "    geolocation_subclass = get_wikidata_item_tree_item_idsSPARQL([2221906], backward_properties=[279])\n",
    "except json.decoder.JSONDecodeError:\n",
    "    geolocation_subclass = []\n",
    "\n",
    "try:\n",
    "    food_subclass = get_wikidata_item_tree_item_idsSPARQL([2095], backward_properties=[279])\n",
    "except json.decoder.JSONDecodeError:\n",
    "    food_subclass = []\n",
    "\n",
    "try:\n",
    "    edInst_subclass = get_wikidata_item_tree_item_idsSPARQL([2385804], backward_properties=[279])\n",
    "except json.decoder.JSONDecodeError:\n",
    "    edInst_subclass = []\n",
    "\n",
    "try:\n",
    "    govAgency_subclass = get_wikidata_item_tree_item_idsSPARQL([327333], backward_properties=[279])\n",
    "except json.decoder.JSONDecodeError:\n",
    "    govAgency_subclass = []\n",
    "\n",
    "try:\n",
    "    intOrg_subclass = get_wikidata_item_tree_item_idsSPARQL([484652], backward_properties=[279])\n",
    "except json.decoder.JSONDecodeError:\n",
    "    intOrg_subclass = []\n",
    "\n",
    "try:\n",
    "    timeZone_subclass = get_wikidata_item_tree_item_idsSPARQL([12143], backward_properties=[279])\n",
    "except json.decoder.JSONDecodeError:\n",
    "    timeZone_subclass = []\n",
    "\n",
    "# Removing overlaps for geolocation_subclass\n",
    "geolocation_subclass = list(set(geolocation_subclass) - set(food_subclass) - set(edInst_subclass) - set(govAgency_subclass) - set(intOrg_subclass) - set(timeZone_subclass))\n",
    "\n"
   ]
  },
  {
   "cell_type": "code",
   "execution_count": 87,
   "metadata": {},
   "outputs": [],
   "source": [
    "def split_entity_name(entity_name):\n",
    "    \"\"\"\n",
    "    Splits the entity name into separate words if it has more than 2 uppercase letters.\n",
    "    \n",
    "    Args:\n",
    "        entity_name (str): The input string to check and potentially split (e.g., 'VideoGame').\n",
    "    \n",
    "    Returns:\n",
    "        str: The modified string with words split by spaces if necessary.\n",
    "    \"\"\"\n",
    "    # Count uppercase letters\n",
    "    uppercase_count = sum(1 for char in entity_name if char.isupper())\n",
    "    \n",
    "    # If more than 2 uppercase letters, split before every uppercase letter\n",
    "    if uppercase_count >= 2:\n",
    "        return re.sub(r'(?<!^)(?=[A-Z])', ' ', entity_name)\n",
    "    \n",
    "    return entity_name\n",
    "\n",
    "def get_type_id(entity_name):\n",
    "    \"\"\"\n",
    "    Queries the API to retrieve the QID of an entity based on its name.\n",
    "\n",
    "    Args:\n",
    "        entity_name (str): The name of the entity (e.g., 'Video Game').\n",
    "\n",
    "    Returns:\n",
    "        str: The QID associated with the given entity name, or None if an error occurs or no QID is found.\n",
    "    \"\"\"\n",
    "    \n",
    "    entity_name_split = split_entity_name(entity_name)\n",
    "\n",
    "    url = f\"https://lamapi.hel.sintef.cloud/lookup/entity-retrieval\"\n",
    "    params = {\n",
    "        \"name\": entity_name_split,\n",
    "        \"kind\": \"type\",\n",
    "        \"token\": \"lamapi_demo_2023\"\n",
    "    }\n",
    "    headers = {\n",
    "        \"accept\": \"application/json\"\n",
    "    }\n",
    "\n",
    "    try:\n",
    "        response = requests.get(url, headers=headers, params=params)\n",
    "        response.raise_for_status()  # Raise an error for HTTP issues\n",
    "        data = response.json()\n",
    "        # Assuming the API returns the QID directly or within a key, adjust if structure differs\n",
    "        #return max(data, key=lambda x: x.get('pos_score', 0))\n",
    "        return data[0]['id']\n",
    "    except requests.exceptions.RequestException as e:\n",
    "        print(f\"An error occurred: {e}\")\n",
    "        return None\n"
   ]
  },
  {
   "cell_type": "code",
   "execution_count": 88,
   "metadata": {},
   "outputs": [],
   "source": [
    "def retrieve_superclasses(entity_id):\n",
    "    \"\"\"\n",
    "    Retrieve all superclasses of a given Wikidata entity ID.\n",
    "\n",
    "    Args:\n",
    "        entity_id (str): The ID of the entity (e.g., \"Q207784\").\n",
    "\n",
    "    Returns:\n",
    "        dict: A dictionary where keys are superclass IDs, and values are their labels.\n",
    "    \"\"\"\n",
    "    # Define the SPARQL endpoint and query\n",
    "    endpoint_url = \"https://query.wikidata.org/sparql\"\n",
    "    query = f\"\"\"\n",
    "    SELECT ?superclass ?superclassLabel WHERE {{\n",
    "      wd:{entity_id} (wdt:P279)* ?superclass.\n",
    "      SERVICE wikibase:label {{ bd:serviceParam wikibase:language \"[AUTO_LANGUAGE],en\". }}\n",
    "    }}\n",
    "    \"\"\"\n",
    "\n",
    "    # Function to query the SPARQL endpoint with retries\n",
    "    def query_wikidata(sparql_client, query, retries=3, delay=5):\n",
    "        for attempt in range(retries):\n",
    "            try:\n",
    "                sparql_client.setQuery(query)\n",
    "                sparql_client.setReturnFormat(JSON)\n",
    "                results = sparql_client.query().convert()\n",
    "                return results\n",
    "            except Exception as e:\n",
    "                if \"429\" in str(e):  # Handle Too Many Requests error\n",
    "                    print(f\"Rate limit hit. Retrying in {delay} seconds... (Attempt {attempt + 1}/{retries})\")\n",
    "                    time.sleep(delay)\n",
    "                else:\n",
    "                    print(f\"An error occurred: {e}\")\n",
    "                    break\n",
    "        return None\n",
    "\n",
    "    # Set up the SPARQL client\n",
    "    sparql = SPARQLWrapper(endpoint_url)\n",
    "\n",
    "    # Execute the query with retries\n",
    "    results = query_wikidata(sparql, query)\n",
    "\n",
    "    # Process results and return as a dictionary\n",
    "    if results:\n",
    "        superclass_dict = {}\n",
    "        for result in results[\"results\"][\"bindings\"]:\n",
    "            superclass_id = result[\"superclass\"][\"value\"].split(\"/\")[-1]  # Extract entity ID from the URI\n",
    "            label = result[\"superclassLabel\"][\"value\"]\n",
    "            superclass_dict[superclass_id] = label\n",
    "        return superclass_dict\n",
    "    else:\n",
    "        print(\"Failed to retrieve data after multiple attempts.\")\n",
    "        return {}\n"
   ]
  },
  {
   "cell_type": "code",
   "execution_count": 89,
   "metadata": {},
   "outputs": [],
   "source": [
    "def WD_types(entity_id):\n",
    "    \"\"\"\n",
    "    Queries the API to retrieve the list of type IDs for a given entity ID.\n",
    "\n",
    "    Args:\n",
    "        entity_id (str): The Wikidata ID of the entity (e.g., 'Q30').\n",
    "\n",
    "    Returns:\n",
    "        list: A list of type IDs associated with the given entity, or an empty list if an error occurs.\n",
    "    \"\"\"\n",
    "\n",
    "    url = \"https://lamapi.hel.sintef.cloud/entity/types?token=lamapi_demo_2023\"\n",
    "    headers = {\n",
    "        \"accept\": \"application/json\",\n",
    "        \"Content-Type\": \"application/json\"\n",
    "    }\n",
    "    payload = {\"json\": [entity_id]}\n",
    "    \n",
    "    try:\n",
    "        response = requests.post(url, headers=headers, json=payload)\n",
    "        response.raise_for_status()  # Raise an error for HTTP issues\n",
    "        ids = response.json()\n",
    "        return ids[entity_id]['types']['P31']  # Parse and return the JSON response\n",
    "    except requests.exceptions.RequestException as e:\n",
    "        print(f\"An error occurred: {e}\")\n",
    "        return []\n",
    "    except KeyError as e:\n",
    "        # Handle missing keys in the JSON response\n",
    "        return []"
   ]
  },
  {
   "cell_type": "code",
   "execution_count": 90,
   "metadata": {},
   "outputs": [],
   "source": [
    "\n",
    "def NER_types(entity_id):\n",
    "\n",
    "    \"\"\"\n",
    "    Given an entity it retrieves the list of the associated NER types making\n",
    "    the NER type extension of all the WD_types associated to it.\n",
    "    \"\"\"\n",
    "    if not entity_id:\n",
    "        return None  \n",
    "\n",
    "    match = re.search(r'Q(\\d+)', entity_id)\n",
    "    numeric_id = int(match.group(1))\n",
    "\n",
    "    NERtype = []\n",
    "    # Classify NER types\n",
    "    if numeric_id == 5:\n",
    "        return 'PERS'\n",
    "    elif numeric_id in geolocation_subclass:\n",
    "        return 'LOC'\n",
    "    elif numeric_id in organization_subclass:\n",
    "        return 'ORG'\n",
    "    else:\n",
    "        return 'OTHERS'\n",
    "    "
   ]
  },
  {
   "cell_type": "code",
   "execution_count": 91,
   "metadata": {},
   "outputs": [],
   "source": [
    "def extended_WD_types(entity_id):\n",
    "\n",
    "    \"\"\"\n",
    "    Given an entity it retrieves the list of the associated extended WD types making\n",
    "    the type extension of all the WD_types associated to it.\n",
    "    \"\"\"\n",
    "        \n",
    "    if not entity_id:\n",
    "        return None\n",
    "\n",
    "    return list(retrieve_superclasses(entity_id).keys())\n",
    "    "
   ]
  },
  {
   "cell_type": "code",
   "execution_count": 74,
   "metadata": {},
   "outputs": [
    {
     "data": {
      "text/plain": [
       "dict_keys"
      ]
     },
     "execution_count": 74,
     "metadata": {},
     "output_type": "execute_result"
    }
   ],
   "source": [
    "type(retrieve_superclasses(\"Q31\").keys())"
   ]
  },
  {
   "cell_type": "code",
   "execution_count": 93,
   "metadata": {},
   "outputs": [
    {
     "data": {
      "text/plain": [
       "set"
      ]
     },
     "execution_count": 93,
     "metadata": {},
     "output_type": "execute_result"
    }
   ],
   "source": [
    "type(extended_WD_types(\"Q31\"))"
   ]
  },
  {
   "cell_type": "markdown",
   "metadata": {},
   "source": [
    "## Dataset Reading"
   ]
  },
  {
   "cell_type": "code",
   "execution_count": 208,
   "metadata": {},
   "outputs": [],
   "source": [
    "\n",
    "tables_path = \"./data/Dataset/Dataset/Round4_2020/tables/\"\n",
    "cea_file = './data/Dataset/Dataset/Round4_2020/gt/cea.csv'\n",
    "cta_file = './data/Dataset/Dataset/Round4_2020/gt/cta.csv'\n",
    "\n",
    "\n",
    "os.listdir(tables_path)\n",
    "# Initialize logging\n",
    "logging.basicConfig(level=logging.INFO, format='%(asctime)s - %(levelname)s - %(message)s')\n",
    "\n",
    "# Read the cea_file and create a key-value dictionary\n",
    "df_cea = pd.read_csv(cea_file, header=None)\n",
    "df_cea[\"key\"] = df_cea[0] + \" \" + df_cea[1].astype(str) + \" \" + df_cea[2].astype(str)\n",
    "df_cea[\"key_col\"] = df_cea[0] + \" \" + df_cea[2].astype(str)\n",
    "cea_values_dict = dict(zip(df_cea[\"key_col\"].values, df_cea[3].values))\n",
    "\n",
    "\n",
    "df_cta = pd.read_csv(cta_file, header=None)\n",
    "df_cta[\"key\"] = df_cta[0] + \" \" + df_cta[1].astype(str)\n",
    "cta_values_dict = dict(zip(df_cta[\"key\"].values, df_cta[2].values))\n",
    "\n",
    "\n",
    "# Find the intersection of keys between the two dictionaries\n",
    "common_keys = set(cea_values_dict.keys()).intersection(cta_values_dict.keys())\n",
    "\n",
    "# Create a new dictionary with combined values\n",
    "combined_dict = {key: [cea_values_dict[key], cta_values_dict[key]] for key in common_keys}\n",
    "\n",
    "\n",
    "path = \"./data/Round4_sorted_mentions.json\"\n",
    " \n",
    "with open(path, 'r') as json_file:\n",
    "    mentions_R4 = json.load(json_file)\n",
    "\n",
    "################ PER 2T #################\n",
    "\n",
    "key_to_cell = {}\n",
    "\n",
    "for el in mentions_R4:\n",
    "    label = el[0]\n",
    "    id_url = el[1]['id'].split('/')[-1]\n",
    "    key_to_cell[label] = id_url"
   ]
  },
  {
   "cell_type": "code",
   "execution_count": 219,
   "metadata": {},
   "outputs": [
    {
     "name": "stderr",
     "output_type": "stream",
     "text": [
      "Processing tables: 100%|██████████| 180/180 [00:06<00:00, 28.24it/s]\n"
     ]
    },
    {
     "data": {
      "text/plain": [
       "8796"
      ]
     },
     "execution_count": 219,
     "metadata": {},
     "output_type": "execute_result"
    }
   ],
   "source": [
    "\n",
    "tables_path = \"./data/Dataset/Dataset/2T_Round4/tables/\"\n",
    "cea_file = './data/Dataset/Dataset/2T_Round4/gt/cea.csv'\n",
    "cta_file = './data/Dataset/Dataset/2T_Round4/gt/cta.csv'\n",
    "\n",
    "\n",
    "os.listdir(tables_path)\n",
    "# Initialize logging\n",
    "logging.basicConfig(level=logging.INFO, format='%(asctime)s - %(levelname)s - %(message)s')\n",
    "\n",
    "# Read the cea_file and create a key-value dictionary\n",
    "df_cea = pd.read_csv(cea_file, header=None)\n",
    "df_cea[\"key\"] = df_cea[0] + \" \" + df_cea[1].astype(str) + \" \" + df_cea[2].astype(str)\n",
    "df_cea[\"key_col\"] = df_cea[0] + \" \" + df_cea[2].astype(str)\n",
    "\n",
    "tmp = []\n",
    "for el in df_cea[3]:\n",
    "    if el.split(' ')[0] not in tmp:\n",
    "        tmp.append(el.split(' ')[0])\n",
    "\n",
    "\n",
    "cea_values_dict = dict(zip(tmp, df_cea[\"key_col\"].values))\n",
    "\n",
    "\n",
    "df_cta = pd.read_csv(cta_file, header=None)\n",
    "df_cta[\"key\"] = df_cta[0] + \" \" + df_cta[1].astype(str)\n",
    "cta_values_dict = dict(zip(df_cta[\"key\"].values, df_cta[2].values))\n",
    "\n",
    "\n",
    "# Find the intersection of keys between the two dictionaries\n",
    "common_keys = set(cea_values_dict.values()).intersection(cta_values_dict.keys())\n",
    "\n",
    "# Create a new dictionary with combined values\n",
    "combined_dict = {}\n",
    "for k,v in cea_values_dict.items():\n",
    "    combined_dict[k] = cta_values_dict[v]\n",
    "\n",
    "cea_keys_set = set(df_cea[\"key\"].values)\n",
    "cea_values_dict_cell = dict(zip(df_cea[\"key\"].values, df_cea[3].values))\n",
    "\n",
    "# Function to process a single table file\n",
    "def process_table_file(table_file):\n",
    "    try:\n",
    "        table_name = os.path.splitext(os.path.basename(table_file))[0]\n",
    "        df = pd.read_csv(table_file)\n",
    "        qid_to_value = {}\n",
    "\n",
    "        for row in range(df.shape[0]):\n",
    "            for col in range(df.shape[1]):\n",
    "                key = f\"{table_name} {row+1} {col}\"\n",
    "                if key in cea_keys_set:\n",
    "                    cell_value = df.iloc[row, col]\n",
    "                    qid = cea_values_dict_cell[key].split('/')[-1]  # Extract the QID from the URL\n",
    "                    qid_to_value[qid] = cell_value\n",
    "                    break  # Exit inner loop early as only one match per row/col is needed\n",
    "\n",
    "        return qid_to_value\n",
    "    except Exception as e:\n",
    "        logging.error(f\"Error processing {table_file}: {e}\")\n",
    "        return {}\n",
    "\n",
    "# List of table files\n",
    "table_files = [os.path.join(tables_path, table) for table in os.listdir(tables_path)]\n",
    "\n",
    "# Process tables sequentially\n",
    "key_to_cell = {}\n",
    "for table_file in tqdm(table_files, desc=\"Processing tables\"):\n",
    "    local_key_to_cell = process_table_file(table_file)\n",
    "    key_to_cell.update(local_key_to_cell)\n",
    "\n",
    "len(key_to_cell)"
   ]
  },
  {
   "cell_type": "code",
   "execution_count": 221,
   "metadata": {},
   "outputs": [
    {
     "name": "stderr",
     "output_type": "stream",
     "text": [
      "Processing items:   0%|          | 60/15998 [01:09<4:57:58,  1.12s/it]"
     ]
    },
    {
     "name": "stdout",
     "output_type": "stream",
     "text": [
      "An error occurred: 502 Server Error: Bad Gateway for url: https://lamapi.hel.sintef.cloud/entity/types?token=lamapi_demo_2023\n"
     ]
    },
    {
     "name": "stderr",
     "output_type": "stream",
     "text": [
      "Processing items: 100%|██████████| 15998/15998 [6:01:50<00:00,  1.36s/it]  \n"
     ]
    }
   ],
   "source": [
    "from tqdm import tqdm\n",
    "\n",
    "WD_query_type = {}\n",
    "\n",
    "# Wrap the values of the dictionary in tqdm for a progress bar\n",
    "for key, value in tqdm(combined_dict.items(), desc=\"Processing items\"):\n",
    "    key = key.split('/')[-1]\n",
    "    result = None\n",
    "    \n",
    "    for item in value.split(' '):  # Split the string into items\n",
    "        item_id = item.split('/')[-1]\n",
    "        types_list = WD_types(item_id)  # Call WD_types on the item ID\n",
    "        if types_list:  # Check if the result is non-empty\n",
    "            result = item_id\n",
    "            break  # Use the first non-empty result and exit the loop\n",
    "            \n",
    "    WD_query_type[key] = result  # Store the result (or None if no non-empty list found)\n"
   ]
  },
  {
   "cell_type": "code",
   "execution_count": null,
   "metadata": {},
   "outputs": [],
   "source": [
    "WD_query_type"
   ]
  },
  {
   "cell_type": "code",
   "execution_count": 222,
   "metadata": {},
   "outputs": [],
   "source": [
    "with open('2T_WD_query_type.json', 'w') as json_file:\n",
    "    json.dump(WD_query_type, json_file, indent=4)\n"
   ]
  },
  {
   "cell_type": "code",
   "execution_count": 82,
   "metadata": {},
   "outputs": [
    {
     "name": "stdout",
     "output_type": "stream",
     "text": [
      "['Q31']\n"
     ]
    }
   ],
   "source": [
    "#print(f\"{type_str}: {get_type_id(type_str)}\")\n",
    "\n",
    "entity_name = key_to_cell[list(WD_query_type.keys())[0]]\n",
    "ext_query_types = list(set(retrieve_superclasses(\"Q31\")))\n",
    "\n",
    "# query a lamapi dove specifico nel filtro il tipo\n",
    "\n",
    "#WD_candidate_types = WD_types(entity_id)  # WD_types() interroga il servizio types() ma forse è sbagliato (da implementare lato server non client)\n",
    "print(ext_query_types)"
   ]
  },
  {
   "cell_type": "code",
   "execution_count": null,
   "metadata": {},
   "outputs": [],
   "source": [
    "# Initialize an empty dictionary for NER_query_type\n",
    "NER_query_type = {}\n",
    "\n",
    "# Iterate over WD_query_type.keys() with a tqdm progress bar\n",
    "for entity_name, entity_type in tqdm(WD_query_type.items(), desc=\"Processing Entities\", unit=\"entity\"):\n",
    "    if entity_type is None:\n",
    "        NER_query_type[entity_name] = None\n",
    "    else:\n",
    "        NER_query_type[entity_name] = NER_types(entity_type)\n",
    "\n",
    "with open('2T_NER_query_type.json', 'w') as json_file:\n",
    "    json.dump(NER_query_type, json_file, indent=4)\n",
    "\n",
    "\n",
    "# Display the resulting dictionary\n",
    "NER_query_type"
   ]
  },
  {
   "cell_type": "code",
   "execution_count": 95,
   "metadata": {},
   "outputs": [
    {
     "data": {
      "text/plain": [
       "159"
      ]
     },
     "execution_count": 95,
     "metadata": {},
     "output_type": "execute_result"
    }
   ],
   "source": [
    "len(WD_query_type)"
   ]
  },
  {
   "cell_type": "code",
   "execution_count": 225,
   "metadata": {},
   "outputs": [
    {
     "name": "stderr",
     "output_type": "stream",
     "text": [
      "Processing Superclasses:   2%|▏         | 343/15998 [03:17<2:12:15,  1.97entity/s]"
     ]
    },
    {
     "name": "stdout",
     "output_type": "stream",
     "text": [
      "Rate limit hit. Retrying in 5 seconds... (Attempt 1/3)\n"
     ]
    },
    {
     "name": "stderr",
     "output_type": "stream",
     "text": [
      "Processing Superclasses:   2%|▏         | 346/15998 [03:23<5:09:13,  1.19s/entity]"
     ]
    },
    {
     "name": "stdout",
     "output_type": "stream",
     "text": [
      "Rate limit hit. Retrying in 5 seconds... (Attempt 1/3)\n"
     ]
    },
    {
     "name": "stderr",
     "output_type": "stream",
     "text": [
      "Processing Superclasses:   2%|▏         | 348/15998 [03:30<8:45:15,  2.01s/entity] "
     ]
    },
    {
     "name": "stdout",
     "output_type": "stream",
     "text": [
      "Rate limit hit. Retrying in 5 seconds... (Attempt 1/3)\n"
     ]
    },
    {
     "name": "stderr",
     "output_type": "stream",
     "text": [
      "Processing Superclasses:   2%|▏         | 352/15998 [03:39<8:00:51,  1.84s/entity] "
     ]
    },
    {
     "name": "stdout",
     "output_type": "stream",
     "text": [
      "Rate limit hit. Retrying in 5 seconds... (Attempt 1/3)\n"
     ]
    },
    {
     "name": "stderr",
     "output_type": "stream",
     "text": [
      "Processing Superclasses:   2%|▏         | 354/15998 [03:47<11:40:49,  2.69s/entity]"
     ]
    },
    {
     "name": "stdout",
     "output_type": "stream",
     "text": [
      "Rate limit hit. Retrying in 5 seconds... (Attempt 1/3)\n"
     ]
    },
    {
     "name": "stderr",
     "output_type": "stream",
     "text": [
      "Processing Superclasses:   2%|▏         | 359/15998 [03:54<5:33:09,  1.28s/entity] "
     ]
    },
    {
     "name": "stdout",
     "output_type": "stream",
     "text": [
      "Rate limit hit. Retrying in 5 seconds... (Attempt 1/3)\n"
     ]
    },
    {
     "name": "stderr",
     "output_type": "stream",
     "text": [
      "Processing Superclasses:   2%|▏         | 360/15998 [04:01<12:26:13,  2.86s/entity]"
     ]
    },
    {
     "name": "stdout",
     "output_type": "stream",
     "text": [
      "Rate limit hit. Retrying in 5 seconds... (Attempt 1/3)\n",
      "Rate limit hit. Retrying in 5 seconds... (Attempt 2/3)\n"
     ]
    },
    {
     "name": "stderr",
     "output_type": "stream",
     "text": [
      "Processing Superclasses:   3%|▎         | 422/15998 [04:52<2:14:19,  1.93entity/s] "
     ]
    },
    {
     "name": "stdout",
     "output_type": "stream",
     "text": [
      "Rate limit hit. Retrying in 5 seconds... (Attempt 1/3)\n"
     ]
    },
    {
     "name": "stderr",
     "output_type": "stream",
     "text": [
      "Processing Superclasses:   3%|▎         | 423/15998 [04:58<8:49:25,  2.04s/entity]"
     ]
    },
    {
     "name": "stdout",
     "output_type": "stream",
     "text": [
      "Rate limit hit. Retrying in 5 seconds... (Attempt 1/3)\n"
     ]
    },
    {
     "name": "stderr",
     "output_type": "stream",
     "text": [
      "Processing Superclasses:   3%|▎         | 426/15998 [05:04<7:38:04,  1.76s/entity] "
     ]
    },
    {
     "name": "stdout",
     "output_type": "stream",
     "text": [
      "Rate limit hit. Retrying in 5 seconds... (Attempt 1/3)\n"
     ]
    },
    {
     "name": "stderr",
     "output_type": "stream",
     "text": [
      "Processing Superclasses:   3%|▎         | 427/15998 [05:10<12:25:37,  2.87s/entity]"
     ]
    },
    {
     "name": "stdout",
     "output_type": "stream",
     "text": [
      "Rate limit hit. Retrying in 5 seconds... (Attempt 1/3)\n"
     ]
    },
    {
     "name": "stderr",
     "output_type": "stream",
     "text": [
      "Processing Superclasses:   3%|▎         | 435/15998 [05:18<2:56:30,  1.47entity/s] "
     ]
    },
    {
     "name": "stdout",
     "output_type": "stream",
     "text": [
      "Rate limit hit. Retrying in 5 seconds... (Attempt 1/3)\n"
     ]
    },
    {
     "name": "stderr",
     "output_type": "stream",
     "text": [
      "Processing Superclasses:   8%|▊         | 1213/15998 [12:53<70:55:20, 17.27s/entity]"
     ]
    },
    {
     "name": "stdout",
     "output_type": "stream",
     "text": [
      "Rate limit hit. Retrying in 5 seconds... (Attempt 1/3)\n"
     ]
    },
    {
     "name": "stderr",
     "output_type": "stream",
     "text": [
      "Processing Superclasses:   8%|▊         | 1214/15998 [12:59<56:33:26, 13.77s/entity]"
     ]
    },
    {
     "name": "stdout",
     "output_type": "stream",
     "text": [
      "Rate limit hit. Retrying in 5 seconds... (Attempt 1/3)\n",
      "Rate limit hit. Retrying in 5 seconds... (Attempt 2/3)\n"
     ]
    },
    {
     "name": "stderr",
     "output_type": "stream",
     "text": [
      "Processing Superclasses:  21%|██        | 3342/15998 [32:50<2:01:55,  1.73entity/s] "
     ]
    },
    {
     "name": "stdout",
     "output_type": "stream",
     "text": [
      "Rate limit hit. Retrying in 5 seconds... (Attempt 1/3)\n"
     ]
    },
    {
     "name": "stderr",
     "output_type": "stream",
     "text": [
      "Processing Superclasses:  21%|██        | 3349/15998 [32:57<1:49:20,  1.93entity/s]"
     ]
    },
    {
     "name": "stdout",
     "output_type": "stream",
     "text": [
      "Rate limit hit. Retrying in 5 seconds... (Attempt 1/3)\n"
     ]
    },
    {
     "name": "stderr",
     "output_type": "stream",
     "text": [
      "Processing Superclasses:  27%|██▋       | 4358/15998 [42:44<1:48:01,  1.80entity/s]"
     ]
    },
    {
     "name": "stdout",
     "output_type": "stream",
     "text": [
      "Rate limit hit. Retrying in 5 seconds... (Attempt 1/3)\n"
     ]
    },
    {
     "name": "stderr",
     "output_type": "stream",
     "text": [
      "Processing Superclasses:  27%|██▋       | 4379/15998 [43:05<1:47:05,  1.81entity/s]"
     ]
    },
    {
     "name": "stdout",
     "output_type": "stream",
     "text": [
      "Rate limit hit. Retrying in 5 seconds... (Attempt 1/3)\n"
     ]
    },
    {
     "name": "stderr",
     "output_type": "stream",
     "text": [
      "Processing Superclasses:  34%|███▍      | 5413/15998 [53:01<1:42:23,  1.72entity/s]"
     ]
    },
    {
     "name": "stdout",
     "output_type": "stream",
     "text": [
      "Rate limit hit. Retrying in 5 seconds... (Attempt 1/3)\n"
     ]
    },
    {
     "name": "stderr",
     "output_type": "stream",
     "text": [
      "Processing Superclasses:  34%|███▍      | 5415/15998 [53:07<4:28:24,  1.52s/entity]"
     ]
    },
    {
     "name": "stdout",
     "output_type": "stream",
     "text": [
      "Rate limit hit. Retrying in 5 seconds... (Attempt 1/3)\n",
      "Rate limit hit. Retrying in 5 seconds... (Attempt 2/3)\n"
     ]
    },
    {
     "name": "stderr",
     "output_type": "stream",
     "text": [
      "Processing Superclasses:  34%|███▍      | 5416/15998 [53:19<13:29:22,  4.59s/entity]"
     ]
    },
    {
     "name": "stdout",
     "output_type": "stream",
     "text": [
      "Rate limit hit. Retrying in 5 seconds... (Attempt 1/3)\n"
     ]
    },
    {
     "name": "stderr",
     "output_type": "stream",
     "text": [
      "Processing Superclasses:  44%|████▍     | 7103/15998 [1:02:24<1:01:13,  2.42entity/s]"
     ]
    },
    {
     "name": "stdout",
     "output_type": "stream",
     "text": [
      "Rate limit hit. Retrying in 5 seconds... (Attempt 1/3)\n"
     ]
    },
    {
     "name": "stderr",
     "output_type": "stream",
     "text": [
      "Processing Superclasses:  44%|████▍     | 7104/15998 [1:02:30<4:46:49,  1.93s/entity]"
     ]
    },
    {
     "name": "stdout",
     "output_type": "stream",
     "text": [
      "Rate limit hit. Retrying in 5 seconds... (Attempt 1/3)\n"
     ]
    },
    {
     "name": "stderr",
     "output_type": "stream",
     "text": [
      "Processing Superclasses:  45%|████▍     | 7128/15998 [1:02:43<56:57,  2.60entity/s]  "
     ]
    },
    {
     "name": "stdout",
     "output_type": "stream",
     "text": [
      "Rate limit hit. Retrying in 5 seconds... (Attempt 1/3)\n"
     ]
    },
    {
     "name": "stderr",
     "output_type": "stream",
     "text": [
      "Processing Superclasses:  45%|████▍     | 7131/15998 [1:02:50<2:50:06,  1.15s/entity]"
     ]
    },
    {
     "name": "stdout",
     "output_type": "stream",
     "text": [
      "Rate limit hit. Retrying in 5 seconds... (Attempt 1/3)\n"
     ]
    },
    {
     "name": "stderr",
     "output_type": "stream",
     "text": [
      "Processing Superclasses:  45%|████▍     | 7135/15998 [1:02:56<2:35:29,  1.05s/entity]"
     ]
    },
    {
     "name": "stdout",
     "output_type": "stream",
     "text": [
      "Rate limit hit. Retrying in 5 seconds... (Attempt 1/3)\n"
     ]
    },
    {
     "name": "stderr",
     "output_type": "stream",
     "text": [
      "Processing Superclasses:  45%|████▍     | 7142/15998 [1:03:04<1:16:48,  1.92entity/s]"
     ]
    },
    {
     "name": "stdout",
     "output_type": "stream",
     "text": [
      "Rate limit hit. Retrying in 5 seconds... (Attempt 1/3)\n"
     ]
    },
    {
     "name": "stderr",
     "output_type": "stream",
     "text": [
      "Processing Superclasses:  45%|████▍     | 7144/15998 [1:03:09<3:35:29,  1.46s/entity]"
     ]
    },
    {
     "name": "stdout",
     "output_type": "stream",
     "text": [
      "Rate limit hit. Retrying in 5 seconds... (Attempt 1/3)\n",
      "Rate limit hit. Retrying in 5 seconds... (Attempt 2/3)\n"
     ]
    },
    {
     "name": "stderr",
     "output_type": "stream",
     "text": [
      "Processing Superclasses:  45%|████▍     | 7148/15998 [1:03:21<4:02:57,  1.65s/entity] "
     ]
    },
    {
     "name": "stdout",
     "output_type": "stream",
     "text": [
      "Rate limit hit. Retrying in 5 seconds... (Attempt 1/3)\n",
      "Rate limit hit. Retrying in 5 seconds... (Attempt 2/3)\n"
     ]
    },
    {
     "name": "stderr",
     "output_type": "stream",
     "text": [
      "Processing Superclasses:  45%|████▍     | 7154/15998 [1:03:33<2:30:35,  1.02s/entity] "
     ]
    },
    {
     "name": "stdout",
     "output_type": "stream",
     "text": [
      "Rate limit hit. Retrying in 5 seconds... (Attempt 1/3)\n"
     ]
    },
    {
     "name": "stderr",
     "output_type": "stream",
     "text": [
      "Processing Superclasses:  45%|████▍     | 7155/15998 [1:03:39<5:54:36,  2.41s/entity]"
     ]
    },
    {
     "name": "stdout",
     "output_type": "stream",
     "text": [
      "Rate limit hit. Retrying in 5 seconds... (Attempt 1/3)\n"
     ]
    },
    {
     "name": "stderr",
     "output_type": "stream",
     "text": [
      "Processing Superclasses:  45%|████▍     | 7190/15998 [1:03:54<41:28,  3.54entity/s]  "
     ]
    },
    {
     "name": "stdout",
     "output_type": "stream",
     "text": [
      "Rate limit hit. Retrying in 5 seconds... (Attempt 1/3)\n"
     ]
    },
    {
     "name": "stderr",
     "output_type": "stream",
     "text": [
      "Processing Superclasses:  45%|████▍     | 7195/15998 [1:04:01<1:45:43,  1.39entity/s]"
     ]
    },
    {
     "name": "stdout",
     "output_type": "stream",
     "text": [
      "Rate limit hit. Retrying in 5 seconds... (Attempt 1/3)\n"
     ]
    },
    {
     "name": "stderr",
     "output_type": "stream",
     "text": [
      "Processing Superclasses:  45%|████▌     | 7203/15998 [1:04:08<1:01:13,  2.39entity/s]"
     ]
    },
    {
     "name": "stdout",
     "output_type": "stream",
     "text": [
      "Rate limit hit. Retrying in 5 seconds... (Attempt 1/3)\n"
     ]
    },
    {
     "name": "stderr",
     "output_type": "stream",
     "text": [
      "Processing Superclasses:  46%|████▌     | 7303/15998 [1:04:39<35:46,  4.05entity/s]  "
     ]
    },
    {
     "name": "stdout",
     "output_type": "stream",
     "text": [
      "Rate limit hit. Retrying in 5 seconds... (Attempt 1/3)\n"
     ]
    },
    {
     "name": "stderr",
     "output_type": "stream",
     "text": [
      "Processing Superclasses:  46%|████▌     | 7319/15998 [1:04:49<40:02,  3.61entity/s]  "
     ]
    },
    {
     "name": "stdout",
     "output_type": "stream",
     "text": [
      "Rate limit hit. Retrying in 5 seconds... (Attempt 1/3)\n"
     ]
    },
    {
     "name": "stderr",
     "output_type": "stream",
     "text": [
      "Processing Superclasses:  46%|████▌     | 7346/15998 [1:05:03<51:17,  2.81entity/s]  "
     ]
    },
    {
     "name": "stdout",
     "output_type": "stream",
     "text": [
      "Rate limit hit. Retrying in 5 seconds... (Attempt 1/3)\n"
     ]
    },
    {
     "name": "stderr",
     "output_type": "stream",
     "text": [
      "Processing Superclasses:  46%|████▌     | 7350/15998 [1:05:09<1:53:27,  1.27entity/s]"
     ]
    },
    {
     "name": "stdout",
     "output_type": "stream",
     "text": [
      "Rate limit hit. Retrying in 5 seconds... (Attempt 1/3)\n"
     ]
    },
    {
     "name": "stderr",
     "output_type": "stream",
     "text": [
      "Processing Superclasses:  46%|████▌     | 7353/15998 [1:05:15<2:53:50,  1.21s/entity]"
     ]
    },
    {
     "name": "stdout",
     "output_type": "stream",
     "text": [
      "Rate limit hit. Retrying in 5 seconds... (Attempt 1/3)\n"
     ]
    },
    {
     "name": "stderr",
     "output_type": "stream",
     "text": [
      "Processing Superclasses:  46%|████▌     | 7357/15998 [1:05:22<2:32:16,  1.06s/entity]"
     ]
    },
    {
     "name": "stdout",
     "output_type": "stream",
     "text": [
      "Rate limit hit. Retrying in 5 seconds... (Attempt 1/3)\n"
     ]
    },
    {
     "name": "stderr",
     "output_type": "stream",
     "text": [
      "Processing Superclasses:  46%|████▌     | 7370/15998 [1:05:31<40:33,  3.55entity/s]  "
     ]
    },
    {
     "name": "stdout",
     "output_type": "stream",
     "text": [
      "Rate limit hit. Retrying in 5 seconds... (Attempt 1/3)\n"
     ]
    },
    {
     "name": "stderr",
     "output_type": "stream",
     "text": [
      "Processing Superclasses:  46%|████▌     | 7386/15998 [1:05:40<35:50,  4.01entity/s]  "
     ]
    },
    {
     "name": "stdout",
     "output_type": "stream",
     "text": [
      "Rate limit hit. Retrying in 5 seconds... (Attempt 1/3)\n"
     ]
    },
    {
     "name": "stderr",
     "output_type": "stream",
     "text": [
      "Processing Superclasses:  46%|████▌     | 7388/15998 [1:05:45<3:09:17,  1.32s/entity]"
     ]
    },
    {
     "name": "stdout",
     "output_type": "stream",
     "text": [
      "Rate limit hit. Retrying in 5 seconds... (Attempt 1/3)\n"
     ]
    },
    {
     "name": "stderr",
     "output_type": "stream",
     "text": [
      "Processing Superclasses:  46%|████▌     | 7391/15998 [1:05:51<3:23:29,  1.42s/entity]"
     ]
    },
    {
     "name": "stdout",
     "output_type": "stream",
     "text": [
      "Rate limit hit. Retrying in 5 seconds... (Attempt 1/3)\n"
     ]
    },
    {
     "name": "stderr",
     "output_type": "stream",
     "text": [
      "Processing Superclasses:  46%|████▌     | 7395/15998 [1:05:58<2:32:45,  1.07s/entity]"
     ]
    },
    {
     "name": "stdout",
     "output_type": "stream",
     "text": [
      "Rate limit hit. Retrying in 5 seconds... (Attempt 1/3)\n"
     ]
    },
    {
     "name": "stderr",
     "output_type": "stream",
     "text": [
      "Processing Superclasses:  46%|████▋     | 7402/15998 [1:06:04<1:06:53,  2.14entity/s]"
     ]
    },
    {
     "name": "stdout",
     "output_type": "stream",
     "text": [
      "Rate limit hit. Retrying in 5 seconds... (Attempt 1/3)\n"
     ]
    },
    {
     "name": "stderr",
     "output_type": "stream",
     "text": [
      "Processing Superclasses:  55%|█████▌    | 8858/15998 [1:12:43<31:57,  3.72entity/s]  "
     ]
    },
    {
     "name": "stdout",
     "output_type": "stream",
     "text": [
      "Rate limit hit. Retrying in 5 seconds... (Attempt 1/3)\n"
     ]
    },
    {
     "name": "stderr",
     "output_type": "stream",
     "text": [
      "Processing Superclasses:  55%|█████▌    | 8862/15998 [1:12:49<1:35:38,  1.24entity/s]"
     ]
    },
    {
     "name": "stdout",
     "output_type": "stream",
     "text": [
      "Rate limit hit. Retrying in 5 seconds... (Attempt 1/3)\n"
     ]
    },
    {
     "name": "stderr",
     "output_type": "stream",
     "text": [
      "Processing Superclasses:  55%|█████▌    | 8867/15998 [1:12:56<1:26:50,  1.37entity/s]"
     ]
    },
    {
     "name": "stdout",
     "output_type": "stream",
     "text": [
      "Rate limit hit. Retrying in 5 seconds... (Attempt 1/3)\n"
     ]
    },
    {
     "name": "stderr",
     "output_type": "stream",
     "text": [
      "Processing Superclasses:  55%|█████▌    | 8876/15998 [1:13:03<45:49,  2.59entity/s]  "
     ]
    },
    {
     "name": "stdout",
     "output_type": "stream",
     "text": [
      "Rate limit hit. Retrying in 5 seconds... (Attempt 1/3)\n"
     ]
    },
    {
     "name": "stderr",
     "output_type": "stream",
     "text": [
      "Processing Superclasses:  56%|█████▌    | 8885/15998 [1:13:11<41:27,  2.86entity/s]  "
     ]
    },
    {
     "name": "stdout",
     "output_type": "stream",
     "text": [
      "Rate limit hit. Retrying in 5 seconds... (Attempt 1/3)\n"
     ]
    },
    {
     "name": "stderr",
     "output_type": "stream",
     "text": [
      "Processing Superclasses:  56%|█████▌    | 8889/15998 [1:13:17<1:40:11,  1.18entity/s]"
     ]
    },
    {
     "name": "stdout",
     "output_type": "stream",
     "text": [
      "Rate limit hit. Retrying in 5 seconds... (Attempt 1/3)\n"
     ]
    },
    {
     "name": "stderr",
     "output_type": "stream",
     "text": [
      "Processing Superclasses:  56%|█████▌    | 8895/15998 [1:13:24<1:13:07,  1.62entity/s]"
     ]
    },
    {
     "name": "stdout",
     "output_type": "stream",
     "text": [
      "Rate limit hit. Retrying in 5 seconds... (Attempt 1/3)\n"
     ]
    },
    {
     "name": "stderr",
     "output_type": "stream",
     "text": [
      "Processing Superclasses:  56%|█████▌    | 8905/15998 [1:13:32<39:00,  3.03entity/s]  "
     ]
    },
    {
     "name": "stdout",
     "output_type": "stream",
     "text": [
      "Rate limit hit. Retrying in 5 seconds... (Attempt 1/3)\n"
     ]
    },
    {
     "name": "stderr",
     "output_type": "stream",
     "text": [
      "Processing Superclasses:  57%|█████▋    | 9145/15998 [1:14:48<41:01,  2.78entity/s]  "
     ]
    },
    {
     "name": "stdout",
     "output_type": "stream",
     "text": [
      "Rate limit hit. Retrying in 5 seconds... (Attempt 1/3)\n"
     ]
    },
    {
     "name": "stderr",
     "output_type": "stream",
     "text": [
      "Processing Superclasses:  57%|█████▋    | 9150/15998 [1:14:55<1:18:03,  1.46entity/s]"
     ]
    },
    {
     "name": "stdout",
     "output_type": "stream",
     "text": [
      "Rate limit hit. Retrying in 5 seconds... (Attempt 1/3)\n"
     ]
    },
    {
     "name": "stderr",
     "output_type": "stream",
     "text": [
      "Processing Superclasses:  57%|█████▋    | 9157/15998 [1:15:01<51:34,  2.21entity/s]  "
     ]
    },
    {
     "name": "stdout",
     "output_type": "stream",
     "text": [
      "Rate limit hit. Retrying in 5 seconds... (Attempt 1/3)\n",
      "Rate limit hit. Retrying in 5 seconds... (Attempt 2/3)\n"
     ]
    },
    {
     "name": "stderr",
     "output_type": "stream",
     "text": [
      "Processing Superclasses:  57%|█████▋    | 9165/15998 [1:15:14<1:05:00,  1.75entity/s]"
     ]
    },
    {
     "name": "stdout",
     "output_type": "stream",
     "text": [
      "Rate limit hit. Retrying in 5 seconds... (Attempt 1/3)\n"
     ]
    },
    {
     "name": "stderr",
     "output_type": "stream",
     "text": [
      "Processing Superclasses:  58%|█████▊    | 9199/15998 [1:15:29<34:47,  3.26entity/s]  "
     ]
    },
    {
     "name": "stdout",
     "output_type": "stream",
     "text": [
      "Rate limit hit. Retrying in 5 seconds... (Attempt 1/3)\n"
     ]
    },
    {
     "name": "stderr",
     "output_type": "stream",
     "text": [
      "Processing Superclasses:  58%|█████▊    | 9204/15998 [1:15:36<1:11:23,  1.59entity/s]"
     ]
    },
    {
     "name": "stdout",
     "output_type": "stream",
     "text": [
      "Rate limit hit. Retrying in 5 seconds... (Attempt 1/3)\n"
     ]
    },
    {
     "name": "stderr",
     "output_type": "stream",
     "text": [
      "Processing Superclasses:  58%|█████▊    | 9211/15998 [1:15:43<55:19,  2.04entity/s]  "
     ]
    },
    {
     "name": "stdout",
     "output_type": "stream",
     "text": [
      "Rate limit hit. Retrying in 5 seconds... (Attempt 1/3)\n"
     ]
    },
    {
     "name": "stderr",
     "output_type": "stream",
     "text": [
      "Processing Superclasses:  58%|█████▊    | 9221/15998 [1:15:50<36:47,  3.07entity/s]  "
     ]
    },
    {
     "name": "stdout",
     "output_type": "stream",
     "text": [
      "Rate limit hit. Retrying in 5 seconds... (Attempt 1/3)\n"
     ]
    },
    {
     "name": "stderr",
     "output_type": "stream",
     "text": [
      "Processing Superclasses:  58%|█████▊    | 9222/15998 [1:15:56<3:29:40,  1.86s/entity]"
     ]
    },
    {
     "name": "stdout",
     "output_type": "stream",
     "text": [
      "Rate limit hit. Retrying in 5 seconds... (Attempt 1/3)\n"
     ]
    },
    {
     "name": "stderr",
     "output_type": "stream",
     "text": [
      "Processing Superclasses:  58%|█████▊    | 9225/15998 [1:16:02<3:00:08,  1.60s/entity]"
     ]
    },
    {
     "name": "stdout",
     "output_type": "stream",
     "text": [
      "Rate limit hit. Retrying in 5 seconds... (Attempt 1/3)\n"
     ]
    },
    {
     "name": "stderr",
     "output_type": "stream",
     "text": [
      "Processing Superclasses:  58%|█████▊    | 9235/15998 [1:16:10<42:46,  2.63entity/s]  "
     ]
    },
    {
     "name": "stdout",
     "output_type": "stream",
     "text": [
      "Rate limit hit. Retrying in 5 seconds... (Attempt 1/3)\n"
     ]
    },
    {
     "name": "stderr",
     "output_type": "stream",
     "text": [
      "Processing Superclasses:  66%|██████▋   | 10635/15998 [1:22:45<22:27,  3.98entity/s]  "
     ]
    },
    {
     "name": "stdout",
     "output_type": "stream",
     "text": [
      "Rate limit hit. Retrying in 5 seconds... (Attempt 1/3)\n"
     ]
    },
    {
     "name": "stderr",
     "output_type": "stream",
     "text": [
      "Processing Superclasses:  67%|██████▋   | 10644/15998 [1:22:53<36:49,  2.42entity/s]  "
     ]
    },
    {
     "name": "stdout",
     "output_type": "stream",
     "text": [
      "Rate limit hit. Retrying in 5 seconds... (Attempt 1/3)\n"
     ]
    },
    {
     "name": "stderr",
     "output_type": "stream",
     "text": [
      "Processing Superclasses:  67%|██████▋   | 10651/15998 [1:23:00<38:33,  2.31entity/s]  "
     ]
    },
    {
     "name": "stdout",
     "output_type": "stream",
     "text": [
      "Rate limit hit. Retrying in 5 seconds... (Attempt 1/3)\n"
     ]
    },
    {
     "name": "stderr",
     "output_type": "stream",
     "text": [
      "Processing Superclasses:  67%|██████▋   | 10656/15998 [1:23:07<1:00:25,  1.47entity/s]"
     ]
    },
    {
     "name": "stdout",
     "output_type": "stream",
     "text": [
      "Rate limit hit. Retrying in 5 seconds... (Attempt 1/3)\n"
     ]
    },
    {
     "name": "stderr",
     "output_type": "stream",
     "text": [
      "Processing Superclasses:  67%|██████▋   | 10657/15998 [1:23:12<3:10:04,  2.14s/entity]"
     ]
    },
    {
     "name": "stdout",
     "output_type": "stream",
     "text": [
      "Rate limit hit. Retrying in 5 seconds... (Attempt 1/3)\n"
     ]
    },
    {
     "name": "stderr",
     "output_type": "stream",
     "text": [
      "Processing Superclasses:  80%|███████▉  | 12772/15998 [1:33:20<18:05,  2.97entity/s]  "
     ]
    },
    {
     "name": "stdout",
     "output_type": "stream",
     "text": [
      "Rate limit hit. Retrying in 5 seconds... (Attempt 1/3)\n"
     ]
    },
    {
     "name": "stderr",
     "output_type": "stream",
     "text": [
      "Processing Superclasses:  80%|███████▉  | 12798/15998 [1:33:32<13:12,  4.04entity/s]  "
     ]
    },
    {
     "name": "stdout",
     "output_type": "stream",
     "text": [
      "Rate limit hit. Retrying in 5 seconds... (Attempt 1/3)\n"
     ]
    },
    {
     "name": "stderr",
     "output_type": "stream",
     "text": [
      "Processing Superclasses:  80%|████████  | 12799/15998 [1:33:38<1:36:58,  1.82s/entity]"
     ]
    },
    {
     "name": "stdout",
     "output_type": "stream",
     "text": [
      "Rate limit hit. Retrying in 5 seconds... (Attempt 1/3)\n"
     ]
    },
    {
     "name": "stderr",
     "output_type": "stream",
     "text": [
      "Processing Superclasses:  80%|████████  | 12804/15998 [1:33:44<47:30,  1.12entity/s]  "
     ]
    },
    {
     "name": "stdout",
     "output_type": "stream",
     "text": [
      "Rate limit hit. Retrying in 5 seconds... (Attempt 1/3)\n"
     ]
    },
    {
     "name": "stderr",
     "output_type": "stream",
     "text": [
      "Processing Superclasses:  80%|████████  | 12805/15998 [1:33:50<1:59:45,  2.25s/entity]"
     ]
    },
    {
     "name": "stdout",
     "output_type": "stream",
     "text": [
      "Rate limit hit. Retrying in 5 seconds... (Attempt 1/3)\n"
     ]
    },
    {
     "name": "stderr",
     "output_type": "stream",
     "text": [
      "Processing Superclasses:  80%|████████  | 12807/15998 [1:33:56<2:07:37,  2.40s/entity]"
     ]
    },
    {
     "name": "stdout",
     "output_type": "stream",
     "text": [
      "Rate limit hit. Retrying in 5 seconds... (Attempt 1/3)\n"
     ]
    },
    {
     "name": "stderr",
     "output_type": "stream",
     "text": [
      "Processing Superclasses:  87%|████████▋ | 13839/15998 [1:38:57<10:17,  3.50entity/s]  "
     ]
    },
    {
     "name": "stdout",
     "output_type": "stream",
     "text": [
      "Rate limit hit. Retrying in 5 seconds... (Attempt 1/3)\n"
     ]
    },
    {
     "name": "stderr",
     "output_type": "stream",
     "text": [
      "Processing Superclasses:  87%|████████▋ | 13841/15998 [1:39:03<49:41,  1.38s/entity]  "
     ]
    },
    {
     "name": "stdout",
     "output_type": "stream",
     "text": [
      "Rate limit hit. Retrying in 5 seconds... (Attempt 1/3)\n"
     ]
    },
    {
     "name": "stderr",
     "output_type": "stream",
     "text": [
      "Processing Superclasses:  87%|████████▋ | 13869/15998 [1:39:15<08:58,  3.95entity/s]  "
     ]
    },
    {
     "name": "stdout",
     "output_type": "stream",
     "text": [
      "Rate limit hit. Retrying in 5 seconds... (Attempt 1/3)\n"
     ]
    },
    {
     "name": "stderr",
     "output_type": "stream",
     "text": [
      "Processing Superclasses:  87%|████████▋ | 13963/15998 [1:39:48<09:08,  3.71entity/s]  "
     ]
    },
    {
     "name": "stdout",
     "output_type": "stream",
     "text": [
      "Rate limit hit. Retrying in 5 seconds... (Attempt 1/3)\n"
     ]
    },
    {
     "name": "stderr",
     "output_type": "stream",
     "text": [
      "Processing Superclasses:  87%|████████▋ | 13964/15998 [1:39:54<1:04:02,  1.89s/entity]"
     ]
    },
    {
     "name": "stdout",
     "output_type": "stream",
     "text": [
      "Rate limit hit. Retrying in 5 seconds... (Attempt 1/3)\n"
     ]
    },
    {
     "name": "stderr",
     "output_type": "stream",
     "text": [
      "Processing Superclasses:  87%|████████▋ | 13980/15998 [1:40:03<08:08,  4.13entity/s]  "
     ]
    },
    {
     "name": "stdout",
     "output_type": "stream",
     "text": [
      "Rate limit hit. Retrying in 5 seconds... (Attempt 1/3)\n"
     ]
    },
    {
     "name": "stderr",
     "output_type": "stream",
     "text": [
      "Processing Superclasses:  87%|████████▋ | 13987/15998 [1:40:10<15:37,  2.15entity/s]  "
     ]
    },
    {
     "name": "stdout",
     "output_type": "stream",
     "text": [
      "Rate limit hit. Retrying in 5 seconds... (Attempt 1/3)\n"
     ]
    },
    {
     "name": "stderr",
     "output_type": "stream",
     "text": [
      "Processing Superclasses:  87%|████████▋ | 13991/15998 [1:40:16<27:32,  1.21entity/s]  "
     ]
    },
    {
     "name": "stdout",
     "output_type": "stream",
     "text": [
      "Rate limit hit. Retrying in 5 seconds... (Attempt 1/3)\n"
     ]
    },
    {
     "name": "stderr",
     "output_type": "stream",
     "text": [
      "Processing Superclasses:  91%|█████████▏| 14604/15998 [1:43:17<05:35,  4.15entity/s]  "
     ]
    },
    {
     "name": "stdout",
     "output_type": "stream",
     "text": [
      "Rate limit hit. Retrying in 5 seconds... (Attempt 1/3)\n"
     ]
    },
    {
     "name": "stderr",
     "output_type": "stream",
     "text": [
      "Processing Superclasses:  93%|█████████▎| 14905/15998 [1:44:42<04:38,  3.92entity/s]"
     ]
    },
    {
     "name": "stdout",
     "output_type": "stream",
     "text": [
      "Rate limit hit. Retrying in 5 seconds... (Attempt 1/3)\n"
     ]
    },
    {
     "name": "stderr",
     "output_type": "stream",
     "text": [
      "Processing Superclasses:  93%|█████████▎| 14907/15998 [1:44:48<24:44,  1.36s/entity]"
     ]
    },
    {
     "name": "stdout",
     "output_type": "stream",
     "text": [
      "Rate limit hit. Retrying in 5 seconds... (Attempt 1/3)\n"
     ]
    },
    {
     "name": "stderr",
     "output_type": "stream",
     "text": [
      "Processing Superclasses:  93%|█████████▎| 14908/15998 [1:44:54<47:10,  2.60s/entity]"
     ]
    },
    {
     "name": "stdout",
     "output_type": "stream",
     "text": [
      "Rate limit hit. Retrying in 5 seconds... (Attempt 1/3)\n"
     ]
    },
    {
     "name": "stderr",
     "output_type": "stream",
     "text": [
      "Processing Superclasses:  93%|█████████▎| 14915/15998 [1:45:01<11:22,  1.59entity/s]  "
     ]
    },
    {
     "name": "stdout",
     "output_type": "stream",
     "text": [
      "Rate limit hit. Retrying in 5 seconds... (Attempt 1/3)\n"
     ]
    },
    {
     "name": "stderr",
     "output_type": "stream",
     "text": [
      "Processing Superclasses: 100%|██████████| 15998/15998 [1:50:33<00:00,  2.41entity/s]\n"
     ]
    },
    {
     "data": {
      "text/plain": [
       "{'Q5484': ['Q5484'],\n",
       " 'Q1066': ['Q1066'],\n",
       " 'Q5505': ['Q5505'],\n",
       " 'Q1383': ['Q1383'],\n",
       " 'Q1169': ['Q1169'],\n",
       " 'Q5511': ['Q5511'],\n",
       " 'Q5513': ['Q5513'],\n",
       " 'Q5525': ['Q5525'],\n",
       " 'Q5532': ['Q5532'],\n",
       " 'Q5539': ['Q5539'],\n",
       " 'Q5492': ['Q5492'],\n",
       " 'Q3272': ['Q3272'],\n",
       " 'Q1062': ['Q1062'],\n",
       " 'Q15288': ['Q15288'],\n",
       " 'Q134485': ['Q134485'],\n",
       " 'Q152044': ['Q152044'],\n",
       " 'Q166162': ['Q166162'],\n",
       " 'Q35342': ['Q35342'],\n",
       " 'Q173862': ['Q173862'],\n",
       " 'Q272463': ['Q272463'],\n",
       " 'Q845868': ['Q845868'],\n",
       " 'Q182719': ['Q182719'],\n",
       " 'Q1134446': ['Q1134446'],\n",
       " 'Q42191': ['Q42191'],\n",
       " 'Q199551': ['Q199551'],\n",
       " 'Q173596': ['Q173596'],\n",
       " 'Q934638': ['Q934638'],\n",
       " 'Q125888': ['Q125888'],\n",
       " 'Q504433': ['Q504433'],\n",
       " 'Q1132211': ['Q1132211'],\n",
       " 'Q122184': ['Q122184'],\n",
       " 'Q645901': ['Q645901'],\n",
       " 'Q178741': ['Q178741'],\n",
       " 'Q201294': ['Q201294'],\n",
       " 'Q192770': ['Q192770'],\n",
       " 'Q845876': ['Q845876'],\n",
       " 'Q201843': ['Q201843'],\n",
       " 'Q257416': ['Q257416'],\n",
       " 'Q1262967': ['Q1262967'],\n",
       " 'Q126307': ['Q126307'],\n",
       " 'Q19253': ['Q19253'],\n",
       " 'Q81150': ['Q81150'],\n",
       " 'Q207690': ['Q207690'],\n",
       " 'Q116685': ['Q116685'],\n",
       " 'Q452088': ['Q452088'],\n",
       " 'Q1507060': ['Q1507060'],\n",
       " 'Q673169': ['Q673169'],\n",
       " 'Q232': ['Q232'],\n",
       " 'Q159': ['Q159'],\n",
       " 'Q874': ['Q874'],\n",
       " 'Q227': ['Q227'],\n",
       " 'Q794': ['Q794'],\n",
       " 'Q16': ['Q16'],\n",
       " 'Q30': ['Q30'],\n",
       " 'Q1036': ['Q1036'],\n",
       " 'Q114': ['Q114'],\n",
       " 'Q924': ['Q924'],\n",
       " 'Q967': ['Q967'],\n",
       " 'Q953': ['Q953'],\n",
       " 'Q974': ['Q974'],\n",
       " 'Q1020': ['Q1020'],\n",
       " 'Q1029': ['Q1029'],\n",
       " 'Q51': ['Q51'],\n",
       " 'Q750': ['Q750'],\n",
       " 'Q419': ['Q419'],\n",
       " 'Q811': ['Q811'],\n",
       " 'Q115': ['Q115'],\n",
       " 'Q813': ['Q813'],\n",
       " 'Q34': ['Q34'],\n",
       " 'Q148': ['Q148'],\n",
       " 'Q33': ['Q33'],\n",
       " 'Q265': ['Q265'],\n",
       " 'Q43': ['Q43'],\n",
       " 'Q191': ['Q191'],\n",
       " 'Q711': ['Q711'],\n",
       " 'Q483551': ['Q483551'],\n",
       " 'Q2634317': ['Q2634317'],\n",
       " 'Q154950': ['Q154950'],\n",
       " 'Q588786': ['Q588786'],\n",
       " 'Q209078': ['Q209078'],\n",
       " 'Q679322': ['Q679322'],\n",
       " 'Q152057': ['Q152057'],\n",
       " 'Q156238': ['Q156238'],\n",
       " 'Q156578': ['Q156578'],\n",
       " 'Q53268': ['Q53268'],\n",
       " 'Q312': ['Q312'],\n",
       " 'Q217583': ['Q217583'],\n",
       " 'Q3884': ['Q3884'],\n",
       " 'Q2103926': ['Q2103926'],\n",
       " 'Q20718': ['Q20718'],\n",
       " 'Q169339': ['Q169339'],\n",
       " 'Q570473': ['Q570473'],\n",
       " 'Q27530': ['Q27530'],\n",
       " 'Q624375': ['Q624375'],\n",
       " 'Q154037': ['Q154037'],\n",
       " 'Q1073519': ['Q1073519'],\n",
       " 'Q687508': ['Q687508'],\n",
       " 'Q463094': ['Q463094'],\n",
       " 'Q1384140': ['Q1384140'],\n",
       " 'Q35476': ['Q35476'],\n",
       " 'Q26463': ['Q26463'],\n",
       " 'Q470156': ['Q470156'],\n",
       " 'Q319642': ['Q319642'],\n",
       " 'Q1256188': ['Q1256188'],\n",
       " 'Q44294': ['Q44294'],\n",
       " 'Q26299': ['Q26299'],\n",
       " 'Q81965': ['Q81965'],\n",
       " 'Q183275': ['Q183275'],\n",
       " 'Q9584': ['Q9584'],\n",
       " 'Q715583': ['Q715583'],\n",
       " 'Q26298': ['Q26298'],\n",
       " 'Q20800404': ['Q20800404'],\n",
       " 'Q902397': ['Q902397'],\n",
       " 'Q910401': ['Q910401'],\n",
       " 'Q18712620': ['Q18712620'],\n",
       " 'Q192314': ['Q192314'],\n",
       " 'Q102673': ['Q102673'],\n",
       " 'Q467752': ['Q467752'],\n",
       " 'Q790068': ['Q790068'],\n",
       " 'Q487292': ['Q487292'],\n",
       " 'Q160054': ['Q160054'],\n",
       " 'Q153417': ['Q153417'],\n",
       " 'Q54173': ['Q54173'],\n",
       " 'Q621096': ['Q621096'],\n",
       " 'Q329347': ['Q329347'],\n",
       " 'Q126793': ['Q126793',\n",
       "  'Q601401',\n",
       "  'Q8187769',\n",
       "  'Q451967',\n",
       "  'Q125506646',\n",
       "  'Q61788060',\n",
       "  'Q52948',\n",
       "  'Q1150070',\n",
       "  'Q930933',\n",
       "  'Q111931734',\n",
       "  'Q67518978',\n",
       "  'Q1914636',\n",
       "  'Q937228',\n",
       "  'Q3249551',\n",
       "  'Q58415929',\n",
       "  'Q4026292',\n",
       "  'Q7048977',\n",
       "  'Q20937557',\n",
       "  'Q1190554',\n",
       "  'Q488383',\n",
       "  'Q35120',\n",
       "  'Q16889133',\n",
       "  'Q5127848',\n",
       "  'Q99527517'],\n",
       " 'Q862571': ['Q862571',\n",
       "  'Q4318084',\n",
       "  'Q12101591',\n",
       "  'Q2151621',\n",
       "  'Q117769285',\n",
       "  'Q159810',\n",
       "  'Q268592',\n",
       "  'Q1639378',\n",
       "  'Q16887380',\n",
       "  'Q58778',\n",
       "  'Q99527517',\n",
       "  'Q488383',\n",
       "  'Q35120'],\n",
       " 'Q1326624': ['Q1326624',\n",
       "  'Q1341478',\n",
       "  'Q1951366',\n",
       "  'Q13226383',\n",
       "  'Q783794',\n",
       "  'Q4830453',\n",
       "  'Q121359',\n",
       "  'Q8205328',\n",
       "  'Q27096235',\n",
       "  'Q6671777',\n",
       "  'Q3778211',\n",
       "  'Q16334295',\n",
       "  'Q21980538',\n",
       "  'Q43229',\n",
       "  'Q155076',\n",
       "  'Q167037',\n",
       "  'Q12569864',\n",
       "  'Q223557',\n",
       "  'Q386724',\n",
       "  'Q16686448',\n",
       "  'Q27096213',\n",
       "  'Q854457',\n",
       "  'Q1639378',\n",
       "  'Q106559804',\n",
       "  'Q106668099',\n",
       "  'Q4406616',\n",
       "  'Q53617407',\n",
       "  'Q99527517',\n",
       "  'Q16334298',\n",
       "  'Q488383',\n",
       "  'Q123349660',\n",
       "  'Q35120',\n",
       "  'Q58778',\n",
       "  'Q61961344',\n",
       "  'Q53617489',\n",
       "  'Q24229398',\n",
       "  'Q131085629',\n",
       "  'Q103940464',\n",
       "  'Q98119401'],\n",
       " 'Q190117': ['Q190117',\n",
       "  'Q187939',\n",
       "  'Q739302',\n",
       "  'Q8187769',\n",
       "  'Q3249551',\n",
       "  'Q11398090',\n",
       "  'Q451967',\n",
       "  'Q125506646',\n",
       "  'Q61788060',\n",
       "  'Q20937557',\n",
       "  'Q67518978',\n",
       "  'Q104637332',\n",
       "  'Q52948',\n",
       "  'Q1150070',\n",
       "  'Q930933',\n",
       "  'Q111931734',\n",
       "  'Q16889133',\n",
       "  'Q1914636',\n",
       "  'Q58415929',\n",
       "  'Q937228',\n",
       "  'Q5127848',\n",
       "  'Q7048977',\n",
       "  'Q488383',\n",
       "  'Q4026292',\n",
       "  'Q35120',\n",
       "  'Q1190554',\n",
       "  'Q99527517'],\n",
       " 'Q5358497': ['Q5358497',\n",
       "  'Q187939',\n",
       "  'Q739302',\n",
       "  'Q8187769',\n",
       "  'Q3249551',\n",
       "  'Q11398090',\n",
       "  'Q451967',\n",
       "  'Q125506646',\n",
       "  'Q61788060',\n",
       "  'Q20937557',\n",
       "  'Q67518978',\n",
       "  'Q104637332',\n",
       "  'Q52948',\n",
       "  'Q1150070',\n",
       "  'Q930933',\n",
       "  'Q111931734',\n",
       "  'Q16889133',\n",
       "  'Q1914636',\n",
       "  'Q58415929',\n",
       "  'Q937228',\n",
       "  'Q5127848',\n",
       "  'Q7048977',\n",
       "  'Q488383',\n",
       "  'Q4026292',\n",
       "  'Q35120',\n",
       "  'Q1190554',\n",
       "  'Q99527517'],\n",
       " 'Q778575': ['Q778575',\n",
       "  'Q197952',\n",
       "  'Q206361',\n",
       "  'Q43229',\n",
       "  'Q783794',\n",
       "  'Q17326725',\n",
       "  'Q854457',\n",
       "  'Q1639378',\n",
       "  'Q16334295',\n",
       "  'Q106559804',\n",
       "  'Q106668099',\n",
       "  'Q3778211',\n",
       "  'Q21980538',\n",
       "  'Q4830453',\n",
       "  'Q16887380',\n",
       "  'Q58778',\n",
       "  'Q155076',\n",
       "  'Q167037',\n",
       "  'Q12569864',\n",
       "  'Q16334298',\n",
       "  'Q99527517',\n",
       "  'Q24229398',\n",
       "  'Q488383',\n",
       "  'Q131085629',\n",
       "  'Q35120',\n",
       "  'Q61961344',\n",
       "  'Q53617489',\n",
       "  'Q103940464',\n",
       "  'Q98119401'],\n",
       " 'Q31207': ['Q31207',\n",
       "  'Q2421951',\n",
       "  'Q7406919',\n",
       "  'Q5710255',\n",
       "  'Q2424752',\n",
       "  'Q2897903',\n",
       "  'Q8187769',\n",
       "  'Q488383',\n",
       "  'Q58415929',\n",
       "  'Q2990613',\n",
       "  'Q3769299',\n",
       "  'Q451967',\n",
       "  'Q125506646',\n",
       "  'Q61788060',\n",
       "  'Q35120',\n",
       "  'Q921513',\n",
       "  'Q9332',\n",
       "  'Q52948',\n",
       "  'Q1150070',\n",
       "  'Q2083958',\n",
       "  'Q930933',\n",
       "  'Q111931734',\n",
       "  'Q2990593',\n",
       "  'Q22294683',\n",
       "  'Q67518978',\n",
       "  'Q1914636',\n",
       "  'Q937228',\n",
       "  'Q3249551',\n",
       "  'Q4184950',\n",
       "  'Q22299433',\n",
       "  'Q2996394',\n",
       "  'Q22269697',\n",
       "  'Q4026292',\n",
       "  'Q7048977',\n",
       "  'Q17320256',\n",
       "  'Q64732777',\n",
       "  'Q20937557',\n",
       "  'Q1190554',\n",
       "  'Q1293220',\n",
       "  'Q111752858',\n",
       "  'Q16889133',\n",
       "  'Q1322005',\n",
       "  'Q483247',\n",
       "  'Q5127848',\n",
       "  'Q30241068',\n",
       "  'Q99527517'],\n",
       " 'Q2922469': ['Q2922469',\n",
       "  'Q208697',\n",
       "  'Q37654',\n",
       "  'Q159810',\n",
       "  'Q1639378',\n",
       "  'Q58778',\n",
       "  'Q488383',\n",
       "  'Q99527517',\n",
       "  'Q35120'],\n",
       " 'Q385378': ['Q385378',\n",
       "  'Q3875186',\n",
       "  'Q8187769',\n",
       "  'Q739302',\n",
       "  'Q11398090',\n",
       "  'Q119822504',\n",
       "  'Q451967',\n",
       "  'Q125506646',\n",
       "  'Q61788060',\n",
       "  'Q3249551',\n",
       "  'Q104637332',\n",
       "  'Q52948',\n",
       "  'Q1150070',\n",
       "  'Q930933',\n",
       "  'Q111931734',\n",
       "  'Q67518978',\n",
       "  'Q20937557',\n",
       "  'Q1914636',\n",
       "  'Q937228',\n",
       "  'Q16889133',\n",
       "  'Q58415929',\n",
       "  'Q4026292',\n",
       "  'Q7048977',\n",
       "  'Q1190554',\n",
       "  'Q5127848',\n",
       "  'Q488383',\n",
       "  'Q35120',\n",
       "  'Q99527517'],\n",
       " 'Q837171': ['Q837171',\n",
       "  'Q815823',\n",
       "  'Q2424752',\n",
       "  'Q7406919',\n",
       "  'Q17987890',\n",
       "  'Q25351891',\n",
       "  'Q1979154',\n",
       "  'Q488383',\n",
       "  'Q2897903',\n",
       "  'Q8187769',\n",
       "  'Q268592',\n",
       "  'Q16887380',\n",
       "  'Q35120',\n",
       "  'Q11028',\n",
       "  'Q16686448',\n",
       "  'Q58415929',\n",
       "  'Q451967',\n",
       "  'Q125506646',\n",
       "  'Q7048977',\n",
       "  'Q61788060',\n",
       "  'Q99527517',\n",
       "  'Q52948',\n",
       "  'Q1150070',\n",
       "  'Q930933',\n",
       "  'Q111931734',\n",
       "  'Q67518978',\n",
       "  'Q1914636',\n",
       "  'Q937228',\n",
       "  'Q3249551',\n",
       "  'Q4026292',\n",
       "  'Q20937557',\n",
       "  'Q1190554',\n",
       "  'Q16889133',\n",
       "  'Q5127848'],\n",
       " 'Q418': ['Q418',\n",
       "  'Q1472062',\n",
       "  'Q11024',\n",
       "  'Q6031064',\n",
       "  'Q125506646',\n",
       "  'Q52948',\n",
       "  'Q1150070',\n",
       "  'Q930933',\n",
       "  'Q111931734',\n",
       "  'Q67518978',\n",
       "  'Q937228',\n",
       "  'Q58415929',\n",
       "  'Q4026292',\n",
       "  'Q7048977',\n",
       "  'Q1190554',\n",
       "  'Q488383',\n",
       "  'Q35120'],\n",
       " 'Q507443': ['Q507443'],\n",
       " 'Q75': ['Q75',\n",
       "  'Q1068715',\n",
       "  'Q121359',\n",
       "  'Q577764',\n",
       "  'Q1900326',\n",
       "  'Q6671777',\n",
       "  'Q994895',\n",
       "  'Q58778',\n",
       "  'Q488383',\n",
       "  'Q99527517',\n",
       "  'Q2424752',\n",
       "  'Q16686448',\n",
       "  'Q35120'],\n",
       " 'Q55': ['Q55'],\n",
       " 'Q145': ['Q145'],\n",
       " 'Q851': ['Q851'],\n",
       " 'Q183': ['Q183'],\n",
       " 'Q17': ['Q17'],\n",
       " 'Q884': ['Q884'],\n",
       " 'Q39': ['Q39'],\n",
       " 'Q142': ['Q142'],\n",
       " 'Q334': ['Q334'],\n",
       " 'Q865': ['Q865'],\n",
       " 'Q889': ['Q889'],\n",
       " 'Q222': ['Q222'],\n",
       " 'Q262': ['Q262'],\n",
       " 'Q228': ['Q228'],\n",
       " 'Q916': ['Q916'],\n",
       " 'Q781': ['Q781'],\n",
       " 'Q414': ['Q414'],\n",
       " 'Q399': ['Q399'],\n",
       " 'Q408': ['Q408'],\n",
       " 'Q40': ['Q40'],\n",
       " 'Q778': ['Q778'],\n",
       " 'Q398': ['Q398'],\n",
       " 'Q902': ['Q902'],\n",
       " 'Q244': ['Q244'],\n",
       " 'Q184': ['Q184'],\n",
       " 'Q31': ['Q31'],\n",
       " 'Q242': ['Q242'],\n",
       " 'Q962': ['Q962'],\n",
       " 'Q917': ['Q917'],\n",
       " 'Q225': ['Q225'],\n",
       " 'Q963': ['Q963'],\n",
       " 'Q155': ['Q155'],\n",
       " 'Q921': ['Q921'],\n",
       " 'Q219': ['Q219'],\n",
       " 'Q965': ['Q965'],\n",
       " 'Q424': ['Q424'],\n",
       " 'Q1009': ['Q1009'],\n",
       " 'Q1011': ['Q1011'],\n",
       " 'Q929': ['Q929'],\n",
       " 'Q657': ['Q657'],\n",
       " 'Q298': ['Q298'],\n",
       " 'Q739': ['Q739'],\n",
       " 'Q970': ['Q970'],\n",
       " 'Q971': ['Q971'],\n",
       " 'Q800': ['Q800'],\n",
       " 'Q224': ['Q224'],\n",
       " 'Q241': ['Q241'],\n",
       " 'Q229': ['Q229'],\n",
       " 'Q213': ['Q213'],\n",
       " 'Q35': ['Q35'],\n",
       " 'Q977': ['Q977'],\n",
       " 'Q784': ['Q784'],\n",
       " 'Q786': ['Q786'],\n",
       " 'Q574': ['Q574'],\n",
       " 'Q736': ['Q736'],\n",
       " 'Q79': ['Q79'],\n",
       " 'Q792': ['Q792'],\n",
       " 'Q983': ['Q983'],\n",
       " 'Q986': ['Q986'],\n",
       " 'Q1050': ['Q1050'],\n",
       " 'Q712': ['Q712'],\n",
       " 'Q1000': ['Q1000'],\n",
       " 'Q1005': ['Q1005'],\n",
       " 'Q230': ['Q230'],\n",
       " 'Q117': ['Q117'],\n",
       " 'Q41': ['Q41'],\n",
       " 'Q769': ['Q769'],\n",
       " 'Q774': ['Q774'],\n",
       " 'Q1006': ['Q1006'],\n",
       " 'Q1007': ['Q1007'],\n",
       " 'Q734': ['Q734'],\n",
       " 'Q790': ['Q790'],\n",
       " 'Q783': ['Q783'],\n",
       " 'Q28': ['Q28'],\n",
       " 'Q189': ['Q189'],\n",
       " 'Q668': ['Q668'],\n",
       " 'Q252': ['Q252'],\n",
       " 'Q796': ['Q796'],\n",
       " 'Q27': ['Q27'],\n",
       " 'Q801': ['Q801'],\n",
       " 'Q38': ['Q38'],\n",
       " 'Q1008': ['Q1008'],\n",
       " 'Q766': ['Q766'],\n",
       " 'Q810': ['Q810'],\n",
       " 'Q710': ['Q710'],\n",
       " 'Q423': ['Q423'],\n",
       " 'Q817': ['Q817'],\n",
       " 'Q819': ['Q819'],\n",
       " 'Q211': ['Q211'],\n",
       " 'Q822': ['Q822'],\n",
       " 'Q1013': ['Q1013'],\n",
       " 'Q1014': ['Q1014'],\n",
       " 'Q1016': ['Q1016'],\n",
       " 'Q347': ['Q347'],\n",
       " 'Q37': ['Q37'],\n",
       " 'Q32': ['Q32'],\n",
       " 'Q1019': ['Q1019'],\n",
       " 'Q833': ['Q833'],\n",
       " 'Q826': ['Q826'],\n",
       " 'Q912': ['Q912'],\n",
       " 'Q233': ['Q233'],\n",
       " 'Q709': ['Q709'],\n",
       " 'Q1025': ['Q1025'],\n",
       " 'Q1027': ['Q1027'],\n",
       " 'Q96': ['Q96'],\n",
       " 'Q702': ['Q702'],\n",
       " 'Q217': ['Q217'],\n",
       " 'Q235': ['Q235'],\n",
       " 'Q236': ['Q236'],\n",
       " 'Q1028': ['Q1028'],\n",
       " 'Q836': ['Q836'],\n",
       " 'Q1030': ['Q1030'],\n",
       " 'Q697': ['Q697'],\n",
       " 'Q837': ['Q837'],\n",
       " 'Q664': ['Q664'],\n",
       " 'Q1032': ['Q1032'],\n",
       " 'Q1033': ['Q1033'],\n",
       " 'Q3130408': ['Q3130408'],\n",
       " 'Q20': ['Q20'],\n",
       " 'Q842': ['Q842'],\n",
       " 'Q843': ['Q843'],\n",
       " 'Q695': ['Q695'],\n",
       " 'Q804': ['Q804'],\n",
       " 'Q691': ['Q691'],\n",
       " 'Q733': ['Q733'],\n",
       " 'Q928': ['Q928'],\n",
       " 'Q36': ['Q36'],\n",
       " 'Q45': ['Q45'],\n",
       " 'Q846': ['Q846'],\n",
       " 'Q218': ['Q218'],\n",
       " 'Q1037': ['Q1037'],\n",
       " 'Q763': ['Q763'],\n",
       " 'Q760': ['Q760'],\n",
       " 'Q757': ['Q757'],\n",
       " 'Q683': ['Q683'],\n",
       " 'Q238': ['Q238'],\n",
       " 'Q1039': ['Q1039'],\n",
       " 'Q1041': ['Q1041'],\n",
       " 'Q403': ['Q403'],\n",
       " 'Q1042': ['Q1042'],\n",
       " 'Q1044': ['Q1044'],\n",
       " 'Q214': ['Q214'],\n",
       " 'Q215': ['Q215'],\n",
       " 'Q685': ['Q685'],\n",
       " 'Q1045': ['Q1045'],\n",
       " 'Q258': ['Q258'],\n",
       " 'Q958': ['Q958'],\n",
       " 'Q29': ['Q29'],\n",
       " 'Q854': ['Q854'],\n",
       " 'Q1049': ['Q1049'],\n",
       " 'Q730': ['Q730'],\n",
       " 'Q858': ['Q858'],\n",
       " 'Q863': ['Q863'],\n",
       " 'Q869': ['Q869'],\n",
       " 'Q945': ['Q945'],\n",
       " 'Q678': ['Q678'],\n",
       " 'Q754': ['Q754'],\n",
       " 'Q948': ['Q948'],\n",
       " 'Q672': ['Q672'],\n",
       " 'Q212': ['Q212'],\n",
       " 'Q878': ['Q878'],\n",
       " 'Q77': ['Q77'],\n",
       " 'Q686': ['Q686'],\n",
       " 'Q237': ['Q237'],\n",
       " 'Q717': ['Q717'],\n",
       " 'Q881': ['Q881'],\n",
       " 'Q805': ['Q805'],\n",
       " 'Q954': ['Q954'],\n",
       " 'Q179968': ['Q179968'],\n",
       " 'Q168731': ['Q168731'],\n",
       " 'Q230228': ['Q230228'],\n",
       " 'Q199506': ['Q199506'],\n",
       " 'Q227866': ['Q227866'],\n",
       " 'Q322631': ['Q322631'],\n",
       " 'Q172495': ['Q172495'],\n",
       " 'Q164259': ['Q164259'],\n",
       " 'Q170601': ['Q170601'],\n",
       " 'Q126658': ['Q126658'],\n",
       " 'Q483968': ['Q483968'],\n",
       " 'Q273204': ['Q273204'],\n",
       " 'Q234655': ['Q234655'],\n",
       " 'Q199739': ['Q199739'],\n",
       " 'Q505717': ['Q505717'],\n",
       " 'Q166350': ['Q166350'],\n",
       " 'Q161539': ['Q161539'],\n",
       " 'Q336345': ['Q336345'],\n",
       " 'Q273110': ['Q273110'],\n",
       " 'Q235441': ['Q235441'],\n",
       " 'Q690016': ['Q690016'],\n",
       " 'Q188662': ['Q188662'],\n",
       " 'Q221708': ['Q221708'],\n",
       " 'Q134654': ['Q134654'],\n",
       " 'Q491552': ['Q491552'],\n",
       " 'Q182115': ['Q182115'],\n",
       " 'Q464551': ['Q464551'],\n",
       " 'Q326886': ['Q326886'],\n",
       " 'Q631618': ['Q631618'],\n",
       " 'Q206429': ['Q206429'],\n",
       " 'Q93359': ['Q93359'],\n",
       " 'Q110159': ['Q110159'],\n",
       " 'Q467988': ['Q467988'],\n",
       " 'Q213733': ['Q213733'],\n",
       " 'Q484161': ['Q484161'],\n",
       " 'Q156136': ['Q156136'],\n",
       " 'Q233391': ['Q233391'],\n",
       " 'Q690008': ['Q690008'],\n",
       " 'Q222294': ['Q222294'],\n",
       " 'Q320708': ['Q320708'],\n",
       " 'Q471849': ['Q471849'],\n",
       " 'Q146502': ['Q146502'],\n",
       " 'Q237591': ['Q237591'],\n",
       " 'Q176665': ['Q176665'],\n",
       " 'Q483590': ['Q483590'],\n",
       " 'Q165747': ['Q165747'],\n",
       " 'Q503135': ['Q503135'],\n",
       " 'Q684643': ['Q684643'],\n",
       " 'Q866223': ['Q866223'],\n",
       " 'Q327746': ['Q327746'],\n",
       " 'Q623039': ['Q623039'],\n",
       " 'Q171602': ['Q171602'],\n",
       " 'Q505728': ['Q505728'],\n",
       " 'Q837310': ['Q837310'],\n",
       " 'Q857605': ['Q857605'],\n",
       " 'Q166362': ['Q166362'],\n",
       " 'Q580374': ['Q580374'],\n",
       " 'Q373510': ['Q373510'],\n",
       " 'Q211130': ['Q211130'],\n",
       " 'Q162483': ['Q162483'],\n",
       " 'Q41180': ['Q41180'],\n",
       " 'Q242723': ['Q242723'],\n",
       " 'Q273244': ['Q273244'],\n",
       " 'Q200079': ['Q200079'],\n",
       " 'Q44042': ['Q44042'],\n",
       " 'Q273260': ['Q273260'],\n",
       " 'Q752655': ['Q752655'],\n",
       " 'Q266593': ['Q266593'],\n",
       " 'NIL': ['NIL'],\n",
       " 'Q752650': ['Q752650'],\n",
       " 'Q858680': ['Q858680'],\n",
       " 'Q214459': ['Q214459'],\n",
       " 'Q842503': ['Q842503'],\n",
       " 'Q45788': ['Q45788'],\n",
       " 'Q170582': ['Q170582'],\n",
       " 'Q83099': ['Q83099'],\n",
       " 'Q142260': ['Q142260'],\n",
       " 'Q211047': ['Q211047'],\n",
       " 'Q217987': ['Q217987'],\n",
       " 'Q160672': ['Q160672'],\n",
       " 'Q130865': ['Q130865'],\n",
       " 'Q187': ['Q187'],\n",
       " 'Q242718': ['Q242718'],\n",
       " 'Q204643': ['Q204643'],\n",
       " 'Q81534': ['Q81534'],\n",
       " 'Q283407': ['Q283407'],\n",
       " 'Q754928': ['Q754928'],\n",
       " 'Q202635': ['Q202635'],\n",
       " 'Q1045701': ['Q1045701'],\n",
       " 'Q231910': ['Q231910'],\n",
       " 'Q193233': ['Q193233'],\n",
       " 'Q311367': ['Q311367'],\n",
       " 'Q413650': ['Q413650'],\n",
       " 'Q623034': ['Q623034'],\n",
       " 'Q156914': ['Q156914'],\n",
       " 'Q329961': ['Q329961'],\n",
       " 'Q463986': ['Q463986'],\n",
       " 'Q324342': ['Q324342'],\n",
       " 'Q45861': ['Q45861'],\n",
       " 'Q193873': ['Q193873'],\n",
       " 'Q43978': ['Q43978'],\n",
       " 'Q202166': ['Q202166'],\n",
       " 'Q273106': ['Q273106'],\n",
       " 'Q215077': ['Q215077'],\n",
       " 'Q648596': ['Q648596'],\n",
       " 'Q660117': ['Q660117'],\n",
       " 'Q243996': ['Q243996'],\n",
       " 'Q192792': ['Q192792'],\n",
       " 'Q858826': ['Q858826'],\n",
       " 'Q845284': ['Q845284'],\n",
       " 'Q336273': ['Q336273'],\n",
       " 'Q200742': ['Q200742'],\n",
       " 'Q570327': ['Q570327'],\n",
       " 'Q242744': ['Q242744'],\n",
       " 'Q336321': ['Q336321'],\n",
       " 'Q271864': ['Q271864'],\n",
       " 'Q157999': ['Q157999'],\n",
       " 'Q238826': ['Q238826'],\n",
       " 'Q682613': ['Q682613'],\n",
       " 'Q214449': ['Q214449'],\n",
       " 'Q233961': ['Q233961'],\n",
       " 'Q209951': ['Q209951'],\n",
       " 'Q371559': ['Q371559'],\n",
       " 'Q131713': ['Q131713'],\n",
       " 'Q202137': ['Q202137'],\n",
       " 'Q745219': ['Q745219'],\n",
       " 'Q217535': ['Q217535'],\n",
       " 'Q237878': ['Q237878'],\n",
       " 'Q185128': ['Q185128'],\n",
       " 'Q133198': ['Q133198'],\n",
       " 'Q634111': ['Q634111'],\n",
       " 'Q213267': ['Q213267'],\n",
       " 'Q602974': ['Q602974'],\n",
       " 'Q753873': ['Q753873'],\n",
       " 'Q628682': ['Q628682'],\n",
       " 'Q4944': ['Q4944'],\n",
       " 'Q212725': ['Q212725'],\n",
       " 'Q482988': ['Q482988'],\n",
       " 'Q161049': ['Q161049'],\n",
       " 'Q309476': ['Q309476'],\n",
       " 'Q184540': ['Q184540'],\n",
       " 'Q1225991': ['Q1225991'],\n",
       " 'Q503118': ['Q503118'],\n",
       " 'Q1050025': ['Q1050025'],\n",
       " 'Q876575': ['Q876575'],\n",
       " 'Q1064024': ['Q1064024'],\n",
       " 'Q1061851': ['Q1061851'],\n",
       " 'Q336291': ['Q336291'],\n",
       " 'Q602433': ['Q602433'],\n",
       " 'Q235316': ['Q235316'],\n",
       " 'Q336299': ['Q336299'],\n",
       " 'Q185190': ['Q185190'],\n",
       " 'Q849850': ['Q849850'],\n",
       " 'Q549704': ['Q549704'],\n",
       " 'Q209973': ['Q209973'],\n",
       " 'Q166944': ['Q166944'],\n",
       " 'Q15932006': ['Q15932006'],\n",
       " 'Q857953': ['Q857953'],\n",
       " 'Q4484804': ['Q4484804'],\n",
       " 'Q231725': ['Q231725'],\n",
       " 'Q145497': ['Q145497'],\n",
       " 'Q130940': ['Q130940'],\n",
       " 'Q745806': ['Q745806'],\n",
       " 'Q548242': ['Q548242'],\n",
       " 'Q327108': ['Q327108'],\n",
       " 'Q133261': ['Q133261'],\n",
       " 'Q182536': ['Q182536'],\n",
       " 'Q309468': ['Q309468'],\n",
       " 'Q191802': ['Q191802'],\n",
       " 'Q154035': ['Q154035'],\n",
       " 'Q207868': ['Q207868'],\n",
       " 'Q862755': ['Q862755'],\n",
       " 'Q755676': ['Q755676'],\n",
       " 'Q849863': ['Q849863'],\n",
       " 'Q682679': ['Q682679'],\n",
       " 'Q344452': ['Q344452'],\n",
       " 'Q26693': ['Q26693'],\n",
       " 'Q756708': ['Q756708'],\n",
       " 'Q110193': ['Q110193'],\n",
       " 'Q161744': ['Q161744',\n",
       "  'Q1128637',\n",
       "  'Q80071',\n",
       "  'Q1272626',\n",
       "  'Q3695082',\n",
       "  'Q386724',\n",
       "  'Q488383',\n",
       "  'Q16686448',\n",
       "  'Q35120'],\n",
       " 'Q423807': ['Q423807'],\n",
       " 'Q40807': ['Q40807'],\n",
       " 'Q44696': ['Q44696'],\n",
       " 'Q336306': ['Q336306'],\n",
       " 'Q120143': ['Q120143'],\n",
       " 'Q272751': ['Q272751'],\n",
       " 'Q190226': ['Q190226'],\n",
       " 'Q208153': ['Q208153'],\n",
       " 'Q208016': ['Q208016'],\n",
       " 'Q203048': ['Q203048'],\n",
       " 'Q463375': ['Q463375'],\n",
       " 'Q628417': ['Q628417'],\n",
       " 'Q4054524': ['Q4054524'],\n",
       " 'Q380794': ['Q380794'],\n",
       " 'Q3325447': ['Q3325447'],\n",
       " 'Q6083115': ['Q6083115'],\n",
       " 'Q441072': ['Q441072'],\n",
       " 'Q3308432': ['Q3308432'],\n",
       " 'Q3544059': ['Q3544059'],\n",
       " 'Q89560': ['Q89560'],\n",
       " 'Q2583170': ['Q2583170'],\n",
       " 'Q22948651': ['Q22948651'],\n",
       " 'Q7241': ['Q7241'],\n",
       " 'Q1869869': ['Q1869869'],\n",
       " 'Q2034361': ['Q2034361'],\n",
       " 'Q1377731': ['Q1377731'],\n",
       " 'Q7410748': ['Q7410748'],\n",
       " 'Q2884733': ['Q2884733'],\n",
       " 'Q1797260': ['Q1797260'],\n",
       " 'Q20466819': ['Q20466819'],\n",
       " 'Q721642': ['Q721642'],\n",
       " 'Q202155': ['Q202155'],\n",
       " 'Q5116473': ['Q5116473'],\n",
       " 'Q4893137': ['Q4893137'],\n",
       " 'Q2824752': ['Q2824752'],\n",
       " 'Q3436349': ['Q3436349'],\n",
       " 'Q346690': ['Q346690'],\n",
       " 'Q6687244': ['Q6687244'],\n",
       " 'Q8846555': ['Q8846555'],\n",
       " 'Q434207': ['Q434207'],\n",
       " 'Q683532': ['Q683532'],\n",
       " 'Q3185277': ['Q3185277'],\n",
       " 'Q1056870': ['Q1056870'],\n",
       " 'Q610036': ['Q610036'],\n",
       " 'Q1349561': ['Q1349561'],\n",
       " 'Q166172': ['Q166172'],\n",
       " 'Q634100': ['Q634100'],\n",
       " 'Q168356': ['Q168356'],\n",
       " 'Q3818268': ['Q3818268'],\n",
       " 'Q1441897': ['Q1441897'],\n",
       " 'Q1710543': ['Q1710543'],\n",
       " 'Q3187683': ['Q3187683'],\n",
       " 'Q2181164': ['Q2181164'],\n",
       " 'Q362138': ['Q362138'],\n",
       " 'Q207660': ['Q207660'],\n",
       " 'Q2720046': ['Q2720046'],\n",
       " 'Q1101130': ['Q1101130'],\n",
       " 'Q76938': ['Q76938'],\n",
       " 'Q9013963': ['Q9013963'],\n",
       " 'Q213416': ['Q213416'],\n",
       " 'Q3190467': ['Q3190467'],\n",
       " 'Q440057': ['Q440057'],\n",
       " 'Q380925': ['Q380925'],\n",
       " 'Q1144049': ['Q1144049'],\n",
       " 'Q1292364': ['Q1292364'],\n",
       " 'Q1292737': ['Q1292737'],\n",
       " 'Q19876123': ['Q19876123'],\n",
       " 'Q359717': ['Q359717'],\n",
       " 'Q721738': ['Q721738'],\n",
       " 'Q1047167': ['Q1047167'],\n",
       " 'Q1045903': ['Q1045903'],\n",
       " 'Q16007821': ['Q16007821'],\n",
       " 'Q11243256': ['Q11243256'],\n",
       " 'Q488735': ['Q488735'],\n",
       " 'Q4063288': ['Q4063288'],\n",
       " 'Q1369319': ['Q1369319'],\n",
       " 'Q3084293': ['Q3084293'],\n",
       " 'Q878849': ['Q878849'],\n",
       " 'Q342580': ['Q342580'],\n",
       " 'Q1094552': ['Q1094552'],\n",
       " 'Q926723': ['Q926723'],\n",
       " 'Q1926711': ['Q1926711'],\n",
       " 'Q4308818': ['Q4308818'],\n",
       " 'Q3100133': ['Q3100133'],\n",
       " 'Q575350': ['Q575350'],\n",
       " 'Q12915': ['Q12915'],\n",
       " 'Q1051533': ['Q1051533'],\n",
       " 'Q1133441': ['Q1133441'],\n",
       " 'Q489830': ['Q489830'],\n",
       " 'Q2068149': ['Q2068149'],\n",
       " 'Q2836354': ['Q2836354'],\n",
       " 'Q382101': ['Q382101'],\n",
       " 'Q383073': ['Q383073'],\n",
       " 'Q791856': ['Q791856'],\n",
       " 'Q2481188': ['Q2481188'],\n",
       " 'Q16849916': ['Q16849916'],\n",
       " 'Q701605': ['Q701605'],\n",
       " 'Q765465': ['Q765465'],\n",
       " 'Q325530': ['Q325530'],\n",
       " 'Q7787810': ['Q7787810'],\n",
       " 'Q27835141': ['Q27835141'],\n",
       " 'Q2420009': ['Q2420009'],\n",
       " 'Q3136439': ['Q3136439'],\n",
       " 'Q46405': ['Q46405'],\n",
       " 'Q1593557': ['Q1593557'],\n",
       " 'Q2071550': ['Q2071550'],\n",
       " 'Q496493': ['Q496493'],\n",
       " 'Q6294353': ['Q6294353'],\n",
       " 'Q1227518': ['Q1227518'],\n",
       " 'Q370069': ['Q370069'],\n",
       " 'Q1390495': ['Q1390495'],\n",
       " 'Q502292': ['Q502292'],\n",
       " 'Q208116': ['Q208116'],\n",
       " 'Q3381861': ['Q3381861'],\n",
       " 'Q457401': ['Q457401'],\n",
       " 'Q154545': ['Q154545'],\n",
       " 'Q1286597': ['Q1286597'],\n",
       " 'Q5133017': ['Q5133017'],\n",
       " 'Q2838542': ['Q2838542'],\n",
       " 'Q975382': ['Q975382'],\n",
       " 'Q1031': ['Q1031'],\n",
       " 'Q76792': ['Q76792'],\n",
       " 'Q6787481': ['Q6787481'],\n",
       " 'Q4666135': ['Q4666135'],\n",
       " 'Q983169': ['Q983169'],\n",
       " 'Q1375885': ['Q1375885'],\n",
       " 'Q3305779': ['Q3305779'],\n",
       " 'Q2446660': ['Q2446660'],\n",
       " 'Q1384083': ['Q1384083'],\n",
       " 'Q668603': ['Q668603'],\n",
       " 'Q4219061': ['Q4219061'],\n",
       " 'Q6641967': ['Q6641967'],\n",
       " 'Q17291889': ['Q17291889'],\n",
       " 'Q2056462': ['Q2056462'],\n",
       " 'Q335543': ['Q335543'],\n",
       " 'Q316443': ['Q316443'],\n",
       " 'Q767910': ['Q767910'],\n",
       " 'Q335479': ['Q335479'],\n",
       " 'Q949025': ['Q949025'],\n",
       " 'Q1606590': ['Q1606590'],\n",
       " 'Q320633': ['Q320633'],\n",
       " 'Q4665897': ['Q4665897'],\n",
       " 'Q4776398': ['Q4776398'],\n",
       " 'Q351250': ['Q351250'],\n",
       " 'Q967468': ['Q967468'],\n",
       " 'Q7558712': ['Q7558712'],\n",
       " 'Q389000': ['Q389000'],\n",
       " 'Q3056474': ['Q3056474'],\n",
       " 'Q526235': ['Q526235'],\n",
       " 'Q881745': ['Q881745'],\n",
       " 'Q3743209': ['Q3743209'],\n",
       " 'Q254': ['Q254'],\n",
       " 'Q317397': ['Q317397'],\n",
       " 'Q3347118': ['Q3347118'],\n",
       " 'Q7031838': ['Q7031838'],\n",
       " 'Q1363402': ['Q1363402'],\n",
       " 'Q7448945': ['Q7448945'],\n",
       " 'Q2741844': ['Q2741844'],\n",
       " 'Q504512': ['Q504512'],\n",
       " 'Q1027051': ['Q1027051'],\n",
       " 'Q1350076': ['Q1350076'],\n",
       " 'Q527143': ['Q527143'],\n",
       " 'Q541851': ['Q541851'],\n",
       " 'Q1265421': ['Q1265421'],\n",
       " 'Q277631': ['Q277631'],\n",
       " 'Q1375928': ['Q1375928'],\n",
       " 'Q4994424': ['Q4994424'],\n",
       " 'Q5945078': ['Q5945078'],\n",
       " 'Q603834': ['Q603834'],\n",
       " 'Q1208788': ['Q1208788'],\n",
       " 'Q3187543': ['Q3187543'],\n",
       " 'Q327024': ['Q327024'],\n",
       " 'Q21070093': ['Q21070093'],\n",
       " 'Q732613': ['Q732613'],\n",
       " 'Q7349': ['Q7349'],\n",
       " 'Q7183599': ['Q7183599'],\n",
       " 'Q10975573': ['Q10975573'],\n",
       " 'Q2939364': ['Q2939364'],\n",
       " 'Q316820': ['Q316820'],\n",
       " 'Q548023': ['Q548023'],\n",
       " 'Q26251070': ['Q26251070'],\n",
       " 'Q3897739': ['Q3897739'],\n",
       " 'Q1407455': ['Q1407455'],\n",
       " 'Q1036808': ['Q1036808'],\n",
       " 'Q3196825': ['Q3196825'],\n",
       " 'Q496386': ['Q496386'],\n",
       " 'Q3565029': ['Q3565029'],\n",
       " 'Q239070': ['Q239070'],\n",
       " 'Q467895': ['Q467895'],\n",
       " 'Q945994': ['Q945994'],\n",
       " 'Q324998': ['Q324998'],\n",
       " 'Q3534869': ['Q3534869'],\n",
       " 'Q2892443': ['Q2892443'],\n",
       " 'Q3436230': ['Q3436230'],\n",
       " 'Q7061550': ['Q7061550'],\n",
       " 'Q20717522': ['Q20717522'],\n",
       " 'Q1136795': ['Q1136795'],\n",
       " 'Q4721126': ['Q4721126'],\n",
       " 'Q5075023': ['Q5075023'],\n",
       " 'Q2155411': ['Q2155411'],\n",
       " 'Q2153979': ['Q2153979'],\n",
       " 'Q2564957': ['Q2564957'],\n",
       " 'Q4741248': ['Q4741248'],\n",
       " 'Q326701': ['Q326701'],\n",
       " 'Q382064': ['Q382064'],\n",
       " 'Q3399128': ['Q3399128'],\n",
       " 'Q366629': ['Q366629'],\n",
       " 'Q3246408': ['Q3246408'],\n",
       " 'Q6121415': ['Q6121415'],\n",
       " 'Q718093': ['Q718093'],\n",
       " 'Q1709048': ['Q1709048'],\n",
       " 'Q6310270': ['Q6310270'],\n",
       " 'Q1437304': ['Q1437304'],\n",
       " 'Q592355': ['Q592355'],\n",
       " 'Q319708': ['Q319708'],\n",
       " 'Q2311945': ['Q2311945'],\n",
       " 'Q1178302': ['Q1178302'],\n",
       " 'Q12100800': ['Q12100800'],\n",
       " 'Q2331581': ['Q2331581'],\n",
       " 'Q667651': ['Q667651'],\n",
       " 'Q1054007': ['Q1054007'],\n",
       " 'Q78455': ['Q78455'],\n",
       " 'Q4525745': ['Q4525745'],\n",
       " 'Q3775246': ['Q3775246'],\n",
       " 'Q323416': ['Q323416'],\n",
       " 'Q1155078': ['Q1155078'],\n",
       " 'Q563098': ['Q563098'],\n",
       " 'Q12238749': ['Q12238749'],\n",
       " 'Q180278': ['Q180278'],\n",
       " 'Q1710520': ['Q1710520'],\n",
       " 'Q4059062': ['Q4059062'],\n",
       " 'Q306318': ['Q306318'],\n",
       " 'Q128295': ['Q128295'],\n",
       " 'Q2072328': ['Q2072328'],\n",
       " 'Q163132': ['Q163132'],\n",
       " 'Q79936': ['Q79936'],\n",
       " 'Q1010247': ['Q1010247'],\n",
       " 'Q516817': ['Q516817'],\n",
       " 'Q24861': ['Q24861'],\n",
       " 'Q79675': ['Q79675'],\n",
       " 'Q34804': ['Q34804'],\n",
       " 'Q514836': ['Q514836'],\n",
       " 'Q328446': ['Q328446'],\n",
       " 'Q142811': ['Q142811'],\n",
       " 'Q79440': ['Q79440'],\n",
       " 'Q1150893': ['Q1150893'],\n",
       " 'Q485172': ['Q485172'],\n",
       " 'Q28271': ['Q28271'],\n",
       " 'Q79474': ['Q79474'],\n",
       " 'Q567530': ['Q567530'],\n",
       " 'Q2056427': ['Q2056427'],\n",
       " 'Q79829': ['Q79829'],\n",
       " 'Q1876560': ['Q1876560'],\n",
       " 'Q892401': ['Q892401'],\n",
       " 'Q590849': ['Q590849'],\n",
       " 'Q1517041': ['Q1517041'],\n",
       " 'Q205842': ['Q205842'],\n",
       " 'Q203263': ['Q203263'],\n",
       " 'Q2560090': ['Q2560090'],\n",
       " 'Q23556': ['Q23556'],\n",
       " 'Q79728': ['Q79728'],\n",
       " 'Q661595': ['Q661595'],\n",
       " 'Q153628': ['Q153628'],\n",
       " 'Q49246': ['Q49246'],\n",
       " 'Q22595': ['Q22595'],\n",
       " 'Q49256': ['Q49256'],\n",
       " 'Q5092': ['Q5092'],\n",
       " 'Q975627': ['Q975627'],\n",
       " 'Q576876': ['Q576876'],\n",
       " 'Q2901396': ['Q2901396'],\n",
       " 'Q79711': ['Q79711'],\n",
       " 'Q581096': ['Q581096'],\n",
       " 'Q576374': ['Q576374'],\n",
       " 'Q2425637': ['Q2425637'],\n",
       " 'Q214164': ['Q214164'],\n",
       " 'Q430267': ['Q430267'],\n",
       " 'Q792601': ['Q792601'],\n",
       " 'Q730430': ['Q730430'],\n",
       " 'Q3180809': ['Q3180809'],\n",
       " 'Q484678': ['Q484678'],\n",
       " 'Q821244': ['Q821244'],\n",
       " 'Q2207190': ['Q2207190'],\n",
       " 'Q79418': ['Q79418'],\n",
       " 'Q741830': ['Q741830'],\n",
       " 'Q979662': ['Q979662'],\n",
       " 'Q79973': ['Q79973'],\n",
       " 'Q755397': ['Q755397'],\n",
       " 'Q164380': ['Q164380'],\n",
       " 'Q490720': ['Q490720'],\n",
       " 'Q213814': ['Q213814'],\n",
       " 'Q79867': ['Q79867'],\n",
       " 'Q852658': ['Q852658'],\n",
       " 'Q577802': ['Q577802'],\n",
       " 'Q885991': ['Q885991'],\n",
       " 'Q893055': ['Q893055'],\n",
       " 'Q303046': ['Q303046'],\n",
       " 'Q192517': ['Q192517'],\n",
       " 'Q569678': ['Q569678'],\n",
       " 'Q647142': ['Q647142'],\n",
       " 'Q904354': ['Q904354'],\n",
       " 'Q2028837': ['Q2028837'],\n",
       " 'Q49174': ['Q49174'],\n",
       " 'Q79594': ['Q79594'],\n",
       " 'Q755149': ['Q755149'],\n",
       " 'Q917821': ['Q917821'],\n",
       " 'Q503366': ['Q503366'],\n",
       " 'Q49193': ['Q49193'],\n",
       " 'Q958967': ['Q958967'],\n",
       " 'Q838762': ['Q838762'],\n",
       " 'Q983765': ['Q983765'],\n",
       " 'Q31058': ['Q31058'],\n",
       " 'Q467664': ['Q467664'],\n",
       " 'Q3016817': ['Q3016817'],\n",
       " 'Q2026755': ['Q2026755'],\n",
       " 'Q982603': ['Q982603'],\n",
       " 'Q988721': ['Q988721'],\n",
       " 'Q2106269': ['Q2106269'],\n",
       " 'Q389086': ['Q389086'],\n",
       " 'Q780330': ['Q780330'],\n",
       " 'Q372402': ['Q372402'],\n",
       " 'Q2076330': ['Q2076330'],\n",
       " 'Q2302210': ['Q2302210'],\n",
       " 'Q2045194': ['Q2045194'],\n",
       " 'Q2948658': ['Q2948658'],\n",
       " 'Q49272': ['Q49272'],\n",
       " 'Q47716': ['Q47716'],\n",
       " 'Q1020942': ['Q1020942'],\n",
       " 'Q186702': ['Q186702'],\n",
       " 'Q3451542': ['Q3451542'],\n",
       " 'Q755226': ['Q755226'],\n",
       " 'Q39042': ['Q39042'],\n",
       " 'Q1297': ['Q1297'],\n",
       " 'Q432152': ['Q432152'],\n",
       " 'Q49270': ['Q49270'],\n",
       " 'Q2724215': ['Q2724215'],\n",
       " 'Q43196': ['Q43196'],\n",
       " 'Q1007037': ['Q1007037'],\n",
       " 'Q2781596': ['Q2781596'],\n",
       " 'Q328941': ['Q328941'],\n",
       " 'Q2052424': ['Q2052424'],\n",
       " 'Q37320': ['Q37320'],\n",
       " 'Q982843': ['Q982843'],\n",
       " 'Q303794': ['Q303794'],\n",
       " 'Q948219': ['Q948219'],\n",
       " 'Q988906': ['Q988906'],\n",
       " 'Q916603': ['Q916603'],\n",
       " 'Q577845': ['Q577845'],\n",
       " 'Q1110876': ['Q1110876'],\n",
       " 'Q735725': ['Q735725'],\n",
       " 'Q397905': ['Q397905'],\n",
       " 'Q38453': ['Q38453'],\n",
       " 'Q941870': ['Q941870'],\n",
       " 'Q16567': ['Q16567'],\n",
       " 'Q2601326': ['Q2601326'],\n",
       " 'Q487119': ['Q487119'],\n",
       " 'Q79853': ['Q79853'],\n",
       " 'Q1025016': ['Q1025016'],\n",
       " 'Q505557': ['Q505557'],\n",
       " 'Q2210265': ['Q2210265'],\n",
       " 'Q2997606': ['Q2997606'],\n",
       " 'Q576395': ['Q576395'],\n",
       " 'Q494707': ['Q494707'],\n",
       " 'Q939602': ['Q939602'],\n",
       " 'Q482523': ['Q482523'],\n",
       " 'Q952822': ['Q952822'],\n",
       " 'Q1089095': ['Q1089095'],\n",
       " 'Q963768': ['Q963768'],\n",
       " 'Q2276193': ['Q2276193'],\n",
       " 'Q592729': ['Q592729'],\n",
       " 'Q49301': ['Q49301'],\n",
       " 'Q577478': ['Q577478'],\n",
       " 'Q982482': ['Q982482'],\n",
       " 'Q996830': ['Q996830'],\n",
       " 'Q370925': ['Q370925'],\n",
       " 'Q49198': ['Q49198'],\n",
       " 'Q934055': ['Q934055'],\n",
       " 'Q988923': ['Q988923'],\n",
       " 'Q668546': ['Q668546'],\n",
       " 'Q1028058': ['Q1028058'],\n",
       " 'Q34739': ['Q34739'],\n",
       " 'Q580478': ['Q580478'],\n",
       " 'Q79750': ['Q79750'],\n",
       " 'Q932125': ['Q932125'],\n",
       " 'Q988934': ['Q988934'],\n",
       " 'Q768210': ['Q768210'],\n",
       " 'Q79391': ['Q79391'],\n",
       " 'Q3016777': ['Q3016777'],\n",
       " 'Q755197': ['Q755197'],\n",
       " 'Q1055850': ['Q1055850'],\n",
       " 'Q511183': ['Q511183'],\n",
       " 'Q39709': ['Q39709'],\n",
       " 'Q986906': ['Q986906'],\n",
       " 'Q647127': ['Q647127'],\n",
       " 'Q983438': ['Q983438'],\n",
       " 'Q66753': ['Q66753'],\n",
       " 'Q2278216': ['Q2278216'],\n",
       " 'Q33518': ['Q33518'],\n",
       " 'Q2443556': ['Q2443556'],\n",
       " 'Q959865': ['Q959865'],\n",
       " 'Q606559': ['Q606559'],\n",
       " 'Q485708': ['Q485708'],\n",
       " 'Q79316': ['Q79316'],\n",
       " 'Q981394': ['Q981394'],\n",
       " 'Q1012665': ['Q1012665'],\n",
       " 'Q986193': ['Q986193'],\n",
       " 'Q970566': ['Q970566'],\n",
       " 'Q2065006': ['Q2065006'],\n",
       " 'Q2129231': ['Q2129231'],\n",
       " 'Q16562': ['Q16562'],\n",
       " 'Q1017220': ['Q1017220'],\n",
       " 'Q1869391': ['Q1869391'],\n",
       " 'Q976529': ['Q976529'],\n",
       " 'Q1389138': ['Q1389138'],\n",
       " 'Q2008706': ['Q2008706'],\n",
       " 'Q2652915': ['Q2652915'],\n",
       " 'Q989465': ['Q989465'],\n",
       " 'Q1513207': ['Q1513207'],\n",
       " 'Q234061': ['Q234061'],\n",
       " 'Q2029466': ['Q2029466'],\n",
       " 'Q79648': ['Q79648'],\n",
       " 'Q171224': ['Q171224'],\n",
       " 'Q988940': ['Q988940'],\n",
       " 'Q1913937': ['Q1913937'],\n",
       " 'Q1279784': ['Q1279784'],\n",
       " 'Q985524': ['Q985524'],\n",
       " 'Q2300469': ['Q2300469'],\n",
       " 'Q219526': ['Q219526'],\n",
       " 'Q331104': ['Q331104'],\n",
       " 'Q1975746': ['Q1975746'],\n",
       " 'Q1437250': ['Q1437250'],\n",
       " 'Q490732': ['Q490732'],\n",
       " 'Q983761': ['Q983761'],\n",
       " 'Q165972': ['Q165972'],\n",
       " 'Q1013261': ['Q1013261'],\n",
       " 'Q506451': ['Q506451'],\n",
       " 'Q79653': ['Q79653'],\n",
       " 'Q1438770': ['Q1438770'],\n",
       " 'Q49268': ['Q49268'],\n",
       " 'Q16558': ['Q16558'],\n",
       " 'Q5472569': ['Q5472569'],\n",
       " 'Q1191112': ['Q1191112'],\n",
       " 'Q487999': ['Q487999'],\n",
       " 'Q651051': ['Q651051'],\n",
       " 'Q5518600': ['Q5518600'],\n",
       " 'Q577981': ['Q577981'],\n",
       " 'Q135744': ['Q135744'],\n",
       " 'Q184116': ['Q184116'],\n",
       " 'Q2300663': ['Q2300663'],\n",
       " 'Q3459757': ['Q3459757'],\n",
       " 'Q837097': ['Q837097'],\n",
       " 'Q2232013': ['Q2232013'],\n",
       " 'Q485716': ['Q485716'],\n",
       " 'Q967324': ['Q967324'],\n",
       " 'Q49156': ['Q49156'],\n",
       " 'Q983840': ['Q983840'],\n",
       " 'Q3139514': ['Q3139514'],\n",
       " 'Q3708396': ['Q3708396'],\n",
       " 'Q94274': ['Q94274'],\n",
       " 'Q79352': ['Q79352'],\n",
       " 'Q983596': ['Q983596'],\n",
       " 'Q79362': ['Q79362'],\n",
       " 'Q574192': ['Q574192'],\n",
       " 'Q520251': ['Q520251'],\n",
       " 'Q1012372': ['Q1012372'],\n",
       " 'Q578575': ['Q578575'],\n",
       " 'Q1903250': ['Q1903250'],\n",
       " 'Q10385027': ['Q10385027'],\n",
       " 'Q1553305': ['Q1553305'],\n",
       " 'Q490587': ['Q490587'],\n",
       " 'Q577450': ['Q577450'],\n",
       " 'Q2302147': ['Q2302147'],\n",
       " 'Q755559': ['Q755559'],\n",
       " 'Q79546': ['Q79546'],\n",
       " 'Q2153814': ['Q2153814'],\n",
       " 'Q79255': ['Q79255'],\n",
       " 'Q755271': ['Q755271'],\n",
       " 'Q975411': ['Q975411'],\n",
       " 'Q961975': ['Q961975'],\n",
       " 'Q33486': ['Q33486'],\n",
       " 'Q79242': ['Q79242'],\n",
       " 'Q959512': ['Q959512'],\n",
       " 'Q384464': ['Q384464'],\n",
       " 'Q3710418': ['Q3710418'],\n",
       " 'Q613842': ['Q613842'],\n",
       " 'Q948140': ['Q948140'],\n",
       " 'Q868666': ['Q868666'],\n",
       " 'Q49276': ['Q49276'],\n",
       " 'Q631666': ['Q631666'],\n",
       " 'Q1637790': ['Q1637790'],\n",
       " 'Q1374035': ['Q1374035'],\n",
       " 'Q18094': ['Q18094'],\n",
       " 'Q16555': ['Q16555'],\n",
       " 'Q79257': ['Q79257'],\n",
       " 'Q5917': ['Q5917'],\n",
       " 'Q2255383': ['Q2255383'],\n",
       " 'Q79860': ['Q79860'],\n",
       " 'Q864885': ['Q864885'],\n",
       " 'Q1207455': ['Q1207455'],\n",
       " 'Q24603': ['Q24603'],\n",
       " 'Q1184769': ['Q1184769'],\n",
       " 'Q6346': ['Q6346'],\n",
       " 'Q838789': ['Q838789'],\n",
       " 'Q933024': ['Q933024'],\n",
       " 'Q28198': ['Q28198'],\n",
       " 'Q79412': ['Q79412'],\n",
       " 'Q16568': ['Q16568'],\n",
       " 'Q1052658': ['Q1052658'],\n",
       " 'Q79592': ['Q79592'],\n",
       " 'Q2246550': ['Q2246550'],\n",
       " 'Q2461688': ['Q2461688'],\n",
       " 'Q985248': ['Q985248'],\n",
       " 'Q26339': ['Q26339'],\n",
       " 'Q770571': ['Q770571'],\n",
       " 'Q1070763': ['Q1070763'],\n",
       " ...}"
      ]
     },
     "execution_count": 225,
     "metadata": {},
     "output_type": "execute_result"
    }
   ],
   "source": [
    "# Initialize an empty dictionary for ext_WD_query_type\n",
    "ext_WD_query_type = {}\n",
    "\n",
    "# Iterate over WD_query_type.keys() with a tqdm progress bar\n",
    "for el in tqdm(WD_query_type.keys(), desc=\"Processing Superclasses\", unit=\"entity\"):\n",
    "    #print(f\"{el}: #superclasses {len(extended_WD_types(el))}\")\n",
    "    ext_WD_query_type[el] = extended_WD_types(el)\n",
    "\n",
    "with open('2T_ext_WD_query_type.json', 'w') as json_file:\n",
    "    json.dump(ext_WD_query_type, json_file, indent=4)\n",
    "\n",
    "\n",
    "# Display the resulting dictionary\n",
    "ext_WD_query_type"
   ]
  },
  {
   "cell_type": "code",
   "execution_count": 153,
   "metadata": {},
   "outputs": [],
   "source": [
    "\n",
    "def make_json_serializable(obj):\n",
    "    \"\"\"\n",
    "    Recursively converts non-serializable objects in the dictionary\n",
    "    to JSON-serializable formats.\n",
    "    \"\"\"\n",
    "    if isinstance(obj, set):\n",
    "        return list(obj)  # Convert sets to lists\n",
    "    elif isinstance(obj, dict):\n",
    "        return {k: make_json_serializable(v) for k, v in obj.items()}  # Recurse for nested dictionaries\n",
    "    elif isinstance(obj, list):\n",
    "        return [make_json_serializable(i) for i in obj]  # Recurse for lists\n",
    "    else:\n",
    "        return obj  # Return the object if it's already serializable\n",
    "\n",
    "# Convert subsample to a JSON-serializable format\n",
    "serializable_subsample = make_json_serializable(ext_WD_query_type)"
   ]
  },
  {
   "cell_type": "code",
   "execution_count": 154,
   "metadata": {},
   "outputs": [],
   "source": [
    "with open('ext_WD_query_type.json', 'w') as json_file:\n",
    "    json.dump(serializable_subsample, json_file, indent=4)"
   ]
  },
  {
   "cell_type": "markdown",
   "metadata": {},
   "source": [
    "## Extended WD type vs WD type"
   ]
  },
  {
   "cell_type": "code",
   "execution_count": 14,
   "metadata": {},
   "outputs": [
    {
     "ename": "KeyboardInterrupt",
     "evalue": "",
     "output_type": "error",
     "traceback": [
      "\u001b[1;31m---------------------------------------------------------------------------\u001b[0m",
      "\u001b[1;31mTypeError\u001b[0m                                 Traceback (most recent call last)",
      "File \u001b[1;32mc:\\Users\\abelo\\anaconda3\\envs\\v_env\\lib\\site-packages\\urllib3\\connectionpool.py:377\u001b[0m, in \u001b[0;36mHTTPConnectionPool._make_request\u001b[1;34m(self, conn, method, url, timeout, chunked, **httplib_request_kw)\u001b[0m\n\u001b[0;32m    376\u001b[0m \u001b[38;5;28;01mtry\u001b[39;00m:  \u001b[38;5;66;03m# Python 2.7, use buffering of HTTP responses\u001b[39;00m\n\u001b[1;32m--> 377\u001b[0m     httplib_response \u001b[38;5;241m=\u001b[39m \u001b[43mconn\u001b[49m\u001b[38;5;241;43m.\u001b[39;49m\u001b[43mgetresponse\u001b[49m\u001b[43m(\u001b[49m\u001b[43mbuffering\u001b[49m\u001b[38;5;241;43m=\u001b[39;49m\u001b[38;5;28;43;01mTrue\u001b[39;49;00m\u001b[43m)\u001b[49m\n\u001b[0;32m    378\u001b[0m \u001b[38;5;28;01mexcept\u001b[39;00m \u001b[38;5;167;01mTypeError\u001b[39;00m:  \u001b[38;5;66;03m# Python 3\u001b[39;00m\n",
      "\u001b[1;31mTypeError\u001b[0m: HTTPConnection.getresponse() got an unexpected keyword argument 'buffering'",
      "\nDuring handling of the above exception, another exception occurred:\n",
      "\u001b[1;31mKeyboardInterrupt\u001b[0m                         Traceback (most recent call last)",
      "Input \u001b[1;32mIn [14]\u001b[0m, in \u001b[0;36m<cell line: 6>\u001b[1;34m()\u001b[0m\n\u001b[0;32m      6\u001b[0m \u001b[38;5;28;01mfor\u001b[39;00m entity_id, type_str \u001b[38;5;129;01min\u001b[39;00m WD_query_type\u001b[38;5;241m.\u001b[39mitems():\n\u001b[0;32m      7\u001b[0m     \u001b[38;5;66;03m#print(f\"{type_str}: {get_type_id(type_str)}\")\u001b[39;00m\n\u001b[0;32m      9\u001b[0m     entity_name \u001b[38;5;241m=\u001b[39m key_to_cell[\u001b[38;5;28mlist\u001b[39m(WD_query_type\u001b[38;5;241m.\u001b[39mkeys())[\u001b[38;5;241m0\u001b[39m]]\n\u001b[1;32m---> 10\u001b[0m     ext_query_types \u001b[38;5;241m+\u001b[39m\u001b[38;5;241m=\u001b[39m \u001b[38;5;28mlist\u001b[39m(\u001b[38;5;28mset\u001b[39m(retrieve_superclasses(\u001b[43mget_type_id\u001b[49m\u001b[43m(\u001b[49m\u001b[43mtype_str\u001b[49m\u001b[43m)\u001b[49m)))\n\u001b[0;32m     12\u001b[0m     \u001b[38;5;66;03m# query a lamapi dove specifico nel filtro il tipo\u001b[39;00m\n\u001b[0;32m     14\u001b[0m     WD_candidate_types \u001b[38;5;241m=\u001b[39m WD_types(entity_id)  \u001b[38;5;66;03m# WD_types() interroga il servizio types() ma forse è sbagliato (da implementare lato server non client)\u001b[39;00m\n",
      "Input \u001b[1;32mIn [3]\u001b[0m, in \u001b[0;36mget_type_id\u001b[1;34m(entity_name)\u001b[0m\n\u001b[0;32m     39\u001b[0m headers \u001b[38;5;241m=\u001b[39m {\n\u001b[0;32m     40\u001b[0m     \u001b[38;5;124m\"\u001b[39m\u001b[38;5;124maccept\u001b[39m\u001b[38;5;124m\"\u001b[39m: \u001b[38;5;124m\"\u001b[39m\u001b[38;5;124mapplication/json\u001b[39m\u001b[38;5;124m\"\u001b[39m\n\u001b[0;32m     41\u001b[0m }\n\u001b[0;32m     43\u001b[0m \u001b[38;5;28;01mtry\u001b[39;00m:\n\u001b[1;32m---> 44\u001b[0m     response \u001b[38;5;241m=\u001b[39m \u001b[43mrequests\u001b[49m\u001b[38;5;241;43m.\u001b[39;49m\u001b[43mget\u001b[49m\u001b[43m(\u001b[49m\u001b[43murl\u001b[49m\u001b[43m,\u001b[49m\u001b[43m \u001b[49m\u001b[43mheaders\u001b[49m\u001b[38;5;241;43m=\u001b[39;49m\u001b[43mheaders\u001b[49m\u001b[43m,\u001b[49m\u001b[43m \u001b[49m\u001b[43mparams\u001b[49m\u001b[38;5;241;43m=\u001b[39;49m\u001b[43mparams\u001b[49m\u001b[43m)\u001b[49m\n\u001b[0;32m     45\u001b[0m     response\u001b[38;5;241m.\u001b[39mraise_for_status()  \u001b[38;5;66;03m# Raise an error for HTTP issues\u001b[39;00m\n\u001b[0;32m     46\u001b[0m     data \u001b[38;5;241m=\u001b[39m response\u001b[38;5;241m.\u001b[39mjson()\n",
      "File \u001b[1;32mc:\\Users\\abelo\\anaconda3\\envs\\v_env\\lib\\site-packages\\requests\\api.py:73\u001b[0m, in \u001b[0;36mget\u001b[1;34m(url, params, **kwargs)\u001b[0m\n\u001b[0;32m     62\u001b[0m \u001b[38;5;28;01mdef\u001b[39;00m \u001b[38;5;21mget\u001b[39m(url, params\u001b[38;5;241m=\u001b[39m\u001b[38;5;28;01mNone\u001b[39;00m, \u001b[38;5;241m*\u001b[39m\u001b[38;5;241m*\u001b[39mkwargs):\n\u001b[0;32m     63\u001b[0m \u001b[38;5;250m    \u001b[39m\u001b[38;5;124mr\u001b[39m\u001b[38;5;124;03m\"\"\"Sends a GET request.\u001b[39;00m\n\u001b[0;32m     64\u001b[0m \n\u001b[0;32m     65\u001b[0m \u001b[38;5;124;03m    :param url: URL for the new :class:`Request` object.\u001b[39;00m\n\u001b[1;32m   (...)\u001b[0m\n\u001b[0;32m     70\u001b[0m \u001b[38;5;124;03m    :rtype: requests.Response\u001b[39;00m\n\u001b[0;32m     71\u001b[0m \u001b[38;5;124;03m    \"\"\"\u001b[39;00m\n\u001b[1;32m---> 73\u001b[0m     \u001b[38;5;28;01mreturn\u001b[39;00m request(\u001b[38;5;124m\"\u001b[39m\u001b[38;5;124mget\u001b[39m\u001b[38;5;124m\"\u001b[39m, url, params\u001b[38;5;241m=\u001b[39mparams, \u001b[38;5;241m*\u001b[39m\u001b[38;5;241m*\u001b[39mkwargs)\n",
      "File \u001b[1;32mc:\\Users\\abelo\\anaconda3\\envs\\v_env\\lib\\site-packages\\requests\\api.py:59\u001b[0m, in \u001b[0;36mrequest\u001b[1;34m(method, url, **kwargs)\u001b[0m\n\u001b[0;32m     55\u001b[0m \u001b[38;5;66;03m# By using the 'with' statement we are sure the session is closed, thus we\u001b[39;00m\n\u001b[0;32m     56\u001b[0m \u001b[38;5;66;03m# avoid leaving sockets open which can trigger a ResourceWarning in some\u001b[39;00m\n\u001b[0;32m     57\u001b[0m \u001b[38;5;66;03m# cases, and look like a memory leak in others.\u001b[39;00m\n\u001b[0;32m     58\u001b[0m \u001b[38;5;28;01mwith\u001b[39;00m sessions\u001b[38;5;241m.\u001b[39mSession() \u001b[38;5;28;01mas\u001b[39;00m session:\n\u001b[1;32m---> 59\u001b[0m     \u001b[38;5;28;01mreturn\u001b[39;00m session\u001b[38;5;241m.\u001b[39mrequest(method\u001b[38;5;241m=\u001b[39mmethod, url\u001b[38;5;241m=\u001b[39murl, \u001b[38;5;241m*\u001b[39m\u001b[38;5;241m*\u001b[39mkwargs)\n",
      "File \u001b[1;32mc:\\Users\\abelo\\anaconda3\\envs\\v_env\\lib\\site-packages\\requests\\sessions.py:589\u001b[0m, in \u001b[0;36mSession.request\u001b[1;34m(self, method, url, params, data, headers, cookies, files, auth, timeout, allow_redirects, proxies, hooks, stream, verify, cert, json)\u001b[0m\n\u001b[0;32m    584\u001b[0m send_kwargs \u001b[38;5;241m=\u001b[39m {\n\u001b[0;32m    585\u001b[0m     \u001b[38;5;124m\"\u001b[39m\u001b[38;5;124mtimeout\u001b[39m\u001b[38;5;124m\"\u001b[39m: timeout,\n\u001b[0;32m    586\u001b[0m     \u001b[38;5;124m\"\u001b[39m\u001b[38;5;124mallow_redirects\u001b[39m\u001b[38;5;124m\"\u001b[39m: allow_redirects,\n\u001b[0;32m    587\u001b[0m }\n\u001b[0;32m    588\u001b[0m send_kwargs\u001b[38;5;241m.\u001b[39mupdate(settings)\n\u001b[1;32m--> 589\u001b[0m resp \u001b[38;5;241m=\u001b[39m \u001b[38;5;28mself\u001b[39m\u001b[38;5;241m.\u001b[39msend(prep, \u001b[38;5;241m*\u001b[39m\u001b[38;5;241m*\u001b[39msend_kwargs)\n\u001b[0;32m    591\u001b[0m \u001b[38;5;28;01mreturn\u001b[39;00m resp\n",
      "File \u001b[1;32mc:\\Users\\abelo\\anaconda3\\envs\\v_env\\lib\\site-packages\\requests\\sessions.py:703\u001b[0m, in \u001b[0;36mSession.send\u001b[1;34m(self, request, **kwargs)\u001b[0m\n\u001b[0;32m    700\u001b[0m start \u001b[38;5;241m=\u001b[39m preferred_clock()\n\u001b[0;32m    702\u001b[0m \u001b[38;5;66;03m# Send the request\u001b[39;00m\n\u001b[1;32m--> 703\u001b[0m r \u001b[38;5;241m=\u001b[39m adapter\u001b[38;5;241m.\u001b[39msend(request, \u001b[38;5;241m*\u001b[39m\u001b[38;5;241m*\u001b[39mkwargs)\n\u001b[0;32m    705\u001b[0m \u001b[38;5;66;03m# Total elapsed time of the request (approximately)\u001b[39;00m\n\u001b[0;32m    706\u001b[0m elapsed \u001b[38;5;241m=\u001b[39m preferred_clock() \u001b[38;5;241m-\u001b[39m start\n",
      "File \u001b[1;32mc:\\Users\\abelo\\anaconda3\\envs\\v_env\\lib\\site-packages\\requests\\adapters.py:667\u001b[0m, in \u001b[0;36mHTTPAdapter.send\u001b[1;34m(self, request, stream, timeout, verify, cert, proxies)\u001b[0m\n\u001b[0;32m    664\u001b[0m     timeout \u001b[38;5;241m=\u001b[39m TimeoutSauce(connect\u001b[38;5;241m=\u001b[39mtimeout, read\u001b[38;5;241m=\u001b[39mtimeout)\n\u001b[0;32m    666\u001b[0m \u001b[38;5;28;01mtry\u001b[39;00m:\n\u001b[1;32m--> 667\u001b[0m     resp \u001b[38;5;241m=\u001b[39m \u001b[43mconn\u001b[49m\u001b[38;5;241;43m.\u001b[39;49m\u001b[43murlopen\u001b[49m\u001b[43m(\u001b[49m\n\u001b[0;32m    668\u001b[0m \u001b[43m        \u001b[49m\u001b[43mmethod\u001b[49m\u001b[38;5;241;43m=\u001b[39;49m\u001b[43mrequest\u001b[49m\u001b[38;5;241;43m.\u001b[39;49m\u001b[43mmethod\u001b[49m\u001b[43m,\u001b[49m\n\u001b[0;32m    669\u001b[0m \u001b[43m        \u001b[49m\u001b[43murl\u001b[49m\u001b[38;5;241;43m=\u001b[39;49m\u001b[43murl\u001b[49m\u001b[43m,\u001b[49m\n\u001b[0;32m    670\u001b[0m \u001b[43m        \u001b[49m\u001b[43mbody\u001b[49m\u001b[38;5;241;43m=\u001b[39;49m\u001b[43mrequest\u001b[49m\u001b[38;5;241;43m.\u001b[39;49m\u001b[43mbody\u001b[49m\u001b[43m,\u001b[49m\n\u001b[0;32m    671\u001b[0m \u001b[43m        \u001b[49m\u001b[43mheaders\u001b[49m\u001b[38;5;241;43m=\u001b[39;49m\u001b[43mrequest\u001b[49m\u001b[38;5;241;43m.\u001b[39;49m\u001b[43mheaders\u001b[49m\u001b[43m,\u001b[49m\n\u001b[0;32m    672\u001b[0m \u001b[43m        \u001b[49m\u001b[43mredirect\u001b[49m\u001b[38;5;241;43m=\u001b[39;49m\u001b[38;5;28;43;01mFalse\u001b[39;49;00m\u001b[43m,\u001b[49m\n\u001b[0;32m    673\u001b[0m \u001b[43m        \u001b[49m\u001b[43massert_same_host\u001b[49m\u001b[38;5;241;43m=\u001b[39;49m\u001b[38;5;28;43;01mFalse\u001b[39;49;00m\u001b[43m,\u001b[49m\n\u001b[0;32m    674\u001b[0m \u001b[43m        \u001b[49m\u001b[43mpreload_content\u001b[49m\u001b[38;5;241;43m=\u001b[39;49m\u001b[38;5;28;43;01mFalse\u001b[39;49;00m\u001b[43m,\u001b[49m\n\u001b[0;32m    675\u001b[0m \u001b[43m        \u001b[49m\u001b[43mdecode_content\u001b[49m\u001b[38;5;241;43m=\u001b[39;49m\u001b[38;5;28;43;01mFalse\u001b[39;49;00m\u001b[43m,\u001b[49m\n\u001b[0;32m    676\u001b[0m \u001b[43m        \u001b[49m\u001b[43mretries\u001b[49m\u001b[38;5;241;43m=\u001b[39;49m\u001b[38;5;28;43mself\u001b[39;49m\u001b[38;5;241;43m.\u001b[39;49m\u001b[43mmax_retries\u001b[49m\u001b[43m,\u001b[49m\n\u001b[0;32m    677\u001b[0m \u001b[43m        \u001b[49m\u001b[43mtimeout\u001b[49m\u001b[38;5;241;43m=\u001b[39;49m\u001b[43mtimeout\u001b[49m\u001b[43m,\u001b[49m\n\u001b[0;32m    678\u001b[0m \u001b[43m        \u001b[49m\u001b[43mchunked\u001b[49m\u001b[38;5;241;43m=\u001b[39;49m\u001b[43mchunked\u001b[49m\u001b[43m,\u001b[49m\n\u001b[0;32m    679\u001b[0m \u001b[43m    \u001b[49m\u001b[43m)\u001b[49m\n\u001b[0;32m    681\u001b[0m \u001b[38;5;28;01mexcept\u001b[39;00m (ProtocolError, \u001b[38;5;167;01mOSError\u001b[39;00m) \u001b[38;5;28;01mas\u001b[39;00m err:\n\u001b[0;32m    682\u001b[0m     \u001b[38;5;28;01mraise\u001b[39;00m \u001b[38;5;167;01mConnectionError\u001b[39;00m(err, request\u001b[38;5;241m=\u001b[39mrequest)\n",
      "File \u001b[1;32mc:\\Users\\abelo\\anaconda3\\envs\\v_env\\lib\\site-packages\\urllib3\\connectionpool.py:597\u001b[0m, in \u001b[0;36mHTTPConnectionPool.urlopen\u001b[1;34m(self, method, url, body, headers, retries, redirect, assert_same_host, timeout, pool_timeout, release_conn, chunked, body_pos, **response_kw)\u001b[0m\n\u001b[0;32m    594\u001b[0m     \u001b[38;5;28mself\u001b[39m\u001b[38;5;241m.\u001b[39m_prepare_proxy(conn)\n\u001b[0;32m    596\u001b[0m \u001b[38;5;66;03m# Make the request on the httplib connection object.\u001b[39;00m\n\u001b[1;32m--> 597\u001b[0m httplib_response \u001b[38;5;241m=\u001b[39m \u001b[38;5;28;43mself\u001b[39;49m\u001b[38;5;241;43m.\u001b[39;49m\u001b[43m_make_request\u001b[49m\u001b[43m(\u001b[49m\u001b[43mconn\u001b[49m\u001b[43m,\u001b[49m\u001b[43m \u001b[49m\u001b[43mmethod\u001b[49m\u001b[43m,\u001b[49m\u001b[43m \u001b[49m\u001b[43murl\u001b[49m\u001b[43m,\u001b[49m\n\u001b[0;32m    598\u001b[0m \u001b[43m                                      \u001b[49m\u001b[43mtimeout\u001b[49m\u001b[38;5;241;43m=\u001b[39;49m\u001b[43mtimeout_obj\u001b[49m\u001b[43m,\u001b[49m\n\u001b[0;32m    599\u001b[0m \u001b[43m                                      \u001b[49m\u001b[43mbody\u001b[49m\u001b[38;5;241;43m=\u001b[39;49m\u001b[43mbody\u001b[49m\u001b[43m,\u001b[49m\u001b[43m \u001b[49m\u001b[43mheaders\u001b[49m\u001b[38;5;241;43m=\u001b[39;49m\u001b[43mheaders\u001b[49m\u001b[43m,\u001b[49m\n\u001b[0;32m    600\u001b[0m \u001b[43m                                      \u001b[49m\u001b[43mchunked\u001b[49m\u001b[38;5;241;43m=\u001b[39;49m\u001b[43mchunked\u001b[49m\u001b[43m)\u001b[49m\n\u001b[0;32m    602\u001b[0m \u001b[38;5;66;03m# If we're going to release the connection in ``finally:``, then\u001b[39;00m\n\u001b[0;32m    603\u001b[0m \u001b[38;5;66;03m# the response doesn't need to know about the connection. Otherwise\u001b[39;00m\n\u001b[0;32m    604\u001b[0m \u001b[38;5;66;03m# it will also try to release it and we'll have a double-release\u001b[39;00m\n\u001b[0;32m    605\u001b[0m \u001b[38;5;66;03m# mess.\u001b[39;00m\n\u001b[0;32m    606\u001b[0m response_conn \u001b[38;5;241m=\u001b[39m conn \u001b[38;5;28;01mif\u001b[39;00m \u001b[38;5;129;01mnot\u001b[39;00m release_conn \u001b[38;5;28;01melse\u001b[39;00m \u001b[38;5;28;01mNone\u001b[39;00m\n",
      "File \u001b[1;32mc:\\Users\\abelo\\anaconda3\\envs\\v_env\\lib\\site-packages\\urllib3\\connectionpool.py:380\u001b[0m, in \u001b[0;36mHTTPConnectionPool._make_request\u001b[1;34m(self, conn, method, url, timeout, chunked, **httplib_request_kw)\u001b[0m\n\u001b[0;32m    378\u001b[0m \u001b[38;5;28;01mexcept\u001b[39;00m \u001b[38;5;167;01mTypeError\u001b[39;00m:  \u001b[38;5;66;03m# Python 3\u001b[39;00m\n\u001b[0;32m    379\u001b[0m     \u001b[38;5;28;01mtry\u001b[39;00m:\n\u001b[1;32m--> 380\u001b[0m         httplib_response \u001b[38;5;241m=\u001b[39m \u001b[43mconn\u001b[49m\u001b[38;5;241;43m.\u001b[39;49m\u001b[43mgetresponse\u001b[49m\u001b[43m(\u001b[49m\u001b[43m)\u001b[49m\n\u001b[0;32m    381\u001b[0m     \u001b[38;5;28;01mexcept\u001b[39;00m \u001b[38;5;167;01mException\u001b[39;00m \u001b[38;5;28;01mas\u001b[39;00m e:\n\u001b[0;32m    382\u001b[0m         \u001b[38;5;66;03m# Remove the TypeError from the exception chain in Python 3;\u001b[39;00m\n\u001b[0;32m    383\u001b[0m         \u001b[38;5;66;03m# otherwise it looks like a programming error was the cause.\u001b[39;00m\n\u001b[0;32m    384\u001b[0m         six\u001b[38;5;241m.\u001b[39mraise_from(e, \u001b[38;5;28;01mNone\u001b[39;00m)\n",
      "File \u001b[1;32mc:\\Users\\abelo\\anaconda3\\envs\\v_env\\lib\\http\\client.py:1374\u001b[0m, in \u001b[0;36mHTTPConnection.getresponse\u001b[1;34m(self)\u001b[0m\n\u001b[0;32m   1372\u001b[0m \u001b[38;5;28;01mtry\u001b[39;00m:\n\u001b[0;32m   1373\u001b[0m     \u001b[38;5;28;01mtry\u001b[39;00m:\n\u001b[1;32m-> 1374\u001b[0m         \u001b[43mresponse\u001b[49m\u001b[38;5;241;43m.\u001b[39;49m\u001b[43mbegin\u001b[49m\u001b[43m(\u001b[49m\u001b[43m)\u001b[49m\n\u001b[0;32m   1375\u001b[0m     \u001b[38;5;28;01mexcept\u001b[39;00m \u001b[38;5;167;01mConnectionError\u001b[39;00m:\n\u001b[0;32m   1376\u001b[0m         \u001b[38;5;28mself\u001b[39m\u001b[38;5;241m.\u001b[39mclose()\n",
      "File \u001b[1;32mc:\\Users\\abelo\\anaconda3\\envs\\v_env\\lib\\http\\client.py:318\u001b[0m, in \u001b[0;36mHTTPResponse.begin\u001b[1;34m(self)\u001b[0m\n\u001b[0;32m    316\u001b[0m \u001b[38;5;66;03m# read until we get a non-100 response\u001b[39;00m\n\u001b[0;32m    317\u001b[0m \u001b[38;5;28;01mwhile\u001b[39;00m \u001b[38;5;28;01mTrue\u001b[39;00m:\n\u001b[1;32m--> 318\u001b[0m     version, status, reason \u001b[38;5;241m=\u001b[39m \u001b[38;5;28;43mself\u001b[39;49m\u001b[38;5;241;43m.\u001b[39;49m\u001b[43m_read_status\u001b[49m\u001b[43m(\u001b[49m\u001b[43m)\u001b[49m\n\u001b[0;32m    319\u001b[0m     \u001b[38;5;28;01mif\u001b[39;00m status \u001b[38;5;241m!=\u001b[39m CONTINUE:\n\u001b[0;32m    320\u001b[0m         \u001b[38;5;28;01mbreak\u001b[39;00m\n",
      "File \u001b[1;32mc:\\Users\\abelo\\anaconda3\\envs\\v_env\\lib\\http\\client.py:279\u001b[0m, in \u001b[0;36mHTTPResponse._read_status\u001b[1;34m(self)\u001b[0m\n\u001b[0;32m    278\u001b[0m \u001b[38;5;28;01mdef\u001b[39;00m \u001b[38;5;21m_read_status\u001b[39m(\u001b[38;5;28mself\u001b[39m):\n\u001b[1;32m--> 279\u001b[0m     line \u001b[38;5;241m=\u001b[39m \u001b[38;5;28mstr\u001b[39m(\u001b[38;5;28;43mself\u001b[39;49m\u001b[38;5;241;43m.\u001b[39;49m\u001b[43mfp\u001b[49m\u001b[38;5;241;43m.\u001b[39;49m\u001b[43mreadline\u001b[49m\u001b[43m(\u001b[49m\u001b[43m_MAXLINE\u001b[49m\u001b[43m \u001b[49m\u001b[38;5;241;43m+\u001b[39;49m\u001b[43m \u001b[49m\u001b[38;5;241;43m1\u001b[39;49m\u001b[43m)\u001b[49m, \u001b[38;5;124m\"\u001b[39m\u001b[38;5;124miso-8859-1\u001b[39m\u001b[38;5;124m\"\u001b[39m)\n\u001b[0;32m    280\u001b[0m     \u001b[38;5;28;01mif\u001b[39;00m \u001b[38;5;28mlen\u001b[39m(line) \u001b[38;5;241m>\u001b[39m _MAXLINE:\n\u001b[0;32m    281\u001b[0m         \u001b[38;5;28;01mraise\u001b[39;00m LineTooLong(\u001b[38;5;124m\"\u001b[39m\u001b[38;5;124mstatus line\u001b[39m\u001b[38;5;124m\"\u001b[39m)\n",
      "File \u001b[1;32mc:\\Users\\abelo\\anaconda3\\envs\\v_env\\lib\\socket.py:705\u001b[0m, in \u001b[0;36mSocketIO.readinto\u001b[1;34m(self, b)\u001b[0m\n\u001b[0;32m    703\u001b[0m \u001b[38;5;28;01mwhile\u001b[39;00m \u001b[38;5;28;01mTrue\u001b[39;00m:\n\u001b[0;32m    704\u001b[0m     \u001b[38;5;28;01mtry\u001b[39;00m:\n\u001b[1;32m--> 705\u001b[0m         \u001b[38;5;28;01mreturn\u001b[39;00m \u001b[38;5;28;43mself\u001b[39;49m\u001b[38;5;241;43m.\u001b[39;49m\u001b[43m_sock\u001b[49m\u001b[38;5;241;43m.\u001b[39;49m\u001b[43mrecv_into\u001b[49m\u001b[43m(\u001b[49m\u001b[43mb\u001b[49m\u001b[43m)\u001b[49m\n\u001b[0;32m    706\u001b[0m     \u001b[38;5;28;01mexcept\u001b[39;00m timeout:\n\u001b[0;32m    707\u001b[0m         \u001b[38;5;28mself\u001b[39m\u001b[38;5;241m.\u001b[39m_timeout_occurred \u001b[38;5;241m=\u001b[39m \u001b[38;5;28;01mTrue\u001b[39;00m\n",
      "File \u001b[1;32mc:\\Users\\abelo\\anaconda3\\envs\\v_env\\lib\\ssl.py:1273\u001b[0m, in \u001b[0;36mSSLSocket.recv_into\u001b[1;34m(self, buffer, nbytes, flags)\u001b[0m\n\u001b[0;32m   1269\u001b[0m     \u001b[38;5;28;01mif\u001b[39;00m flags \u001b[38;5;241m!=\u001b[39m \u001b[38;5;241m0\u001b[39m:\n\u001b[0;32m   1270\u001b[0m         \u001b[38;5;28;01mraise\u001b[39;00m \u001b[38;5;167;01mValueError\u001b[39;00m(\n\u001b[0;32m   1271\u001b[0m           \u001b[38;5;124m\"\u001b[39m\u001b[38;5;124mnon-zero flags not allowed in calls to recv_into() on \u001b[39m\u001b[38;5;132;01m%s\u001b[39;00m\u001b[38;5;124m\"\u001b[39m \u001b[38;5;241m%\u001b[39m\n\u001b[0;32m   1272\u001b[0m           \u001b[38;5;28mself\u001b[39m\u001b[38;5;241m.\u001b[39m\u001b[38;5;18m__class__\u001b[39m)\n\u001b[1;32m-> 1273\u001b[0m     \u001b[38;5;28;01mreturn\u001b[39;00m \u001b[38;5;28;43mself\u001b[39;49m\u001b[38;5;241;43m.\u001b[39;49m\u001b[43mread\u001b[49m\u001b[43m(\u001b[49m\u001b[43mnbytes\u001b[49m\u001b[43m,\u001b[49m\u001b[43m \u001b[49m\u001b[43mbuffer\u001b[49m\u001b[43m)\u001b[49m\n\u001b[0;32m   1274\u001b[0m \u001b[38;5;28;01melse\u001b[39;00m:\n\u001b[0;32m   1275\u001b[0m     \u001b[38;5;28;01mreturn\u001b[39;00m \u001b[38;5;28msuper\u001b[39m()\u001b[38;5;241m.\u001b[39mrecv_into(buffer, nbytes, flags)\n",
      "File \u001b[1;32mc:\\Users\\abelo\\anaconda3\\envs\\v_env\\lib\\ssl.py:1129\u001b[0m, in \u001b[0;36mSSLSocket.read\u001b[1;34m(self, len, buffer)\u001b[0m\n\u001b[0;32m   1127\u001b[0m \u001b[38;5;28;01mtry\u001b[39;00m:\n\u001b[0;32m   1128\u001b[0m     \u001b[38;5;28;01mif\u001b[39;00m buffer \u001b[38;5;129;01mis\u001b[39;00m \u001b[38;5;129;01mnot\u001b[39;00m \u001b[38;5;28;01mNone\u001b[39;00m:\n\u001b[1;32m-> 1129\u001b[0m         \u001b[38;5;28;01mreturn\u001b[39;00m \u001b[38;5;28;43mself\u001b[39;49m\u001b[38;5;241;43m.\u001b[39;49m\u001b[43m_sslobj\u001b[49m\u001b[38;5;241;43m.\u001b[39;49m\u001b[43mread\u001b[49m\u001b[43m(\u001b[49m\u001b[38;5;28;43mlen\u001b[39;49m\u001b[43m,\u001b[49m\u001b[43m \u001b[49m\u001b[43mbuffer\u001b[49m\u001b[43m)\u001b[49m\n\u001b[0;32m   1130\u001b[0m     \u001b[38;5;28;01melse\u001b[39;00m:\n\u001b[0;32m   1131\u001b[0m         \u001b[38;5;28;01mreturn\u001b[39;00m \u001b[38;5;28mself\u001b[39m\u001b[38;5;241m.\u001b[39m_sslobj\u001b[38;5;241m.\u001b[39mread(\u001b[38;5;28mlen\u001b[39m)\n",
      "\u001b[1;31mKeyboardInterrupt\u001b[0m: "
     ]
    }
   ],
   "source": [
    "# for each WD type inserted from the user (WD_query_type taken from CEA) now we retrieve the extended WD types until the root\n",
    "# given the list of the ext_types we do the overlap with the ext_types taken from lamAPI with HARD and SOFT query\n",
    "\n",
    "ext_query_types = []\n",
    "\n",
    "for entity_id, type_str in WD_query_type.items():\n",
    "    #print(f\"{type_str}: {get_type_id(type_str)}\")\n",
    "    \n",
    "    entity_name = key_to_cell[list(WD_query_type.keys())[0]]\n",
    "    ext_query_types += list(set(retrieve_superclasses(get_type_id(type_str))))\n",
    "    \n",
    "    # query a lamapi dove specifico nel filtro il tipo\n",
    "\n",
    "    # entity_id è il ground truth\n",
    "    WD_candidate_types = WD_types(entity_id)  # WD_types() interroga il servizio types() ma forse è sbagliato (da implementare lato server non client)\n",
    "print(ext_query_types)\n"
   ]
  },
  {
   "cell_type": "code",
   "execution_count": 15,
   "metadata": {},
   "outputs": [
    {
     "data": {
      "text/plain": [
       "['Q53617489',\n",
       " 'Q98119401',\n",
       " 'Q16334295',\n",
       " 'Q20937557',\n",
       " 'Q2897903',\n",
       " 'Q2217301',\n",
       " 'Q7725310',\n",
       " 'Q1002697',\n",
       " 'Q117208263',\n",
       " 'Q732577',\n",
       " 'Q24229398',\n",
       " 'Q16887380',\n",
       " 'Q15621286',\n",
       " 'Q11032',\n",
       " 'Q1554231',\n",
       " 'Q106668099',\n",
       " 'Q99527517',\n",
       " 'Q43229',\n",
       " 'Q3523102',\n",
       " 'Q286583',\n",
       " 'Q1193236',\n",
       " 'Q121182',\n",
       " 'Q61961344',\n",
       " 'Q7048977',\n",
       " 'Q58415929',\n",
       " 'Q1639378',\n",
       " 'Q49848',\n",
       " 'Q28877',\n",
       " 'Q2424752',\n",
       " 'Q131085629',\n",
       " 'Q488383',\n",
       " 'Q58778',\n",
       " 'Q117208269',\n",
       " 'Q12774177',\n",
       " 'Q35825432',\n",
       " 'Q115668308',\n",
       " 'Q854457',\n",
       " 'Q26907166',\n",
       " 'Q17538423',\n",
       " 'Q31464082',\n",
       " 'Q16686448',\n",
       " 'Q107435521',\n",
       " 'Q47461344',\n",
       " 'Q37866906',\n",
       " 'Q17172633',\n",
       " 'Q106559804',\n",
       " 'Q28314507',\n",
       " 'Q386724',\n",
       " 'Q17537576',\n",
       " 'Q119648442',\n",
       " 'Q234460',\n",
       " 'Q5127848',\n",
       " 'Q35120',\n",
       " 'Q17489659',\n",
       " 'Q340169',\n",
       " 'Q16334298',\n",
       " 'Q1261026',\n",
       " 'Q16889133',\n",
       " 'Q103940464',\n",
       " 'Q11033',\n",
       " 'Q11474',\n",
       " 'Q53617489',\n",
       " 'Q53617407',\n",
       " 'Q193395',\n",
       " 'Q28555911',\n",
       " 'Q2897903',\n",
       " 'Q9158768',\n",
       " 'Q6671777',\n",
       " 'Q10683158',\n",
       " 'Q251473',\n",
       " 'Q99527517',\n",
       " 'Q96791170',\n",
       " 'Q337060',\n",
       " 'Q8205328',\n",
       " 'Q104450446',\n",
       " 'Q6293',\n",
       " 'Q1183543',\n",
       " 'Q214609',\n",
       " 'Q1736298',\n",
       " 'Q167676',\n",
       " 'Q1439598',\n",
       " 'Q58415929',\n",
       " 'Q117207320',\n",
       " 'Q28877',\n",
       " 'Q2424752',\n",
       " 'Q10547012',\n",
       " 'Q1047213',\n",
       " 'Q488383',\n",
       " 'Q103940464',\n",
       " 'Q12774177',\n",
       " 'Q317088',\n",
       " 'Q15141646',\n",
       " 'Q35825432',\n",
       " 'Q28732711',\n",
       " 'Q6005984',\n",
       " 'Q17538423',\n",
       " 'Q16686448',\n",
       " 'Q2041172',\n",
       " 'Q10273457',\n",
       " 'Q115797427',\n",
       " 'Q386724',\n",
       " 'Q378078',\n",
       " 'Q123691918',\n",
       " 'Q117207331',\n",
       " 'Q35758',\n",
       " 'Q35120',\n",
       " 'Q340169',\n",
       " 'Q2066909',\n",
       " 'Q223557',\n",
       " 'Q96792464',\n",
       " 'Q39546',\n",
       " 'Q4406616',\n",
       " 'Q130941907',\n",
       " 'Q11474',\n",
       " 'Q53617489',\n",
       " 'Q53617407',\n",
       " 'Q193395',\n",
       " 'Q28555911',\n",
       " 'Q2897903',\n",
       " 'Q9158768',\n",
       " 'Q6671777',\n",
       " 'Q10683158',\n",
       " 'Q251473',\n",
       " 'Q99527517',\n",
       " 'Q96791170',\n",
       " 'Q337060',\n",
       " 'Q8205328',\n",
       " 'Q104450446',\n",
       " 'Q6293',\n",
       " 'Q1183543',\n",
       " 'Q214609',\n",
       " 'Q1736298',\n",
       " 'Q167676',\n",
       " 'Q1439598',\n",
       " 'Q58415929',\n",
       " 'Q117207320',\n",
       " 'Q28877',\n",
       " 'Q2424752',\n",
       " 'Q10547012',\n",
       " 'Q1047213',\n",
       " 'Q488383',\n",
       " 'Q103940464',\n",
       " 'Q12774177',\n",
       " 'Q317088',\n",
       " 'Q15141646',\n",
       " 'Q35825432',\n",
       " 'Q28732711',\n",
       " 'Q6005984',\n",
       " 'Q17538423',\n",
       " 'Q16686448',\n",
       " 'Q2041172',\n",
       " 'Q10273457',\n",
       " 'Q115797427',\n",
       " 'Q386724',\n",
       " 'Q378078',\n",
       " 'Q123691918',\n",
       " 'Q117207331',\n",
       " 'Q35758',\n",
       " 'Q35120',\n",
       " 'Q340169',\n",
       " 'Q2066909',\n",
       " 'Q223557',\n",
       " 'Q96792464',\n",
       " 'Q39546',\n",
       " 'Q4406616',\n",
       " 'Q130941907',\n",
       " 'Q103940464',\n",
       " 'Q53617489',\n",
       " 'Q98119401',\n",
       " 'Q7278',\n",
       " 'Q16334295',\n",
       " 'Q854457',\n",
       " 'Q24229398',\n",
       " 'Q3778211',\n",
       " 'Q106559804',\n",
       " 'Q106668099',\n",
       " 'Q99527517',\n",
       " 'Q43229',\n",
       " 'Q155076',\n",
       " 'Q7210356',\n",
       " 'Q35120',\n",
       " 'Q61961344',\n",
       " 'Q1639378',\n",
       " 'Q131085629',\n",
       " 'Q16334298',\n",
       " 'Q488383',\n",
       " 'Q58778',\n",
       " 'Q53617489',\n",
       " 'Q830077',\n",
       " 'Q4197743',\n",
       " 'Q53617407',\n",
       " 'Q215627',\n",
       " 'Q2066131',\n",
       " 'Q24229398',\n",
       " 'Q3778211',\n",
       " 'Q106559804',\n",
       " 'Q4406616',\n",
       " 'Q18536342',\n",
       " 'Q27043950',\n",
       " 'Q66394244',\n",
       " 'Q50995749',\n",
       " 'Q35120',\n",
       " 'Q7239',\n",
       " 'Q488383',\n",
       " 'Q223557',\n",
       " 'Q10871364',\n",
       " 'Q103940464',\n",
       " 'Q795052',\n",
       " 'Q88392887',\n",
       " 'Q1424805',\n",
       " 'Q16686448',\n",
       " 'Q15621286',\n",
       " 'Q386724',\n",
       " 'Q1229071',\n",
       " 'Q4184950',\n",
       " 'Q17537576',\n",
       " 'Q58180476',\n",
       " 'Q58180068',\n",
       " 'Q7048977',\n",
       " 'Q68614425',\n",
       " 'Q2083958',\n",
       " 'Q35120',\n",
       " 'Q56324329',\n",
       " 'Q55412936',\n",
       " 'Q1272626',\n",
       " 'Q3695082',\n",
       " 'Q3861158',\n",
       " 'Q15989253',\n",
       " 'Q80071',\n",
       " 'Q3744880',\n",
       " 'Q488383',\n",
       " 'Q3744866',\n",
       " 'Q483501',\n",
       " 'Q103940464',\n",
       " 'Q53617489',\n",
       " 'Q327055',\n",
       " 'Q53617407',\n",
       " 'Q830077',\n",
       " 'Q15980158',\n",
       " 'Q66666685',\n",
       " 'Q215627',\n",
       " 'Q1914017',\n",
       " 'Q108762424',\n",
       " 'Q24229398',\n",
       " 'Q12777906',\n",
       " 'Q36180',\n",
       " 'Q2500638',\n",
       " 'Q3778211',\n",
       " 'Q106559804',\n",
       " 'Q4406616',\n",
       " 'Q27043950',\n",
       " 'Q1650915',\n",
       " 'Q66394244',\n",
       " 'Q35120',\n",
       " 'Q7239',\n",
       " 'Q488383',\n",
       " 'Q20826540',\n",
       " 'Q223557',\n",
       " 'Q482980',\n",
       " 'Q129586023',\n",
       " 'Q795052',\n",
       " 'Q901',\n",
       " 'Q11474',\n",
       " 'Q53617489',\n",
       " 'Q53617407',\n",
       " 'Q193395',\n",
       " 'Q28555911',\n",
       " 'Q2897903',\n",
       " 'Q9158768',\n",
       " 'Q6671777',\n",
       " 'Q10683158',\n",
       " 'Q251473',\n",
       " 'Q99527517',\n",
       " 'Q96791170',\n",
       " 'Q337060',\n",
       " 'Q8205328',\n",
       " 'Q104450446',\n",
       " 'Q6293',\n",
       " 'Q1183543',\n",
       " 'Q214609',\n",
       " 'Q1736298',\n",
       " 'Q167676',\n",
       " 'Q1439598',\n",
       " 'Q58415929',\n",
       " 'Q117207320',\n",
       " 'Q28877',\n",
       " 'Q2424752',\n",
       " 'Q10547012',\n",
       " 'Q1047213',\n",
       " 'Q488383',\n",
       " 'Q103940464',\n",
       " 'Q12774177',\n",
       " 'Q317088',\n",
       " 'Q15141646',\n",
       " 'Q35825432',\n",
       " 'Q28732711',\n",
       " 'Q6005984',\n",
       " 'Q17538423',\n",
       " 'Q16686448',\n",
       " 'Q2041172',\n",
       " 'Q10273457',\n",
       " 'Q115797427',\n",
       " 'Q386724',\n",
       " 'Q378078',\n",
       " 'Q123691918',\n",
       " 'Q117207331',\n",
       " 'Q35758',\n",
       " 'Q35120',\n",
       " 'Q340169',\n",
       " 'Q2066909',\n",
       " 'Q223557',\n",
       " 'Q96792464',\n",
       " 'Q39546',\n",
       " 'Q4406616',\n",
       " 'Q130941907',\n",
       " 'Q88392887',\n",
       " 'Q1424805',\n",
       " 'Q350945',\n",
       " 'Q16686448',\n",
       " 'Q15621286',\n",
       " 'Q386724',\n",
       " 'Q1229071',\n",
       " 'Q4184950',\n",
       " 'Q17537576',\n",
       " 'Q7048977',\n",
       " 'Q68614425',\n",
       " 'Q2083958',\n",
       " 'Q35120',\n",
       " 'Q56324329',\n",
       " 'Q55412936',\n",
       " 'Q1272626',\n",
       " 'Q3695082',\n",
       " 'Q15989253',\n",
       " 'Q80071',\n",
       " 'Q3744880',\n",
       " 'Q488383',\n",
       " 'Q3744866',\n",
       " 'Q53617489',\n",
       " 'Q13226383',\n",
       " 'Q53617407',\n",
       " 'Q6671777',\n",
       " 'Q960648',\n",
       " 'Q18674739',\n",
       " 'Q2221906',\n",
       " 'Q99527517',\n",
       " 'Q8205328',\n",
       " 'Q24699794',\n",
       " 'Q123349660',\n",
       " 'Q121359',\n",
       " 'Q27096213',\n",
       " 'Q488383',\n",
       " 'Q58778',\n",
       " 'Q103940464',\n",
       " 'Q17350442',\n",
       " 'Q811979',\n",
       " 'Q27096235',\n",
       " 'Q16686448',\n",
       " 'Q618123',\n",
       " 'Q41176',\n",
       " 'Q570116',\n",
       " 'Q386724',\n",
       " 'Q57659484',\n",
       " 'Q11908691',\n",
       " 'Q15710813',\n",
       " 'Q35120',\n",
       " 'Q811430',\n",
       " 'Q223557',\n",
       " 'Q1454986',\n",
       " 'Q4406616',\n",
       " 'Q12774177',\n",
       " 'Q110879422',\n",
       " 'Q35825432',\n",
       " 'Q51938570',\n",
       " 'Q2897903',\n",
       " 'Q16686448',\n",
       " 'Q47461344',\n",
       " 'Q15621286',\n",
       " 'Q838948',\n",
       " 'Q110775916',\n",
       " 'Q110879282',\n",
       " 'Q386724',\n",
       " 'Q110910970',\n",
       " 'Q17537576',\n",
       " 'Q7889',\n",
       " 'Q115920686',\n",
       " 'Q7397',\n",
       " 'Q110879246',\n",
       " 'Q2249149',\n",
       " 'Q286583',\n",
       " 'Q106213450',\n",
       " 'Q17538258',\n",
       " 'Q35120',\n",
       " 'Q4502142',\n",
       " 'Q58415929',\n",
       " 'Q28877',\n",
       " 'Q2424752',\n",
       " 'Q11410',\n",
       " 'Q2431196',\n",
       " 'Q488383',\n",
       " 'Q194980',\n",
       " 'Q107715',\n",
       " 'Q47574',\n",
       " 'Q2897903',\n",
       " 'Q38885242',\n",
       " 'Q71550118',\n",
       " 'Q99527517',\n",
       " 'Q246672',\n",
       " 'Q937228',\n",
       " 'Q181175',\n",
       " 'Q286583',\n",
       " 'Q1368',\n",
       " 'Q65240001',\n",
       " 'Q39875001',\n",
       " 'Q7048977',\n",
       " 'Q1659862',\n",
       " 'Q58415929',\n",
       " 'Q28877',\n",
       " 'Q2424752',\n",
       " 'Q1207505',\n",
       " 'Q488383',\n",
       " 'Q4373292',\n",
       " 'Q1643989',\n",
       " 'Q190122',\n",
       " 'Q15809678',\n",
       " 'Q16686448',\n",
       " 'Q122375923',\n",
       " 'Q123691918',\n",
       " 'Q5127848',\n",
       " 'Q7598359',\n",
       " 'Q367293',\n",
       " 'Q35120',\n",
       " 'Q2912517',\n",
       " 'Q309314',\n",
       " 'Q11105360',\n",
       " 'Q16889133',\n",
       " 'Q8142',\n",
       " 'Q12774177',\n",
       " 'Q110879422',\n",
       " 'Q35825432',\n",
       " 'Q51938570',\n",
       " 'Q2897903',\n",
       " 'Q16686448',\n",
       " 'Q47461344',\n",
       " 'Q15621286',\n",
       " 'Q838948',\n",
       " 'Q110775916',\n",
       " 'Q110879282',\n",
       " 'Q386724',\n",
       " 'Q110910970',\n",
       " 'Q17537576',\n",
       " 'Q7889',\n",
       " 'Q115920686',\n",
       " 'Q7397',\n",
       " 'Q110879246',\n",
       " 'Q2249149',\n",
       " 'Q286583',\n",
       " 'Q106213450',\n",
       " 'Q17538258',\n",
       " 'Q35120',\n",
       " 'Q4502142',\n",
       " 'Q58415929',\n",
       " 'Q28877',\n",
       " 'Q2424752',\n",
       " 'Q11410',\n",
       " 'Q2431196',\n",
       " 'Q488383',\n",
       " 'Q194980',\n",
       " 'Q53617489',\n",
       " 'Q13226383',\n",
       " 'Q98119401',\n",
       " 'Q53617407',\n",
       " 'Q16334295',\n",
       " 'Q35145743',\n",
       " 'Q6671777',\n",
       " 'Q24229398',\n",
       " 'Q12819564',\n",
       " 'Q548662',\n",
       " 'Q106668099',\n",
       " 'Q99527517',\n",
       " 'Q43229',\n",
       " 'Q8205328',\n",
       " 'Q228332',\n",
       " 'Q61961344',\n",
       " 'Q123349660',\n",
       " 'Q1248784',\n",
       " 'Q1639378',\n",
       " 'Q131085629',\n",
       " 'Q121359',\n",
       " 'Q27096213',\n",
       " 'Q376799',\n",
       " 'Q488383',\n",
       " 'Q58778',\n",
       " 'Q811979',\n",
       " 'Q62447',\n",
       " 'Q854457',\n",
       " 'Q27096235',\n",
       " 'Q16686448',\n",
       " 'Q618123',\n",
       " 'Q41176',\n",
       " 'Q20977775',\n",
       " 'Q106559804',\n",
       " 'Q386724',\n",
       " 'Q4406616',\n",
       " 'Q55006986',\n",
       " 'Q11908691',\n",
       " 'Q15710813',\n",
       " 'Q35120',\n",
       " 'Q16334298',\n",
       " 'Q811430',\n",
       " 'Q223557',\n",
       " 'Q1454986',\n",
       " 'Q103940464',\n",
       " 'Q41298',\n",
       " 'Q53617489',\n",
       " 'Q98119401',\n",
       " 'Q2217301',\n",
       " 'Q24229398',\n",
       " 'Q1554231',\n",
       " 'Q106668099',\n",
       " 'Q43229',\n",
       " 'Q3523102',\n",
       " 'Q286583',\n",
       " 'Q121182',\n",
       " 'Q58415929',\n",
       " 'Q1639378',\n",
       " 'Q28877',\n",
       " 'Q488383',\n",
       " 'Q35825432',\n",
       " 'Q31464082',\n",
       " 'Q17538423',\n",
       " 'Q12042160',\n",
       " 'Q107435521',\n",
       " 'Q28314507',\n",
       " 'Q5633421',\n",
       " 'Q27801',\n",
       " 'Q591041',\n",
       " 'Q35120',\n",
       " 'Q17489659',\n",
       " 'Q16334298',\n",
       " 'Q1261026',\n",
       " 'Q16889133',\n",
       " 'Q11033',\n",
       " 'Q16334295',\n",
       " 'Q20937557',\n",
       " 'Q2897903',\n",
       " 'Q7725310',\n",
       " 'Q1002697',\n",
       " 'Q117208263',\n",
       " 'Q732577',\n",
       " 'Q16887380',\n",
       " 'Q15621286',\n",
       " 'Q11032',\n",
       " 'Q99527517',\n",
       " 'Q213051',\n",
       " 'Q1193236',\n",
       " 'Q7048977',\n",
       " 'Q61961344',\n",
       " 'Q49850',\n",
       " 'Q49848',\n",
       " 'Q131085629',\n",
       " 'Q2424752',\n",
       " 'Q685935',\n",
       " 'Q58778',\n",
       " 'Q117208269',\n",
       " 'Q12774177',\n",
       " 'Q115668308',\n",
       " 'Q26907166',\n",
       " 'Q854457',\n",
       " 'Q737498',\n",
       " 'Q16686448',\n",
       " 'Q47461344',\n",
       " 'Q37866906',\n",
       " 'Q55915575',\n",
       " 'Q17172633',\n",
       " 'Q106559804',\n",
       " 'Q386724',\n",
       " 'Q17537576',\n",
       " 'Q119648442',\n",
       " 'Q234460',\n",
       " 'Q11826511',\n",
       " 'Q340169',\n",
       " 'Q1391420',\n",
       " 'Q103940464',\n",
       " 'Q5127848',\n",
       " 'Q12774177',\n",
       " 'Q110879422',\n",
       " 'Q35825432',\n",
       " 'Q51938570',\n",
       " 'Q2897903',\n",
       " 'Q16686448',\n",
       " 'Q47461344',\n",
       " 'Q15621286',\n",
       " 'Q838948',\n",
       " 'Q110775916',\n",
       " 'Q110879282',\n",
       " 'Q386724',\n",
       " 'Q110910970',\n",
       " 'Q17537576',\n",
       " 'Q7889',\n",
       " 'Q115920686',\n",
       " 'Q7397',\n",
       " 'Q110879246',\n",
       " 'Q2249149',\n",
       " 'Q286583',\n",
       " 'Q106213450',\n",
       " 'Q17538258',\n",
       " 'Q35120',\n",
       " 'Q4502142',\n",
       " 'Q58415929',\n",
       " 'Q28877',\n",
       " 'Q2424752',\n",
       " 'Q11410',\n",
       " 'Q2431196',\n",
       " 'Q488383',\n",
       " 'Q194980',\n",
       " 'Q53617489',\n",
       " 'Q98119401',\n",
       " 'Q16334295',\n",
       " 'Q20937557',\n",
       " 'Q2897903',\n",
       " 'Q2217301',\n",
       " 'Q7725310',\n",
       " 'Q1002697',\n",
       " 'Q117208263',\n",
       " 'Q732577',\n",
       " 'Q24229398',\n",
       " 'Q16887380',\n",
       " 'Q15621286',\n",
       " 'Q11032',\n",
       " 'Q1554231',\n",
       " 'Q106668099',\n",
       " 'Q99527517',\n",
       " 'Q43229',\n",
       " 'Q3523102',\n",
       " 'Q286583',\n",
       " 'Q1193236',\n",
       " 'Q121182',\n",
       " 'Q61961344',\n",
       " 'Q7048977',\n",
       " 'Q58415929',\n",
       " 'Q1639378',\n",
       " 'Q49848',\n",
       " 'Q28877',\n",
       " 'Q2424752',\n",
       " 'Q131085629',\n",
       " 'Q488383',\n",
       " 'Q58778',\n",
       " 'Q117208269',\n",
       " 'Q12774177',\n",
       " 'Q35825432',\n",
       " 'Q115668308',\n",
       " 'Q854457',\n",
       " 'Q26907166',\n",
       " 'Q17538423',\n",
       " 'Q31464082',\n",
       " 'Q16686448',\n",
       " 'Q107435521',\n",
       " 'Q47461344',\n",
       " 'Q37866906',\n",
       " 'Q17172633',\n",
       " 'Q106559804',\n",
       " 'Q28314507',\n",
       " 'Q386724',\n",
       " 'Q17537576',\n",
       " 'Q119648442',\n",
       " 'Q234460',\n",
       " 'Q5127848',\n",
       " 'Q35120',\n",
       " 'Q17489659',\n",
       " 'Q340169',\n",
       " 'Q16334298',\n",
       " 'Q1261026',\n",
       " 'Q16889133',\n",
       " 'Q103940464',\n",
       " 'Q11033',\n",
       " 'Q12774177',\n",
       " 'Q110879422',\n",
       " 'Q35825432',\n",
       " 'Q51938570',\n",
       " 'Q2897903',\n",
       " 'Q16686448',\n",
       " 'Q47461344',\n",
       " 'Q15621286',\n",
       " 'Q838948',\n",
       " 'Q110775916',\n",
       " 'Q110879282',\n",
       " 'Q386724',\n",
       " 'Q110910970',\n",
       " 'Q17537576',\n",
       " 'Q7889',\n",
       " 'Q115920686',\n",
       " 'Q7397',\n",
       " 'Q110879246',\n",
       " 'Q2249149',\n",
       " 'Q286583',\n",
       " 'Q106213450',\n",
       " 'Q17538258',\n",
       " 'Q35120',\n",
       " 'Q4502142',\n",
       " 'Q58415929',\n",
       " 'Q28877',\n",
       " 'Q2424752',\n",
       " 'Q11410',\n",
       " 'Q2431196',\n",
       " 'Q488383',\n",
       " 'Q194980',\n",
       " 'Q53617489',\n",
       " 'Q20937557',\n",
       " 'Q2897903',\n",
       " 'Q732577',\n",
       " 'Q1554231',\n",
       " 'Q15621286',\n",
       " 'Q838948',\n",
       " 'Q110775916',\n",
       " 'Q99527517',\n",
       " 'Q110910970',\n",
       " 'Q3523102',\n",
       " 'Q286583',\n",
       " 'Q106213450',\n",
       " 'Q7048977',\n",
       " 'Q11578774',\n",
       " 'Q58415929',\n",
       " 'Q49848',\n",
       " 'Q28877',\n",
       " 'Q2424752',\n",
       " 'Q4502142',\n",
       " 'Q488383',\n",
       " 'Q194980',\n",
       " 'Q12774177',\n",
       " 'Q110879422',\n",
       " 'Q35825432',\n",
       " 'Q115668308',\n",
       " 'Q31464082',\n",
       " 'Q17538423',\n",
       " 'Q16686448',\n",
       " 'Q37866906',\n",
       " 'Q386724',\n",
       " 'Q17537576',\n",
       " 'Q110879246',\n",
       " 'Q5127848',\n",
       " 'Q35120',\n",
       " 'Q10301427',\n",
       " 'Q340169',\n",
       " 'Q15416',\n",
       " 'Q16889133',\n",
       " 'Q2431196',\n",
       " 'Q103940464',\n",
       " 'Q110879282',\n",
       " 'Q53617489',\n",
       " 'Q98119401',\n",
       " 'Q53617407',\n",
       " 'Q16334295',\n",
       " 'Q56061',\n",
       " 'Q3455524',\n",
       " 'Q6671777',\n",
       " 'Q24229398',\n",
       " 'Q106668099',\n",
       " 'Q2221906',\n",
       " 'Q99527517',\n",
       " 'Q43229',\n",
       " 'Q15642541',\n",
       " 'Q211606',\n",
       " 'Q61961344',\n",
       " 'Q123349660',\n",
       " 'Q58415929',\n",
       " 'Q1639378',\n",
       " 'Q25404640',\n",
       " 'Q27096213',\n",
       " 'Q131085629',\n",
       " 'Q488383',\n",
       " 'Q58778',\n",
       " 'Q6256',\n",
       " 'Q1063239',\n",
       " 'Q124711467',\n",
       " 'Q4835091',\n",
       " 'Q27096235',\n",
       " 'Q854457',\n",
       " 'Q23956024',\n",
       " 'Q16686448',\n",
       " 'Q178706',\n",
       " 'Q618123',\n",
       " 'Q124711484',\n",
       " 'Q106559804',\n",
       " 'Q82794',\n",
       " 'Q7210356',\n",
       " 'Q35120',\n",
       " 'Q1048835',\n",
       " 'Q26713767',\n",
       " 'Q16334298',\n",
       " 'Q16562419',\n",
       " 'Q18810687',\n",
       " 'Q103940464',\n",
       " 'Q11474',\n",
       " 'Q53617489',\n",
       " 'Q53617407',\n",
       " 'Q193395',\n",
       " 'Q28555911',\n",
       " 'Q2897903',\n",
       " 'Q9158768',\n",
       " 'Q6671777',\n",
       " 'Q10683158',\n",
       " 'Q251473',\n",
       " 'Q99527517',\n",
       " 'Q96791170',\n",
       " 'Q337060',\n",
       " 'Q8205328',\n",
       " 'Q104450446',\n",
       " 'Q6293',\n",
       " 'Q1183543',\n",
       " 'Q214609',\n",
       " 'Q1736298',\n",
       " 'Q167676',\n",
       " 'Q1439598',\n",
       " 'Q58415929',\n",
       " 'Q117207320',\n",
       " 'Q28877',\n",
       " 'Q2424752',\n",
       " 'Q10547012',\n",
       " 'Q1047213',\n",
       " 'Q488383',\n",
       " 'Q103940464',\n",
       " 'Q12774177',\n",
       " 'Q317088',\n",
       " 'Q15141646',\n",
       " 'Q35825432',\n",
       " 'Q28732711',\n",
       " 'Q6005984',\n",
       " 'Q17538423',\n",
       " 'Q16686448',\n",
       " 'Q2041172',\n",
       " 'Q10273457',\n",
       " 'Q115797427',\n",
       " 'Q386724',\n",
       " 'Q378078',\n",
       " 'Q123691918',\n",
       " 'Q117207331',\n",
       " 'Q35758',\n",
       " 'Q35120',\n",
       " 'Q340169',\n",
       " 'Q2066909',\n",
       " 'Q223557',\n",
       " 'Q96792464',\n",
       " 'Q39546',\n",
       " 'Q4406616',\n",
       " 'Q130941907',\n",
       " 'Q53617489',\n",
       " 'Q830077',\n",
       " 'Q4197743',\n",
       " 'Q53617407',\n",
       " 'Q215627',\n",
       " 'Q2066131',\n",
       " 'Q24229398',\n",
       " 'Q3778211',\n",
       " 'Q106559804',\n",
       " 'Q4406616',\n",
       " 'Q18536342',\n",
       " 'Q27043950',\n",
       " 'Q66394244',\n",
       " 'Q50995749',\n",
       " 'Q35120',\n",
       " 'Q7239',\n",
       " 'Q488383',\n",
       " 'Q223557',\n",
       " 'Q10871364',\n",
       " 'Q103940464',\n",
       " 'Q795052',\n",
       " 'Q88392887',\n",
       " 'Q1424805',\n",
       " 'Q350945',\n",
       " 'Q16686448',\n",
       " 'Q15621286',\n",
       " 'Q386724',\n",
       " 'Q1229071',\n",
       " 'Q4184950',\n",
       " 'Q17537576',\n",
       " 'Q7048977',\n",
       " 'Q68614425',\n",
       " 'Q2083958',\n",
       " 'Q35120',\n",
       " 'Q56324329',\n",
       " 'Q55412936',\n",
       " 'Q18408740',\n",
       " 'Q1272626',\n",
       " 'Q3695082',\n",
       " 'Q15989253',\n",
       " 'Q80071',\n",
       " 'Q3744880',\n",
       " 'Q488383',\n",
       " 'Q3744866',\n",
       " 'Q53617489',\n",
       " 'Q98119401',\n",
       " 'Q53617407',\n",
       " 'Q16334295',\n",
       " 'Q56061',\n",
       " 'Q3455524',\n",
       " 'Q6671777',\n",
       " 'Q24229398',\n",
       " 'Q106668099',\n",
       " 'Q2221906',\n",
       " 'Q99527517',\n",
       " 'Q43229',\n",
       " 'Q15642541',\n",
       " 'Q211606',\n",
       " 'Q4683593',\n",
       " 'Q61961344',\n",
       " 'Q123349660',\n",
       " 'Q58415929',\n",
       " 'Q1639378',\n",
       " 'Q25404640',\n",
       " 'Q27096213',\n",
       " 'Q131085629',\n",
       " 'Q488383',\n",
       " 'Q58778',\n",
       " 'Q1063239',\n",
       " 'Q124711467',\n",
       " 'Q4835091',\n",
       " 'Q27096235',\n",
       " 'Q854457',\n",
       " 'Q178706',\n",
       " 'Q16686448',\n",
       " 'Q23956024',\n",
       " 'Q618123',\n",
       " 'Q10374536',\n",
       " 'Q124711484',\n",
       " 'Q106559804',\n",
       " 'Q12076836',\n",
       " 'Q82794',\n",
       " 'Q7210356',\n",
       " 'Q35120',\n",
       " 'Q1048835',\n",
       " 'Q26713767',\n",
       " 'Q3976665',\n",
       " 'Q16334298',\n",
       " 'Q16562419',\n",
       " 'Q18810687',\n",
       " 'Q103940464',\n",
       " 'Q113137696',\n",
       " 'Q103940464',\n",
       " 'Q53617489',\n",
       " 'Q53617407',\n",
       " 'Q13415392',\n",
       " 'Q6671777',\n",
       " 'Q27043948',\n",
       " 'Q16686022',\n",
       " 'Q60960',\n",
       " 'Q25570959',\n",
       " 'Q99527517',\n",
       " 'Q55568967',\n",
       " 'Q66394244',\n",
       " 'Q27043950',\n",
       " 'Q35120',\n",
       " 'Q17781690',\n",
       " 'Q1970309',\n",
       " 'Q488383',\n",
       " 'Q112826975',\n",
       " 'Q223557',\n",
       " 'Q4406616',\n",
       " 'Q4936952',\n",
       " 'Q53617489',\n",
       " 'Q13226383',\n",
       " 'Q98119401',\n",
       " 'Q53617407',\n",
       " 'Q16334295',\n",
       " 'Q35145743',\n",
       " 'Q6671777',\n",
       " 'Q24229398',\n",
       " 'Q12819564',\n",
       " 'Q548662',\n",
       " 'Q106668099',\n",
       " 'Q99527517',\n",
       " 'Q43229',\n",
       " 'Q8205328',\n",
       " 'Q228332',\n",
       " 'Q61961344',\n",
       " 'Q123349660',\n",
       " 'Q1248784',\n",
       " 'Q1639378',\n",
       " 'Q131085629',\n",
       " 'Q121359',\n",
       " 'Q27096213',\n",
       " 'Q376799',\n",
       " 'Q488383',\n",
       " 'Q58778',\n",
       " 'Q811979',\n",
       " 'Q62447',\n",
       " 'Q854457',\n",
       " 'Q27096235',\n",
       " 'Q16686448',\n",
       " 'Q618123',\n",
       " 'Q41176',\n",
       " 'Q20977775',\n",
       " 'Q106559804',\n",
       " 'Q386724',\n",
       " 'Q4406616',\n",
       " 'Q55006986',\n",
       " 'Q11908691',\n",
       " 'Q15710813',\n",
       " 'Q35120',\n",
       " 'Q16334298',\n",
       " 'Q811430',\n",
       " ...]"
      ]
     },
     "execution_count": 15,
     "metadata": {},
     "output_type": "execute_result"
    }
   ],
   "source": [
    "ext_query_types"
   ]
  },
  {
   "cell_type": "markdown",
   "metadata": {},
   "source": [
    "## WD type vs NER type"
   ]
  },
  {
   "cell_type": "code",
   "execution_count": null,
   "metadata": {},
   "outputs": [
    {
     "data": {
      "text/plain": [
       "False"
      ]
     },
     "execution_count": 32,
     "metadata": {},
     "output_type": "execute_result"
    }
   ],
   "source": [
    "# for each WD type inserted from the user (WD_WD_query_type taken from CEA) now we retrieve the extended WD types until the root\n",
    "# given the list of the ext_types we do the overlap with the ext_types taken from lamAPI with HARD and SOFT query"
   ]
  },
  {
   "cell_type": "code",
   "execution_count": 25,
   "metadata": {},
   "outputs": [
    {
     "data": {
      "text/plain": [
       "{'Q12299841': 'cricketer',\n",
       " 'Q2066131': 'athlete',\n",
       " 'Q18536342': 'competitive player',\n",
       " 'Q50995749': 'sportsperson',\n",
       " 'Q4197743': 'player',\n",
       " 'Q215627': 'person',\n",
       " 'Q830077': 'subject',\n",
       " 'Q795052': 'individual',\n",
       " 'Q3778211': 'legal person',\n",
       " 'Q53617489': 'independent continuant',\n",
       " 'Q7239': 'organism',\n",
       " 'Q24229398': 'agent',\n",
       " 'Q106559804': 'person or organization',\n",
       " 'Q103940464': 'continuant',\n",
       " 'Q223557': 'physical object',\n",
       " 'Q66394244': 'physical anatomical entity',\n",
       " 'Q4406616': 'concrete object',\n",
       " 'Q53617407': 'material entity',\n",
       " 'Q27043950': 'anatomical entity',\n",
       " 'Q488383': 'object',\n",
       " 'Q35120': 'entity'}"
      ]
     },
     "execution_count": 25,
     "metadata": {},
     "output_type": "execute_result"
    }
   ],
   "source": [
    "retrieve_superclasses(\"Q12299841\")"
   ]
  },
  {
   "cell_type": "code",
   "execution_count": 8,
   "metadata": {},
   "outputs": [
    {
     "data": {
      "text/plain": [
       "{'58891288_0_1117541047012405958 1': 'http://dbpedia.org/ontology/Film',\n",
       " '8468806_0_4382447409703007384 1': 'http://dbpedia.org/ontology/Lake',\n",
       " '50245608_0_871275842592178099 0': 'http://dbpedia.org/ontology/Film',\n",
       " '14067031_0_559833072073397908 1': 'http://dbpedia.org/ontology/Language',\n",
       " '8286121_0_8471791395229161598 0': 'http://dbpedia.org/ontology/Country',\n",
       " '39759273_0_1427898308030295194 1': 'http://dbpedia.org/ontology/Film',\n",
       " '14380604_4_3329235705746762392 1': 'http://dbpedia.org/ontology/Company',\n",
       " '20135078_0_7570343137119682530 3': 'http://dbpedia.org/ontology/Person',\n",
       " '29414811_6_8221428333921653560 1': 'http://dbpedia.org/ontology/VideoGame',\n",
       " '34041816_1_4749054164534706977 2': 'http://dbpedia.org/ontology/City',\n",
       " '14067031_0_559833072073397908 7': 'http://dbpedia.org/ontology/Currency',\n",
       " '71137051_0_8039724067857124984 0': 'http://dbpedia.org/ontology/Bird',\n",
       " '29414811_2_4773219892816395776 1': 'http://dbpedia.org/ontology/VideoGame',\n",
       " '99070098_0_2074872741302696997 1': 'http://dbpedia.org/ontology/Mountain',\n",
       " '35188621_0_6058553107571275232 3': 'http://dbpedia.org/ontology/Person',\n",
       " '43237185_1_3636357855502246981 3': 'http://dbpedia.org/ontology/Scientist',\n",
       " '50245608_0_871275842592178099 3': 'http://dbpedia.org/ontology/Person',\n",
       " '46671561_0_6122315295162029872 0': 'http://dbpedia.org/ontology/VideoGame',\n",
       " '29414811_6_8221428333921653560 4': 'http://dbpedia.org/ontology/Company',\n",
       " '11833461_1_3811022039809817402 0': 'http://dbpedia.org/ontology/VideoGame',\n",
       " '21245481_0_8730460088443117515 1': 'http://dbpedia.org/ontology/Lake',\n",
       " '38428277_0_1311643810102462607 3': 'http://dbpedia.org/ontology/Person',\n",
       " '13719111_1_5719401842463579519 0': 'http://dbpedia.org/ontology/Bird',\n",
       " '77694908_0_6083291340991074532 1': 'http://dbpedia.org/ontology/Film',\n",
       " '20135078_0_7570343137119682530 1': 'http://dbpedia.org/ontology/Film',\n",
       " '43237185_1_3636357855502246981 0': 'http://dbpedia.org/ontology/Scientist',\n",
       " '88523363_0_8180214313099580515 0': 'http://dbpedia.org/ontology/Plant',\n",
       " '1438042989043_35_20150728002309-00287-ip-10-236-191-2_875026214_2 0': 'http://dbpedia.org/ontology/Mountain',\n",
       " '58891288_0_1117541047012405958 3': 'http://dbpedia.org/ontology/Person',\n",
       " '25404227_0_2240631045609013057 3': 'http://dbpedia.org/ontology/Person',\n",
       " '9475172_1_1023126399856690702 1': 'http://dbpedia.org/ontology/TelevisionShow',\n",
       " '60319454_0_3938426910282115527 0': 'http://dbpedia.org/ontology/Animal',\n",
       " '52299421_0_4473286348258170200 1': 'http://dbpedia.org/ontology/Country',\n",
       " '37856682_0_6818907050314633217 0': 'http://dbpedia.org/ontology/AdministrativeRegion',\n",
       " '77694908_0_6083291340991074532 3': 'http://dbpedia.org/ontology/Person',\n",
       " '39759273_0_1427898308030295194 3': 'http://dbpedia.org/ontology/Person',\n",
       " '29414811_2_4773219892816395776 4': 'http://dbpedia.org/ontology/Company',\n",
       " '29414811_13_8724394428539174350 2': 'http://dbpedia.org/ontology/Genre',\n",
       " '33401079_0_9127583903019856402 0': 'http://dbpedia.org/ontology/Person',\n",
       " '26310680_0_5150772059999313798 1': 'http://dbpedia.org/ontology/Currency',\n",
       " '10579449_0_1681126353774891032 1': 'http://dbpedia.org/ontology/Newspaper',\n",
       " '29414811_6_8221428333921653560 2': 'http://dbpedia.org/ontology/Genre',\n",
       " '84548468_0_5955155464119382182 3': 'http://dbpedia.org/ontology/Person',\n",
       " '55004961_0_2904467548072189860 0': 'http://dbpedia.org/ontology/Country',\n",
       " '63450419_0_8012592961815711786 1': 'http://dbpedia.org/ontology/Plant',\n",
       " '39107734_2_2329160387535788734 1': 'http://dbpedia.org/ontology/Airport',\n",
       " '29414811_12_251152470253168163 4': 'http://dbpedia.org/ontology/Company',\n",
       " '91959037_0_7907661684242014480 1': 'http://dbpedia.org/ontology/VideoGame',\n",
       " '75367212_2_2745466355267233390 1': 'http://dbpedia.org/ontology/Company',\n",
       " '84575189_0_6365692015941409487 2': 'http://dbpedia.org/ontology/AcademicJournal',\n",
       " '14380604_4_3329235705746762392 2': 'http://dbpedia.org/ontology/PopulatedPlace',\n",
       " '40534006_0_4617468856744635526 1': 'http://dbpedia.org/ontology/Wrestler',\n",
       " '29414811_13_8724394428539174350 4': 'http://dbpedia.org/ontology/Company',\n",
       " '1438042986423_95_20150728002306-00125-ip-10-236-191-2_88435628_5 0': 'http://dbpedia.org/ontology/PoliticalParty',\n",
       " '84548468_0_5955155464119382182 1': 'http://dbpedia.org/ontology/Film',\n",
       " '8468806_0_4382447409703007384 2': 'http://dbpedia.org/ontology/Country',\n",
       " '35188621_0_6058553107571275232 1': 'http://dbpedia.org/ontology/Film',\n",
       " '22864497_0_8632623712684511496 0': 'http://dbpedia.org/ontology/VideoGame',\n",
       " '1438042989018_40_20150728002309-00067-ip-10-236-191-2_57714692_2 0': 'http://dbpedia.org/ontology/Cricketer',\n",
       " '14067031_0_559833072073397908 5': 'http://dbpedia.org/ontology/City',\n",
       " '29414811_12_251152470253168163 2': 'http://dbpedia.org/ontology/Genre',\n",
       " '88523363_0_8180214313099580515 2': 'http://dbpedia.org/ontology/Eukaryote',\n",
       " '28086084_0_3127660530989916727 0': 'http://dbpedia.org/ontology/Saint',\n",
       " '50245608_0_871275842592178099 4': 'http://dbpedia.org/ontology/Writer',\n",
       " '9834884_0_3871985887467090123 1': 'http://dbpedia.org/ontology/Museum',\n",
       " '69881946_0_1105130426898457358 1': 'http://dbpedia.org/ontology/Film',\n",
       " '25404227_0_2240631045609013057 1': 'http://dbpedia.org/ontology/Film',\n",
       " '75367212_2_2745466355267233390 2': 'http://dbpedia.org/ontology/Company',\n",
       " '39650055_5_7135804139753401681 1': 'http://dbpedia.org/ontology/Company',\n",
       " '29414811_2_4773219892816395776 2': 'http://dbpedia.org/ontology/Genre',\n",
       " '16767252_0_2409448375013995751 3': 'http://dbpedia.org/ontology/Person',\n",
       " '71840765_0_6664391841933033844 0': 'http://dbpedia.org/ontology/Lake',\n",
       " '36102169_0_7739454799295072814 1': 'http://dbpedia.org/ontology/Company',\n",
       " '26310680_0_5150772059999313798 0': 'http://dbpedia.org/ontology/Country',\n",
       " '45073662_0_3179937335063201739 1': 'http://dbpedia.org/ontology/BaseballPlayer',\n",
       " '11833461_1_3811022039809817402 1': 'http://dbpedia.org/ontology/Company',\n",
       " '21245481_0_8730460088443117515 0': 'http://dbpedia.org/ontology/AdministrativeRegion',\n",
       " '53822652_0_5767892317858575530 3': 'http://dbpedia.org/ontology/Person',\n",
       " '39173938_0_7916056990138658530 1': 'http://dbpedia.org/ontology/Film',\n",
       " '8286121_0_8471791395229161598 1': 'http://dbpedia.org/ontology/City',\n",
       " '21362676_0_6854186738074119688 3': 'http://dbpedia.org/ontology/Person',\n",
       " '46671561_0_6122315295162029872 1': 'http://dbpedia.org/ontology/Genre',\n",
       " '80588006_0_6965325215443683359 1': 'http://dbpedia.org/ontology/Newspaper',\n",
       " '22864497_0_8632623712684511496 1': 'http://dbpedia.org/ontology/Company',\n",
       " '61121469_0_6337620713408906340 0': 'http://dbpedia.org/ontology/Country',\n",
       " '90196673_0_5458330029110291950 0': 'http://dbpedia.org/ontology/Animal',\n",
       " '53989675_0_8697482470743954630 0': 'http://dbpedia.org/ontology/Lake',\n",
       " '66009064_0_9148652238372261251 0': 'http://dbpedia.org/ontology/BaseballPlayer',\n",
       " '55004961_0_2904467548072189860 1': 'http://dbpedia.org/ontology/City',\n",
       " '50270082_0_444360818941411589 1': 'http://dbpedia.org/ontology/BaseballPlayer',\n",
       " '24036779_0_5608105867560183058 0': 'http://dbpedia.org/ontology/Country',\n",
       " '41336118_0_4331895026409635103 0': 'http://dbpedia.org/ontology/Company',\n",
       " '69881946_0_1105130426898457358 3': 'http://dbpedia.org/ontology/Person',\n",
       " '54719588_0_8417197176086756912 3': 'http://dbpedia.org/ontology/Film',\n",
       " '43237185_1_3636357855502246981 2': 'http://dbpedia.org/ontology/EducationalInstitution',\n",
       " '9834884_0_3871985887467090123 2': 'http://dbpedia.org/ontology/Country',\n",
       " '16767252_0_2409448375013995751 1': 'http://dbpedia.org/ontology/Film',\n",
       " '61121469_0_6337620713408906340 1': 'http://dbpedia.org/ontology/City',\n",
       " '29414811_12_251152470253168163 1': 'http://dbpedia.org/ontology/VideoGame',\n",
       " '55238374_0_3379409961751009152 0': 'http://dbpedia.org/ontology/Country',\n",
       " '41480166_0_6681239260286218499 0': 'http://dbpedia.org/ontology/Saint',\n",
       " '57943722_0_8666078014685775876 0': 'http://dbpedia.org/ontology/Country',\n",
       " '38428277_0_1311643810102462607 1': 'http://dbpedia.org/ontology/Film',\n",
       " '36102169_0_7739454799295072814 2': 'http://dbpedia.org/ontology/VideoGame',\n",
       " '55238374_0_3379409961751009152 1': 'http://dbpedia.org/ontology/City',\n",
       " '9567241_0_5666388268510912770 1': 'http://dbpedia.org/ontology/Newspaper',\n",
       " '69537082_0_7789694313271016902 1': 'http://dbpedia.org/ontology/Country',\n",
       " '57943722_0_8666078014685775876 1': 'http://dbpedia.org/ontology/City',\n",
       " '14067031_0_559833072073397908 0': 'http://dbpedia.org/ontology/Country',\n",
       " '53822652_0_5767892317858575530 1': 'http://dbpedia.org/ontology/Film',\n",
       " '54719588_0_8417197176086756912 5': 'http://dbpedia.org/ontology/Person',\n",
       " '24036779_0_5608105867560183058 5': 'http://dbpedia.org/ontology/GovernmentType',\n",
       " '34041816_1_4749054164534706977 1': 'http://dbpedia.org/ontology/Airport',\n",
       " '39173938_0_7916056990138658530 3': 'http://dbpedia.org/ontology/Person',\n",
       " '54719588_0_8417197176086756912 4': 'http://dbpedia.org/ontology/Country',\n",
       " '66009064_0_9148652238372261251 2': 'http://dbpedia.org/ontology/SportsTeam',\n",
       " '21362676_0_6854186738074119688 1': 'http://dbpedia.org/ontology/Film',\n",
       " '39107734_2_2329160387535788734 2': 'http://dbpedia.org/ontology/City',\n",
       " '29414811_13_8724394428539174350 1': 'http://dbpedia.org/ontology/VideoGame',\n",
       " '75367212_2_2745466355267233390 0': 'http://dbpedia.org/ontology/VideoGame'}"
      ]
     },
     "execution_count": 8,
     "metadata": {},
     "output_type": "execute_result"
    }
   ],
   "source": [
    "cta_values_dict"
   ]
  },
  {
   "cell_type": "code",
   "execution_count": 11,
   "metadata": {},
   "outputs": [
    {
     "data": {
      "text/plain": [
       "{'50245608_0_871275842592178099 0': 'https://www.wikidata.org/entity/Q46551',\n",
       " '22864497_0_8632623712684511496 0': 'https://www.wikidata.org/entity/Q6738126',\n",
       " '66009064_0_9148652238372261251 0': 'https://www.wikidata.org/entity/Q1094988',\n",
       " '21362676_0_6854186738074119688 1': 'https://www.wikidata.org/entity/Q463832',\n",
       " '40534006_0_4617468856744635526 1': 'https://www.wikidata.org/entity/Q452590',\n",
       " '36102169_0_7739454799295072814 2': 'https://www.wikidata.org/entity/Q1978200',\n",
       " '53822652_0_5767892317858575530 1': 'https://www.wikidata.org/entity/Q200396',\n",
       " '60319454_0_3938426910282115527 0': 'https://www.wikidata.org/entity/Q69581',\n",
       " '8468806_0_4382447409703007384 1': 'https://www.wikidata.org/entity/Q1546823',\n",
       " '33401079_0_9127583903019856402 0': 'https://www.wikidata.org/entity/Q154538',\n",
       " '99070098_0_2074872741302696997 1': 'https://www.wikidata.org/entity/Q4920755',\n",
       " '50270082_0_444360818941411589 1': 'https://www.wikidata.org/entity/Q114468',\n",
       " '29414811_12_251152470253168163 1': 'https://www.wikidata.org/entity/Q1060323',\n",
       " '39759273_0_1427898308030295194 1': 'https://www.wikidata.org/entity/Q104123',\n",
       " '69537082_0_7789694313271016902 1': 'https://www.wikidata.org/entity/Q1011',\n",
       " '88523363_0_8180214313099580515 0': 'https://www.wikidata.org/entity/Q5782393',\n",
       " '41480166_0_6681239260286218499 0': 'https://www.wikidata.org/entity/Q4390981',\n",
       " '9834884_0_3871985887467090123 1': 'https://www.wikidata.org/entity/Q1781530',\n",
       " '26310680_0_5150772059999313798 1': 'https://www.wikidata.org/entity/Q206319',\n",
       " '39173938_0_7916056990138658530 1': 'https://www.wikidata.org/entity/Q25193623',\n",
       " '91959037_0_7907661684242014480 1': 'https://www.wikidata.org/entity/Q663665',\n",
       " '13719111_1_5719401842463579519 0': 'https://www.wikidata.org/entity/Q2384003',\n",
       " '54719588_0_8417197176086756912 3': 'https://www.wikidata.org/entity/Q575014',\n",
       " '58891288_0_1117541047012405958 1': 'https://www.wikidata.org/entity/Q135465',\n",
       " '28086084_0_3127660530989916727 0': 'https://www.wikidata.org/entity/Q61620',\n",
       " '21245481_0_8730460088443117515 1': 'https://www.wikidata.org/entity/Q6476027',\n",
       " '90196673_0_5458330029110291950 0': 'https://www.wikidata.org/entity/Q199203',\n",
       " '35188621_0_6058553107571275232 1': 'https://www.wikidata.org/entity/Q214801',\n",
       " '46671561_0_6122315295162029872 0': 'https://www.wikidata.org/entity/Q1408367',\n",
       " '25404227_0_2240631045609013057 1': 'https://www.wikidata.org/entity/Q128518',\n",
       " '63450419_0_8012592961815711786 1': 'https://www.wikidata.org/entity/Q2078054',\n",
       " '39107734_2_2329160387535788734 1': 'https://www.wikidata.org/entity/Q193439',\n",
       " '29414811_2_4773219892816395776 1': 'https://www.wikidata.org/entity/Q276217',\n",
       " '20135078_0_7570343137119682530 1': 'https://www.wikidata.org/entity/Q639481',\n",
       " '39650055_5_7135804139753401681 1': 'https://www.wikidata.org/entity/Q459477',\n",
       " '16767252_0_2409448375013995751 1': 'https://www.wikidata.org/entity/Q503046',\n",
       " '9475172_1_1023126399856690702 1': 'https://www.wikidata.org/entity/Q380519',\n",
       " '24036779_0_5608105867560183058 0': 'https://www.wikidata.org/entity/Q817',\n",
       " '69881946_0_1105130426898457358 1': 'https://www.wikidata.org/entity/Q471169',\n",
       " '75367212_2_2745466355267233390 0': 'https://www.wikidata.org/entity/Q1205676',\n",
       " '84575189_0_6365692015941409487 2': 'https://www.wikidata.org/entity/Q39379',\n",
       " '84548468_0_5955155464119382182 1': 'https://www.wikidata.org/entity/Q181086',\n",
       " '52299421_0_4473286348258170200 1': 'https://www.wikidata.org/entity/Q227',\n",
       " '37856682_0_6818907050314633217 0': 'https://www.wikidata.org/entity/Q26',\n",
       " '38428277_0_1311643810102462607 1': 'https://www.wikidata.org/entity/Q725552',\n",
       " '41336118_0_4331895026409635103 0': 'https://www.wikidata.org/entity/Q831445',\n",
       " '71840765_0_6664391841933033844 0': 'https://www.wikidata.org/entity/Q14429',\n",
       " '77694908_0_6083291340991074532 1': 'https://www.wikidata.org/entity/Q83495',\n",
       " '43237185_1_3636357855502246981 0': 'https://www.wikidata.org/entity/Q72538',\n",
       " '45073662_0_3179937335063201739 1': 'https://www.wikidata.org/entity/Q375648',\n",
       " '11833461_1_3811022039809817402 0': 'https://www.wikidata.org/entity/Q5285919',\n",
       " '14067031_0_559833072073397908 0': 'https://www.wikidata.org/entity/Q1033',\n",
       " '9567241_0_5666388268510912770 1': 'https://www.wikidata.org/entity/Q208875',\n",
       " '34041816_1_4749054164534706977 1': 'https://www.wikidata.org/entity/Q178021',\n",
       " '10579449_0_1681126353774891032 1': 'https://www.wikidata.org/entity/Q30315633',\n",
       " '29414811_13_8724394428539174350 1': 'https://www.wikidata.org/entity/Q213911',\n",
       " '14380604_4_3329235705746762392 1': 'https://www.wikidata.org/entity/Q487907',\n",
       " '1438042989018_40_20150728002309-00067-ip-10-236-191-2_57714692_2 0': 'https://www.wikidata.org/entity/Q7626741',\n",
       " '1438042986423_95_20150728002306-00125-ip-10-236-191-2_88435628_5 0': 'https://www.wikidata.org/entity/Q9669',\n",
       " '80588006_0_6965325215443683359 1': 'https://www.wikidata.org/entity/Q1872524',\n",
       " '29414811_6_8221428333921653560 1': 'https://www.wikidata.org/entity/Q1765733',\n",
       " '53989675_0_8697482470743954630 0': 'https://www.wikidata.org/entity/Q5181893',\n",
       " '1438042986423_95_20150728002306-00329-ip-10-236-191-2_805336391_10 1': 'https://www.wikidata.org/entity/Q6393870',\n",
       " '1438042989043_35_20150728002309-00287-ip-10-236-191-2_875026214_2 0': 'https://www.wikidata.org/entity/Q7194441'}"
      ]
     },
     "execution_count": 11,
     "metadata": {},
     "output_type": "execute_result"
    }
   ],
   "source": [
    "cea_values_dict"
   ]
  },
  {
   "cell_type": "code",
   "execution_count": null,
   "metadata": {},
   "outputs": [],
   "source": []
  }
 ],
 "metadata": {
  "kernelspec": {
   "display_name": "Python 3 (ipykernel)",
   "language": "python",
   "name": "python3"
  },
  "language_info": {
   "codemirror_mode": {
    "name": "ipython",
    "version": 3
   },
   "file_extension": ".py",
   "mimetype": "text/x-python",
   "name": "python",
   "nbconvert_exporter": "python",
   "pygments_lexer": "ipython3",
   "version": "3.11.6"
  }
 },
 "nbformat": 4,
 "nbformat_minor": 4
}
