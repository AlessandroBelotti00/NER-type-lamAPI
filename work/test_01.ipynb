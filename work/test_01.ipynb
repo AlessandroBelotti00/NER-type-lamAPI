{
 "cells": [
  {
   "cell_type": "code",
   "execution_count": 1,
   "id": "f324dc4f-b8a9-4299-9c61-1359f7969f43",
   "metadata": {},
   "outputs": [],
   "source": [
    "import bz2\n",
    "import json\n",
    "import os\n",
    "import sys\n",
    "import traceback\n",
    "from pymongo import MongoClient\n",
    "from tqdm import tqdm\n",
    "from datetime import datetime\n",
    "from requests import get\n"
   ]
  },
  {
   "cell_type": "code",
   "execution_count": 9,
   "id": "1e9754aa-efec-4cbe-a9ae-1c8e3ddc28ad",
   "metadata": {},
   "outputs": [
    {
     "name": "stderr",
     "output_type": "stream",
     "text": [
      "  0%|          | 344/839275 [02:48<113:52:15,  2.05it/s]\n",
      "\n",
      "  0%|          | 0/109787984.95125 [00:00<?, ?it/s]\u001b[A\n",
      "  0%|          | 5/332984 [00:00<1:53:28, 48.91it/s]\u001b[A\n",
      "  0%|          | 15/484062 [00:00<1:51:14, 72.52it/s]\u001b[A"
     ]
    },
    {
     "name": "stdout",
     "output_type": "stream",
     "text": [
      "Item: Belgium, NERtype: ORG, id: Q31\n",
      "Item: Portugal, NERtype: ORG, id: Q45\n"
     ]
    },
    {
     "name": "stderr",
     "output_type": "stream",
     "text": [
      "\n",
      "  0%|          | 23/424773 [00:00<2:11:36, 53.79it/s]\u001b[A"
     ]
    },
    {
     "name": "stdout",
     "output_type": "stream",
     "text": [
      "Item: People's Republic of China, NERtype: ORG, id: Q148\n",
      "Item: Brazil, NERtype: ORG, id: Q155\n",
      "Item: Germany, NERtype: ORG, id: Q183\n"
     ]
    },
    {
     "name": "stderr",
     "output_type": "stream",
     "text": [
      "\n",
      "  0%|          | 29/346270 [00:00<1:58:39, 48.63it/s]\u001b[A\n",
      "  0%|          | 38/371036 [00:00<1:43:28, 59.75it/s]\u001b[A"
     ]
    },
    {
     "name": "stdout",
     "output_type": "stream",
     "text": [
      "Item: Talisker distillery, NERtype: ORG, id: Q278\n",
      "Item: Chile, NERtype: ORG, id: Q298\n",
      "Item: Gmina Kurów, NERtype: ORG, id: Q433\n",
      "Item: Rhône-Alpes, NERtype: ORG, id: Q463\n"
     ]
    },
    {
     "name": "stderr",
     "output_type": "stream",
     "text": [
      "\n",
      "  0%|          | 47/430199 [00:00<1:49:32, 65.45it/s]\u001b[A\n",
      "  0%|          | 58/472425 [00:00<1:41:49, 77.32it/s]\u001b[A\n"
     ]
    },
    {
     "name": "stdout",
     "output_type": "stream",
     "text": [
      "Item: Museum of Fine Arts of Lyon, NERtype: ORG, id: Q511\n",
      "Item: Bonn, NERtype: ORG, id: Q586\n"
     ]
    },
    {
     "name": "stderr",
     "output_type": "stream",
     "text": [
      "  0%|          | 69/497598 [00:00<1:36:12, 86.19it/s]\u001b[A\n",
      "  0%|          | 79/528406 [00:01<1:40:06, 87.96it/s]\u001b[A"
     ]
    },
    {
     "name": "stdout",
     "output_type": "stream",
     "text": [
      "Item: Vanuatu, NERtype: ORG, id: Q686\n",
      "Item: South Holland, NERtype: ORG, id: Q694\n",
      "Item: Massachusetts, NERtype: ORG, id: Q771\n",
      "Item: Israel, NERtype: ORG, id: Q801\n"
     ]
    },
    {
     "name": "stderr",
     "output_type": "stream",
     "text": [
      "\n",
      "  0%|          | 89/493314 [00:01<2:05:44, 65.38it/s]\u001b[A\n",
      "  0%|          | 99/498367 [00:01<1:57:45, 70.53it/s]\u001b[A\n",
      "  0%|          | 114/536376 [00:01<1:41:14, 88.28it/s]\u001b[A"
     ]
    },
    {
     "name": "stdout",
     "output_type": "stream",
     "text": [
      "Item: Nizhny Novgorod, NERtype: ORG, id: Q891\n",
      "Item: Reggiolo, NERtype: ORG, id: Q952\n",
      "Item: Warburg, NERtype: ORG, id: Q968\n"
     ]
    },
    {
     "name": "stderr",
     "output_type": "stream",
     "text": [
      "\n",
      "  0%|          | 124/536486 [00:01<1:43:40, 86.22it/s]\u001b[A"
     ]
    },
    {
     "name": "stdout",
     "output_type": "stream",
     "text": [
      "Item: Sudan, NERtype: ORG, id: Q1049\n",
      "Item: Limburg, NERtype: ORG, id: Q1093\n",
      "Item: Groß Borstel, NERtype: ORG, id: Q1172\n",
      "Item: Hoheluft-Ost, NERtype: ORG, id: Q1181\n"
     ]
    },
    {
     "name": "stderr",
     "output_type": "stream",
     "text": [
      "\n",
      "  0%|          | 134/548197 [00:01<1:59:12, 76.63it/s]\u001b[A\n",
      "  0%|          | 145/562566 [00:01<1:51:41, 83.93it/s]\u001b[A"
     ]
    },
    {
     "name": "stdout",
     "output_type": "stream",
     "text": [
      "Item: Illinois, NERtype: ORG, id: Q1204\n",
      "Item: Uetersen, NERtype: ORG, id: Q1404\n",
      "Item: Eschwege, NERtype: ORG, id: Q1468\n"
     ]
    },
    {
     "name": "stderr",
     "output_type": "stream",
     "text": [
      "\n",
      "  0%|          | 159/586214 [00:02<1:40:10, 97.50it/s]\u001b[A\n",
      "  0%|          | 179/617785 [00:02<1:27:47, 117.24it/s]\u001b[A"
     ]
    },
    {
     "name": "stdout",
     "output_type": "stream",
     "text": [
      "Item: Mississippi, NERtype: ORG, id: Q1494\n",
      "Item: Cublize, NERtype: ORG, id: Q1504\n",
      "Item: New Mexico, NERtype: ORG, id: Q1522\n",
      "Item: Finkenwerder, NERtype: ORG, id: Q1562\n",
      "Item: Billstedt, NERtype: ORG, id: Q1565\n",
      "Item: Blankenese, NERtype: ORG, id: Q1607\n",
      "Item: Eimsbüttel, NERtype: ORG, id: Q1611\n",
      "Item: Bergstedt, NERtype: ORG, id: Q1641\n",
      "Item: Wiesbaden, NERtype: ORG, id: Q1721\n"
     ]
    },
    {
     "name": "stderr",
     "output_type": "stream",
     "text": [
      "\n",
      "  0%|          | 195/634762 [00:02<1:22:59, 127.43it/s]\u001b[A\n",
      "  0%|          | 215/668333 [00:02<1:16:02, 146.43it/s]\u001b[A\n",
      "  0%|          | 238/703945 [00:02<1:10:49, 165.59it/s]\u001b[A"
     ]
    },
    {
     "name": "stdout",
     "output_type": "stream",
     "text": [
      "Item: Eilbek, NERtype: ORG, id: Q1807\n",
      "Item: Poppenbüttel, NERtype: ORG, id: Q1818\n",
      "Item: Rahlstedt, NERtype: ORG, id: Q1820\n",
      "Item: Wohldorf-Ohlstedt, NERtype: ORG, id: Q1837\n",
      "Item: Givors, NERtype: ORG, id: Q1976\n",
      "Item: Rivolet, NERtype: ORG, id: Q1977\n",
      "Item: Newfoundland and Labrador, NERtype: ORG, id: Q2003\n",
      "Item: Chambost-Allières, NERtype: ORG, id: Q2026\n",
      "Item: ACF Fiorentina, NERtype: ORG, id: Q2052\n",
      "Item: Duisburg, NERtype: ORG, id: Q2100\n"
     ]
    },
    {
     "name": "stderr",
     "output_type": "stream",
     "text": [
      "\n",
      "  0%|          | 255/726281 [00:02<1:31:58, 131.56it/s]\u001b[A"
     ]
    },
    {
     "name": "stdout",
     "output_type": "stream",
     "text": [
      "Item: Mannheim, NERtype: ORG, id: Q2119\n",
      "Item: Government of the Soviet Union, NERtype: ORG, id: Q2148\n",
      "Item: Alto Hospicio, NERtype: ORG, id: Q2217\n",
      "Item: Nissedal, NERtype: ORG, id: Q2229\n",
      "Item: Langenzenn, NERtype: ORG, id: Q2230\n",
      "Item: Seljord, NERtype: ORG, id: Q2236\n",
      "Item: Tokke Municipality, NERtype: ORG, id: Q2241\n"
     ]
    },
    {
     "name": "stderr",
     "output_type": "stream",
     "text": [
      "\n",
      "  0%|          | 276/752581 [00:02<1:23:42, 149.80it/s]\u001b[A\n",
      "  0%|          | 294/772357 [00:02<1:22:58, 155.09it/s]\u001b[A"
     ]
    },
    {
     "name": "stdout",
     "output_type": "stream",
     "text": [
      "Item: Skien, NERtype: ORG, id: Q2272\n",
      "Item: Altengamme, NERtype: ORG, id: Q2380\n",
      "Item: Reitbrook, NERtype: ORG, id: Q2418\n",
      "Item: Palermo F.C., NERtype: ORG, id: Q2674\n"
     ]
    },
    {
     "name": "stderr",
     "output_type": "stream",
     "text": [
      "\n",
      "  0%|          | 317/802308 [00:02<1:16:59, 173.62it/s]\u001b[A\n",
      "  0%|          | 339/832901 [00:03<1:14:43, 185.70it/s]\u001b[A"
     ]
    },
    {
     "name": "stdout",
     "output_type": "stream",
     "text": [
      "Item: ACR Siena 1904, NERtype: ORG, id: Q2756\n",
      "Item: Telgte, NERtype: ORG, id: Q2789\n",
      "Item: Everswinkel, NERtype: ORG, id: Q2809\n",
      "Item: Nordwestmecklenburg District, NERtype: ORG, id: Q2876\n",
      "Item: Mecklenburgische Seenplatte District, NERtype: ORG, id: Q2902\n",
      "Item: Dithmarschen, NERtype: ORG, id: Q2947\n",
      "Item: Plön District, NERtype: ORG, id: Q2970\n",
      "Item: Steinburg, NERtype: ORG, id: Q3011\n",
      "Item: Aisne, NERtype: ORG, id: Q3093\n"
     ]
    },
    {
     "name": "stderr",
     "output_type": "stream",
     "text": [
      "\n",
      "  0%|          | 359/859282 [00:03<1:16:11, 187.87it/s]\u001b[A\n",
      "  0%|          | 387/899137 [00:03<1:13:43, 203.20it/s]\u001b[A"
     ]
    },
    {
     "name": "stdout",
     "output_type": "stream",
     "text": [
      "Item: Covões, NERtype: ORG, id: Q3213\n",
      "Item: Bouches-du-Rhône, NERtype: ORG, id: Q3240\n",
      "Item: Lourdes, NERtype: ORG, id: Q3327\n",
      "Item: 2nd arrondissement of Lyon, NERtype: ORG, id: Q3344\n",
      "Item: Eure-et-Loir, NERtype: ORG, id: Q3377\n",
      "Item: Sinstorf, NERtype: ORG, id: Q3534\n",
      "Item: Potenza, NERtype: ORG, id: Q3543\n",
      "Item: Šibenik, NERtype: ORG, id: Q3549\n",
      "Item: Monteferrante, NERtype: ORG, id: Q3563\n",
      "Item: Velezzo Lomellina, NERtype: ORG, id: Q3592\n",
      "Item: Chazelles, NERtype: ORG, id: Q3595\n",
      "Item: Calvignano, NERtype: ORG, id: Q3601\n",
      "Item: Anceriz, NERtype: ORG, id: Q3679\n",
      "Item: Cauquenes, NERtype: ORG, id: Q3749\n",
      "Item: Gera, NERtype: ORG, id: Q3750\n"
     ]
    },
    {
     "name": "stderr",
     "output_type": "stream",
     "text": [
      "\n",
      "  0%|          | 414/933601 [00:03<1:10:10, 221.64it/s]\u001b[A\n",
      "  0%|          | 437/950022 [00:03<1:14:38, 212.05it/s]\u001b[A"
     ]
    },
    {
     "name": "stdout",
     "output_type": "stream",
     "text": [
      "Item: French Guiana, NERtype: ORG, id: Q3769\n",
      "Item: Hanau, NERtype: ORG, id: Q3802\n",
      "Item: Neustadt-Nord, NERtype: ORG, id: Q3823\n",
      "Item: Conchalí, NERtype: ORG, id: Q3851\n",
      "Item: Giessen, NERtype: ORG, id: Q3874\n",
      "Item: Corral, NERtype: ORG, id: Q3875\n",
      "Item: Dorsten, NERtype: ORG, id: Q3886\n",
      "Item: Aschaffenburg, NERtype: ORG, id: Q3942\n",
      "Item: Unna, NERtype: ORG, id: Q3949\n",
      "Item: Weimar, NERtype: ORG, id: Q3955\n",
      "Item: Mahajana College, NERtype: ORG, id: Q4000\n",
      "Item: Rozpor, NERtype: ORG, id: Q4002\n",
      "Item: Euskirchen, NERtype: ORG, id: Q4074\n",
      "Item: Lyon OU, NERtype: ORG, id: Q4075\n",
      "Item: Hilden, NERtype: ORG, id: Q4094\n",
      "Item: Schweinfurt, NERtype: ORG, id: Q4126\n"
     ]
    },
    {
     "name": "stderr",
     "output_type": "stream",
     "text": [
      "\n",
      "  0%|          | 459/971812 [00:03<1:15:50, 213.48it/s]\u001b[A\n",
      "  0%|          | 494/1013161 [00:03<1:07:49, 248.84it/s]\u001b[A"
     ]
    },
    {
     "name": "stdout",
     "output_type": "stream",
     "text": [
      "Item: Neuschwanstein Castle, NERtype: ORG, id: Q4152\n",
      "Item: Passau, NERtype: ORG, id: Q4190\n",
      "Item: Union of South American Nations, NERtype: ORG, id: Q4230\n",
      "Item: Democratic Party, NERtype: ORG, id: Q4280\n",
      "Item: Coheed and Cambria, NERtype: ORG, id: Q4299\n"
     ]
    },
    {
     "name": "stderr",
     "output_type": "stream",
     "text": [
      "\n",
      "  0%|          | 520/1038602 [00:03<1:25:13, 203.03it/s]\u001b[A\n",
      "  0%|          | 556/1085037 [00:04<1:16:18, 236.85it/s]\u001b[A"
     ]
    },
    {
     "name": "stdout",
     "output_type": "stream",
     "text": [
      "Item: Berlin Recycling Volleys, NERtype: ORG, id: Q4568\n",
      "Item: University of Southern California, NERtype: ORG, id: Q4614\n",
      "Item: Macedonian mafia, NERtype: ORG, id: Q4940\n",
      "Item: Arleuf, NERtype: ORG, id: Q4955\n",
      "Item: SABMiller, NERtype: ORG, id: Q4995\n",
      "Item: Ranchuelo, NERtype: ORG, id: Q5003\n",
      "Item: Colón, NERtype: ORG, id: Q5029\n",
      "Item: Lajas, NERtype: ORG, id: Q5045\n"
     ]
    },
    {
     "name": "stderr",
     "output_type": "stream",
     "text": [
      "\n",
      "  0%|          | 585/1114860 [00:04<1:14:17, 249.98it/s]\u001b[A\n",
      "  0%|          | 612/1130414 [00:04<1:16:08, 247.28it/s]\u001b[A"
     ]
    },
    {
     "name": "stdout",
     "output_type": "stream",
     "text": [
      "Item: Nachrodt-Wiblingwerde, NERtype: ORG, id: Q5279\n"
     ]
    },
    {
     "name": "stderr",
     "output_type": "stream",
     "text": [
      "\n",
      "  0%|          | 638/1135644 [00:04<1:26:30, 218.68it/s]\u001b[A\n",
      "  0%|          | 661/1136758 [00:04<1:33:24, 202.73it/s]\u001b[A"
     ]
    },
    {
     "name": "stdout",
     "output_type": "stream",
     "text": [
      "Item: Meschede, NERtype: ORG, id: Q5632\n",
      "Item: Bjelovar, NERtype: ORG, id: Q5707\n",
      "Item: Toledo, NERtype: ORG, id: Q5836\n"
     ]
    },
    {
     "name": "stderr",
     "output_type": "stream",
     "text": [
      "\n",
      "  0%|          | 686/1155176 [00:04<1:30:09, 213.43it/s]\u001b[A\n",
      "  0%|          | 711/1173820 [00:04<1:27:50, 222.60it/s]\u001b[A"
     ]
    },
    {
     "name": "stdout",
     "output_type": "stream",
     "text": [
      "Item: Osnabrück, NERtype: ORG, id: Q5940\n",
      "Item: Wesermarsch, NERtype: ORG, id: Q5948\n",
      "Item: Holzminden, NERtype: ORG, id: Q5973\n",
      "Item: Siegen-Wittgenstein, NERtype: ORG, id: Q5982\n",
      "Item: Sundern, NERtype: ORG, id: Q6015\n",
      "Item: Oberhavel District, NERtype: ORG, id: Q6119\n",
      "Item: Soest, NERtype: ORG, id: Q6149\n",
      "Item: Elbe-Elster District, NERtype: ORG, id: Q6152\n",
      "Item: Steinfurt, NERtype: ORG, id: Q6187\n",
      "Item: Lippe, NERtype: ORG, id: Q6230\n",
      "Item: Rhein-Kreis Neuss, NERtype: ORG, id: Q6253\n",
      "Item: Pavia, NERtype: ORG, id: Q6259\n",
      "Item: Brive-la-Gaillarde, NERtype: ORG, id: Q6393\n",
      "Item: Bahretal, NERtype: ORG, id: Q6438\n"
     ]
    },
    {
     "name": "stderr",
     "output_type": "stream",
     "text": [
      "\n",
      "  0%|          | 742/1201400 [00:04<1:21:20, 245.99it/s]\u001b[A\n",
      "  0%|          | 772/1220524 [00:04<1:18:16, 259.69it/s]\u001b[A"
     ]
    },
    {
     "name": "stdout",
     "output_type": "stream",
     "text": [
      "Item: Pirna, NERtype: ORG, id: Q6477\n",
      "Item: Maçanet de Cabrenys, NERtype: ORG, id: Q6615\n",
      "Item: Dorfhain, NERtype: ORG, id: Q6685\n",
      "Item: Hartmannsdorf-Reichenau, NERtype: ORG, id: Q6710\n",
      "Item: Grosseto, NERtype: ORG, id: Q6716\n",
      "Item: Berliet, NERtype: ORG, id: Q6750\n",
      "Item: Banyuls-sur-Mer, NERtype: ORG, id: Q6753\n",
      "Item: U.S. Livorno 1915, NERtype: ORG, id: Q6767\n",
      "Item: Höckendorf, NERtype: ORG, id: Q6775\n",
      "Item: Neunkirchen, NERtype: ORG, id: Q6799\n",
      "Item: Merzig-Wadern, NERtype: ORG, id: Q6802\n",
      "Item: International Astronomical Union, NERtype: ORG, id: Q6867\n",
      "Item: Neunkirchen, NERtype: ORG, id: Q6880\n"
     ]
    },
    {
     "name": "stderr",
     "output_type": "stream",
     "text": [
      "\n",
      "  0%|          | 801/1243226 [00:05<1:17:44, 266.35it/s]\u001b[A\n",
      "  0%|          | 829/1253164 [00:05<1:25:20, 244.56it/s]\u001b[A"
     ]
    },
    {
     "name": "stdout",
     "output_type": "stream",
     "text": [
      "Item: Franxault, NERtype: ORG, id: Q6980\n",
      "Item: Alsdorf, NERtype: ORG, id: Q6992\n",
      "Item: Bitterfeld-Wolfen, NERtype: ORG, id: Q7007\n",
      "Item: Brühl, NERtype: ORG, id: Q7036\n",
      "Item: Oberursel (Taunus), NERtype: ORG, id: Q7044\n",
      "Item: Kaarst, NERtype: ORG, id: Q7088\n",
      "Item: Eschenbach, NERtype: ORG, id: Q7092\n",
      "Item: Hochdorf, NERtype: ORG, id: Q7102\n",
      "Item: Altwis, NERtype: ORG, id: Q7116\n"
     ]
    },
    {
     "name": "stderr",
     "output_type": "stream",
     "text": [
      "\n",
      "  0%|          | 855/1258493 [00:05<1:52:49, 185.79it/s]\u001b[A\n",
      "  0%|          | 880/1268607 [00:05<1:46:44, 197.94it/s]\u001b[A"
     ]
    },
    {
     "name": "stdout",
     "output_type": "stream",
     "text": [
      "Item: Nazi Germany, NERtype: ORG, id: Q7318\n",
      "Item: Nazi Party, NERtype: ORG, id: Q7320\n",
      "Item: Tenderloin, NERtype: ORG, id: Q7464\n",
      "Item: Wermelskirchen, NERtype: ORG, id: Q7507\n",
      "Item: Ashkenaz, NERtype: ORG, id: Q7529\n"
     ]
    },
    {
     "name": "stderr",
     "output_type": "stream",
     "text": [
      "\n",
      "  0%|          | 903/1284012 [00:05<1:44:21, 204.92it/s]\u001b[A\n",
      "  0%|          | 926/1291477 [00:05<1:42:11, 210.48it/s]\u001b[A\n",
      "  0%|          | 949/1292857 [00:05<1:42:58, 209.11it/s]\u001b[A"
     ]
    },
    {
     "name": "stdout",
     "output_type": "stream",
     "text": [
      "Item: International Court of Justice, NERtype: ORG, id: Q7801\n",
      "Item: Nordhausen district, NERtype: ORG, id: Q7858\n",
      "Item: Wartburgkreis, NERtype: ORG, id: Q7866\n",
      "Item: Gotha, NERtype: ORG, id: Q7869\n",
      "Item: Landkreis Saalfeld-Rudolstadt, NERtype: ORG, id: Q7882\n",
      "Item: Greiz, NERtype: ORG, id: Q7887\n",
      "Item: Fulda, NERtype: ORG, id: Q7899\n",
      "Item: Main-Kinzig-Kreis, NERtype: ORG, id: Q7911\n",
      "Item: Landkreis Bergstraße, NERtype: ORG, id: Q7917\n",
      "Item: Düsseldorf Government Region, NERtype: ORG, id: Q7926\n",
      "Item: Nintendo, NERtype: ORG, id: Q8093\n",
      "Item: Freiburg Government Region, NERtype: ORG, id: Q8167\n",
      "Item: Tübingen Government Region, NERtype: ORG, id: Q8170\n",
      "Item: Enz, NERtype: ORG, id: Q8184\n",
      "Item: Ortenau, NERtype: ORG, id: Q8191\n"
     ]
    },
    {
     "name": "stderr",
     "output_type": "stream",
     "text": [
      "\n",
      "  0%|          | 973/1300700 [00:05<1:44:19, 207.66it/s]\u001b[A\n",
      "  0%|          | 1002/1314719 [00:06<1:35:54, 228.30it/s]\u001b[A"
     ]
    },
    {
     "name": "stdout",
     "output_type": "stream",
     "text": [
      "Item: Iława, NERtype: ORG, id: Q8194\n",
      "Item: Les Cordeliers, NERtype: ORG, id: Q8207\n",
      "Item: Rosenthal-Bielatal, NERtype: ORG, id: Q8234\n",
      "Item: Struppen, NERtype: ORG, id: Q8244\n",
      "Item: Verwaltungsgemeinschaft Tharandt, NERtype: ORG, id: Q8283\n",
      "Item: Wikimedia Deutschland, NERtype: ORG, id: Q8288\n",
      "Item: Hockenheim, NERtype: ORG, id: Q8336\n",
      "Item: Matte World Digital, NERtype: ORG, id: Q8340\n",
      "Item: Dardilly, NERtype: ORG, id: Q8365\n",
      "Item: Main-Tauber-Kreis, NERtype: ORG, id: Q8517\n",
      "Item: Landkreis Schwäbisch Hall, NERtype: ORG, id: Q8520\n",
      "Item: Ostalbkreis, NERtype: ORG, id: Q8522\n",
      "Item: Ludwigsburg District, NERtype: ORG, id: Q8541\n",
      "Item: Bad Dürkheim (district), NERtype: ORG, id: Q8557\n"
     ]
    },
    {
     "name": "stderr",
     "output_type": "stream",
     "text": [
      "\n",
      "  0%|          | 1030/1327319 [00:06<1:31:43, 240.97it/s]\u001b[A\n",
      "  0%|          | 1055/1331928 [00:06<1:34:51, 233.83it/s]\u001b[A"
     ]
    },
    {
     "name": "stdout",
     "output_type": "stream",
     "text": [
      "Item: Cochem-Zell, NERtype: ORG, id: Q8590\n",
      "Item: Neuwied, NERtype: ORG, id: Q8606\n",
      "Item: La Spezia, NERtype: ORG, id: Q8611\n",
      "Item: Saint-Jean-Pla-de-Corts, NERtype: ORG, id: Q8657\n",
      "Item: Diera-Zehren, NERtype: ORG, id: Q8697\n",
      "Item: Ebersbach, NERtype: ORG, id: Q8702\n",
      "Item: Deportivo de La Coruña, NERtype: ORG, id: Q8760\n",
      "Item: RCD Espanyol de Barcelona, NERtype: ORG, id: Q8780\n",
      "Item: Schönfeld, NERtype: ORG, id: Q8788\n",
      "Item: 2002 Venezuelan coup d'état attempt, NERtype: ORG, id: Q8807\n",
      "Item: Weinböhla, NERtype: ORG, id: Q8831\n",
      "Item: Verwaltungsgemeinschaft Gröditz, NERtype: ORG, id: Q8841\n",
      "Item: Verwaltungsgemeinschaft Röderaue-Wülknitz, NERtype: ORG, id: Q8852\n",
      "Item: 1992 Venezuelan coup d'état attempts, NERtype: ORG, id: Q8868\n",
      "Item: Altstadt, NERtype: ORG, id: Q8885\n",
      "Item: European Central Bank, NERtype: ORG, id: Q8901\n",
      "Item: Council of Europe, NERtype: ORG, id: Q8908\n",
      "Item: Friedrichstadt, NERtype: ORG, id: Q8909\n",
      "Item: European Economic Area, NERtype: ORG, id: Q8932\n",
      "Item: Laubegast, NERtype: ORG, id: Q8933\n",
      "Item: Omsewitz, NERtype: ORG, id: Q8944\n",
      "Item: Alpette, NERtype: ORG, id: Q8993\n",
      "Item: Montesquieu-des-Albères, NERtype: ORG, id: Q8997\n",
      "Item: Schaffhausen, NERtype: ORG, id: Q9009\n",
      "Item: Barone Canavese, NERtype: ORG, id: Q9044\n",
      "Item: Borgaro Torinese, NERtype: ORG, id: Q9057\n"
     ]
    },
    {
     "name": "stderr",
     "output_type": "stream",
     "text": [
      "\n",
      "  0%|          | 1086/1344742 [00:06<1:28:26, 253.20it/s]\u001b[A\n",
      "  0%|          | 1112/1343181 [00:06<1:34:47, 235.99it/s]\u001b[A"
     ]
    },
    {
     "name": "stdout",
     "output_type": "stream",
     "text": [
      "Item: Bruzolo, NERtype: ORG, id: Q9101\n",
      "Item: Candiolo, NERtype: ORG, id: Q9148\n",
      "Item: Carema, NERtype: ORG, id: Q9173\n",
      "Item: Castelnuovo Nigra, NERtype: ORG, id: Q9231\n",
      "Item: Ceres, NERtype: ORG, id: Q9244\n",
      "Item: Chivasso, NERtype: ORG, id: Q9275\n",
      "Item: Bandar Seri Begawan, NERtype: ORG, id: Q9279\n",
      "Item: Cintano, NERtype: ORG, id: Q9280\n",
      "Item: Claviere, NERtype: ORG, id: Q9287\n",
      "Item: Druento, NERtype: ORG, id: Q9336\n",
      "Item: Favria, NERtype: ORG, id: Q9343\n",
      "Item: Deutsche Telekom, NERtype: ORG, id: Q9396\n",
      "Item: Isolabella, NERtype: ORG, id: Q9405\n",
      "Item: Moncalieri, NERtype: ORG, id: Q9474\n",
      "Item: Westfield La Part-Dieu, NERtype: ORG, id: Q9478\n",
      "Item: Montalenghe, NERtype: ORG, id: Q9483\n",
      "Item: Nole, NERtype: ORG, id: Q9505\n",
      "Item: Nomaglio, NERtype: ORG, id: Q9508\n"
     ]
    },
    {
     "name": "stderr",
     "output_type": "stream",
     "text": [
      "\n",
      "  0%|          | 1137/1342491 [00:06<2:08:14, 174.33it/s]\u001b[A\n",
      "  0%|          | 1157/1336287 [00:06<2:05:08, 177.81it/s]\u001b[A"
     ]
    },
    {
     "name": "stdout",
     "output_type": "stream",
     "text": [
      "Item: Perosa Canavese, NERtype: ORG, id: Q9552\n",
      "Item: Tame Impala, NERtype: ORG, id: Q9619\n",
      "Item: Amsterdam Airport Schiphol, NERtype: ORG, id: Q9694\n",
      "Item: Boulouparis, NERtype: ORG, id: Q9707\n",
      "Item: Yaté, NERtype: ORG, id: Q9758\n",
      "Item: Simpelveld, NERtype: ORG, id: Q9769\n",
      "Item: Sittard-Geleen, NERtype: ORG, id: Q9781\n",
      "Item: Gennep, NERtype: ORG, id: Q9800\n",
      "Item: Alphen-Chaam, NERtype: ORG, id: Q9809\n",
      "Item: Bergen op Zoom, NERtype: ORG, id: Q9814\n",
      "Item: Boxtel, NERtype: ORG, id: Q9821\n"
     ]
    },
    {
     "name": "stderr",
     "output_type": "stream",
     "text": [
      "\n",
      "  0%|          | 1183/1342295 [00:06<1:56:01, 192.63it/s]\u001b[A"
     ]
    },
    {
     "name": "stdout",
     "output_type": "stream",
     "text": [
      "Item: Cranendonck, NERtype: ORG, id: Q9823\n",
      "Item: Dongen, NERtype: ORG, id: Q9829\n",
      "Item: Halderberge, NERtype: ORG, id: Q9841\n",
      "Item: Landerd, NERtype: ORG, id: Q9849\n",
      "Item: Maasdonk, NERtype: ORG, id: Q9851\n",
      "Item: Mill en Sint Hubert, NERtype: ORG, id: Q9853\n",
      "Item: Rucphen, NERtype: ORG, id: Q9862\n",
      "Item: Amsterdam, NERtype: ORG, id: Q9899\n",
      "Item: Diemen, NERtype: ORG, id: Q9913\n",
      "Item: Hollands Kroon, NERtype: ORG, id: Q9936\n",
      "Item: Schermer, NERtype: ORG, id: Q9959\n",
      "Item: Bunschoten, NERtype: ORG, id: Q10034\n",
      "Item: Renswoude, NERtype: ORG, id: Q10039\n",
      "Item: Stichtse Vecht, NERtype: ORG, id: Q10042\n",
      "Item: Montfoort, NERtype: ORG, id: Q10048\n",
      "Item: Zeist, NERtype: ORG, id: Q10056\n",
      "Item: Reimerswaal, NERtype: ORG, id: Q10078\n",
      "Item: Frankfurter Allgemeine Zeitung, NERtype: ORG, id: Q10184\n",
      "Item: Daïtro, NERtype: ORG, id: Q10228\n",
      "Item: Romano Canavese, NERtype: ORG, id: Q10237\n",
      "Item: Rosta, NERtype: ORG, id: Q10243\n",
      "Item: Salza di Pinerolo, NERtype: ORG, id: Q10254\n",
      "Item: San Giorgio Canavese, NERtype: ORG, id: Q10268\n",
      "Item: San Maurizio Canavese, NERtype: ORG, id: Q10275\n",
      "Item: Sauze d'Oulx, NERtype: ORG, id: Q10295\n",
      "Item: Sciolze, NERtype: ORG, id: Q10301\n",
      "Item: Jegenstorf, NERtype: ORG, id: Q10341\n",
      "Item: AlunaGeorge, NERtype: ORG, id: Q10353\n",
      "Item: Villarbasse, NERtype: ORG, id: Q10358\n"
     ]
    },
    {
     "name": "stderr",
     "output_type": "stream",
     "text": [
      "\n",
      "  0%|          | 1220/1355895 [00:07<1:35:25, 236.62it/s]\u001b[A\n",
      "  0%|          | 1246/1365102 [00:07<1:34:07, 241.49it/s]\u001b[A\n",
      "  0%|          | 1286/1384779 [00:07<1:21:19, 283.53it/s]\u001b[A"
     ]
    },
    {
     "name": "stdout",
     "output_type": "stream",
     "text": [
      "Item: Oberallgäu, NERtype: ORG, id: Q10402\n",
      "Item: Cham, NERtype: ORG, id: Q10424\n",
      "Item: Erlangen-Höchstadt, NERtype: ORG, id: Q10447\n",
      "Item: Roth, NERtype: ORG, id: Q10451\n",
      "Item: FC Barcelona Atlètic, NERtype: ORG, id: Q10467\n",
      "Item: Main-Spessart, NERtype: ORG, id: Q10469\n",
      "Item: Eichstätt, NERtype: ORG, id: Q10491\n",
      "Item: Ebersberg, NERtype: ORG, id: Q10541\n",
      "Item: Lower Bavaria, NERtype: ORG, id: Q10559\n",
      "Item: Lessenich, NERtype: ORG, id: Q10719\n",
      "Item: Böhlen, NERtype: ORG, id: Q10743\n",
      "Item: Machern, NERtype: ORG, id: Q10752\n",
      "Item: Narsdorf, NERtype: ORG, id: Q10753\n",
      "Item: Parthenstein, NERtype: ORG, id: Q10757\n",
      "Item: Frohburg, NERtype: ORG, id: Q10763\n",
      "Item: Trebsen, NERtype: ORG, id: Q10777\n",
      "Item: Montecastrilli, NERtype: ORG, id: Q10830\n",
      "Item: San Venanzo, NERtype: ORG, id: Q10901\n",
      "Item: Finnentrop, NERtype: ORG, id: Q10903\n",
      "Item: Wenden, NERtype: ORG, id: Q10912\n",
      "Item: Medebach, NERtype: ORG, id: Q10919\n",
      "Item: Netphen, NERtype: ORG, id: Q10950\n",
      "Item: France 3 Régions, NERtype: ORG, id: Q10963\n"
     ]
    },
    {
     "name": "stderr",
     "output_type": "stream",
     "text": [
      "\n",
      "  0%|          | 1318/1396740 [00:07<1:23:27, 278.67it/s]\u001b[A"
     ]
    },
    {
     "name": "stdout",
     "output_type": "stream",
     "text": [
      "Item: Olympique Lyonnais, NERtype: ORG, id: Q11037\n",
      "Item: Engelskirchen, NERtype: ORG, id: Q11046\n",
      "Item: Nümbrecht, NERtype: ORG, id: Q11052\n",
      "Item: The Independent, NERtype: ORG, id: Q11149\n",
      "Item: Bàscara, NERtype: ORG, id: Q11232\n",
      "Item: Biure, NERtype: ORG, id: Q11236\n",
      "Item: Lower Manhattan, NERtype: ORG, id: Q11253\n",
      "Item: Adobe, NERtype: ORG, id: Q11463\n"
     ]
    },
    {
     "name": "stderr",
     "output_type": "stream",
     "text": [
      "\n",
      "  0%|          | 1347/1403029 [00:07<1:27:58, 265.53it/s]\u001b[A\n",
      "  0%|          | 1375/1410463 [00:07<1:32:01, 255.18it/s]\u001b[A\n",
      "  0%|          | 1402/1410820 [00:07<1:31:13, 257.51it/s]\u001b[A"
     ]
    },
    {
     "name": "stdout",
     "output_type": "stream",
     "text": [
      "Item: Pont de Molins, NERtype: ORG, id: Q11804\n",
      "Item: Tocotronic, NERtype: ORG, id: Q11890\n",
      "Item: PSV Eindhoven, NERtype: ORG, id: Q11938\n",
      "Item: Stein am Rhein, NERtype: ORG, id: Q11939\n",
      "Item: Saint-Maurice-de-Beynost, NERtype: ORG, id: Q11981\n",
      "Item: CD Mirandés, NERtype: ORG, id: Q11997\n",
      "Item: Ell & Nikki, NERtype: ORG, id: Q12009\n",
      "Item: Tiana, NERtype: ORG, id: Q12026\n",
      "Item: Delitzsch, NERtype: ORG, id: Q12052\n",
      "Item: Sant Andreu de Llavaneres, NERtype: ORG, id: Q12093\n",
      "Item: Vilabertran, NERtype: ORG, id: Q12148\n",
      "Item: Sociedad Deportiva Ponferradina, NERtype: ORG, id: Q12168\n",
      "Item: Starobrno Brewery, NERtype: ORG, id: Q12221\n"
     ]
    },
    {
     "name": "stderr",
     "output_type": "stream",
     "text": [
      "\n",
      "  0%|          | 1429/1414104 [00:07<1:34:04, 250.29it/s]\u001b[A"
     ]
    },
    {
     "name": "stdout",
     "output_type": "stream",
     "text": [
      "Item: Pardines, NERtype: ORG, id: Q12294\n",
      "Item: Queralbs, NERtype: ORG, id: Q12327\n",
      "Item: Vallfogona de Ripollès, NERtype: ORG, id: Q12356\n",
      "Item: Le Monde, NERtype: ORG, id: Q12461\n",
      "Item: Meckenheim, NERtype: ORG, id: Q12464\n",
      "Item: Niederkassel, NERtype: ORG, id: Q12472\n",
      "Item: Gers, NERtype: ORG, id: Q12517\n",
      "Item: Calella, NERtype: ORG, id: Q12540\n"
     ]
    },
    {
     "name": "stderr",
     "output_type": "stream",
     "text": [
      "\n",
      "  0%|          | 1455/1414490 [00:08<2:04:59, 188.43it/s]\u001b[A\n",
      "  0%|          | 1477/1407084 [00:08<2:15:26, 172.97it/s]\u001b[A"
     ]
    },
    {
     "name": "stdout",
     "output_type": "stream",
     "text": [
      "Item: Pineda de Mar, NERtype: ORG, id: Q12552\n",
      "Item: Ottoman Empire, NERtype: ORG, id: Q12560\n",
      "Item: Loire, NERtype: ORG, id: Q12569\n",
      "Item: Maine-et-Loire, NERtype: ORG, id: Q12584\n",
      "Item: Castellfollit de la Roca, NERtype: ORG, id: Q12598\n",
      "Item: Mieres, NERtype: ORG, id: Q12604\n",
      "Item: Montagut i Oix, NERtype: ORG, id: Q12609\n",
      "Item: Bossòst, NERtype: ORG, id: Q12615\n",
      "Item: Mayenne, NERtype: ORG, id: Q12620\n",
      "Item: Canejan, NERtype: ORG, id: Q12627\n",
      "Item: Riudaura, NERtype: ORG, id: Q12634\n",
      "Item: Nord, NERtype: ORG, id: Q12661\n",
      "Item: Sant Ferriol, NERtype: ORG, id: Q12671\n",
      "Item: Alins, NERtype: ORG, id: Q12672\n",
      "Item: Farrera, NERtype: ORG, id: Q12676\n",
      "Item: Hautes-Pyrénées, NERtype: ORG, id: Q12700\n",
      "Item: La Vall de Bianya, NERtype: ORG, id: Q12701\n",
      "Item: Ilocos Sur, NERtype: ORG, id: Q12741\n",
      "Item: Haute-Savoie, NERtype: ORG, id: Q12751\n",
      "Item: Somme, NERtype: ORG, id: Q12770\n"
     ]
    },
    {
     "name": "stderr",
     "output_type": "stream",
     "text": [
      "\n",
      "  0%|          | 1498/1404923 [00:08<2:12:34, 176.42it/s]\u001b[A\n",
      "  0%|          | 1520/1402965 [00:08<2:05:07, 186.66it/s]\u001b[A"
     ]
    },
    {
     "name": "stdout",
     "output_type": "stream",
     "text": [
      "Item: Tarn-et-Garonne, NERtype: ORG, id: Q12779\n",
      "Item: Vienne, NERtype: ORG, id: Q12804\n",
      "Item: Banayoyo, NERtype: ORG, id: Q12818\n",
      "Item: Cabugao, NERtype: ORG, id: Q12832\n",
      "Item: Magsingal, NERtype: ORG, id: Q12845\n",
      "Item: Quirino, NERtype: ORG, id: Q12853\n",
      "Item: San Ildefonso, NERtype: ORG, id: Q12864\n",
      "Item: San Vicente, NERtype: ORG, id: Q12868\n",
      "Item: Santa, NERtype: ORG, id: Q12873\n",
      "Item: Sinait, NERtype: ORG, id: Q12891\n",
      "Item: Tagudin, NERtype: ORG, id: Q12895\n",
      "Item: Assenede, NERtype: ORG, id: Q12901\n",
      "Item: Lloret de Mar, NERtype: ORG, id: Q12977\n",
      "Item: Oudenaarde, NERtype: ORG, id: Q12992\n",
      "Item: Brunyola, NERtype: ORG, id: Q13056\n"
     ]
    },
    {
     "name": "stderr",
     "output_type": "stream",
     "text": [
      "\n",
      "  0%|          | 1542/1405452 [00:08<2:04:26, 188.03it/s]\u001b[A\n",
      "  0%|          | 1562/1405733 [00:08<2:05:51, 185.96it/s]\u001b[A"
     ]
    },
    {
     "name": "stdout",
     "output_type": "stream",
     "text": [
      "Item: Fano, NERtype: ORG, id: Q13142\n",
      "Item: University of Orléans, NERtype: ORG, id: Q13334\n",
      "Item: Pistoia, NERtype: ORG, id: Q13376\n",
      "Item: Ligue 1, NERtype: ORG, id: Q13394\n",
      "Item: former archives of Ukraine, NERtype: ORG, id: Q13401\n",
      "Item: Cervià de Ter, NERtype: ORG, id: Q13428\n"
     ]
    },
    {
     "name": "stderr",
     "output_type": "stream",
     "text": [
      "\n",
      "  0%|          | 1588/1408742 [00:08<1:58:02, 198.69it/s]\u001b[A\n",
      "  0%|          | 1614/1409319 [00:08<1:50:07, 213.03it/s]\u001b[A"
     ]
    },
    {
     "name": "stdout",
     "output_type": "stream",
     "text": [
      "Item: Viladasens, NERtype: ORG, id: Q13455\n",
      "Item: Foixà, NERtype: ORG, id: Q13465\n",
      "Item: Santa Cristina d'Aro, NERtype: ORG, id: Q13569\n",
      "Item: La Tallada d'Empordà, NERtype: ORG, id: Q13571\n",
      "Item: Torroella de Montgrí, NERtype: ORG, id: Q13573\n",
      "Item: Verges, NERtype: ORG, id: Q13586\n",
      "Item: Ultramort, NERtype: ORG, id: Q13588\n",
      "Item: Yopal, NERtype: ORG, id: Q13591\n",
      "Item: Vaulx-en-Velin, NERtype: ORG, id: Q13596\n",
      "Item: Palol de Revardit, NERtype: ORG, id: Q13609\n",
      "Item: Crespià, NERtype: ORG, id: Q13610\n",
      "Item: Matera, NERtype: ORG, id: Q13616\n",
      "Item: Les Abymes, NERtype: ORG, id: Q13636\n",
      "Item: Oristano, NERtype: ORG, id: Q13652\n",
      "Item: Caltanissetta, NERtype: ORG, id: Q13680\n",
      "Item: Le Canard enchaîné, NERtype: ORG, id: Q13709\n",
      "Item: Batangas, NERtype: ORG, id: Q13744\n",
      "Item: Llívia, NERtype: ORG, id: Q13745\n",
      "Item: Bohol, NERtype: ORG, id: Q13752\n",
      "Item: Centelles, NERtype: ORG, id: Q13773\n",
      "Item: Folgueroles, NERtype: ORG, id: Q13782\n",
      "Item: Davao del Sur, NERtype: ORG, id: Q13794\n",
      "Item: Oristà, NERtype: ORG, id: Q13796\n",
      "Item: Prats de Lluçanès, NERtype: ORG, id: Q13814\n"
     ]
    },
    {
     "name": "stderr",
     "output_type": "stream",
     "text": [
      "\n",
      "  0%|          | 1636/1401184 [00:09<2:01:30, 191.96it/s]\u001b[A"
     ]
    },
    {
     "name": "stdout",
     "output_type": "stream",
     "text": [
      "Item: Torelló, NERtype: ORG, id: Q13854\n",
      "Item: Vic, NERtype: ORG, id: Q13855\n",
      "Item: Quirino, NERtype: ORG, id: Q13873\n",
      "Item: Samar, NERtype: ORG, id: Q13876\n",
      "Item: Zamboanga del Sur, NERtype: ORG, id: Q13900\n",
      "Item: Île-de-France, NERtype: ORG, id: Q13917\n",
      "Item: Polinyà, NERtype: ORG, id: Q13925\n",
      "Item: Sant Cugat del Vallès, NERtype: ORG, id: Q13936\n",
      "Item: Ullastrell, NERtype: ORG, id: Q13944\n",
      "Item: Bellaterra, NERtype: ORG, id: Q13953\n",
      "Item: NBC, NERtype: ORG, id: Q13974\n",
      "Item: Bloomberg Television, NERtype: ORG, id: Q13975\n",
      "Item: Bloomberg L.P., NERtype: ORG, id: Q13977\n"
     ]
    },
    {
     "name": "stderr",
     "output_type": "stream",
     "text": [
      "\n",
      "  0%|          | 1656/1402234 [00:09<2:11:01, 178.15it/s]\u001b[A\n",
      "  0%|          | 1681/1408922 [00:09<2:00:06, 195.29it/s]\u001b[A\n",
      "  0%|          | 1702/1414669 [00:09<2:06:25, 186.26it/s]\u001b[A"
     ]
    },
    {
     "name": "stdout",
     "output_type": "stream",
     "text": [
      "Item: Vitoria-Gasteiz, NERtype: ORG, id: Q14318\n",
      "Item: Teruel, NERtype: ORG, id: Q14336\n",
      "Item: Capcom, NERtype: ORG, id: Q14428\n",
      "Item: La Pintana, NERtype: ORG, id: Q14464\n",
      "Item: La Reina, NERtype: ORG, id: Q14466\n",
      "Item: Lo Espejo, NERtype: ORG, id: Q14503\n",
      "Item: Vitznau, NERtype: ORG, id: Q14578\n",
      "Item: Egolzwil, NERtype: ORG, id: Q14589\n",
      "Item: Grossdietwil, NERtype: ORG, id: Q14600\n",
      "Item: Roggliswil, NERtype: ORG, id: Q14616\n",
      "Item: Wauwil, NERtype: ORG, id: Q14623\n",
      "Item: Wikon, NERtype: ORG, id: Q14625\n",
      "Item: Sun Microsystems, NERtype: ORG, id: Q14647\n"
     ]
    },
    {
     "name": "stderr",
     "output_type": "stream",
     "text": [
      "\n",
      "  0%|          | 1734/1430526 [00:09<1:47:51, 220.79it/s]\u001b[A\n",
      "  0%|          | 1759/1439795 [00:09<1:45:02, 228.15it/s]\u001b[A"
     ]
    },
    {
     "name": "stdout",
     "output_type": "stream",
     "text": [
      "Item: Oranienburg, NERtype: ORG, id: Q14808\n",
      "Item: Ansbach, NERtype: ORG, id: Q14859\n",
      "Item: Neumarkt in der Oberpfalz, NERtype: ORG, id: Q14887\n",
      "Item: Voerde, NERtype: ORG, id: Q14903\n",
      "Item: Astro-rivelatore Gamma a Immagini Leggero, NERtype: ORG, id: Q14951\n",
      "Item: Porta Westfalica, NERtype: ORG, id: Q14954\n",
      "Item: Papenburg, NERtype: ORG, id: Q14957\n",
      "Item: Saint-Julien-sur-Veyle, NERtype: ORG, id: Q14964\n",
      "Item: Lleida, NERtype: ORG, id: Q15090\n"
     ]
    },
    {
     "name": "stderr",
     "output_type": "stream",
     "text": [
      "\n",
      "  0%|          | 1783/1443136 [00:09<2:17:45, 174.37it/s]\u001b[A\n",
      "  0%|          | 1817/1454363 [00:09<1:54:26, 211.54it/s]\u001b[A"
     ]
    },
    {
     "name": "stdout",
     "output_type": "stream",
     "text": [
      "Item: Ciudad Real, NERtype: ORG, id: Q15093\n",
      "Item: Shenzhen, NERtype: ORG, id: Q15174\n",
      "Item: Waymo, NERtype: ORG, id: Q15330\n",
      "Item: Bigues i Riells del Fai, NERtype: ORG, id: Q15398\n",
      "Item: Figaró-Montmany, NERtype: ORG, id: Q15409\n",
      "Item: Mollet del Vallès, NERtype: ORG, id: Q15430\n",
      "Item: Montmeló, NERtype: ORG, id: Q15431\n",
      "Item: Montornès del Vallès, NERtype: ORG, id: Q15433\n",
      "Item: Sant Feliu de Codines, NERtype: ORG, id: Q15444\n",
      "Item: Sant Quirze Safaja, NERtype: ORG, id: Q15452\n",
      "Item: Tagamanent, NERtype: ORG, id: Q15457\n"
     ]
    },
    {
     "name": "stderr",
     "output_type": "stream",
     "text": [
      "\n",
      "  0%|          | 1841/1454063 [00:09<1:51:23, 217.27it/s]\u001b[A"
     ]
    },
    {
     "name": "stdout",
     "output_type": "stream",
     "text": [
      "Item: Casserres, NERtype: ORG, id: Q15491\n",
      "Item: Montmajor, NERtype: ORG, id: Q15522\n",
      "Item: Puig-reig, NERtype: ORG, id: Q15534\n",
      "Item: University of Hong Kong, NERtype: ORG, id: Q15568\n",
      "Item: Cervelló, NERtype: ORG, id: Q15599\n",
      "Item: Sant Vicenç dels Horts, NERtype: ORG, id: Q15649\n",
      "Item: Torrelles de Llobregat, NERtype: ORG, id: Q15650\n"
     ]
    },
    {
     "ename": "KeyboardInterrupt",
     "evalue": "",
     "output_type": "error",
     "traceback": [
      "\u001b[0;31m---------------------------------------------------------------------------\u001b[0m",
      "\u001b[0;31mKeyboardInterrupt\u001b[0m                         Traceback (most recent call last)",
      "Cell \u001b[0;32mIn[9], line 389\u001b[0m\n\u001b[1;32m    385\u001b[0m         flush_buffer(buffer)\n\u001b[1;32m    387\u001b[0m     pbar\u001b[38;5;241m.\u001b[39mclose()\n\u001b[0;32m--> 389\u001b[0m \u001b[43mparse_wikidata_dump\u001b[49m\u001b[43m(\u001b[49m\u001b[43m)\u001b[49m\n\u001b[1;32m    390\u001b[0m final_average_size \u001b[38;5;241m=\u001b[39m total_size_processed \u001b[38;5;241m/\u001b[39m num_entities_processed\n\u001b[1;32m    391\u001b[0m \u001b[38;5;28mprint\u001b[39m(\u001b[38;5;124mf\u001b[39m\u001b[38;5;124m\"\u001b[39m\u001b[38;5;124mFinal average size of an entity: \u001b[39m\u001b[38;5;132;01m{\u001b[39;00mfinal_average_size\u001b[38;5;132;01m}\u001b[39;00m\u001b[38;5;124m bytes\u001b[39m\u001b[38;5;124m\"\u001b[39m)\n",
      "Cell \u001b[0;32mIn[9], line 367\u001b[0m, in \u001b[0;36mparse_wikidata_dump\u001b[0;34m()\u001b[0m\n\u001b[1;32m    364\u001b[0m     \u001b[38;5;28;01mpass\u001b[39;00m\n\u001b[1;32m    366\u001b[0m pbar \u001b[38;5;241m=\u001b[39m tqdm(total\u001b[38;5;241m=\u001b[39minitial_total_lines_estimate)\n\u001b[0;32m--> 367\u001b[0m \u001b[38;5;28;01mfor\u001b[39;00m i, line \u001b[38;5;129;01min\u001b[39;00m \u001b[38;5;28menumerate\u001b[39m(file):\n\u001b[1;32m    368\u001b[0m     \u001b[38;5;28;01mtry\u001b[39;00m:\n\u001b[1;32m    369\u001b[0m         item \u001b[38;5;241m=\u001b[39m json\u001b[38;5;241m.\u001b[39mloads(line[:\u001b[38;5;241m-\u001b[39m\u001b[38;5;241m2\u001b[39m])  \u001b[38;5;66;03m# Remove the trailing characters\u001b[39;00m\n",
      "File \u001b[0;32m/opt/conda/lib/python3.11/bz2.py:198\u001b[0m, in \u001b[0;36mBZ2File.readline\u001b[0;34m(self, size)\u001b[0m\n\u001b[1;32m    196\u001b[0m     size \u001b[38;5;241m=\u001b[39m size\u001b[38;5;241m.\u001b[39m\u001b[38;5;21m__index__\u001b[39m()\n\u001b[1;32m    197\u001b[0m \u001b[38;5;28mself\u001b[39m\u001b[38;5;241m.\u001b[39m_check_can_read()\n\u001b[0;32m--> 198\u001b[0m \u001b[38;5;28;01mreturn\u001b[39;00m \u001b[38;5;28mself\u001b[39m\u001b[38;5;241m.\u001b[39m_buffer\u001b[38;5;241m.\u001b[39mreadline(size)\n",
      "File \u001b[0;32m/opt/conda/lib/python3.11/_compression.py:68\u001b[0m, in \u001b[0;36mDecompressReader.readinto\u001b[0;34m(self, b)\u001b[0m\n\u001b[1;32m     66\u001b[0m \u001b[38;5;28;01mdef\u001b[39;00m \u001b[38;5;21mreadinto\u001b[39m(\u001b[38;5;28mself\u001b[39m, b):\n\u001b[1;32m     67\u001b[0m     \u001b[38;5;28;01mwith\u001b[39;00m \u001b[38;5;28mmemoryview\u001b[39m(b) \u001b[38;5;28;01mas\u001b[39;00m view, view\u001b[38;5;241m.\u001b[39mcast(\u001b[38;5;124m\"\u001b[39m\u001b[38;5;124mB\u001b[39m\u001b[38;5;124m\"\u001b[39m) \u001b[38;5;28;01mas\u001b[39;00m byte_view:\n\u001b[0;32m---> 68\u001b[0m         data \u001b[38;5;241m=\u001b[39m \u001b[38;5;28;43mself\u001b[39;49m\u001b[38;5;241;43m.\u001b[39;49m\u001b[43mread\u001b[49m\u001b[43m(\u001b[49m\u001b[38;5;28;43mlen\u001b[39;49m\u001b[43m(\u001b[49m\u001b[43mbyte_view\u001b[49m\u001b[43m)\u001b[49m\u001b[43m)\u001b[49m\n\u001b[1;32m     69\u001b[0m         byte_view[:\u001b[38;5;28mlen\u001b[39m(data)] \u001b[38;5;241m=\u001b[39m data\n\u001b[1;32m     70\u001b[0m     \u001b[38;5;28;01mreturn\u001b[39;00m \u001b[38;5;28mlen\u001b[39m(data)\n",
      "File \u001b[0;32m/opt/conda/lib/python3.11/_compression.py:103\u001b[0m, in \u001b[0;36mDecompressReader.read\u001b[0;34m(self, size)\u001b[0m\n\u001b[1;32m    101\u001b[0m     \u001b[38;5;28;01melse\u001b[39;00m:\n\u001b[1;32m    102\u001b[0m         rawblock \u001b[38;5;241m=\u001b[39m \u001b[38;5;124mb\u001b[39m\u001b[38;5;124m\"\u001b[39m\u001b[38;5;124m\"\u001b[39m\n\u001b[0;32m--> 103\u001b[0m     data \u001b[38;5;241m=\u001b[39m \u001b[38;5;28mself\u001b[39m\u001b[38;5;241m.\u001b[39m_decompressor\u001b[38;5;241m.\u001b[39mdecompress(rawblock, size)\n\u001b[1;32m    104\u001b[0m \u001b[38;5;28;01mif\u001b[39;00m data:\n\u001b[1;32m    105\u001b[0m     \u001b[38;5;28;01mbreak\u001b[39;00m\n",
      "\u001b[0;31mKeyboardInterrupt\u001b[0m: "
     ]
    },
    {
     "name": "stderr",
     "output_type": "stream",
     "text": [
      "\n",
      "  0%|          | 1852/1455476 [00:22<1:51:30, 217.27it/s]\u001b[A"
     ]
    }
   ],
   "source": [
    "\n",
    "def create_indexes(db):\n",
    "    # Specify the collections and their respective fields to be indexed\n",
    "    index_specs = {\n",
    "        'cache': ['cell', 'lastAccessed'],  # Example: Indexing 'cell' and 'type' fields in 'cache' collection\n",
    "        'items': ['id_entity', 'entity', 'category', 'popularity'],\n",
    "        'literals': ['id_entity', 'entity'],\n",
    "        'mappings': ['curid', 'wikipedia_id', 'wikidata_id', 'dbpedia_id'],\n",
    "        'objects': ['id_entity', 'entity'],\n",
    "        'types': ['id_entity', 'entity']\n",
    "    }\n",
    "\n",
    "    for collection, fields in index_specs.items():\n",
    "        if collection == \"cache\":\n",
    "            db[collection].create_index([('cell', 1), ('fuzzy', 1), ('type', 1), ('kg', 1), ('limit', 1)], unique=True)\n",
    "        elif collection == \"items\":\n",
    "            db[collection].create_index([('entity', 1), ('category', 1)], unique=True)    \n",
    "        for field in fields:\n",
    "            db[collection].create_index([(field, 1)])  # 1 for ascending order\n",
    "\n",
    "\n",
    "# Initial Estimation\n",
    "initial_estimated_average_size = 800  # Initial average size in bytes, can be adjusted\n",
    "BATCH_SIZE = 100 # Number of entities to insert in a single batch\n",
    "\n",
    "if len(sys.argv) < 2:\n",
    "    print(\"Usage: python script_name.py <path_to_wikidata_dump>\")\n",
    "    sys.exit(1)\n",
    "\n",
    "file_path = './my-data/latest-all.json.bz2'  # Get the file path from command line argument\n",
    "compressed_file_size = os.path.getsize(file_path)\n",
    "initial_total_lines_estimate = compressed_file_size / initial_estimated_average_size\n",
    "\n",
    "file = bz2.BZ2File(file_path, \"r\")\n",
    "\n",
    "# MongoDB connection setup\n",
    "MONGO_ENDPOINT, MONGO_ENDPOINT_PORT = os.environ[\"MONGO_ENDPOINT\"].split(\":\")\n",
    "MONGO_ENDPOINT_PORT = int(MONGO_ENDPOINT_PORT)\n",
    "MONGO_ENDPOINT_USERNAME = os.environ[\"MONGO_INITDB_ROOT_USERNAME\"]\n",
    "MONGO_ENDPOINT_PASSWORD = os.environ[\"MONGO_INITDB_ROOT_PASSWORD\"]\n",
    "current_date = datetime.now()\n",
    "formatted_date = current_date.strftime(\"%d%m%Y\")\n",
    "DB_NAME = f\"wikidata{formatted_date}\"\n",
    "\n",
    "client = MongoClient(MONGO_ENDPOINT, MONGO_ENDPOINT_PORT, username=MONGO_ENDPOINT_USERNAME, password=MONGO_ENDPOINT_PASSWORD)\n",
    "log_c = client.wikidata.log\n",
    "items_c = client[DB_NAME].items\n",
    "objects_c = client[DB_NAME].objects\n",
    "literals_c = client[DB_NAME].literals\n",
    "types_c = client[DB_NAME].types\n",
    "\n",
    "c_ref = {\n",
    "    \"items\": items_c,\n",
    "    \"objects\":objects_c, \n",
    "    \"literals\":literals_c, \n",
    "    \"types\":types_c\n",
    "}\n",
    "\n",
    "create_indexes(client[DB_NAME])\n",
    "\n",
    "buffer = {\n",
    "    \"items\": [],\n",
    "    \"objects\": [], \n",
    "    \"literals\": [], \n",
    "    \"types\": []\n",
    "}\n",
    "\n",
    "DATATYPES_MAPPINGS = {\n",
    "    'external-id':'STRING',\n",
    "    'quantity': 'NUMBER',\n",
    "    'globe-coordinate': 'STRING',\n",
    "    'string': 'STRING',\n",
    "    'monolingualtext': 'STRING',\n",
    "    'commonsMedia': 'STRING',\n",
    "    'time': 'DATETIME',\n",
    "    'url': 'STRING',\n",
    "    'geo-shape': 'GEOSHAPE',\n",
    "    'math': 'MATH',\n",
    "    'musical-notation': 'MUSICAL_NOTATION',\n",
    "    'tabular-data': 'TABULAR_DATA'\n",
    "}\n",
    "DATATYPES = list(set(DATATYPES_MAPPINGS.values()))\n",
    "total_size_processed = 0\n",
    "num_entities_processed = 0\n",
    "\n",
    "\n",
    "\n",
    "def update_average_size(new_size):\n",
    "    global total_size_processed, num_entities_processed\n",
    "    total_size_processed += new_size\n",
    "    num_entities_processed += 1\n",
    "    return total_size_processed / num_entities_processed\n",
    "\n",
    "\n",
    "def check_skip(obj, datatype):\n",
    "    temp = obj.get(\"mainsnak\", obj)\n",
    "    if \"datavalue\" not in temp:\n",
    "        return True\n",
    "\n",
    "    skip = {\n",
    "        \"wikibase-lexeme\",\n",
    "        \"wikibase-form\",\n",
    "        \"wikibase-sense\"\n",
    "    }\n",
    "    \n",
    "    return datatype in skip\n",
    "\n",
    "\n",
    "def get_value(obj, datatype):\n",
    "    temp = obj.get(\"mainsnak\", obj)\n",
    "    if datatype == \"globe-coordinate\":\n",
    "        latitude = temp[\"datavalue\"][\"value\"][\"latitude\"]\n",
    "        longitude = temp[\"datavalue\"][\"value\"][\"longitude\"]\n",
    "        value = f\"{latitude},{longitude}\"\n",
    "    else:\n",
    "        keys = {\n",
    "            \"quantity\": \"amount\",\n",
    "            \"monolingualtext\": \"text\",\n",
    "            \"time\": \"time\",\n",
    "        }\n",
    "        if datatype in keys:\n",
    "            key = keys[datatype]\n",
    "            value = temp[\"datavalue\"][\"value\"][key]\n",
    "        else:\n",
    "            value = temp[\"datavalue\"][\"value\"]\n",
    "    return value\n",
    "\n",
    "\n",
    "def flush_buffer(buffer):\n",
    "    for key in buffer:\n",
    "        if len(buffer[key]) > 0:\n",
    "            c_ref[key].insert_many(buffer[key])\n",
    "            buffer[key] = []\n",
    "            \n",
    "def get_wikidata_item_tree_item_idsSPARQL(root_items, forward_properties=None, backward_properties=None):\n",
    "    \"\"\"Return ids of WikiData items, which are in the tree spanned by the given root items and claims relating them\n",
    "        to other items.\n",
    "\n",
    "    :param root_items: iterable[int] One or multiple item entities that are the root elements of the tree\n",
    "    :param forward_properties: iterable[int] | None property-claims to follow forward; that is, if root item R has\n",
    "        a claim P:I, and P is in the list, the search will branch recursively to item I as well.\n",
    "    :param backward_properties: iterable[int] | None property-claims to follow in reverse; that is, if (for a root\n",
    "        item R) an item I has a claim P:R, and P is in the list, the search will branch recursively to item I as well.\n",
    "    :return: iterable[int]: List with ids of WikiData items in the tree\n",
    "    \"\"\"\n",
    "\n",
    "    query = '''PREFIX wikibase: <http://wikiba.se/ontology#>\n",
    "            PREFIX wd: <http://www.wikidata.org/entity/>\n",
    "            PREFIX wdt: <http://www.wikidata.org/prop/direct/>\n",
    "            PREFIX rdfs: <http://www.w3.org/2000/01/rdf-schema#>'''\n",
    "    if forward_properties:\n",
    "        query +='''SELECT ?WD_id WHERE {\n",
    "                  ?tree0 (wdt:P%s)* ?WD_id .\n",
    "                  BIND (wd:%s AS ?tree0)\n",
    "                  }'''%( ','.join(map(str, forward_properties)),','.join(map(str, root_items)))\n",
    "    elif backward_properties:\n",
    "        query+='''SELECT ?WD_id WHERE {\n",
    "                    ?WD_id (wdt:P%s)* wd:Q%s .\n",
    "                    }'''%(','.join(map(str, backward_properties)), ','.join(map(str, root_items)))\n",
    "    #print(query)\n",
    "\n",
    "    url = 'https://query.wikidata.org/bigdata/namespace/wdq/sparql'\n",
    "    data = get(url, params={'query': query, 'format': 'json'}).json()\n",
    "    \n",
    "    ids = []\n",
    "    for item in data['results']['bindings']:\n",
    "        this_id=item[\"WD_id\"][\"value\"].split(\"/\")[-1].lstrip(\"Q\")\n",
    "        #print(item)\n",
    "        try:\n",
    "            this_id = int(this_id)\n",
    "            ids.append(this_id)\n",
    "            #print(this_id)\n",
    "        except ValueError:\n",
    "            #print(\"exception\")\n",
    "            continue\n",
    "    return ids\n",
    "            \n",
    "def parse_data(item, i, geolocation_subclass, organization_subclass):\n",
    "    entity = item[\"id\"]\n",
    "    labels = item.get(\"labels\", {})\n",
    "    aliases = item.get(\"aliases\", {})\n",
    "    description = item.get('descriptions', {}).get('en', {})\n",
    "    category = \"entity\"\n",
    "    sitelinks = item.get(\"sitelinks\", {})\n",
    "    popularity = len(sitelinks) if len(sitelinks) > 0 else 1\n",
    "    \n",
    "    all_labels = {}\n",
    "    for lang in labels:\n",
    "        all_labels[lang] = labels[lang][\"value\"]\n",
    "\n",
    "    all_aliases = {}\n",
    "    for lang in aliases:\n",
    "        all_aliases[lang] = []\n",
    "        for alias in aliases[lang]:\n",
    "            all_aliases[lang].append(alias[\"value\"])\n",
    "        all_aliases[lang] = list(set(all_aliases[lang]))\n",
    "\n",
    "    found = False\n",
    "    for predicate in item[\"claims\"]:\n",
    "        if predicate == \"P279\":\n",
    "            found = True\n",
    "\n",
    "    if found:\n",
    "        category = \"type\"\n",
    "    if entity[0] == \"P\":\n",
    "        category = \"predicate\"\n",
    "\n",
    "    ###############################################################\n",
    "    # ORGANIZATION EXTRACTION\n",
    "    # All items with the root class Organization (Q43229) excluding country (Q6256), city (Q515), capitals (Q5119), \n",
    "    # administrative territorial entity of a single country (Q15916867), venue (Q17350442), sports league (Q623109) \n",
    "    # and family (Q8436)\n",
    "    \n",
    "    # LOCATION EXTRACTION\n",
    "    # All items with the root class Geographic Location (Q2221906) excluding: food (Q2095), educational institution (Q2385804), \n",
    "    # government agency (Q327333), international organization (Q484652) and time zone (Q12143)\n",
    "    \n",
    "    # PERSON EXTRACTION\n",
    "    # All items with the statement is instance of (P31) human (Q5) are classiﬁed as person.\n",
    "\n",
    "    NERtype = None\n",
    "\n",
    "    if item.get(\"type\") == \"item\" and \"claims\" in item:\n",
    "        p31_claims = item[\"claims\"].get(\"P31\", [])\n",
    "        \n",
    "        if len(p31_claims) != 0:           \n",
    "            for claim in p31_claims:\n",
    "                mainsnak = claim.get(\"mainsnak\", {})\n",
    "                datavalue = mainsnak.get(\"datavalue\", {})\n",
    "                numeric_id = datavalue.get(\"value\", {}).get(\"numeric-id\")\n",
    "                \n",
    "                if numeric_id in organization_subclass:\n",
    "                    NERtype = \"ORG\"    \n",
    "                elif numeric_id == 5:\n",
    "                    NERtype = \"PERS\"                    \n",
    "                elif numeric_id in geolocation_subclass:\n",
    "                    NERtype = \"LOC\"                    \n",
    "                else:\n",
    "                    NERtype = \"OTHERS\"\n",
    "            if NERtype == \"ORG\":\n",
    "                print(f\"Item: {labels.get('en', {}).get('value', '')}, NERtype: {NERtype}, id: {item['id']}\")\n",
    "        else:\n",
    "            NERtype = \"OTHERS\"\n",
    "    \n",
    "    ################################################################\n",
    "\n",
    "    ################################################################   \n",
    "    # URL EXTRACTION\n",
    "\n",
    "    try:\n",
    "        lang = labels.get(\"en\", {}).get(\"language\", \"\")\n",
    "        tmp={}\n",
    "        tmp[\"WD_id\"] = item['id']\n",
    "        tmp[\"WP_id\"] = labels.get(\"en\", {}).get(\"value\", \"\")\n",
    "\n",
    "        url_dict={}\n",
    "        url_dict[\"WD_id_URL\"] = \"http://www.wikidata.org/wiki/\"+tmp[\"WD_id\"]\n",
    "        url_dict[\"WP_id_URL\"] = \"http://\"+lang+\".wikipedia.org/wiki/\"+tmp[\"WP_id\"].replace(\" \",\"_\")\n",
    "        url_dict[\"dbpedia_URL\"] = \"http://dbpedia.org/resource/\"+tmp[\"WP_id\"].capitalize().replace(\" \",\"_\")\n",
    "        \n",
    "\n",
    "    except json.decoder.JSONDecodeError:\n",
    "       pass\n",
    "    \n",
    "    ################################################################    \n",
    "\n",
    "    \n",
    "\n",
    "    objects = {}\n",
    "    literals = {datatype: {} for datatype in DATATYPES}\n",
    "    types = {\"P31\": []}\n",
    "    join = {\n",
    "        \"items\": {\n",
    "            \"id_entity\": i,\n",
    "            \"entity\": entity,\n",
    "            \"description\": description,\n",
    "            \"labels\": all_labels,\n",
    "            \"aliases\": all_aliases,\n",
    "            \"types\": types,\n",
    "            \"popularity\": popularity,\n",
    "            \"category\": category,   # kind (entity, type or predicate)\n",
    "            ######################\n",
    "            # new updates\n",
    "            \"NERtype\": NERtype, # (ORG, LOC, PER or OTHERS)\n",
    "            \"URLs\" : url_dict\n",
    "            ######################\n",
    "        },\n",
    "        \"objects\": { \n",
    "            \"id_entity\": i,\n",
    "            \"entity\": entity,\n",
    "            \"objects\":objects\n",
    "        },\n",
    "        \"literals\": { \n",
    "            \"id_entity\": i,\n",
    "            \"entity\": entity,\n",
    "            \"literals\": literals\n",
    "        },\n",
    "        \"types\": { \n",
    "            \"id_entity\": i,\n",
    "            \"entity\": entity,\n",
    "            \"types\": types\n",
    "        },\n",
    "    }\n",
    "\n",
    "    predicates = item[\"claims\"]\n",
    "    for predicate in predicates:\n",
    "        for obj in predicates[predicate]:\n",
    "            datatype = obj[\"mainsnak\"][\"datatype\"]\n",
    "\n",
    "            if check_skip(obj, datatype):\n",
    "                continue\n",
    "\n",
    "            if datatype == \"wikibase-item\" or datatype == \"wikibase-property\":\n",
    "                value = obj[\"mainsnak\"][\"datavalue\"][\"value\"][\"id\"]\n",
    "\n",
    "                if predicate == \"P31\" or predicate == \"P106\":\n",
    "                    types[\"P31\"].append(value)\n",
    "\n",
    "                if value not in objects:\n",
    "                    objects[value] = []\n",
    "                objects[value].append(predicate)    \n",
    "            else:\n",
    "                value = get_value(obj, datatype)                \n",
    "                lit = literals[DATATYPES_MAPPINGS[datatype]]\n",
    "\n",
    "                if predicate not in lit:\n",
    "                    lit[predicate] = []\n",
    "                lit[predicate].append(value)   \n",
    "\n",
    "     \n",
    "\n",
    "    for key in buffer:\n",
    "        buffer[key].append(join[key])            \n",
    "\n",
    "    if len(buffer[\"items\"]) == BATCH_SIZE:\n",
    "        flush_buffer(buffer)\n",
    "\n",
    "\n",
    "def parse_wikidata_dump():            \n",
    "    global initial_total_lines_estimate\n",
    "\n",
    "    try:\n",
    "        geolocation_subclass = get_wikidata_item_tree_item_idsSPARQL([2221906], backward_properties=[279])\n",
    "        food_subclass =  get_wikidata_item_tree_item_idsSPARQL([2095], backward_properties=[279])\n",
    "        edInst_subclass =  get_wikidata_item_tree_item_idsSPARQL([2385804], backward_properties=[279])\n",
    "        govAgency_subclass =  get_wikidata_item_tree_item_idsSPARQL([327333], backward_properties=[279])\n",
    "        intOrg_subclass =  get_wikidata_item_tree_item_idsSPARQL([484652], backward_properties=[279])\n",
    "        timeZone_subclass =  get_wikidata_item_tree_item_idsSPARQL([12143], backward_properties=[279])    \n",
    "        geolocation_subclass = list(set(geolocation_subclass)-set(food_subclass)-set(edInst_subclass)-set(govAgency_subclass)-\n",
    "                                set(intOrg_subclass)-set(timeZone_subclass))\n",
    "        \n",
    "        organization_subclass=get_wikidata_item_tree_item_idsSPARQL([43229], backward_properties=[279])    \n",
    "        country_subclass =  get_wikidata_item_tree_item_idsSPARQL([6256], backward_properties=[279])    \n",
    "        city_subclass =  get_wikidata_item_tree_item_idsSPARQL([515], backward_properties=[279])    \n",
    "        capitals_subclass =  get_wikidata_item_tree_item_idsSPARQL([5119], backward_properties=[279])\n",
    "        admTerr_subclass =  get_wikidata_item_tree_item_idsSPARQL([15916867], backward_properties=[279])\n",
    "        family_subclass =  get_wikidata_item_tree_item_idsSPARQL([17350442], backward_properties=[279])\n",
    "        sportLeague_subclass =  get_wikidata_item_tree_item_idsSPARQL([623109], backward_properties=[279])\n",
    "        venue_subclass =  get_wikidata_item_tree_item_idsSPARQL([8436], backward_properties=[279])\n",
    "        organization_subclass = list(set(organization_subclass)-set(country_subclass)-set(city_subclass)-\n",
    "                                set(capitals_subclass)-set(admTerr_subclass)-set(family_subclass) -\n",
    "                                set(sportLeague_subclass)-set(venue_subclass))\n",
    "        \n",
    "    except json.decoder.JSONDecodeError:\n",
    "        pass\n",
    "\n",
    "    pbar = tqdm(total=initial_total_lines_estimate)\n",
    "    for i, line in enumerate(file):\n",
    "        try:\n",
    "            item = json.loads(line[:-2])  # Remove the trailing characters\n",
    "            line_size = len(line)\n",
    "            current_average_size = update_average_size(line_size)\n",
    "\n",
    "            # Dynamically update the total based on the current average size\n",
    "            pbar.total = round(compressed_file_size / current_average_size)\n",
    "            pbar.update(1)\n",
    "\n",
    "            parse_data(item, i, geolocation_subclass, organization_subclass)\n",
    "        except json.decoder.JSONDecodeError:\n",
    "            continue\n",
    "        except Exception as e:\n",
    "            traceback_str = traceback.format_exc()\n",
    "            log_c.insert_one({\"entity\": item[\"id\"], \"error\": str(e), \"traceback_str\": traceback_str})\n",
    "\n",
    "    if len(buffer[\"items\"]) > 0:\n",
    "        flush_buffer(buffer)\n",
    "\n",
    "    pbar.close()\n",
    "\n",
    "parse_wikidata_dump()\n",
    "final_average_size = total_size_processed / num_entities_processed\n",
    "print(f\"Final average size of an entity: {final_average_size} bytes\")\n",
    "# Optionally store this value for future use\n",
    "\n"
   ]
  },
  {
   "cell_type": "code",
   "execution_count": 15,
   "id": "f05bd656-4162-4029-9d5c-e0878341fe50",
   "metadata": {},
   "outputs": [
    {
     "name": "stdout",
     "output_type": "stream",
     "text": [
      "Q31 is not present in the leaf nodes.\n"
     ]
    }
   ],
   "source": [
    "def check_leaf_existence(root_items, forward_properties=None, backward_properties=None):\n",
    "    query = '''PREFIX wikibase: <http://wikiba.se/ontology#>\n",
    "            PREFIX wd: <http://www.wikidata.org/entity/>\n",
    "            PREFIX wdt: <http://www.wikidata.org/prop/direct/>\n",
    "            PREFIX rdfs: <http://www.w3.org/2000/01/rdf-schema#>'''\n",
    "\n",
    "    if forward_properties:\n",
    "        query += '''SELECT ?WD_id WHERE {\n",
    "                  ?tree0 (wdt:P%s)* ?WD_id .\n",
    "                  BIND (wd:%s AS ?tree0)\n",
    "                  }''' % (','.join(map(str, forward_properties)), ','.join(map(str, root_items)))\n",
    "    elif backward_properties:\n",
    "        query += '''SELECT ?WD_id WHERE {\n",
    "                    ?WD_id (wdt:P%s)* wd:Q%s .\n",
    "                    }''' % (','.join(map(str, backward_properties)), ','.join(map(str, root_items)))\n",
    "\n",
    "    url = 'https://query.wikidata.org/bigdata/namespace/wdq/sparql'\n",
    "    data = get(url, params={'query': query, 'format': 'json'}).json()\n",
    "\n",
    "    leaf_ids = []\n",
    "\n",
    "    for item in data['results']['bindings']:\n",
    "        this_id = item[\"WD_id\"][\"value\"].split(\"/\")[-1].lstrip(\"Q\")\n",
    "        try:\n",
    "            this_id = int(this_id)\n",
    "            leaf_ids.append(this_id)\n",
    "        except ValueError:\n",
    "            continue\n",
    "\n",
    "    return leaf_ids\n",
    "\n",
    "# Example usage:\n",
    "root_items = [2221906]  # Replace with the root Wikidata item IDs\n",
    "leaf_nodes = check_leaf_existence(root_items, forward_properties=[279])  # Replace P1, P2, P3 with forward properties\n",
    "if 31 in leaf_nodes:\n",
    "    print(\"Q31 is present in the leaf nodes.\")\n",
    "else:\n",
    "    print(\"Q31 is not present in the leaf nodes.\")\n"
   ]
  },
  {
   "cell_type": "code",
   "execution_count": 16,
   "id": "94e02585-6430-478e-aa5f-f2d726d4c1fd",
   "metadata": {},
   "outputs": [
    {
     "data": {
      "text/plain": [
       "[2221906]"
      ]
     },
     "execution_count": 16,
     "metadata": {},
     "output_type": "execute_result"
    }
   ],
   "source": [
    "leaf_nodes"
   ]
  }
 ],
 "metadata": {
  "kernelspec": {
   "display_name": "Python 3 (ipykernel)",
   "language": "python",
   "name": "python3"
  },
  "language_info": {
   "codemirror_mode": {
    "name": "ipython",
    "version": 3
   },
   "file_extension": ".py",
   "mimetype": "text/x-python",
   "name": "python",
   "nbconvert_exporter": "python",
   "pygments_lexer": "ipython3",
   "version": "3.11.6"
  }
 },
 "nbformat": 4,
 "nbformat_minor": 5
}
